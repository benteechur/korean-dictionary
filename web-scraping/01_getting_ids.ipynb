{
 "cells": [
  {
   "cell_type": "code",
   "execution_count": 1,
   "metadata": {},
   "outputs": [],
   "source": [
    "from bs4 import BeautifulSoup\n",
    "import urllib.request\n",
    "import time\n",
    "import re\n",
    "import math\n",
    "import random\n",
    "import pickle"
   ]
  },
  {
   "cell_type": "code",
   "execution_count": 2,
   "metadata": {},
   "outputs": [],
   "source": [
    "# BeautifulSoup Documentation:\n",
    "# https://www.crummy.com/software/BeautifulSoup/bs4/doc/\n",
    "#\n",
    "# visit site to find out basic information like url and number of entries in database"
   ]
  },
  {
   "cell_type": "code",
   "execution_count": 3,
   "metadata": {},
   "outputs": [],
   "source": [
    "# blockCount = 100 means 100 entries per page so\n",
    "# 51,961 results means 520 pages of content"
   ]
  },
  {
   "cell_type": "code",
   "execution_count": 4,
   "metadata": {},
   "outputs": [],
   "source": [
    "# https://krdict.korean.go.kr/eng/dicSearchDetail/searchDetailWordsResult?nation=eng&nationCode=6&searchFlag=Y&sort=W&currentPage=1&ParaWordNo=&syllablePosition=&actCategoryList=&all_gubun=ALL&gubun=W&gubun=P&gubun=E&all_wordNativeCode=ALL&wordNativeCode=1&wordNativeCode=2&wordNativeCode=3&wordNativeCode=0&all_sp_code=ALL&sp_code=1&sp_code=2&sp_code=3&sp_code=4&sp_code=5&sp_code=6&sp_code=7&sp_code=8&sp_code=9&sp_code=10&sp_code=11&sp_code=12&sp_code=13&sp_code=14&sp_code=27&all_imcnt=ALL&imcnt=1&imcnt=2&imcnt=3&imcnt=0&all_multimedia=ALL&multimedia=P&multimedia=I&multimedia=V&multimedia=A&multimedia=S&multimedia=N&searchSyllableStart=&searchSyllableEnd=&searchOp=AND&searchTarget=word&searchOrglanguage=-1&wordCondition=wordAll&query=&blockCount=100\n",
    "\n",
    "# \"Detail search results (51,961 results)\""
   ]
  },
  {
   "cell_type": "code",
   "execution_count": 5,
   "metadata": {},
   "outputs": [],
   "source": [
    "# figure out how site works:\n",
    "# links for dictionary entries are actually calls to JavaScript function to\n",
    "# fill out and submit html form with database ID"
   ]
  },
  {
   "cell_type": "code",
   "execution_count": 6,
   "metadata": {},
   "outputs": [],
   "source": [
    "# javascript:checkSubmit('27733','Y');\n",
    "\n",
    "# //내용 보기\n",
    "# function checkSubmit(word_no,disp_yn){\n",
    "# \tif(disp_yn == \"N\"){\n",
    "# \t\talert(\"Your access to the requested page is forbidden.\");\n",
    "# \t\tlocation.href = \"/eng/mainAction\";\n",
    "# \t}else{\n",
    "# \t\t$(\"input[name=ParaWordNo]\").val(word_no);\n",
    "# \t\t$(\"form[name=searchDetailWordsForm]\").attr(\"action\", \"/eng/dicSearch/SearchView\");\n",
    "# \t    $(\"form[name=searchDetailWordsForm]\").submit();\n",
    "# \t}\n",
    "# }"
   ]
  },
  {
   "cell_type": "code",
   "execution_count": 7,
   "metadata": {},
   "outputs": [],
   "source": [
    "# define and compile regular expression for finding links with database IDs\n",
    "# NOTE: re.VERBOSE allows the use of comments within the raw string pattern"
   ]
  },
  {
   "cell_type": "code",
   "execution_count": 8,
   "metadata": {},
   "outputs": [],
   "source": [
    "raw_pattern = r\"\"\"javascript:checkSubmit\\(' # characters which mark beginning of database ID\n",
    "                 ([0-9]*) # database ID, enclosed in parentheses for grouping; matches 0 or more digits\n",
    "                 ' # character that marks end of database ID\n",
    "                 \"\"\"\n",
    "pattern = re.compile(raw_pattern, re.VERBOSE)"
   ]
  },
  {
   "cell_type": "code",
   "execution_count": 9,
   "metadata": {},
   "outputs": [],
   "source": [
    "# define a function for creating a list of database IDs from an html document parsed by BeautifulSoup"
   ]
  },
  {
   "cell_type": "code",
   "execution_count": 10,
   "metadata": {},
   "outputs": [],
   "source": [
    "def get_entry_ids(soup):\n",
    "    # a = anchor tag. these are used for links within pages\n",
    "    # href = \"hypertext reference\"; this attribute contains the url, \"the address\", at which the resource exists\n",
    "    links = soup.find_all(\"a\")\n",
    "    urls = [link.get(\"href\") for link in links]\n",
    "    \n",
    "    # define entry_ids as a set to avoid having to remove duplicates later\n",
    "    entry_ids = set()\n",
    "    for url in urls:\n",
    "        entry = re.match(pattern, url)\n",
    "        if entry:\n",
    "            entry_ids.add(entry.group(1))\n",
    "    \n",
    "    return list(entry_ids)"
   ]
  },
  {
   "cell_type": "code",
   "execution_count": 11,
   "metadata": {},
   "outputs": [],
   "source": [
    "# program for gathering ids from all pages"
   ]
  },
  {
   "cell_type": "code",
   "execution_count": 12,
   "metadata": {},
   "outputs": [
    {
     "name": "stdout",
     "output_type": "stream",
     "text": [
      "Page number 50 completed.\n",
      "Page number 100 completed.\n",
      "Page number 150 completed.\n",
      "Page number 200 completed.\n",
      "Page number 250 completed.\n",
      "Page number 300 completed.\n",
      "Page number 350 completed.\n",
      "Page number 400 completed.\n",
      "Page number 450 completed.\n",
      "Page number 500 completed.\n",
      "Number of IDs from page 520 is 61.\n"
     ]
    }
   ],
   "source": [
    "entry_ids = []\n",
    "num_entries = 51961\n",
    "pause_begin = 3\n",
    "pause_end = 15\n",
    "\n",
    "for page in range(1, math.ceil(num_entries/100)+1):\n",
    "    url = (\"https://krdict.korean.go.kr/eng/dicSearchDetail/searchDetailWordsResult?nation=eng&nationCode=6&searchFlag=Y&sort=W&currentPage=\"\n",
    "       + str(page) \n",
    "       + \"&ParaWordNo=&syllablePosition=&actCategoryList=&all_gubun=ALL&gubun=W&gubun=P&gubun=E&all_wordNativeCode=ALL&wordNativeCode=1&wordNativeCode=2&wordNativeCode=3&wordNativeCode=0&all_sp_code=ALL&sp_code=1&sp_code=2&sp_code=3&sp_code=4&sp_code=5&sp_code=6&sp_code=7&sp_code=8&sp_code=9&sp_code=10&sp_code=11&sp_code=12&sp_code=13&sp_code=14&sp_code=27&all_imcnt=ALL&imcnt=1&imcnt=2&imcnt=3&imcnt=0&all_multimedia=ALL&multimedia=P&multimedia=I&multimedia=V&multimedia=A&multimedia=S&multimedia=N&searchSyllableStart=&searchSyllableEnd=&searchOp=AND&searchTarget=word&searchOrglanguage=-1&wordCondition=wordAll&query=&blockCount=100\")\n",
    "    \n",
    "    response = urllib.request.urlopen(url)\n",
    "    soup = BeautifulSoup(response, \"html.parser\")\n",
    "    temp = get_entry_ids(soup)\n",
    "    \n",
    "    # if an error occurs, check this page\n",
    "    if len(temp) != 100:\n",
    "        print(f\"Number of IDs from page {page} is {len(temp)}.\")\n",
    "    \n",
    "    entry_ids += temp\n",
    "    time.sleep(random.randint(pause_begin, pause_end))\n",
    "    \n",
    "    # for periodic confirmation that the program hasn't stalled\n",
    "    if page % 50 == 0:\n",
    "        print(f\"Page number {page} completed.\")"
   ]
  },
  {
   "cell_type": "code",
   "execution_count": 13,
   "metadata": {},
   "outputs": [],
   "source": [
    "# perform a couple of quick checks that we got the data we expected"
   ]
  },
  {
   "cell_type": "code",
   "execution_count": 14,
   "metadata": {},
   "outputs": [
    {
     "data": {
      "text/plain": [
       "51961"
      ]
     },
     "execution_count": 14,
     "metadata": {},
     "output_type": "execute_result"
    }
   ],
   "source": [
    "len(entry_ids)"
   ]
  },
  {
   "cell_type": "code",
   "execution_count": 15,
   "metadata": {},
   "outputs": [
    {
     "data": {
      "text/plain": [
       "51961"
      ]
     },
     "execution_count": 15,
     "metadata": {},
     "output_type": "execute_result"
    }
   ],
   "source": [
    "len(set(entry_ids))"
   ]
  },
  {
   "cell_type": "code",
   "execution_count": 16,
   "metadata": {},
   "outputs": [],
   "source": [
    "# write data to files for later use"
   ]
  },
  {
   "cell_type": "code",
   "execution_count": 17,
   "metadata": {},
   "outputs": [],
   "source": [
    "with open(\"entry_ids.data\", \"wb\") as filehandle:\n",
    "    pickle.dump(entry_ids, filehandle)\n",
    "filehandle.close()"
   ]
  },
  {
   "cell_type": "code",
   "execution_count": 18,
   "metadata": {},
   "outputs": [],
   "source": [
    "f = open(\"entry_ids.txt\", \"w\")\n",
    "for num, item in enumerate(entry_ids):\n",
    "    # don't add newline on last line\n",
    "    if num < num_entries -1: \n",
    "        f.write(item + \"\\n\")\n",
    "    else:\n",
    "        f.write(item)\n",
    "f.close()"
   ]
  },
  {
   "cell_type": "code",
   "execution_count": null,
   "metadata": {},
   "outputs": [],
   "source": []
  }
 ],
 "metadata": {
  "kernelspec": {
   "display_name": "Python 3",
   "language": "python",
   "name": "python3"
  },
  "language_info": {
   "codemirror_mode": {
    "name": "ipython",
    "version": 3
   },
   "file_extension": ".py",
   "mimetype": "text/x-python",
   "name": "python",
   "nbconvert_exporter": "python",
   "pygments_lexer": "ipython3",
   "version": "3.7.6"
  }
 },
 "nbformat": 4,
 "nbformat_minor": 4
}
