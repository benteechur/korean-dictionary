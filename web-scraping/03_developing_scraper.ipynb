{
 "cells": [
  {
   "cell_type": "code",
   "execution_count": 1,
   "metadata": {},
   "outputs": [],
   "source": [
    "from bs4 import BeautifulSoup\n",
    "import urllib.request\n",
    "import time"
   ]
  },
  {
   "cell_type": "code",
   "execution_count": 2,
   "metadata": {},
   "outputs": [],
   "source": [
    "url = (\"https://krdict.korean.go.kr/eng/dicSearch/SearchView?nation=eng&nationCode=6&searchFlag=Y&sort=W&currentPage=1&ParaWordNo=\"\n",
    "       + str(27733)\n",
    "       + \"&syllablePosition=&actCategoryList=&all_gubun=ALL&gubun=W&gubun=P&gubun=E&all_wordNativeCode=ALL&wordNativeCode=1&wordNativeCode=2&wordNativeCode=3&wordNativeCode=0&all_sp_code=ALL&sp_code=1&sp_code=2&sp_code=3&sp_code=4&sp_code=5&sp_code=6&sp_code=7&sp_code=8&sp_code=9&sp_code=10&sp_code=11&sp_code=12&sp_code=13&sp_code=14&sp_code=27&all_imcnt=ALL&imcnt=1&imcnt=2&imcnt=3&imcnt=0&all_multimedia=ALL&multimedia=P&multimedia=I&multimedia=V&multimedia=A&multimedia=S&multimedia=N&searchSyllableStart=&searchSyllableEnd=&searchOp=AND&searchTarget=word&searchOrglanguage=-1&wordCondition=wordAll&query=&blockCount=100\")"
   ]
  },
  {
   "cell_type": "code",
   "execution_count": 3,
   "metadata": {},
   "outputs": [],
   "source": [
    "response = urllib.request.urlopen(url)\n",
    "soup = BeautifulSoup(response, \"html.parser\")"
   ]
  },
  {
   "cell_type": "code",
   "execution_count": 4,
   "metadata": {},
   "outputs": [],
   "source": [
    "# grab basic info for entry\n",
    "word = soup.h2.font.string\n",
    "sense = soup.h2.sup.string\n",
    "word_id = word + sense\n",
    "level = soup.h2.img.get(\"alt\").strip(\"level\")\n",
    "pronunciation = soup.p.font.text.strip().strip(\"[]\")\n",
    "recording_url = soup.p.font.img.get(\"onclick\").lstrip(\"javascript:fnSoundPlay('\").rstrip(\"');\")\n",
    "ss = soup.h3.stripped_strings\n",
    "KPOS = next(ss)\n",
    "EPOS = next(ss)"
   ]
  },
  {
   "cell_type": "code",
   "execution_count": 5,
   "metadata": {},
   "outputs": [
    {
     "name": "stdout",
     "output_type": "stream",
     "text": [
      "{1: '일부 명사 뒤에 붙여 쓴다.'}\n"
     ]
    }
   ],
   "source": [
    "# find only \"Reference\" notes\n",
    "all_refs = soup.find_all(class_=\"word_detail_view printArea accessArea manyLang6\")\n",
    "\n",
    "# only do this if there is a \"Reference\" note\n",
    "if len(all_refs) != 0:\n",
    "    \n",
    "    ref_dict = {}\n",
    "    \n",
    "    # find all definitions, plus \"Reference\" notes.\n",
    "    # the order they appear in in the list is the order they appeared in the page.\n",
    "    # therefore, the \"Reference\" note will apply to the definition that precedes it in\n",
    "    # the list\n",
    "    all_defs_refs = soup.select(\".word_explain_list.printArea.accessArea,.word_detail_view.printArea.accessArea.manyLang6\")\n",
    "\n",
    "    for ref in all_refs:\n",
    "        reference = ref.ul.li.strong.get_text(strip=True)\n",
    "        \n",
    "        for num, item in enumerate(all_defs_refs):\n",
    "            # get text from each Tag object and see if the reference is a substring of it to\n",
    "            # find the \"Reference\"\n",
    "            if reference in item.get_text():\n",
    "                # the definition the reference applies to is the previous one\n",
    "                ref_dict[num-1] = reference\n",
    "print(ref_dict)"
   ]
  },
  {
   "cell_type": "code",
   "execution_count": 6,
   "metadata": {},
   "outputs": [],
   "source": [
    "definitions = soup.find_all(\"ol\", class_=\"senseLayer\")\n",
    "\n",
    "combined_defs = []\n",
    "\n",
    "for num, definition in enumerate(definitions):\n",
    "    eng_trans = definition.li.p.get_text(\" \", strip=True)\n",
    "    kor_def = definition.li.span.get_text(strip=True)\n",
    "    eng_def = definition.select(\".sub_p1.manyLang6.multiSenseDef.defFont6\")[0].get_text(strip=True)\n",
    "    \n",
    "    # if there is an entry in ref_dict for the definition number, insert it here\n",
    "    # else, insert an empty string\n",
    "    ref_note = ref_dict.get(num)\n",
    "    if ref_note is None:\n",
    "        ref_note = \"\"\n",
    "    \n",
    "    examples = definition.ul.select(\"li\")\n",
    "    \n",
    "    phrases = []\n",
    "    sentences = []\n",
    "    dialogue = []\n",
    "\n",
    "    for item in examples:\n",
    "        if item.get(\"class\") == [\"violet\"]:\n",
    "            dialogue += [item.get_text().strip()]\n",
    "        elif item.get(\"class\") == [\"orange\"]:\n",
    "            sentences += [item.get_text()]\n",
    "        else:\n",
    "            phrases += [item.get_text()]\n",
    "            \n",
    "    combined_defs += [[eng_trans, kor_def, eng_def, phrases, sentences, dialogue, ref_note]]"
   ]
  },
  {
   "cell_type": "code",
   "execution_count": 7,
   "metadata": {},
   "outputs": [
    {
     "name": "stdout",
     "output_type": "stream",
     "text": [
      "word: 가\n",
      "sense: 1\n",
      "word id: 가1\n",
      "level: Advanced \n",
      "pronunciation: 가ː\n",
      "recording url: https://dicmedia.korean.go.kr/multimedia/multimedia_files/convert/20160913/20000/17000/300622/SND000309976.mp3\n",
      "KPOS: 명사\n",
      "EPOS: Noun\n",
      "definition 1: ['1. edge; verge', '어떤 장소나 물건의 둘레나 끝부분.', 'The perimeter or outer limits of a place or a thing.', ['가를 꾸미다.', '가를 장식하다.', '가에 걸치다.', '가에 달다.', '가에 달라붙다.', '가에 세우다.', '가에 앉다.'], ['공원의 중앙에는 잔디밭이 있고 가에는 울타리가 둘러쳐져 있었다.', '민준이는 금방이라도 일어날 듯이 의자 가에 엉덩이만 살짝 걸치고 앉았다.'], ['가: 차는 어디에 주차했어요?\\n나: 저기 운동장 가에 세워 뒀어요.'], '']\n",
      "definition 2: ['2. by; fringe', '‘주변’의 뜻을 나타내는 말.', 'The surrounding area of a place.', ['강가.', '길가.', '냇가.', '문가.', '시냇가.', '우물가.', '창가.', '창문가.', '호숫가.'], [], [], '일부 명사 뒤에 붙여 쓴다.']\n"
     ]
    }
   ],
   "source": [
    "print(f\"word: {word}\")\n",
    "print(f\"sense: {sense}\")\n",
    "print(f\"word id: {word_id}\")\n",
    "print(f\"level: {level}\")\n",
    "print(f\"pronunciation: {pronunciation}\")\n",
    "print(f\"recording url: {recording_url}\")\n",
    "print(f\"KPOS: {KPOS}\")\n",
    "print(f\"EPOS: {EPOS}\")\n",
    "\n",
    "for num, x in enumerate(combined_defs, 1):\n",
    "    print(f\"definition {num}: {x}\")"
   ]
  },
  {
   "cell_type": "code",
   "execution_count": null,
   "metadata": {},
   "outputs": [],
   "source": []
  }
 ],
 "metadata": {
  "kernelspec": {
   "display_name": "Python 3",
   "language": "python",
   "name": "python3"
  },
  "language_info": {
   "codemirror_mode": {
    "name": "ipython",
    "version": 3
   },
   "file_extension": ".py",
   "mimetype": "text/x-python",
   "name": "python",
   "nbconvert_exporter": "python",
   "pygments_lexer": "ipython3",
   "version": "3.7.6"
  }
 },
 "nbformat": 4,
 "nbformat_minor": 4
}
