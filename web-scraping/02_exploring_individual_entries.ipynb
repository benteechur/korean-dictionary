{
 "cells": [
  {
   "cell_type": "code",
   "execution_count": 1,
   "metadata": {},
   "outputs": [],
   "source": [
    "from bs4 import BeautifulSoup\n",
    "import urllib.request"
   ]
  },
  {
   "cell_type": "code",
   "execution_count": 2,
   "metadata": {},
   "outputs": [],
   "source": [
    "url = (\"https://krdict.korean.go.kr/eng/dicSearch/SearchView?nation=eng&nationCode=6&searchFlag=Y&sort=W&currentPage=1&ParaWordNo=\"\n",
    "       + str(27733)\n",
    "       + \"&syllablePosition=&actCategoryList=&all_gubun=ALL&gubun=W&gubun=P&gubun=E&all_wordNativeCode=ALL&wordNativeCode=1&wordNativeCode=2&wordNativeCode=3&wordNativeCode=0&all_sp_code=ALL&sp_code=1&sp_code=2&sp_code=3&sp_code=4&sp_code=5&sp_code=6&sp_code=7&sp_code=8&sp_code=9&sp_code=10&sp_code=11&sp_code=12&sp_code=13&sp_code=14&sp_code=27&all_imcnt=ALL&imcnt=1&imcnt=2&imcnt=3&imcnt=0&all_multimedia=ALL&multimedia=P&multimedia=I&multimedia=V&multimedia=A&multimedia=S&multimedia=N&searchSyllableStart=&searchSyllableEnd=&searchOp=AND&searchTarget=word&searchOrglanguage=-1&wordCondition=wordAll&query=&blockCount=100\")"
   ]
  },
  {
   "cell_type": "code",
   "execution_count": 3,
   "metadata": {},
   "outputs": [],
   "source": [
    "response = urllib.request.urlopen(url)"
   ]
  },
  {
   "cell_type": "code",
   "execution_count": 4,
   "metadata": {},
   "outputs": [],
   "source": [
    "# BeautifulSoup Documentation:\n",
    "# https://www.crummy.com/software/BeautifulSoup/bs4/doc/\n",
    "#\n",
    "# four basic types of objects in BeautifulSoup\n",
    "#\n",
    "# BeautifulSoup - represents the HTML document as a whole and works similarly to Tags\n",
    "# Tag - this corresponds to an HTML tag in the original document\n",
    "# NavigableString - contains the text within a tag in the original document\n",
    "# Comment - corresponds to HTML comments within original document; Comments are a special type\n",
    "#           of NavigableString that are displayed with special formatting when .prettify() is called"
   ]
  },
  {
   "cell_type": "code",
   "execution_count": 5,
   "metadata": {},
   "outputs": [],
   "source": [
    "soup = BeautifulSoup(response, \"html.parser\")"
   ]
  },
  {
   "cell_type": "code",
   "execution_count": 6,
   "metadata": {},
   "outputs": [],
   "source": [
    "# both .prettify() and .get_text() produce ugly output so use an inspector instead"
   ]
  },
  {
   "cell_type": "code",
   "execution_count": 7,
   "metadata": {},
   "outputs": [
    {
     "data": {
      "text/plain": [
       "'<!DOCTYPE html PUBLIC \"-//W3C//DTD XHTML 1.0 Transitional//EN\" \"http://www.w3.org/TR/xhtml1/DTD/xhtml1-transitional.dtd\">\\n<html lang=\"en\" xml:lang=\"en\" xmlns=\"http://www.w3.org/1999/xhtml\">\\n <head>\\n  <link href=\"/JSP/image/common/favicon.ico\" rel=\"shortcut icon\" type=\"image/x-icon\"/>\\n  <link href=\"/JSP/image/common/favicon.ico\" rel=\"icon\" type=\"image/x-icon\"/>\\n  <meta content=\"IE=edge; IE=10; IE=9; IE=8\" http-equiv=\"X-UA-Compatible\"/>\\n  <meta content=\"한국어기초사전의 표제어와 뜻풀이를 영어로 번역한 사전입니다.\" name=\"description\"/>\\n  <!-- 다국어 입력기 코드값 -->\\n  <!-- 다국어 입력기 셀렉트 박스 기본값 -->\\n  <!-- 다국어 -->\\n  <!-- 한국어 -->\\n  <!-- 로그분석기 -->\\n  <!-- 모바일 로그분석기 -->\\n  <!-- XXX - 한국어 사전 -->\\n  <!-- 외국인을 위한 한국어 학습 길라잡이 -->\\n  <!-- 삭제 -->\\n  <!-- 자세히 찾기 -->\\n  <!-- 범주별 찾기 -->\\n  <!-- 사전 통계 -->\\n  <!-- 도움말 -->\\n  <!-- 저작권 정책 -->\\n  <!-- 공지 사항 -->\\n  <!-- 한국어 기초사전-->\\n  <!-- 국립 국어원-->\\n  <!-- 이동-->\\n  <!-- 의미 범주별 찾기-->\\n  <!--선택한 단어를 삭제하시겠습니까?-->\\n  <!--전체 삭제-->\\n  <!--처리중입니다. 잠시만 기다려 주세요.-->\\n  <!--주제 및 상황 범주별 찾기-->\\n  <!--대분류-->\\n  <!--중분류-->\\n  <!--소분류-->\\n  <!--전체-->\\n  <!--찾기 결과-->\\n  <!--총 XX개-->\\n  <!--총 XX개-->\\n  <!--10개씩 보기-->\\n  <!--20개씩 보기-->\\n  <!--30개씩 보기-->\\n  <!--50개씩 보기-->\\n  <!--100개씩 보기-->\\n  <!--명사-->\\n  <!--대명사-->\\n  <!--수사-->\\n  <!--조사-->\\n  <!--동사-->\\n  <!--형용사-->\\n  <!--관형사-->\\n  <!--부사-->\\n  <!--감탄사-->\\n  <!--접사-->\\n  <!--의존 명사-->\\n  <!--보조 동사-->\\n  <!--보조 형용사-->\\n  <!--어미-->\\n  <!--품사 없음-->\\n  <!--자세히 보기-->\\n  <!--구-->\\n  <!--전체 보기-->\\n  <!--대응어 없음-->\\n  <!--글자 크게-->\\n  <!--글자 작게-->\\n  <!--적용-->\\n  <!--\"______\" 에 대한 찾기 결과가 없습니다.-->\\n  <!--\"______\" '"
      ]
     },
     "execution_count": 7,
     "metadata": {},
     "output_type": "execute_result"
    }
   ],
   "source": [
    "soup.prettify()[:1500]"
   ]
  },
  {
   "cell_type": "code",
   "execution_count": 8,
   "metadata": {},
   "outputs": [
    {
     "data": {
      "text/plain": [
       "'\\n\\n\\n\\n\\n\\n\\n\\n\\n\\n\\n\\n\\n\\n\\n\\n\\n\\n\\n\\n\\n\\n\\n\\n\\n\\n\\n\\n\\n\\n\\n\\n\\n\\n\\n\\n\\n\\n\\n\\n\\n\\n\\n\\n\\n\\n\\n\\n\\n\\n\\n\\n\\n\\n\\n\\n\\n\\n\\n\\n\\n\\n\\n\\n\\n\\n\\n\\n\\n\\n\\n\\n\\n\\n\\n\\n\\n\\n\\n\\n\\n\\n\\n\\n\\n\\n\\n\\n\\n\\n\\n\\n\\n\\n\\n\\n\\n\\n\\n\\n\\n\\n\\n\\n\\n\\n\\n\\n\\n\\n\\n\\n\\n\\n\\n\\n\\n\\n\\n\\n\\n\\n\\n\\n\\n\\n\\n\\n\\n\\n\\n\\n\\n\\n\\n\\n\\n\\n\\n\\n\\n\\n\\n\\n\\n\\n\\n\\n\\n\\n\\n\\n\\n\\n\\n\\n\\n\\n\\n\\n\\n\\n\\n\\n\\n\\n\\n\\n\\n\\n\\n\\n\\n\\n\\n\\n\\n\\n\\n\\n\\n\\n\\n\\n\\n\\n\\n\\n\\n\\n\\n\\n\\n\\n\\n\\n\\n\\n\\n\\n\\n\\n\\n\\n\\n\\n\\n\\n\\n\\n\\n\\n\\n\\n\\n\\n\\n\\n\\n\\n\\n\\n\\n\\n\\n\\n\\n\\n\\n\\n\\n\\n\\n\\n\\n\\n\\nKorean - English dictionary  - View Dictionary\\n\\r\\n@import url(\"/JSP/css/content.css\");\\r\\n@import url(\"/JSP/css/print-preview.css\");\\r\\n@import url(\"/JSP/css/jquery-ui-1.10.4.css\");\\r\\n\\r\\n.transFont1{font-size:15px !important;}\\r\\n.transFont2{font-size:15px !important;}\\r\\n.transFont3{font-size:15px !important;}\\r\\n.transFont4{font-size:15px !important;}\\r\\n.transFont5{font-size:15px !important;}\\r\\n.transFont6{font-size:15px !important;}\\r\\n.transFont7{font-size:15px !important;}\\r\\n.transFont8{font-size:15px !important;}\\r\\n.transFont9{font-size:15px !important;}\\r\\n.transFont11{font-size:15px !important;}\\r\\n\\r\\n.defFont1{font-size:15px !important;}\\r\\n.defFont2{font-size:15px !important;}\\r\\n.defFont3{font-size:15px !important;}\\r\\n.defFont4{font-size:15px !important;}\\r\\n.defFont5{font-size:15px !important;}\\r\\n.defFont6{font-size:15px !important;}\\r\\n.defFont7{font-size:15px !important;}\\r\\n.defFont8{font-size:15px !important;}\\r\\n.defFont9{font-size:15px !important;}\\r\\n.defFont11{font-size:15px !important;}\\r\\n\\r\\n.titleFont1{font-size:13px !important;}\\r\\n.titleFont2{font-size:13px !important;}\\r\\n.titleFont3{font-size:13px !important;}\\r\\n.titleFont4{font-size:13px !important;}\\r\\n.titleFont5{font-size:13px !important;}\\r\\n.titleFont6{font-size:13px !important;}\\r\\n.titleFont7{font-size:13px !imp'"
      ]
     },
     "execution_count": 8,
     "metadata": {},
     "output_type": "execute_result"
    }
   ],
   "source": [
    "soup.get_text()[:1500]"
   ]
  },
  {
   "cell_type": "code",
   "execution_count": 9,
   "metadata": {},
   "outputs": [
    {
     "data": {
      "text/plain": [
       "[<h2>\n",
       " <font style=\"font-size:24px;\">가</font><sup class=\"num\">1</sup><span class=\"chi_info\"></span>\n",
       " <img alt=\"Advanced level\" class=\"btn_ml2\" src=\"/JSP/image/icon/icon_star1.png\" style=\"margin-left: 0px;\" title=\"Advanced level\"/>\n",
       " </h2>]"
      ]
     },
     "execution_count": 9,
     "metadata": {},
     "output_type": "execute_result"
    }
   ],
   "source": [
    "# .find_all() looks through the tree and retrieves all nodes that match the filter\n",
    "#\n",
    "# the only h2 header on the page contains the entry title, entry number if there are \n",
    "# multiple entries, and the level if it exists\n",
    "soup.find_all(\"h2\")"
   ]
  },
  {
   "cell_type": "code",
   "execution_count": 10,
   "metadata": {},
   "outputs": [
    {
     "name": "stdout",
     "output_type": "stream",
     "text": [
      "<class 'bs4.element.ResultSet'>\n"
     ]
    },
    {
     "data": {
      "text/plain": [
       "bs4.element.Tag"
      ]
     },
     "execution_count": 10,
     "metadata": {},
     "output_type": "execute_result"
    }
   ],
   "source": [
    "# .find_all() returns a ResultSet. a ResultSet is a list of Tag objects and their associated strings\n",
    "print(type(soup.find_all(\"h2\")))\n",
    "type(soup.find_all(\"h2\")[0])"
   ]
  },
  {
   "cell_type": "code",
   "execution_count": 11,
   "metadata": {},
   "outputs": [
    {
     "data": {
      "text/plain": [
       "'가'"
      ]
     },
     "execution_count": 11,
     "metadata": {},
     "output_type": "execute_result"
    }
   ],
   "source": [
    "# access nested tags via the \".\" syntax\n",
    "# access the text within a tag using \"string\"\n",
    "# NOTE: the .string attribute (of the Tag class) only works when a Tag has a single child.\n",
    "#       this single child must either be a NavigableString or another Tag which\n",
    "#       has a NavigableString as its single child. if a Tag contains more than\n",
    "#       a single child, .string returns None\n",
    "soup.h2.font.string"
   ]
  },
  {
   "cell_type": "code",
   "execution_count": 12,
   "metadata": {},
   "outputs": [
    {
     "data": {
      "text/plain": [
       "'1'"
      ]
     },
     "execution_count": 12,
     "metadata": {},
     "output_type": "execute_result"
    }
   ],
   "source": [
    "soup.h2.sup.string"
   ]
  },
  {
   "cell_type": "code",
   "execution_count": 13,
   "metadata": {},
   "outputs": [
    {
     "data": {
      "text/plain": [
       "'Advanced level'"
      ]
     },
     "execution_count": 13,
     "metadata": {},
     "output_type": "execute_result"
    }
   ],
   "source": [
    "# html tag attributes can be accessed using dictionary syntax\n",
    "soup.h2.img[\"alt\"]"
   ]
  },
  {
   "cell_type": "code",
   "execution_count": 14,
   "metadata": {},
   "outputs": [],
   "source": [
    "# \\xa0 = &nbsp; (non-breaking space) \n",
    "# it can be stripped with .strip()"
   ]
  },
  {
   "cell_type": "code",
   "execution_count": 15,
   "metadata": {},
   "outputs": [
    {
     "data": {
      "text/plain": [
       "'\\xa0\\xa0[가ː]'"
      ]
     },
     "execution_count": 15,
     "metadata": {},
     "output_type": "execute_result"
    }
   ],
   "source": [
    "soup.p.font.text"
   ]
  },
  {
   "cell_type": "code",
   "execution_count": 16,
   "metadata": {},
   "outputs": [
    {
     "data": {
      "text/plain": [
       "'가ː'"
      ]
     },
     "execution_count": 16,
     "metadata": {},
     "output_type": "execute_result"
    }
   ],
   "source": [
    "soup.p.font.text.strip().strip(\"[]\")"
   ]
  },
  {
   "cell_type": "code",
   "execution_count": 17,
   "metadata": {},
   "outputs": [],
   "source": [
    "# get link for recording"
   ]
  },
  {
   "cell_type": "code",
   "execution_count": 18,
   "metadata": {},
   "outputs": [
    {
     "data": {
      "text/plain": [
       "'https://dicmedia.korean.go.kr/multimedia/multimedia_files/convert/20160913/20000/17000/300622/SND000309976.mp3'"
      ]
     },
     "execution_count": 18,
     "metadata": {},
     "output_type": "execute_result"
    }
   ],
   "source": [
    "soup.p.font.img.get(\"onclick\").lstrip(\"javascript:fnSoundPlay('\").rstrip(\"');\")"
   ]
  },
  {
   "cell_type": "code",
   "execution_count": 19,
   "metadata": {},
   "outputs": [
    {
     "data": {
      "text/plain": [
       "'Noun'"
      ]
     },
     "execution_count": 19,
     "metadata": {},
     "output_type": "execute_result"
    }
   ],
   "source": [
    "# .string isn't actually a String but a NavigableString, so convert it first before calling String methods\n",
    "temp = str(soup.h3.font.string)\n",
    "temp.strip()"
   ]
  },
  {
   "cell_type": "code",
   "execution_count": 20,
   "metadata": {},
   "outputs": [],
   "source": [
    "# if the .string access method doesn't work, .get_text() can be used on a tag as well\n",
    "# passing strip=True to .get_text() works like Python's string .strip() method"
   ]
  },
  {
   "cell_type": "code",
   "execution_count": 21,
   "metadata": {},
   "outputs": [],
   "source": [
    "soup.h3.string"
   ]
  },
  {
   "cell_type": "code",
   "execution_count": 22,
   "metadata": {},
   "outputs": [
    {
     "data": {
      "text/plain": [
       "'명사Noun'"
      ]
     },
     "execution_count": 22,
     "metadata": {},
     "output_type": "execute_result"
    }
   ],
   "source": [
    "soup.h3.get_text(strip=True)"
   ]
  },
  {
   "cell_type": "code",
   "execution_count": 23,
   "metadata": {},
   "outputs": [],
   "source": [
    "# stripped_strings is a generator that allows these to be processed separately\n",
    "# stripped_strings also works on ResultSets"
   ]
  },
  {
   "cell_type": "code",
   "execution_count": 24,
   "metadata": {},
   "outputs": [
    {
     "name": "stdout",
     "output_type": "stream",
     "text": [
      "Korean POS is 명사 and English POS is Noun.\n"
     ]
    }
   ],
   "source": [
    "ss = soup.h3.stripped_strings\n",
    "KPOS = next(ss)\n",
    "EPOS = next(ss)\n",
    "print(f\"Korean POS is {KPOS} and English POS is {EPOS}.\")"
   ]
  },
  {
   "cell_type": "code",
   "execution_count": 25,
   "metadata": {},
   "outputs": [],
   "source": [
    "# search for tags by their class\n",
    "# .find_all returns a list of Tags"
   ]
  },
  {
   "cell_type": "code",
   "execution_count": 26,
   "metadata": {},
   "outputs": [
    {
     "data": {
      "text/plain": [
       "bs4.element.Tag"
      ]
     },
     "execution_count": 26,
     "metadata": {},
     "output_type": "execute_result"
    }
   ],
   "source": [
    "temp = soup.find_all(\"ol\", class_=\"senseLayer\")\n",
    "type(temp[0])"
   ]
  },
  {
   "cell_type": "code",
   "execution_count": 27,
   "metadata": {},
   "outputs": [],
   "source": [
    "# the .text attribute can be used in combination with string methods\n",
    "# NOTE: there is no space between the definition number and the definition in\n",
    "#       the output. this can be fixed by passing a separator to .get_text()"
   ]
  },
  {
   "cell_type": "code",
   "execution_count": 28,
   "metadata": {},
   "outputs": [
    {
     "data": {
      "text/plain": [
       "'1.edge; verge'"
      ]
     },
     "execution_count": 28,
     "metadata": {},
     "output_type": "execute_result"
    }
   ],
   "source": [
    "temp[0].li.p.text.strip()"
   ]
  },
  {
   "cell_type": "code",
   "execution_count": 29,
   "metadata": {},
   "outputs": [],
   "source": [
    "# .get_text() will join the strings it finds on the string you pass to it"
   ]
  },
  {
   "cell_type": "code",
   "execution_count": 30,
   "metadata": {},
   "outputs": [
    {
     "data": {
      "text/plain": [
       "'1.xxedge; verge'"
      ]
     },
     "execution_count": 30,
     "metadata": {},
     "output_type": "execute_result"
    }
   ],
   "source": [
    "temp[0].li.p.get_text(\"xx\", strip=True)"
   ]
  },
  {
   "cell_type": "code",
   "execution_count": 31,
   "metadata": {},
   "outputs": [
    {
     "data": {
      "text/plain": [
       "'1. edge; verge'"
      ]
     },
     "execution_count": 31,
     "metadata": {},
     "output_type": "execute_result"
    }
   ],
   "source": [
    "temp[0].li.p.get_text(\" \", strip=True)"
   ]
  },
  {
   "cell_type": "code",
   "execution_count": 32,
   "metadata": {},
   "outputs": [
    {
     "data": {
      "text/plain": [
       "'어떤 장소나 물건의 둘레나 끝부분.'"
      ]
     },
     "execution_count": 32,
     "metadata": {},
     "output_type": "execute_result"
    }
   ],
   "source": [
    "temp[0].li.span.string"
   ]
  },
  {
   "cell_type": "code",
   "execution_count": 33,
   "metadata": {},
   "outputs": [],
   "source": [
    "# for more powerful searching, use .select()\n",
    "# .select() allows one to find tags beneath other tags, find tags DIRECTLY beneath other tags,\n",
    "# find siblings of tags, find tags by ID, find tags by attribute value, test for the existence of\n",
    "# attributes, and more"
   ]
  },
  {
   "cell_type": "code",
   "execution_count": 34,
   "metadata": {},
   "outputs": [],
   "source": [
    "# .select() can find multiclass tags as follows"
   ]
  },
  {
   "cell_type": "code",
   "execution_count": 35,
   "metadata": {},
   "outputs": [
    {
     "data": {
      "text/plain": [
       "'The perimeter or outer limits of a place or a thing.'"
      ]
     },
     "execution_count": 35,
     "metadata": {},
     "output_type": "execute_result"
    }
   ],
   "source": [
    "temp[0].select(\".sub_p1.manyLang6.multiSenseDef.defFont6\")[0].string.strip()"
   ]
  },
  {
   "cell_type": "code",
   "execution_count": 36,
   "metadata": {},
   "outputs": [],
   "source": [
    "# get all example sentences"
   ]
  },
  {
   "cell_type": "code",
   "execution_count": 37,
   "metadata": {},
   "outputs": [
    {
     "data": {
      "text/plain": [
       "[<li><b>가</b>를 꾸미다.</li>,\n",
       " <li><b>가</b>를 장식하다.</li>,\n",
       " <li><b>가</b>에 걸치다.</li>,\n",
       " <li><b>가</b>에 달다.</li>,\n",
       " <li><b>가</b>에 달라붙다.</li>,\n",
       " <li><b>가</b>에 세우다.</li>,\n",
       " <li><b>가</b>에 앉다.</li>,\n",
       " <li class=\"orange\">공원의 중앙에는 잔디밭이 있고 <b>가</b>에는 울타리가 둘러쳐져 있었다.</li>,\n",
       " <li class=\"orange\">민준이는 금방이라도 일어날 듯이 의자 <b>가</b>에 엉덩이만 살짝 걸치고 앉았다.</li>,\n",
       " <li class=\"violet\">\n",
       " \t\t\t\t\t\t\t\t\t가: 차는 어디에 주차했어요?<br/>\n",
       " <font style=\"line-height: 30px;\">나: 저기 운동장 <b>가</b>에 세워 뒀어요.</font><br/>\n",
       " </li>]"
      ]
     },
     "execution_count": 37,
     "metadata": {},
     "output_type": "execute_result"
    }
   ],
   "source": [
    "temp[0].ul.select(\"li\")"
   ]
  },
  {
   "cell_type": "code",
   "execution_count": 38,
   "metadata": {},
   "outputs": [
    {
     "data": {
      "text/plain": [
       "'가를 꾸미다.'"
      ]
     },
     "execution_count": 38,
     "metadata": {},
     "output_type": "execute_result"
    }
   ],
   "source": [
    "temp[0].ul.select(\"li\")[0].get_text()"
   ]
  },
  {
   "cell_type": "code",
   "execution_count": 39,
   "metadata": {},
   "outputs": [],
   "source": [
    "# since attributes can be checked like dictionaries use\n",
    "# .get() method to avoid exceptions if \"key\" doesn't exist"
   ]
  },
  {
   "cell_type": "code",
   "execution_count": 40,
   "metadata": {},
   "outputs": [
    {
     "ename": "KeyError",
     "evalue": "'class'",
     "output_type": "error",
     "traceback": [
      "\u001b[1;31m---------------------------------------------------------------------------\u001b[0m",
      "\u001b[1;31mKeyError\u001b[0m                                  Traceback (most recent call last)",
      "\u001b[1;32m<ipython-input-40-40c8aa05a143>\u001b[0m in \u001b[0;36m<module>\u001b[1;34m\u001b[0m\n\u001b[0;32m      1\u001b[0m \u001b[0mtest\u001b[0m \u001b[1;33m=\u001b[0m \u001b[0mtemp\u001b[0m\u001b[1;33m[\u001b[0m\u001b[1;36m0\u001b[0m\u001b[1;33m]\u001b[0m\u001b[1;33m.\u001b[0m\u001b[0mul\u001b[0m\u001b[1;33m.\u001b[0m\u001b[0mselect\u001b[0m\u001b[1;33m(\u001b[0m\u001b[1;34m\"li\"\u001b[0m\u001b[1;33m)\u001b[0m\u001b[1;33m\u001b[0m\u001b[1;33m\u001b[0m\u001b[0m\n\u001b[0;32m      2\u001b[0m \u001b[1;33m\u001b[0m\u001b[0m\n\u001b[1;32m----> 3\u001b[1;33m \u001b[0mtest\u001b[0m\u001b[1;33m[\u001b[0m\u001b[1;36m0\u001b[0m\u001b[1;33m]\u001b[0m\u001b[1;33m[\u001b[0m\u001b[1;34m\"class\"\u001b[0m\u001b[1;33m]\u001b[0m\u001b[1;33m\u001b[0m\u001b[1;33m\u001b[0m\u001b[0m\n\u001b[0m",
      "\u001b[1;32m~\\anaconda3\\lib\\site-packages\\bs4\\element.py\u001b[0m in \u001b[0;36m__getitem__\u001b[1;34m(self, key)\u001b[0m\n\u001b[0;32m   1319\u001b[0m         \"\"\"tag[key] returns the value of the 'key' attribute for the Tag,\n\u001b[0;32m   1320\u001b[0m         and throws an exception if it's not there.\"\"\"\n\u001b[1;32m-> 1321\u001b[1;33m         \u001b[1;32mreturn\u001b[0m \u001b[0mself\u001b[0m\u001b[1;33m.\u001b[0m\u001b[0mattrs\u001b[0m\u001b[1;33m[\u001b[0m\u001b[0mkey\u001b[0m\u001b[1;33m]\u001b[0m\u001b[1;33m\u001b[0m\u001b[1;33m\u001b[0m\u001b[0m\n\u001b[0m\u001b[0;32m   1322\u001b[0m \u001b[1;33m\u001b[0m\u001b[0m\n\u001b[0;32m   1323\u001b[0m     \u001b[1;32mdef\u001b[0m \u001b[0m__iter__\u001b[0m\u001b[1;33m(\u001b[0m\u001b[0mself\u001b[0m\u001b[1;33m)\u001b[0m\u001b[1;33m:\u001b[0m\u001b[1;33m\u001b[0m\u001b[1;33m\u001b[0m\u001b[0m\n",
      "\u001b[1;31mKeyError\u001b[0m: 'class'"
     ]
    }
   ],
   "source": [
    "test = temp[0].ul.select(\"li\")\n",
    "\n",
    "test[0][\"class\"]"
   ]
  },
  {
   "cell_type": "code",
   "execution_count": 41,
   "metadata": {},
   "outputs": [],
   "source": [
    "test[0].get(\"class\")"
   ]
  },
  {
   "cell_type": "code",
   "execution_count": 42,
   "metadata": {},
   "outputs": [],
   "source": [
    "phrases = []\n",
    "sentences = []\n",
    "dialogue = []\n",
    "\n",
    "for item in test:\n",
    "    if item.get(\"class\") == [\"violet\"]:\n",
    "        dialogue += [item.get_text().strip()]\n",
    "    elif item.get(\"class\") == [\"orange\"]:\n",
    "        sentences += [item.get_text()]\n",
    "    else:\n",
    "        phrases += [item.get_text()]"
   ]
  },
  {
   "cell_type": "code",
   "execution_count": 43,
   "metadata": {},
   "outputs": [
    {
     "data": {
      "text/plain": [
       "['가를 꾸미다.', '가를 장식하다.', '가에 걸치다.', '가에 달다.', '가에 달라붙다.', '가에 세우다.', '가에 앉다.']"
      ]
     },
     "execution_count": 43,
     "metadata": {},
     "output_type": "execute_result"
    }
   ],
   "source": [
    "phrases"
   ]
  },
  {
   "cell_type": "code",
   "execution_count": 44,
   "metadata": {},
   "outputs": [
    {
     "data": {
      "text/plain": [
       "['공원의 중앙에는 잔디밭이 있고 가에는 울타리가 둘러쳐져 있었다.',\n",
       " '민준이는 금방이라도 일어날 듯이 의자 가에 엉덩이만 살짝 걸치고 앉았다.']"
      ]
     },
     "execution_count": 44,
     "metadata": {},
     "output_type": "execute_result"
    }
   ],
   "source": [
    "sentences"
   ]
  },
  {
   "cell_type": "code",
   "execution_count": 45,
   "metadata": {},
   "outputs": [
    {
     "data": {
      "text/plain": [
       "['가: 차는 어디에 주차했어요?\\n나: 저기 운동장 가에 세워 뒀어요.']"
      ]
     },
     "execution_count": 45,
     "metadata": {},
     "output_type": "execute_result"
    }
   ],
   "source": [
    "dialogue"
   ]
  },
  {
   "cell_type": "code",
   "execution_count": 46,
   "metadata": {},
   "outputs": [],
   "source": [
    "# grab \"Reference\" information"
   ]
  },
  {
   "cell_type": "code",
   "execution_count": 47,
   "metadata": {},
   "outputs": [],
   "source": [
    "# use attribute values and hope for uniqueness"
   ]
  },
  {
   "cell_type": "code",
   "execution_count": 48,
   "metadata": {},
   "outputs": [
    {
     "data": {
      "text/plain": [
       "'일부 명사 뒤에 붙여 쓴다.'"
      ]
     },
     "execution_count": 48,
     "metadata": {},
     "output_type": "execute_result"
    }
   ],
   "source": [
    "soup.select(\".word_detail_view.printArea.accessArea.manyLang6\")[0].li.strong.text.strip()"
   ]
  },
  {
   "cell_type": "code",
   "execution_count": 49,
   "metadata": {},
   "outputs": [],
   "source": [
    "# search for string in page and hope for uniqueness.\n",
    "# navigate to the content you want via tree structure and .parent"
   ]
  },
  {
   "cell_type": "code",
   "execution_count": 50,
   "metadata": {},
   "outputs": [
    {
     "data": {
      "text/plain": [
       "'Reference'"
      ]
     },
     "execution_count": 50,
     "metadata": {},
     "output_type": "execute_result"
    }
   ],
   "source": [
    "soup.find(text=\"Reference\")"
   ]
  },
  {
   "cell_type": "code",
   "execution_count": 51,
   "metadata": {},
   "outputs": [
    {
     "data": {
      "text/plain": [
       "<span class=\"sm_tit_manyLang titleFont6 manyLang6\">Reference</span>"
      ]
     },
     "execution_count": 51,
     "metadata": {},
     "output_type": "execute_result"
    }
   ],
   "source": [
    "soup.find(text=\"Reference\").parent"
   ]
  },
  {
   "cell_type": "code",
   "execution_count": 52,
   "metadata": {},
   "outputs": [
    {
     "data": {
      "text/plain": [
       "<li><span class=\"sm_tit_manyLang titleFont6 manyLang6\">Reference</span><strong class=\"koreaLang\" style=\"font-size:15px;\">  일부 명사 뒤에 붙여 쓴다.</strong></li>"
      ]
     },
     "execution_count": 52,
     "metadata": {},
     "output_type": "execute_result"
    }
   ],
   "source": [
    "soup.find(text=\"Reference\").parent.parent"
   ]
  },
  {
   "cell_type": "code",
   "execution_count": 53,
   "metadata": {},
   "outputs": [
    {
     "data": {
      "text/plain": [
       "'일부 명사 뒤에 붙여 쓴다.'"
      ]
     },
     "execution_count": 53,
     "metadata": {},
     "output_type": "execute_result"
    }
   ],
   "source": [
    "soup.find(text=\"Reference\").parent.parent.strong.text.strip()"
   ]
  },
  {
   "cell_type": "code",
   "execution_count": null,
   "metadata": {},
   "outputs": [],
   "source": []
  }
 ],
 "metadata": {
  "kernelspec": {
   "display_name": "Python 3",
   "language": "python",
   "name": "python3"
  },
  "language_info": {
   "codemirror_mode": {
    "name": "ipython",
    "version": 3
   },
   "file_extension": ".py",
   "mimetype": "text/x-python",
   "name": "python",
   "nbconvert_exporter": "python",
   "pygments_lexer": "ipython3",
   "version": "3.7.6"
  }
 },
 "nbformat": 4,
 "nbformat_minor": 4
}
