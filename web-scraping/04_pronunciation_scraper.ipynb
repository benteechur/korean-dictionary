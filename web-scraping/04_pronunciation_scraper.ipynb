{
 "cells": [
  {
   "cell_type": "code",
   "execution_count": 1,
   "metadata": {},
   "outputs": [],
   "source": [
    "import csv\n",
    "import re\n",
    "import pandas as pd\n",
    "from bs4 import BeautifulSoup\n",
    "from glob import glob"
   ]
  },
  {
   "cell_type": "markdown",
   "metadata": {},
   "source": [
    "https://krdict.korean.go.kr/eng/dicSearch/SearchView?nation=eng&ParaWordNo="
   ]
  },
  {
   "cell_type": "code",
   "execution_count": 2,
   "metadata": {},
   "outputs": [],
   "source": [
    "path = \"./pages/\""
   ]
  },
  {
   "cell_type": "code",
   "execution_count": 3,
   "metadata": {},
   "outputs": [
    {
     "data": {
      "text/plain": [
       "51961"
      ]
     },
     "execution_count": 3,
     "metadata": {},
     "output_type": "execute_result"
    }
   ],
   "source": [
    "entries = set()\n",
    "\n",
    "for name in glob(path + \"*.html\"):\n",
    "    entries.add(name)\n",
    "    \n",
    "len(entries)"
   ]
  },
  {
   "cell_type": "code",
   "execution_count": 4,
   "metadata": {},
   "outputs": [],
   "source": [
    "out = open(\"pronunciation_all.csv\", \"w\", encoding=\"utf-8\")\n",
    "csv_out = csv.writer(out, delimiter=\"\\t\")\n",
    "csv_out.writerow([\"entry_id\", \"word_id\", \"spelling\", \"pronunciation\"])\n",
    "\n",
    "# store info on words skipped\n",
    "missing_data = []\n",
    "\n",
    "for entry in sorted(entries):\n",
    "    \n",
    "    # grab page ID from filename, then parse the file\n",
    "    entry_id = entry[8:-5]\n",
    "    \n",
    "    file = open(entry, \"r\", encoding=\"utf-8-sig\")\n",
    "    \n",
    "    soup = BeautifulSoup(file, \"html.parser\")\n",
    "    \n",
    "    # get data\n",
    "    word = soup.h2.font.string\n",
    "    if soup.h2.sup is not None:\n",
    "        sense = soup.h2.sup.string\n",
    "    else:\n",
    "        sense = \"\"\n",
    "    word_id = word + sense\n",
    "    \n",
    "\n",
    "    pronunciation = \"NONE\"\n",
    "    application = []\n",
    "    \n",
    "    # grab the area of interest, then search for the appropriate sections\n",
    "    heading = soup.select(\".keyboardLayerPosition.gray_heading.word_explain_tit.accessArea\")[0]\n",
    "    \n",
    "    pron_tag = heading.find(string=\"Pronunciation\")\n",
    "    appl_tag = heading.find(string=\"Application\")\n",
    "\n",
    "    # if the sections exist on the page, grab the values\n",
    "    if pron_tag is not None:\n",
    "        pronunciation = pron_tag.parent.parent.font.text.strip().strip(\"[]\")\n",
    "        \n",
    "    if appl_tag is not None:\n",
    "         # rather than using the string method .split(), re.split() allows for splitting on multiple characters\n",
    "         # re pattern = split on commas or left parentheses; NOTE use of \"or\" symbol (|) and escape character \"\\\"\n",
    "        application = [x.strip().strip(\"])\").split(\"[\") for x in re.split(\",|\\(\", appl_tag.parent.parent.font.text)]\n",
    "    \n",
    "    # write to file\n",
    "    csv_out.writerow([entry_id, word_id, word, pronunciation])\n",
    "    \n",
    "    if len(application) != 0:\n",
    "        for instance in application:\n",
    "            if len(instance) == 2:\n",
    "                csv_out.writerow([entry_id, word_id, instance[0], instance[1]])\n",
    "            else:\n",
    "                missing_data += [[entry_id, instance[0]]]\n",
    "                \n",
    "    file.close()\n",
    "                \n",
    "out.close()"
   ]
  },
  {
   "cell_type": "code",
   "execution_count": 5,
   "metadata": {},
   "outputs": [
    {
     "data": {
      "text/plain": [
       "2787"
      ]
     },
     "execution_count": 5,
     "metadata": {},
     "output_type": "execute_result"
    }
   ],
   "source": [
    "len(missing_data)"
   ]
  },
  {
   "cell_type": "code",
   "execution_count": 6,
   "metadata": {},
   "outputs": [
    {
     "data": {
      "text/plain": [
       "[['13961', '시드니'],\n",
       " ['14085', '실려'],\n",
       " ['14085', '실리니'],\n",
       " ['14091', '열려'],\n",
       " ['14091', '열리니'],\n",
       " ['14379', '데려와'],\n",
       " ['14379', '데려오니'],\n",
       " ['14379', '데려오너라'],\n",
       " ['14380', '데우어'],\n",
       " ['14380', '데워'],\n",
       " ['14380', '데우니'],\n",
       " ['14392', '도망치니'],\n",
       " ['14433', '때려'],\n",
       " ['14433', '때리니'],\n",
       " ['14437', '뛰노니'],\n",
       " ['14456', '떠'],\n",
       " ['14456', '뜨니'],\n",
       " ['14495', '버려지니'],\n",
       " ['14497', '버텨'],\n",
       " ['14497', '버티니'],\n",
       " ['14504', '보내와'],\n",
       " ['14504', '보내오니'],\n",
       " ['14508', '보살펴'],\n",
       " ['14508', '보살피니'],\n",
       " ['14545', '가빠지니'],\n",
       " ['14579', '갈겨'],\n",
       " ['14579', '갈기니'],\n",
       " ['14626', '마니'],\n",
       " ['14628', '말려'],\n",
       " ['14628', '말리니'],\n",
       " ['14630', '말려'],\n",
       " ['14630', '말리니'],\n",
       " ['14649', '꾸려'],\n",
       " ['14649', '꾸리니'],\n",
       " ['14675', '가셔'],\n",
       " ['14675', '가시니'],\n",
       " ['14692', '갈라놔'],\n",
       " ['14701', '갈라지니'],\n",
       " ['14708', '갈려'],\n",
       " ['14708', '갈리니'],\n",
       " ['14709', '갈려'],\n",
       " ['14709', '갈리니'],\n",
       " ['14710', '갈려'],\n",
       " ['14710', '갈리니'],\n",
       " ['14711', '갈려'],\n",
       " ['14711', '갈리니'],\n",
       " ['14879', '안겨'],\n",
       " ['14879', '안기니'],\n",
       " ['14884', '안겨'],\n",
       " ['14884', '안기니'],\n",
       " ['14928', '둘러'],\n",
       " ['14928', '두르니'],\n",
       " ['14957', '두려워하여'],\n",
       " ['14957', '두려워해'],\n",
       " ['14957', '두려워하니'],\n",
       " ['14982', '가로저어'],\n",
       " ['14982', '가로저으니'],\n",
       " ['14984', '둘러싸여'],\n",
       " ['14984', '둘러싸이니'],\n",
       " ['14998', '뒤지니'],\n",
       " ['15004', '가로질러'],\n",
       " ['15004', '가로지르니'],\n",
       " ['15046', '가로채어'],\n",
       " ['15046', '가로채'],\n",
       " ['15046', '가로채니'],\n",
       " ['15072', '따라다녀'],\n",
       " ['15072', '따라다니니'],\n",
       " ['15105', '얼려'],\n",
       " ['15105', '얼리니'],\n",
       " ['15156', '떠나와'],\n",
       " ['15156', '떠나오니'],\n",
       " ['15205', '여겨'],\n",
       " ['15205', '여기니'],\n",
       " ['15216', '가려'],\n",
       " ['15216', '가리니'],\n",
       " ['15241', '갈겨써'],\n",
       " ['15241', '갈겨쓰니'],\n",
       " ['15277', '갈구어'],\n",
       " ['15277', '갈궈'],\n",
       " ['15277', '갈구니'],\n",
       " ['15280', '공치니'],\n",
       " ['15297', '몰려와'],\n",
       " ['15297', '몰려오니'],\n",
       " ['15444', '반겨'],\n",
       " ['15444', '반기니'],\n",
       " ['15517', '무너지니'],\n",
       " ['15631', '비우어'],\n",
       " ['15631', '비워'],\n",
       " ['15631', '비우니'],\n",
       " ['15640', '비쳐'],\n",
       " ['15640', '비치니'],\n",
       " ['15646', '빠니'],\n",
       " ['15653', '뿌리치니'],\n",
       " ['15656', '사귀니'],\n",
       " ['15702', '비벼'],\n",
       " ['15702', '비비니'],\n",
       " ['15732', '개어'],\n",
       " ['15735', '물러나는'],\n",
       " ['15735', '물러나'],\n",
       " ['15735', '물러나니']]"
      ]
     },
     "execution_count": 6,
     "metadata": {},
     "output_type": "execute_result"
    }
   ],
   "source": [
    "missing_data[:100]"
   ]
  },
  {
   "cell_type": "code",
   "execution_count": null,
   "metadata": {},
   "outputs": [],
   "source": []
  }
 ],
 "metadata": {
  "kernelspec": {
   "display_name": "Python 3",
   "language": "python",
   "name": "python3"
  },
  "language_info": {
   "codemirror_mode": {
    "name": "ipython",
    "version": 3
   },
   "file_extension": ".py",
   "mimetype": "text/x-python",
   "name": "python",
   "nbconvert_exporter": "python",
   "pygments_lexer": "ipython3",
   "version": "3.7.6"
  }
 },
 "nbformat": 4,
 "nbformat_minor": 4
}
