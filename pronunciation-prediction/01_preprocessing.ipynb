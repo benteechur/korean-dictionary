{
 "cells": [
  {
   "cell_type": "code",
   "execution_count": 1,
   "metadata": {},
   "outputs": [],
   "source": [
    "import pandas as pd\n",
    "import numpy as np\n",
    "from jamotools import split_syllables, Vectorizationer, join_jamos, rules\n",
    "from unicodedata import normalize"
   ]
  },
  {
   "cell_type": "code",
   "execution_count": 2,
   "metadata": {},
   "outputs": [
    {
     "name": "stdout",
     "output_type": "stream",
     "text": [
      "10120\n"
     ]
    },
    {
     "data": {
      "text/html": [
       "<div>\n",
       "<style scoped>\n",
       "    .dataframe tbody tr th:only-of-type {\n",
       "        vertical-align: middle;\n",
       "    }\n",
       "\n",
       "    .dataframe tbody tr th {\n",
       "        vertical-align: top;\n",
       "    }\n",
       "\n",
       "    .dataframe thead th {\n",
       "        text-align: right;\n",
       "    }\n",
       "</style>\n",
       "<table border=\"1\" class=\"dataframe\">\n",
       "  <thead>\n",
       "    <tr style=\"text-align: right;\">\n",
       "      <th></th>\n",
       "      <th>spelling</th>\n",
       "      <th>pronunciation</th>\n",
       "    </tr>\n",
       "  </thead>\n",
       "  <tbody>\n",
       "    <tr>\n",
       "      <th>0</th>\n",
       "      <td>가게</td>\n",
       "      <td>가ː게</td>\n",
       "    </tr>\n",
       "    <tr>\n",
       "      <th>1</th>\n",
       "      <td>가격</td>\n",
       "      <td>가격</td>\n",
       "    </tr>\n",
       "    <tr>\n",
       "      <th>2</th>\n",
       "      <td>가구</td>\n",
       "      <td>가구</td>\n",
       "    </tr>\n",
       "    <tr>\n",
       "      <th>3</th>\n",
       "      <td>가까이</td>\n",
       "      <td>가까이</td>\n",
       "    </tr>\n",
       "    <tr>\n",
       "      <th>4</th>\n",
       "      <td>가깝다</td>\n",
       "      <td>가깝따</td>\n",
       "    </tr>\n",
       "  </tbody>\n",
       "</table>\n",
       "</div>"
      ],
      "text/plain": [
       "  spelling pronunciation\n",
       "0       가게           가ː게\n",
       "1       가격            가격\n",
       "2       가구            가구\n",
       "3      가까이           가까이\n",
       "4      가깝다           가깝따"
      ]
     },
     "execution_count": 2,
     "metadata": {},
     "output_type": "execute_result"
    }
   ],
   "source": [
    "data = pd.read_csv(\"korean_phonetic_spelling.csv\", sep=\"\\t\")\n",
    "print(len(data))\n",
    "data.head()"
   ]
  },
  {
   "cell_type": "code",
   "execution_count": 3,
   "metadata": {},
   "outputs": [],
   "source": [
    "# test jamotools"
   ]
  },
  {
   "cell_type": "code",
   "execution_count": 4,
   "metadata": {},
   "outputs": [
    {
     "data": {
      "text/plain": [
       "'가게'"
      ]
     },
     "execution_count": 4,
     "metadata": {},
     "output_type": "execute_result"
    }
   ],
   "source": [
    "store = data.iloc[0][\"spelling\"]\n",
    "store"
   ]
  },
  {
   "cell_type": "code",
   "execution_count": 5,
   "metadata": {},
   "outputs": [
    {
     "data": {
      "text/plain": [
       "'ㄱㅏㄱㅔ'"
      ]
     },
     "execution_count": 5,
     "metadata": {},
     "output_type": "execute_result"
    }
   ],
   "source": [
    "split_syllables(store)"
   ]
  },
  {
   "cell_type": "code",
   "execution_count": 6,
   "metadata": {},
   "outputs": [],
   "source": [
    "# test with string with punctuation"
   ]
  },
  {
   "cell_type": "code",
   "execution_count": 7,
   "metadata": {},
   "outputs": [
    {
     "data": {
      "text/plain": [
       "'가ː게'"
      ]
     },
     "execution_count": 7,
     "metadata": {},
     "output_type": "execute_result"
    }
   ],
   "source": [
    "store_pron = data.iloc[0][\"pronunciation\"]\n",
    "store_pron"
   ]
  },
  {
   "cell_type": "code",
   "execution_count": 8,
   "metadata": {},
   "outputs": [
    {
     "data": {
      "text/plain": [
       "'ㄱㅏːㄱㅔ'"
      ]
     },
     "execution_count": 8,
     "metadata": {},
     "output_type": "execute_result"
    }
   ],
   "source": [
    "split_syllables(store_pron)"
   ]
  },
  {
   "cell_type": "code",
   "execution_count": 9,
   "metadata": {},
   "outputs": [],
   "source": [
    "# add these representations to the DataFrame"
   ]
  },
  {
   "cell_type": "code",
   "execution_count": 10,
   "metadata": {},
   "outputs": [],
   "source": [
    "data[\"split_spelling\"] = data.spelling.apply(split_syllables)"
   ]
  },
  {
   "cell_type": "code",
   "execution_count": 11,
   "metadata": {},
   "outputs": [
    {
     "data": {
      "text/html": [
       "<div>\n",
       "<style scoped>\n",
       "    .dataframe tbody tr th:only-of-type {\n",
       "        vertical-align: middle;\n",
       "    }\n",
       "\n",
       "    .dataframe tbody tr th {\n",
       "        vertical-align: top;\n",
       "    }\n",
       "\n",
       "    .dataframe thead th {\n",
       "        text-align: right;\n",
       "    }\n",
       "</style>\n",
       "<table border=\"1\" class=\"dataframe\">\n",
       "  <thead>\n",
       "    <tr style=\"text-align: right;\">\n",
       "      <th></th>\n",
       "      <th>spelling</th>\n",
       "      <th>pronunciation</th>\n",
       "      <th>split_spelling</th>\n",
       "    </tr>\n",
       "  </thead>\n",
       "  <tbody>\n",
       "    <tr>\n",
       "      <th>0</th>\n",
       "      <td>가게</td>\n",
       "      <td>가ː게</td>\n",
       "      <td>ㄱㅏㄱㅔ</td>\n",
       "    </tr>\n",
       "    <tr>\n",
       "      <th>1</th>\n",
       "      <td>가격</td>\n",
       "      <td>가격</td>\n",
       "      <td>ㄱㅏㄱㅕㄱ</td>\n",
       "    </tr>\n",
       "    <tr>\n",
       "      <th>2</th>\n",
       "      <td>가구</td>\n",
       "      <td>가구</td>\n",
       "      <td>ㄱㅏㄱㅜ</td>\n",
       "    </tr>\n",
       "    <tr>\n",
       "      <th>3</th>\n",
       "      <td>가까이</td>\n",
       "      <td>가까이</td>\n",
       "      <td>ㄱㅏㄲㅏㅇㅣ</td>\n",
       "    </tr>\n",
       "    <tr>\n",
       "      <th>4</th>\n",
       "      <td>가깝다</td>\n",
       "      <td>가깝따</td>\n",
       "      <td>ㄱㅏㄲㅏㅂㄷㅏ</td>\n",
       "    </tr>\n",
       "  </tbody>\n",
       "</table>\n",
       "</div>"
      ],
      "text/plain": [
       "  spelling pronunciation split_spelling\n",
       "0       가게           가ː게           ㄱㅏㄱㅔ\n",
       "1       가격            가격          ㄱㅏㄱㅕㄱ\n",
       "2       가구            가구           ㄱㅏㄱㅜ\n",
       "3      가까이           가까이         ㄱㅏㄲㅏㅇㅣ\n",
       "4      가깝다           가깝따        ㄱㅏㄲㅏㅂㄷㅏ"
      ]
     },
     "execution_count": 11,
     "metadata": {},
     "output_type": "execute_result"
    }
   ],
   "source": [
    "data.head()"
   ]
  },
  {
   "cell_type": "code",
   "execution_count": 12,
   "metadata": {},
   "outputs": [],
   "source": [
    "data[\"split_pronunciation\"] = data.pronunciation.apply(split_syllables)"
   ]
  },
  {
   "cell_type": "code",
   "execution_count": 13,
   "metadata": {},
   "outputs": [
    {
     "data": {
      "text/html": [
       "<div>\n",
       "<style scoped>\n",
       "    .dataframe tbody tr th:only-of-type {\n",
       "        vertical-align: middle;\n",
       "    }\n",
       "\n",
       "    .dataframe tbody tr th {\n",
       "        vertical-align: top;\n",
       "    }\n",
       "\n",
       "    .dataframe thead th {\n",
       "        text-align: right;\n",
       "    }\n",
       "</style>\n",
       "<table border=\"1\" class=\"dataframe\">\n",
       "  <thead>\n",
       "    <tr style=\"text-align: right;\">\n",
       "      <th></th>\n",
       "      <th>spelling</th>\n",
       "      <th>pronunciation</th>\n",
       "      <th>split_spelling</th>\n",
       "      <th>split_pronunciation</th>\n",
       "    </tr>\n",
       "  </thead>\n",
       "  <tbody>\n",
       "    <tr>\n",
       "      <th>0</th>\n",
       "      <td>가게</td>\n",
       "      <td>가ː게</td>\n",
       "      <td>ㄱㅏㄱㅔ</td>\n",
       "      <td>ㄱㅏːㄱㅔ</td>\n",
       "    </tr>\n",
       "    <tr>\n",
       "      <th>1</th>\n",
       "      <td>가격</td>\n",
       "      <td>가격</td>\n",
       "      <td>ㄱㅏㄱㅕㄱ</td>\n",
       "      <td>ㄱㅏㄱㅕㄱ</td>\n",
       "    </tr>\n",
       "    <tr>\n",
       "      <th>2</th>\n",
       "      <td>가구</td>\n",
       "      <td>가구</td>\n",
       "      <td>ㄱㅏㄱㅜ</td>\n",
       "      <td>ㄱㅏㄱㅜ</td>\n",
       "    </tr>\n",
       "    <tr>\n",
       "      <th>3</th>\n",
       "      <td>가까이</td>\n",
       "      <td>가까이</td>\n",
       "      <td>ㄱㅏㄲㅏㅇㅣ</td>\n",
       "      <td>ㄱㅏㄲㅏㅇㅣ</td>\n",
       "    </tr>\n",
       "    <tr>\n",
       "      <th>4</th>\n",
       "      <td>가깝다</td>\n",
       "      <td>가깝따</td>\n",
       "      <td>ㄱㅏㄲㅏㅂㄷㅏ</td>\n",
       "      <td>ㄱㅏㄲㅏㅂㄸㅏ</td>\n",
       "    </tr>\n",
       "  </tbody>\n",
       "</table>\n",
       "</div>"
      ],
      "text/plain": [
       "  spelling pronunciation split_spelling split_pronunciation\n",
       "0       가게           가ː게           ㄱㅏㄱㅔ               ㄱㅏːㄱㅔ\n",
       "1       가격            가격          ㄱㅏㄱㅕㄱ               ㄱㅏㄱㅕㄱ\n",
       "2       가구            가구           ㄱㅏㄱㅜ                ㄱㅏㄱㅜ\n",
       "3      가까이           가까이         ㄱㅏㄲㅏㅇㅣ              ㄱㅏㄲㅏㅇㅣ\n",
       "4      가깝다           가깝따        ㄱㅏㄲㅏㅂㄷㅏ             ㄱㅏㄲㅏㅂㄸㅏ"
      ]
     },
     "execution_count": 13,
     "metadata": {},
     "output_type": "execute_result"
    }
   ],
   "source": [
    "data.head()"
   ]
  },
  {
   "cell_type": "code",
   "execution_count": 14,
   "metadata": {},
   "outputs": [],
   "source": [
    "# find the longest sequence for each column"
   ]
  },
  {
   "cell_type": "code",
   "execution_count": 15,
   "metadata": {},
   "outputs": [
    {
     "data": {
      "text/plain": [
       "16"
      ]
     },
     "execution_count": 15,
     "metadata": {},
     "output_type": "execute_result"
    }
   ],
   "source": [
    "data.split_spelling.str.len().max()"
   ]
  },
  {
   "cell_type": "code",
   "execution_count": 16,
   "metadata": {},
   "outputs": [
    {
     "data": {
      "text/plain": [
       "17"
      ]
     },
     "execution_count": 16,
     "metadata": {},
     "output_type": "execute_result"
    }
   ],
   "source": [
    "data.split_pronunciation.str.len().max()"
   ]
  },
  {
   "cell_type": "code",
   "execution_count": 17,
   "metadata": {},
   "outputs": [
    {
     "data": {
      "text/html": [
       "<div>\n",
       "<style scoped>\n",
       "    .dataframe tbody tr th:only-of-type {\n",
       "        vertical-align: middle;\n",
       "    }\n",
       "\n",
       "    .dataframe tbody tr th {\n",
       "        vertical-align: top;\n",
       "    }\n",
       "\n",
       "    .dataframe thead th {\n",
       "        text-align: right;\n",
       "    }\n",
       "</style>\n",
       "<table border=\"1\" class=\"dataframe\">\n",
       "  <thead>\n",
       "    <tr style=\"text-align: right;\">\n",
       "      <th></th>\n",
       "      <th>spelling</th>\n",
       "      <th>pronunciation</th>\n",
       "      <th>split_spelling</th>\n",
       "      <th>split_pronunciation</th>\n",
       "    </tr>\n",
       "  </thead>\n",
       "  <tbody>\n",
       "    <tr>\n",
       "      <th>3004</th>\n",
       "      <td>불만족스럽다</td>\n",
       "      <td>불만족쓰럽따</td>\n",
       "      <td>ㅂㅜㄹㅁㅏㄴㅈㅗㄱㅅㅡㄹㅓㅂㄷㅏ</td>\n",
       "      <td>ㅂㅜㄹㅁㅏㄴㅈㅗㄱㅆㅡㄹㅓㅂㄸㅏ</td>\n",
       "    </tr>\n",
       "    <tr>\n",
       "      <th>6087</th>\n",
       "      <td>들락날락하다</td>\n",
       "      <td>들랑날라카다</td>\n",
       "      <td>ㄷㅡㄹㄹㅏㄱㄴㅏㄹㄹㅏㄱㅎㅏㄷㅏ</td>\n",
       "      <td>ㄷㅡㄹㄹㅏㅇㄴㅏㄹㄹㅏㅋㅏㄷㅏ</td>\n",
       "    </tr>\n",
       "    <tr>\n",
       "      <th>6227</th>\n",
       "      <td>먹음직스럽다</td>\n",
       "      <td>머금직쓰럽따</td>\n",
       "      <td>ㅁㅓㄱㅇㅡㅁㅈㅣㄱㅅㅡㄹㅓㅂㄷㅏ</td>\n",
       "      <td>ㅁㅓㄱㅡㅁㅈㅣㄱㅆㅡㄹㅓㅂㄸㅏ</td>\n",
       "    </tr>\n",
       "    <tr>\n",
       "      <th>6402</th>\n",
       "      <td>믿음직스럽다</td>\n",
       "      <td>미듬직쓰럽따</td>\n",
       "      <td>ㅁㅣㄷㅇㅡㅁㅈㅣㄱㅅㅡㄹㅓㅂㄷㅏ</td>\n",
       "      <td>ㅁㅣㄷㅡㅁㅈㅣㄱㅆㅡㄹㅓㅂㄸㅏ</td>\n",
       "    </tr>\n",
       "    <tr>\n",
       "      <th>7659</th>\n",
       "      <td>울퉁불퉁하다</td>\n",
       "      <td>울퉁불퉁하다</td>\n",
       "      <td>ㅇㅜㄹㅌㅜㅇㅂㅜㄹㅌㅜㅇㅎㅏㄷㅏ</td>\n",
       "      <td>ㅇㅜㄹㅌㅜㅇㅂㅜㄹㅌㅜㅇㅎㅏㄷㅏ</td>\n",
       "    </tr>\n",
       "    <tr>\n",
       "      <th>8170</th>\n",
       "      <td>정정당당하다</td>\n",
       "      <td>정ː정당당하다</td>\n",
       "      <td>ㅈㅓㅇㅈㅓㅇㄷㅏㅇㄷㅏㅇㅎㅏㄷㅏ</td>\n",
       "      <td>ㅈㅓㅇːㅈㅓㅇㄷㅏㅇㄷㅏㅇㅎㅏㄷㅏ</td>\n",
       "    </tr>\n",
       "  </tbody>\n",
       "</table>\n",
       "</div>"
      ],
      "text/plain": [
       "     spelling pronunciation    split_spelling split_pronunciation\n",
       "3004   불만족스럽다        불만족쓰럽따  ㅂㅜㄹㅁㅏㄴㅈㅗㄱㅅㅡㄹㅓㅂㄷㅏ    ㅂㅜㄹㅁㅏㄴㅈㅗㄱㅆㅡㄹㅓㅂㄸㅏ\n",
       "6087   들락날락하다        들랑날라카다  ㄷㅡㄹㄹㅏㄱㄴㅏㄹㄹㅏㄱㅎㅏㄷㅏ     ㄷㅡㄹㄹㅏㅇㄴㅏㄹㄹㅏㅋㅏㄷㅏ\n",
       "6227   먹음직스럽다        머금직쓰럽따  ㅁㅓㄱㅇㅡㅁㅈㅣㄱㅅㅡㄹㅓㅂㄷㅏ     ㅁㅓㄱㅡㅁㅈㅣㄱㅆㅡㄹㅓㅂㄸㅏ\n",
       "6402   믿음직스럽다        미듬직쓰럽따  ㅁㅣㄷㅇㅡㅁㅈㅣㄱㅅㅡㄹㅓㅂㄷㅏ     ㅁㅣㄷㅡㅁㅈㅣㄱㅆㅡㄹㅓㅂㄸㅏ\n",
       "7659   울퉁불퉁하다        울퉁불퉁하다  ㅇㅜㄹㅌㅜㅇㅂㅜㄹㅌㅜㅇㅎㅏㄷㅏ    ㅇㅜㄹㅌㅜㅇㅂㅜㄹㅌㅜㅇㅎㅏㄷㅏ\n",
       "8170   정정당당하다       정ː정당당하다  ㅈㅓㅇㅈㅓㅇㄷㅏㅇㄷㅏㅇㅎㅏㄷㅏ   ㅈㅓㅇːㅈㅓㅇㄷㅏㅇㄷㅏㅇㅎㅏㄷㅏ"
      ]
     },
     "execution_count": 17,
     "metadata": {},
     "output_type": "execute_result"
    }
   ],
   "source": [
    "data[data.split_spelling.str.len() == 16]"
   ]
  },
  {
   "cell_type": "code",
   "execution_count": 18,
   "metadata": {},
   "outputs": [
    {
     "data": {
      "text/html": [
       "<div>\n",
       "<style scoped>\n",
       "    .dataframe tbody tr th:only-of-type {\n",
       "        vertical-align: middle;\n",
       "    }\n",
       "\n",
       "    .dataframe tbody tr th {\n",
       "        vertical-align: top;\n",
       "    }\n",
       "\n",
       "    .dataframe thead th {\n",
       "        text-align: right;\n",
       "    }\n",
       "</style>\n",
       "<table border=\"1\" class=\"dataframe\">\n",
       "  <thead>\n",
       "    <tr style=\"text-align: right;\">\n",
       "      <th></th>\n",
       "      <th>spelling</th>\n",
       "      <th>pronunciation</th>\n",
       "      <th>split_spelling</th>\n",
       "      <th>split_pronunciation</th>\n",
       "    </tr>\n",
       "  </thead>\n",
       "  <tbody>\n",
       "    <tr>\n",
       "      <th>8170</th>\n",
       "      <td>정정당당하다</td>\n",
       "      <td>정ː정당당하다</td>\n",
       "      <td>ㅈㅓㅇㅈㅓㅇㄷㅏㅇㄷㅏㅇㅎㅏㄷㅏ</td>\n",
       "      <td>ㅈㅓㅇːㅈㅓㅇㄷㅏㅇㄷㅏㅇㅎㅏㄷㅏ</td>\n",
       "    </tr>\n",
       "  </tbody>\n",
       "</table>\n",
       "</div>"
      ],
      "text/plain": [
       "     spelling pronunciation    split_spelling split_pronunciation\n",
       "8170   정정당당하다       정ː정당당하다  ㅈㅓㅇㅈㅓㅇㄷㅏㅇㄷㅏㅇㅎㅏㄷㅏ   ㅈㅓㅇːㅈㅓㅇㄷㅏㅇㄷㅏㅇㅎㅏㄷㅏ"
      ]
     },
     "execution_count": 18,
     "metadata": {},
     "output_type": "execute_result"
    }
   ],
   "source": [
    "data[data.split_pronunciation.str.len() == 17]"
   ]
  },
  {
   "cell_type": "code",
   "execution_count": 19,
   "metadata": {},
   "outputs": [],
   "source": [
    "# test Vectorizationer"
   ]
  },
  {
   "cell_type": "code",
   "execution_count": 20,
   "metadata": {},
   "outputs": [],
   "source": [
    "vec = Vectorizationer(rule=rules.RULE_1, max_length=None)"
   ]
  },
  {
   "cell_type": "code",
   "execution_count": 21,
   "metadata": {},
   "outputs": [
    {
     "data": {
      "text/plain": [
       "array([ 2, 21,  2, 26], dtype=uint8)"
      ]
     },
     "execution_count": 21,
     "metadata": {},
     "output_type": "execute_result"
    }
   ],
   "source": [
    "vec.vectorize(store)"
   ]
  },
  {
   "cell_type": "code",
   "execution_count": 22,
   "metadata": {},
   "outputs": [
    {
     "data": {
      "text/plain": [
       "array([ 2, 21,  1,  2, 26], dtype=uint8)"
      ]
     },
     "execution_count": 22,
     "metadata": {},
     "output_type": "execute_result"
    }
   ],
   "source": [
    "vec.vectorize(store_pron)"
   ]
  },
  {
   "cell_type": "code",
   "execution_count": 23,
   "metadata": {},
   "outputs": [],
   "source": [
    "# check out how punctuation and whitespace is handled"
   ]
  },
  {
   "cell_type": "code",
   "execution_count": 24,
   "metadata": {},
   "outputs": [
    {
     "data": {
      "text/plain": [
       "array([105, 106, 107, 108, 109, 110, 111, 112, 113, 114, 115], dtype=uint8)"
      ]
     },
     "execution_count": 24,
     "metadata": {},
     "output_type": "execute_result"
    }
   ],
   "source": [
    "vec.vectorize(' .,/()\"*:-%')"
   ]
  },
  {
   "cell_type": "code",
   "execution_count": 25,
   "metadata": {},
   "outputs": [
    {
     "data": {
      "text/plain": [
       "array([1], dtype=uint8)"
      ]
     },
     "execution_count": 25,
     "metadata": {},
     "output_type": "execute_result"
    }
   ],
   "source": [
    "vec.vectorize(\"ː\")"
   ]
  },
  {
   "cell_type": "code",
   "execution_count": 26,
   "metadata": {},
   "outputs": [],
   "source": [
    "# vectorizer appears to work, so perhaps I can use this instead of split_syllables()"
   ]
  },
  {
   "cell_type": "code",
   "execution_count": 27,
   "metadata": {},
   "outputs": [],
   "source": [
    "data[\"vec_spelling\"] = data.spelling.apply(vec.vectorize)"
   ]
  },
  {
   "cell_type": "code",
   "execution_count": 28,
   "metadata": {},
   "outputs": [],
   "source": [
    "data[\"vec_pronunciation\"] = data.pronunciation.apply(vec.vectorize)"
   ]
  },
  {
   "cell_type": "code",
   "execution_count": 29,
   "metadata": {},
   "outputs": [
    {
     "data": {
      "text/html": [
       "<div>\n",
       "<style scoped>\n",
       "    .dataframe tbody tr th:only-of-type {\n",
       "        vertical-align: middle;\n",
       "    }\n",
       "\n",
       "    .dataframe tbody tr th {\n",
       "        vertical-align: top;\n",
       "    }\n",
       "\n",
       "    .dataframe thead th {\n",
       "        text-align: right;\n",
       "    }\n",
       "</style>\n",
       "<table border=\"1\" class=\"dataframe\">\n",
       "  <thead>\n",
       "    <tr style=\"text-align: right;\">\n",
       "      <th></th>\n",
       "      <th>spelling</th>\n",
       "      <th>pronunciation</th>\n",
       "      <th>split_spelling</th>\n",
       "      <th>split_pronunciation</th>\n",
       "      <th>vec_spelling</th>\n",
       "      <th>vec_pronunciation</th>\n",
       "    </tr>\n",
       "  </thead>\n",
       "  <tbody>\n",
       "    <tr>\n",
       "      <th>0</th>\n",
       "      <td>가게</td>\n",
       "      <td>가ː게</td>\n",
       "      <td>ㄱㅏㄱㅔ</td>\n",
       "      <td>ㄱㅏːㄱㅔ</td>\n",
       "      <td>[2, 21, 2, 26]</td>\n",
       "      <td>[2, 21, 1, 2, 26]</td>\n",
       "    </tr>\n",
       "    <tr>\n",
       "      <th>1</th>\n",
       "      <td>가격</td>\n",
       "      <td>가격</td>\n",
       "      <td>ㄱㅏㄱㅕㄱ</td>\n",
       "      <td>ㄱㅏㄱㅕㄱ</td>\n",
       "      <td>[2, 21, 2, 27, 42]</td>\n",
       "      <td>[2, 21, 2, 27, 42]</td>\n",
       "    </tr>\n",
       "    <tr>\n",
       "      <th>2</th>\n",
       "      <td>가구</td>\n",
       "      <td>가구</td>\n",
       "      <td>ㄱㅏㄱㅜ</td>\n",
       "      <td>ㄱㅏㄱㅜ</td>\n",
       "      <td>[2, 21, 2, 34]</td>\n",
       "      <td>[2, 21, 2, 34]</td>\n",
       "    </tr>\n",
       "    <tr>\n",
       "      <th>3</th>\n",
       "      <td>가까이</td>\n",
       "      <td>가까이</td>\n",
       "      <td>ㄱㅏㄲㅏㅇㅣ</td>\n",
       "      <td>ㄱㅏㄲㅏㅇㅣ</td>\n",
       "      <td>[2, 21, 3, 21, 13, 41]</td>\n",
       "      <td>[2, 21, 3, 21, 13, 41]</td>\n",
       "    </tr>\n",
       "    <tr>\n",
       "      <th>4</th>\n",
       "      <td>가깝다</td>\n",
       "      <td>가깝따</td>\n",
       "      <td>ㄱㅏㄲㅏㅂㄷㅏ</td>\n",
       "      <td>ㄱㅏㄲㅏㅂㄸㅏ</td>\n",
       "      <td>[2, 21, 3, 21, 58, 5, 21]</td>\n",
       "      <td>[2, 21, 3, 21, 58, 6, 21]</td>\n",
       "    </tr>\n",
       "  </tbody>\n",
       "</table>\n",
       "</div>"
      ],
      "text/plain": [
       "  spelling pronunciation split_spelling split_pronunciation  \\\n",
       "0       가게           가ː게           ㄱㅏㄱㅔ               ㄱㅏːㄱㅔ   \n",
       "1       가격            가격          ㄱㅏㄱㅕㄱ               ㄱㅏㄱㅕㄱ   \n",
       "2       가구            가구           ㄱㅏㄱㅜ                ㄱㅏㄱㅜ   \n",
       "3      가까이           가까이         ㄱㅏㄲㅏㅇㅣ              ㄱㅏㄲㅏㅇㅣ   \n",
       "4      가깝다           가깝따        ㄱㅏㄲㅏㅂㄷㅏ             ㄱㅏㄲㅏㅂㄸㅏ   \n",
       "\n",
       "                vec_spelling          vec_pronunciation  \n",
       "0             [2, 21, 2, 26]          [2, 21, 1, 2, 26]  \n",
       "1         [2, 21, 2, 27, 42]         [2, 21, 2, 27, 42]  \n",
       "2             [2, 21, 2, 34]             [2, 21, 2, 34]  \n",
       "3     [2, 21, 3, 21, 13, 41]     [2, 21, 3, 21, 13, 41]  \n",
       "4  [2, 21, 3, 21, 58, 5, 21]  [2, 21, 3, 21, 58, 6, 21]  "
      ]
     },
     "execution_count": 29,
     "metadata": {},
     "output_type": "execute_result"
    }
   ],
   "source": [
    "data.head()"
   ]
  },
  {
   "cell_type": "code",
   "execution_count": 30,
   "metadata": {},
   "outputs": [],
   "source": [
    "# and while there appears to be no way to convert a vector back to text, split_syllables() just produces a string\n",
    "# which join_jamos() is able to reconstruct so I can probably just reverse the symbol_map contained in a Vectorizer\n",
    "# object"
   ]
  },
  {
   "cell_type": "code",
   "execution_count": 31,
   "metadata": {},
   "outputs": [
    {
     "data": {
      "text/plain": [
       "'가게'"
      ]
     },
     "execution_count": 31,
     "metadata": {},
     "output_type": "execute_result"
    }
   ],
   "source": [
    "store"
   ]
  },
  {
   "cell_type": "code",
   "execution_count": 32,
   "metadata": {},
   "outputs": [
    {
     "data": {
      "text/plain": [
       "'ㄱㅏㄱㅔ'"
      ]
     },
     "execution_count": 32,
     "metadata": {},
     "output_type": "execute_result"
    }
   ],
   "source": [
    "split = split_syllables(store)\n",
    "split"
   ]
  },
  {
   "cell_type": "code",
   "execution_count": 33,
   "metadata": {},
   "outputs": [
    {
     "data": {
      "text/plain": [
       "str"
      ]
     },
     "execution_count": 33,
     "metadata": {},
     "output_type": "execute_result"
    }
   ],
   "source": [
    "type(split)"
   ]
  },
  {
   "cell_type": "code",
   "execution_count": 34,
   "metadata": {},
   "outputs": [
    {
     "data": {
      "text/plain": [
       "'가게'"
      ]
     },
     "execution_count": 34,
     "metadata": {},
     "output_type": "execute_result"
    }
   ],
   "source": [
    "join_jamos(split)"
   ]
  },
  {
   "cell_type": "code",
   "execution_count": 35,
   "metadata": {},
   "outputs": [
    {
     "data": {
      "text/plain": [
       "['__class__',\n",
       " '__delattr__',\n",
       " '__dict__',\n",
       " '__dir__',\n",
       " '__doc__',\n",
       " '__eq__',\n",
       " '__format__',\n",
       " '__ge__',\n",
       " '__getattribute__',\n",
       " '__gt__',\n",
       " '__hash__',\n",
       " '__init__',\n",
       " '__init_subclass__',\n",
       " '__le__',\n",
       " '__lt__',\n",
       " '__module__',\n",
       " '__ne__',\n",
       " '__new__',\n",
       " '__reduce__',\n",
       " '__reduce_ex__',\n",
       " '__repr__',\n",
       " '__setattr__',\n",
       " '__sizeof__',\n",
       " '__str__',\n",
       " '__subclasshook__',\n",
       " '__weakref__',\n",
       " '_max_length',\n",
       " '_pad_index',\n",
       " '_prefix_padding_size',\n",
       " '_rule',\n",
       " '_symbol_map',\n",
       " '_symbols',\n",
       " 'max_length',\n",
       " 'pad_index',\n",
       " 'symbol_map',\n",
       " 'symbols',\n",
       " 'vectorize']"
      ]
     },
     "execution_count": 35,
     "metadata": {},
     "output_type": "execute_result"
    }
   ],
   "source": [
    "dir(vec)"
   ]
  },
  {
   "cell_type": "code",
   "execution_count": 36,
   "metadata": {},
   "outputs": [
    {
     "data": {
      "text/plain": [
       "{'<PAD>': 0,\n",
       " '<UNK>': 1,\n",
       " 'ᄀ': 2,\n",
       " 'ᄁ': 3,\n",
       " 'ᄂ': 4,\n",
       " 'ᄃ': 5,\n",
       " 'ᄄ': 6,\n",
       " 'ᄅ': 7,\n",
       " 'ᄆ': 8,\n",
       " 'ᄇ': 9,\n",
       " 'ᄈ': 10,\n",
       " 'ᄉ': 11,\n",
       " 'ᄊ': 12,\n",
       " 'ᄋ': 13,\n",
       " 'ᄌ': 14,\n",
       " 'ᄍ': 15,\n",
       " 'ᄎ': 16,\n",
       " 'ᄏ': 17,\n",
       " 'ᄐ': 18,\n",
       " 'ᄑ': 19,\n",
       " 'ᄒ': 20,\n",
       " 'ᅡ': 21,\n",
       " 'ᅢ': 22,\n",
       " 'ᅣ': 23,\n",
       " 'ᅤ': 24,\n",
       " 'ᅥ': 25,\n",
       " 'ᅦ': 26,\n",
       " 'ᅧ': 27,\n",
       " 'ᅨ': 28,\n",
       " 'ᅩ': 29,\n",
       " 'ᅪ': 30,\n",
       " 'ᅫ': 31,\n",
       " 'ᅬ': 32,\n",
       " 'ᅭ': 33,\n",
       " 'ᅮ': 34,\n",
       " 'ᅯ': 35,\n",
       " 'ᅰ': 36,\n",
       " 'ᅱ': 37,\n",
       " 'ᅲ': 38,\n",
       " 'ᅳ': 39,\n",
       " 'ᅴ': 40,\n",
       " 'ᅵ': 41,\n",
       " 'ᆨ': 42,\n",
       " 'ᆩ': 43,\n",
       " 'ᆪ': 44,\n",
       " 'ᆫ': 45,\n",
       " 'ᆬ': 46,\n",
       " 'ᆭ': 47,\n",
       " 'ᆮ': 48,\n",
       " 'ᆯ': 49,\n",
       " 'ᆰ': 50,\n",
       " 'ᆱ': 51,\n",
       " 'ᆲ': 52,\n",
       " 'ᆳ': 53,\n",
       " 'ᆴ': 54,\n",
       " 'ᆵ': 55,\n",
       " 'ᆶ': 56,\n",
       " 'ᆷ': 57,\n",
       " 'ᆸ': 58,\n",
       " 'ᆹ': 59,\n",
       " 'ᆺ': 60,\n",
       " 'ᆻ': 61,\n",
       " 'ᆼ': 62,\n",
       " 'ᆽ': 63,\n",
       " 'ᆾ': 64,\n",
       " 'ᆿ': 65,\n",
       " 'ᇀ': 66,\n",
       " 'ᇁ': 67,\n",
       " 'ᇂ': 68,\n",
       " 'a': 69,\n",
       " 'b': 70,\n",
       " 'c': 71,\n",
       " 'd': 72,\n",
       " 'e': 73,\n",
       " 'f': 74,\n",
       " 'g': 75,\n",
       " 'h': 76,\n",
       " 'i': 77,\n",
       " 'j': 78,\n",
       " 'k': 79,\n",
       " 'l': 80,\n",
       " 'm': 81,\n",
       " 'n': 82,\n",
       " 'o': 83,\n",
       " 'p': 84,\n",
       " 'q': 85,\n",
       " 'r': 86,\n",
       " 's': 87,\n",
       " 't': 88,\n",
       " 'u': 89,\n",
       " 'v': 90,\n",
       " 'w': 91,\n",
       " 'x': 92,\n",
       " 'y': 93,\n",
       " 'z': 94,\n",
       " '0': 95,\n",
       " '1': 96,\n",
       " '2': 97,\n",
       " '3': 98,\n",
       " '4': 99,\n",
       " '5': 100,\n",
       " '6': 101,\n",
       " '7': 102,\n",
       " '8': 103,\n",
       " '9': 104,\n",
       " ' ': 105,\n",
       " '.': 106,\n",
       " ',': 107,\n",
       " '/': 108,\n",
       " '(': 109,\n",
       " ')': 110,\n",
       " '\"': 111,\n",
       " '*': 112,\n",
       " ':': 113,\n",
       " '-': 114,\n",
       " '%': 115}"
      ]
     },
     "execution_count": 36,
     "metadata": {},
     "output_type": "execute_result"
    }
   ],
   "source": [
    "vec.symbol_map"
   ]
  },
  {
   "cell_type": "code",
   "execution_count": 37,
   "metadata": {},
   "outputs": [],
   "source": [
    "decoder = {v: k for k, v in vec.symbol_map.items()}"
   ]
  },
  {
   "cell_type": "code",
   "execution_count": 38,
   "metadata": {},
   "outputs": [
    {
     "data": {
      "text/plain": [
       "{0: '<PAD>',\n",
       " 1: '<UNK>',\n",
       " 2: 'ᄀ',\n",
       " 3: 'ᄁ',\n",
       " 4: 'ᄂ',\n",
       " 5: 'ᄃ',\n",
       " 6: 'ᄄ',\n",
       " 7: 'ᄅ',\n",
       " 8: 'ᄆ',\n",
       " 9: 'ᄇ',\n",
       " 10: 'ᄈ',\n",
       " 11: 'ᄉ',\n",
       " 12: 'ᄊ',\n",
       " 13: 'ᄋ',\n",
       " 14: 'ᄌ',\n",
       " 15: 'ᄍ',\n",
       " 16: 'ᄎ',\n",
       " 17: 'ᄏ',\n",
       " 18: 'ᄐ',\n",
       " 19: 'ᄑ',\n",
       " 20: 'ᄒ',\n",
       " 21: 'ᅡ',\n",
       " 22: 'ᅢ',\n",
       " 23: 'ᅣ',\n",
       " 24: 'ᅤ',\n",
       " 25: 'ᅥ',\n",
       " 26: 'ᅦ',\n",
       " 27: 'ᅧ',\n",
       " 28: 'ᅨ',\n",
       " 29: 'ᅩ',\n",
       " 30: 'ᅪ',\n",
       " 31: 'ᅫ',\n",
       " 32: 'ᅬ',\n",
       " 33: 'ᅭ',\n",
       " 34: 'ᅮ',\n",
       " 35: 'ᅯ',\n",
       " 36: 'ᅰ',\n",
       " 37: 'ᅱ',\n",
       " 38: 'ᅲ',\n",
       " 39: 'ᅳ',\n",
       " 40: 'ᅴ',\n",
       " 41: 'ᅵ',\n",
       " 42: 'ᆨ',\n",
       " 43: 'ᆩ',\n",
       " 44: 'ᆪ',\n",
       " 45: 'ᆫ',\n",
       " 46: 'ᆬ',\n",
       " 47: 'ᆭ',\n",
       " 48: 'ᆮ',\n",
       " 49: 'ᆯ',\n",
       " 50: 'ᆰ',\n",
       " 51: 'ᆱ',\n",
       " 52: 'ᆲ',\n",
       " 53: 'ᆳ',\n",
       " 54: 'ᆴ',\n",
       " 55: 'ᆵ',\n",
       " 56: 'ᆶ',\n",
       " 57: 'ᆷ',\n",
       " 58: 'ᆸ',\n",
       " 59: 'ᆹ',\n",
       " 60: 'ᆺ',\n",
       " 61: 'ᆻ',\n",
       " 62: 'ᆼ',\n",
       " 63: 'ᆽ',\n",
       " 64: 'ᆾ',\n",
       " 65: 'ᆿ',\n",
       " 66: 'ᇀ',\n",
       " 67: 'ᇁ',\n",
       " 68: 'ᇂ',\n",
       " 69: 'a',\n",
       " 70: 'b',\n",
       " 71: 'c',\n",
       " 72: 'd',\n",
       " 73: 'e',\n",
       " 74: 'f',\n",
       " 75: 'g',\n",
       " 76: 'h',\n",
       " 77: 'i',\n",
       " 78: 'j',\n",
       " 79: 'k',\n",
       " 80: 'l',\n",
       " 81: 'm',\n",
       " 82: 'n',\n",
       " 83: 'o',\n",
       " 84: 'p',\n",
       " 85: 'q',\n",
       " 86: 'r',\n",
       " 87: 's',\n",
       " 88: 't',\n",
       " 89: 'u',\n",
       " 90: 'v',\n",
       " 91: 'w',\n",
       " 92: 'x',\n",
       " 93: 'y',\n",
       " 94: 'z',\n",
       " 95: '0',\n",
       " 96: '1',\n",
       " 97: '2',\n",
       " 98: '3',\n",
       " 99: '4',\n",
       " 100: '5',\n",
       " 101: '6',\n",
       " 102: '7',\n",
       " 103: '8',\n",
       " 104: '9',\n",
       " 105: ' ',\n",
       " 106: '.',\n",
       " 107: ',',\n",
       " 108: '/',\n",
       " 109: '(',\n",
       " 110: ')',\n",
       " 111: '\"',\n",
       " 112: '*',\n",
       " 113: ':',\n",
       " 114: '-',\n",
       " 115: '%'}"
      ]
     },
     "execution_count": 38,
     "metadata": {},
     "output_type": "execute_result"
    }
   ],
   "source": [
    "decoder"
   ]
  },
  {
   "cell_type": "code",
   "execution_count": 39,
   "metadata": {},
   "outputs": [],
   "source": [
    "def unvectorize(vector):\n",
    "    temp = [decoder[num] for num in vector]\n",
    "    return \"\".join(temp)"
   ]
  },
  {
   "cell_type": "code",
   "execution_count": 40,
   "metadata": {},
   "outputs": [
    {
     "data": {
      "text/plain": [
       "array([ 2, 21,  2, 26], dtype=uint8)"
      ]
     },
     "execution_count": 40,
     "metadata": {},
     "output_type": "execute_result"
    }
   ],
   "source": [
    "test_vec = vec.vectorize(store)\n",
    "test_vec"
   ]
  },
  {
   "cell_type": "code",
   "execution_count": 41,
   "metadata": {},
   "outputs": [
    {
     "data": {
      "text/plain": [
       "'가게'"
      ]
     },
     "execution_count": 41,
     "metadata": {},
     "output_type": "execute_result"
    }
   ],
   "source": [
    "unvectorize(test_vec)"
   ]
  },
  {
   "cell_type": "code",
   "execution_count": 42,
   "metadata": {},
   "outputs": [],
   "source": [
    "# test on the DataFrame"
   ]
  },
  {
   "cell_type": "code",
   "execution_count": 43,
   "metadata": {},
   "outputs": [],
   "source": [
    "data[\"unvec_spelling\"] = data.vec_spelling.apply(unvectorize)"
   ]
  },
  {
   "cell_type": "code",
   "execution_count": 44,
   "metadata": {},
   "outputs": [],
   "source": [
    "data[\"unvec_pronunciation\"] = data.vec_pronunciation.apply(unvectorize)"
   ]
  },
  {
   "cell_type": "code",
   "execution_count": 45,
   "metadata": {},
   "outputs": [
    {
     "data": {
      "text/html": [
       "<div>\n",
       "<style scoped>\n",
       "    .dataframe tbody tr th:only-of-type {\n",
       "        vertical-align: middle;\n",
       "    }\n",
       "\n",
       "    .dataframe tbody tr th {\n",
       "        vertical-align: top;\n",
       "    }\n",
       "\n",
       "    .dataframe thead th {\n",
       "        text-align: right;\n",
       "    }\n",
       "</style>\n",
       "<table border=\"1\" class=\"dataframe\">\n",
       "  <thead>\n",
       "    <tr style=\"text-align: right;\">\n",
       "      <th></th>\n",
       "      <th>spelling</th>\n",
       "      <th>pronunciation</th>\n",
       "      <th>split_spelling</th>\n",
       "      <th>split_pronunciation</th>\n",
       "      <th>vec_spelling</th>\n",
       "      <th>vec_pronunciation</th>\n",
       "      <th>unvec_spelling</th>\n",
       "      <th>unvec_pronunciation</th>\n",
       "    </tr>\n",
       "  </thead>\n",
       "  <tbody>\n",
       "    <tr>\n",
       "      <th>0</th>\n",
       "      <td>가게</td>\n",
       "      <td>가ː게</td>\n",
       "      <td>ㄱㅏㄱㅔ</td>\n",
       "      <td>ㄱㅏːㄱㅔ</td>\n",
       "      <td>[2, 21, 2, 26]</td>\n",
       "      <td>[2, 21, 1, 2, 26]</td>\n",
       "      <td>가게</td>\n",
       "      <td>가&lt;UNK&gt;게</td>\n",
       "    </tr>\n",
       "    <tr>\n",
       "      <th>1</th>\n",
       "      <td>가격</td>\n",
       "      <td>가격</td>\n",
       "      <td>ㄱㅏㄱㅕㄱ</td>\n",
       "      <td>ㄱㅏㄱㅕㄱ</td>\n",
       "      <td>[2, 21, 2, 27, 42]</td>\n",
       "      <td>[2, 21, 2, 27, 42]</td>\n",
       "      <td>가격</td>\n",
       "      <td>가격</td>\n",
       "    </tr>\n",
       "    <tr>\n",
       "      <th>2</th>\n",
       "      <td>가구</td>\n",
       "      <td>가구</td>\n",
       "      <td>ㄱㅏㄱㅜ</td>\n",
       "      <td>ㄱㅏㄱㅜ</td>\n",
       "      <td>[2, 21, 2, 34]</td>\n",
       "      <td>[2, 21, 2, 34]</td>\n",
       "      <td>가구</td>\n",
       "      <td>가구</td>\n",
       "    </tr>\n",
       "    <tr>\n",
       "      <th>3</th>\n",
       "      <td>가까이</td>\n",
       "      <td>가까이</td>\n",
       "      <td>ㄱㅏㄲㅏㅇㅣ</td>\n",
       "      <td>ㄱㅏㄲㅏㅇㅣ</td>\n",
       "      <td>[2, 21, 3, 21, 13, 41]</td>\n",
       "      <td>[2, 21, 3, 21, 13, 41]</td>\n",
       "      <td>가까이</td>\n",
       "      <td>가까이</td>\n",
       "    </tr>\n",
       "    <tr>\n",
       "      <th>4</th>\n",
       "      <td>가깝다</td>\n",
       "      <td>가깝따</td>\n",
       "      <td>ㄱㅏㄲㅏㅂㄷㅏ</td>\n",
       "      <td>ㄱㅏㄲㅏㅂㄸㅏ</td>\n",
       "      <td>[2, 21, 3, 21, 58, 5, 21]</td>\n",
       "      <td>[2, 21, 3, 21, 58, 6, 21]</td>\n",
       "      <td>가깝다</td>\n",
       "      <td>가깝따</td>\n",
       "    </tr>\n",
       "  </tbody>\n",
       "</table>\n",
       "</div>"
      ],
      "text/plain": [
       "  spelling pronunciation split_spelling split_pronunciation  \\\n",
       "0       가게           가ː게           ㄱㅏㄱㅔ               ㄱㅏːㄱㅔ   \n",
       "1       가격            가격          ㄱㅏㄱㅕㄱ               ㄱㅏㄱㅕㄱ   \n",
       "2       가구            가구           ㄱㅏㄱㅜ                ㄱㅏㄱㅜ   \n",
       "3      가까이           가까이         ㄱㅏㄲㅏㅇㅣ              ㄱㅏㄲㅏㅇㅣ   \n",
       "4      가깝다           가깝따        ㄱㅏㄲㅏㅂㄷㅏ             ㄱㅏㄲㅏㅂㄸㅏ   \n",
       "\n",
       "                vec_spelling          vec_pronunciation unvec_spelling  \\\n",
       "0             [2, 21, 2, 26]          [2, 21, 1, 2, 26]           가게   \n",
       "1         [2, 21, 2, 27, 42]         [2, 21, 2, 27, 42]          가격   \n",
       "2             [2, 21, 2, 34]             [2, 21, 2, 34]           가구   \n",
       "3     [2, 21, 3, 21, 13, 41]     [2, 21, 3, 21, 13, 41]         가까이   \n",
       "4  [2, 21, 3, 21, 58, 5, 21]  [2, 21, 3, 21, 58, 6, 21]        가깝다   \n",
       "\n",
       "  unvec_pronunciation  \n",
       "0           가<UNK>게  \n",
       "1               가격  \n",
       "2                가구  \n",
       "3              가까이  \n",
       "4             가깝따  "
      ]
     },
     "execution_count": 45,
     "metadata": {},
     "output_type": "execute_result"
    }
   ],
   "source": [
    "data.head()"
   ]
  },
  {
   "cell_type": "code",
   "execution_count": 46,
   "metadata": {},
   "outputs": [
    {
     "data": {
      "text/plain": [
       "10120"
      ]
     },
     "execution_count": 46,
     "metadata": {},
     "output_type": "execute_result"
    }
   ],
   "source": [
    "len(data[data.spelling != data.unvec_spelling])"
   ]
  },
  {
   "cell_type": "code",
   "execution_count": 47,
   "metadata": {},
   "outputs": [],
   "source": [
    "# columns don't appear to match for any of the rows despite visual equality"
   ]
  },
  {
   "cell_type": "code",
   "execution_count": 48,
   "metadata": {},
   "outputs": [
    {
     "data": {
      "text/plain": [
       "'가게'"
      ]
     },
     "execution_count": 48,
     "metadata": {},
     "output_type": "execute_result"
    }
   ],
   "source": [
    "data.iloc[0].spelling"
   ]
  },
  {
   "cell_type": "code",
   "execution_count": 49,
   "metadata": {},
   "outputs": [
    {
     "data": {
      "text/plain": [
       "'가게'"
      ]
     },
     "execution_count": 49,
     "metadata": {},
     "output_type": "execute_result"
    }
   ],
   "source": [
    "data.iloc[0].unvec_spelling"
   ]
  },
  {
   "cell_type": "code",
   "execution_count": 50,
   "metadata": {},
   "outputs": [
    {
     "data": {
      "text/plain": [
       "False"
      ]
     },
     "execution_count": 50,
     "metadata": {},
     "output_type": "execute_result"
    }
   ],
   "source": [
    "data.iloc[0].spelling == data.iloc[0].unvec_spelling"
   ]
  },
  {
   "cell_type": "code",
   "execution_count": 51,
   "metadata": {},
   "outputs": [],
   "source": [
    "# there appear to be different unicode representations as these words are exactly the same"
   ]
  },
  {
   "cell_type": "code",
   "execution_count": 52,
   "metadata": {},
   "outputs": [
    {
     "data": {
      "text/plain": [
       "False"
      ]
     },
     "execution_count": 52,
     "metadata": {},
     "output_type": "execute_result"
    }
   ],
   "source": [
    "\"가게\" == \"가게\""
   ]
  },
  {
   "cell_type": "code",
   "execution_count": 53,
   "metadata": {},
   "outputs": [],
   "source": [
    "# confirm this via ord() which returns an integer representing the unicode code point"
   ]
  },
  {
   "cell_type": "code",
   "execution_count": 54,
   "metadata": {},
   "outputs": [
    {
     "data": {
      "text/plain": [
       "[44032, 44172]"
      ]
     },
     "execution_count": 54,
     "metadata": {},
     "output_type": "execute_result"
    }
   ],
   "source": [
    "[ord(x) for x in data.iloc[0].spelling]"
   ]
  },
  {
   "cell_type": "code",
   "execution_count": 55,
   "metadata": {},
   "outputs": [
    {
     "data": {
      "text/plain": [
       "[4352, 4449, 4352, 4454]"
      ]
     },
     "execution_count": 55,
     "metadata": {},
     "output_type": "execute_result"
    }
   ],
   "source": [
    "[ord(x) for x in data.iloc[0].unvec_spelling]"
   ]
  },
  {
   "cell_type": "code",
   "execution_count": 56,
   "metadata": {},
   "outputs": [],
   "source": [
    "# unicodedata is a Python module. its normalize() method can handle situations such as these by converting\n",
    "# code points to normal form.\n",
    "# \"NFD\", normal form D, is also known as canonical decomposition and translates each character into its decomposed form.\n",
    "# \"NFC\" first applies the canonical decomposition, then composes the pre-composed characters again"
   ]
  },
  {
   "cell_type": "code",
   "execution_count": 57,
   "metadata": {},
   "outputs": [
    {
     "data": {
      "text/plain": [
       "True"
      ]
     },
     "execution_count": 57,
     "metadata": {},
     "output_type": "execute_result"
    }
   ],
   "source": [
    "normalize(\"NFD\", data.iloc[0].spelling) == normalize(\"NFD\", data.iloc[0].unvec_spelling)"
   ]
  },
  {
   "cell_type": "code",
   "execution_count": 58,
   "metadata": {},
   "outputs": [],
   "source": [
    "# unvec_spelling originally contained strings in \"NFD\""
   ]
  },
  {
   "cell_type": "code",
   "execution_count": 59,
   "metadata": {},
   "outputs": [
    {
     "data": {
      "text/plain": [
       "[4352, 4449, 4352, 4454]"
      ]
     },
     "execution_count": 59,
     "metadata": {},
     "output_type": "execute_result"
    }
   ],
   "source": [
    "[ord(x) for x in normalize(\"NFD\", data.iloc[0].spelling)]"
   ]
  },
  {
   "cell_type": "code",
   "execution_count": 60,
   "metadata": {},
   "outputs": [],
   "source": [
    "# spelling originally contained strings in \"NFC\""
   ]
  },
  {
   "cell_type": "code",
   "execution_count": 61,
   "metadata": {},
   "outputs": [
    {
     "data": {
      "text/plain": [
       "[44032, 44172]"
      ]
     },
     "execution_count": 61,
     "metadata": {},
     "output_type": "execute_result"
    }
   ],
   "source": [
    "[ord(x) for x in normalize(\"NFC\", data.iloc[0].spelling)]"
   ]
  },
  {
   "cell_type": "code",
   "execution_count": 62,
   "metadata": {},
   "outputs": [],
   "source": [
    "# alter the function to produces values in line with the original data"
   ]
  },
  {
   "cell_type": "code",
   "execution_count": 63,
   "metadata": {},
   "outputs": [],
   "source": [
    "def unvectorize_norm(vector):\n",
    "    temp_list = [decoder[num] for num in vector]\n",
    "    temp_string = \"\".join(temp_list)\n",
    "    return normalize(\"NFC\", temp_string)"
   ]
  },
  {
   "cell_type": "code",
   "execution_count": 64,
   "metadata": {},
   "outputs": [
    {
     "data": {
      "text/plain": [
       "'가게'"
      ]
     },
     "execution_count": 64,
     "metadata": {},
     "output_type": "execute_result"
    }
   ],
   "source": [
    "unvectorize_norm(test_vec)"
   ]
  },
  {
   "cell_type": "code",
   "execution_count": 65,
   "metadata": {},
   "outputs": [
    {
     "data": {
      "text/plain": [
       "[44032, 44172]"
      ]
     },
     "execution_count": 65,
     "metadata": {},
     "output_type": "execute_result"
    }
   ],
   "source": [
    "[ord(x) for x in normalize(\"NFC\", unvectorize_norm(test_vec))]"
   ]
  },
  {
   "cell_type": "code",
   "execution_count": 66,
   "metadata": {},
   "outputs": [],
   "source": [
    "# re-test unvectorization, this time with unvectorize_norm"
   ]
  },
  {
   "cell_type": "code",
   "execution_count": 67,
   "metadata": {},
   "outputs": [
    {
     "data": {
      "text/html": [
       "<div>\n",
       "<style scoped>\n",
       "    .dataframe tbody tr th:only-of-type {\n",
       "        vertical-align: middle;\n",
       "    }\n",
       "\n",
       "    .dataframe tbody tr th {\n",
       "        vertical-align: top;\n",
       "    }\n",
       "\n",
       "    .dataframe thead th {\n",
       "        text-align: right;\n",
       "    }\n",
       "</style>\n",
       "<table border=\"1\" class=\"dataframe\">\n",
       "  <thead>\n",
       "    <tr style=\"text-align: right;\">\n",
       "      <th></th>\n",
       "      <th>spelling</th>\n",
       "      <th>pronunciation</th>\n",
       "      <th>split_spelling</th>\n",
       "      <th>split_pronunciation</th>\n",
       "      <th>vec_spelling</th>\n",
       "      <th>vec_pronunciation</th>\n",
       "    </tr>\n",
       "  </thead>\n",
       "  <tbody>\n",
       "    <tr>\n",
       "      <th>0</th>\n",
       "      <td>가게</td>\n",
       "      <td>가ː게</td>\n",
       "      <td>ㄱㅏㄱㅔ</td>\n",
       "      <td>ㄱㅏːㄱㅔ</td>\n",
       "      <td>[2, 21, 2, 26]</td>\n",
       "      <td>[2, 21, 1, 2, 26]</td>\n",
       "    </tr>\n",
       "    <tr>\n",
       "      <th>1</th>\n",
       "      <td>가격</td>\n",
       "      <td>가격</td>\n",
       "      <td>ㄱㅏㄱㅕㄱ</td>\n",
       "      <td>ㄱㅏㄱㅕㄱ</td>\n",
       "      <td>[2, 21, 2, 27, 42]</td>\n",
       "      <td>[2, 21, 2, 27, 42]</td>\n",
       "    </tr>\n",
       "    <tr>\n",
       "      <th>2</th>\n",
       "      <td>가구</td>\n",
       "      <td>가구</td>\n",
       "      <td>ㄱㅏㄱㅜ</td>\n",
       "      <td>ㄱㅏㄱㅜ</td>\n",
       "      <td>[2, 21, 2, 34]</td>\n",
       "      <td>[2, 21, 2, 34]</td>\n",
       "    </tr>\n",
       "    <tr>\n",
       "      <th>3</th>\n",
       "      <td>가까이</td>\n",
       "      <td>가까이</td>\n",
       "      <td>ㄱㅏㄲㅏㅇㅣ</td>\n",
       "      <td>ㄱㅏㄲㅏㅇㅣ</td>\n",
       "      <td>[2, 21, 3, 21, 13, 41]</td>\n",
       "      <td>[2, 21, 3, 21, 13, 41]</td>\n",
       "    </tr>\n",
       "    <tr>\n",
       "      <th>4</th>\n",
       "      <td>가깝다</td>\n",
       "      <td>가깝따</td>\n",
       "      <td>ㄱㅏㄲㅏㅂㄷㅏ</td>\n",
       "      <td>ㄱㅏㄲㅏㅂㄸㅏ</td>\n",
       "      <td>[2, 21, 3, 21, 58, 5, 21]</td>\n",
       "      <td>[2, 21, 3, 21, 58, 6, 21]</td>\n",
       "    </tr>\n",
       "  </tbody>\n",
       "</table>\n",
       "</div>"
      ],
      "text/plain": [
       "  spelling pronunciation split_spelling split_pronunciation  \\\n",
       "0       가게           가ː게           ㄱㅏㄱㅔ               ㄱㅏːㄱㅔ   \n",
       "1       가격            가격          ㄱㅏㄱㅕㄱ               ㄱㅏㄱㅕㄱ   \n",
       "2       가구            가구           ㄱㅏㄱㅜ                ㄱㅏㄱㅜ   \n",
       "3      가까이           가까이         ㄱㅏㄲㅏㅇㅣ              ㄱㅏㄲㅏㅇㅣ   \n",
       "4      가깝다           가깝따        ㄱㅏㄲㅏㅂㄷㅏ             ㄱㅏㄲㅏㅂㄸㅏ   \n",
       "\n",
       "                vec_spelling          vec_pronunciation  \n",
       "0             [2, 21, 2, 26]          [2, 21, 1, 2, 26]  \n",
       "1         [2, 21, 2, 27, 42]         [2, 21, 2, 27, 42]  \n",
       "2             [2, 21, 2, 34]             [2, 21, 2, 34]  \n",
       "3     [2, 21, 3, 21, 13, 41]     [2, 21, 3, 21, 13, 41]  \n",
       "4  [2, 21, 3, 21, 58, 5, 21]  [2, 21, 3, 21, 58, 6, 21]  "
      ]
     },
     "execution_count": 67,
     "metadata": {},
     "output_type": "execute_result"
    }
   ],
   "source": [
    "data = data.drop([\"unvec_spelling\", \"unvec_pronunciation\"], axis=1)\n",
    "data.head()"
   ]
  },
  {
   "cell_type": "code",
   "execution_count": 68,
   "metadata": {},
   "outputs": [],
   "source": [
    "data[\"unvec_spelling\"] = data.vec_spelling.apply(unvectorize_norm)"
   ]
  },
  {
   "cell_type": "code",
   "execution_count": 69,
   "metadata": {},
   "outputs": [],
   "source": [
    "data[\"unvec_pronunciation\"] = data.vec_pronunciation.apply(unvectorize_norm)"
   ]
  },
  {
   "cell_type": "code",
   "execution_count": 70,
   "metadata": {},
   "outputs": [
    {
     "data": {
      "text/plain": [
       "0"
      ]
     },
     "execution_count": 70,
     "metadata": {},
     "output_type": "execute_result"
    }
   ],
   "source": [
    "len(data[data.spelling != data.unvec_spelling])"
   ]
  },
  {
   "cell_type": "code",
   "execution_count": 71,
   "metadata": {},
   "outputs": [
    {
     "data": {
      "text/html": [
       "<div>\n",
       "<style scoped>\n",
       "    .dataframe tbody tr th:only-of-type {\n",
       "        vertical-align: middle;\n",
       "    }\n",
       "\n",
       "    .dataframe tbody tr th {\n",
       "        vertical-align: top;\n",
       "    }\n",
       "\n",
       "    .dataframe thead th {\n",
       "        text-align: right;\n",
       "    }\n",
       "</style>\n",
       "<table border=\"1\" class=\"dataframe\">\n",
       "  <thead>\n",
       "    <tr style=\"text-align: right;\">\n",
       "      <th></th>\n",
       "      <th>spelling</th>\n",
       "      <th>pronunciation</th>\n",
       "      <th>split_spelling</th>\n",
       "      <th>split_pronunciation</th>\n",
       "      <th>vec_spelling</th>\n",
       "      <th>vec_pronunciation</th>\n",
       "      <th>unvec_spelling</th>\n",
       "      <th>unvec_pronunciation</th>\n",
       "    </tr>\n",
       "  </thead>\n",
       "  <tbody>\n",
       "    <tr>\n",
       "      <th>0</th>\n",
       "      <td>가게</td>\n",
       "      <td>가ː게</td>\n",
       "      <td>ㄱㅏㄱㅔ</td>\n",
       "      <td>ㄱㅏːㄱㅔ</td>\n",
       "      <td>[2, 21, 2, 26]</td>\n",
       "      <td>[2, 21, 1, 2, 26]</td>\n",
       "      <td>가게</td>\n",
       "      <td>가&lt;UNK&gt;게</td>\n",
       "    </tr>\n",
       "    <tr>\n",
       "      <th>1</th>\n",
       "      <td>가격</td>\n",
       "      <td>가격</td>\n",
       "      <td>ㄱㅏㄱㅕㄱ</td>\n",
       "      <td>ㄱㅏㄱㅕㄱ</td>\n",
       "      <td>[2, 21, 2, 27, 42]</td>\n",
       "      <td>[2, 21, 2, 27, 42]</td>\n",
       "      <td>가격</td>\n",
       "      <td>가격</td>\n",
       "    </tr>\n",
       "    <tr>\n",
       "      <th>2</th>\n",
       "      <td>가구</td>\n",
       "      <td>가구</td>\n",
       "      <td>ㄱㅏㄱㅜ</td>\n",
       "      <td>ㄱㅏㄱㅜ</td>\n",
       "      <td>[2, 21, 2, 34]</td>\n",
       "      <td>[2, 21, 2, 34]</td>\n",
       "      <td>가구</td>\n",
       "      <td>가구</td>\n",
       "    </tr>\n",
       "    <tr>\n",
       "      <th>3</th>\n",
       "      <td>가까이</td>\n",
       "      <td>가까이</td>\n",
       "      <td>ㄱㅏㄲㅏㅇㅣ</td>\n",
       "      <td>ㄱㅏㄲㅏㅇㅣ</td>\n",
       "      <td>[2, 21, 3, 21, 13, 41]</td>\n",
       "      <td>[2, 21, 3, 21, 13, 41]</td>\n",
       "      <td>가까이</td>\n",
       "      <td>가까이</td>\n",
       "    </tr>\n",
       "    <tr>\n",
       "      <th>4</th>\n",
       "      <td>가깝다</td>\n",
       "      <td>가깝따</td>\n",
       "      <td>ㄱㅏㄲㅏㅂㄷㅏ</td>\n",
       "      <td>ㄱㅏㄲㅏㅂㄸㅏ</td>\n",
       "      <td>[2, 21, 3, 21, 58, 5, 21]</td>\n",
       "      <td>[2, 21, 3, 21, 58, 6, 21]</td>\n",
       "      <td>가깝다</td>\n",
       "      <td>가깝따</td>\n",
       "    </tr>\n",
       "    <tr>\n",
       "      <th>...</th>\n",
       "      <td>...</td>\n",
       "      <td>...</td>\n",
       "      <td>...</td>\n",
       "      <td>...</td>\n",
       "      <td>...</td>\n",
       "      <td>...</td>\n",
       "      <td>...</td>\n",
       "      <td>...</td>\n",
       "    </tr>\n",
       "    <tr>\n",
       "      <th>10115</th>\n",
       "      <td>횡단</td>\n",
       "      <td>휑단</td>\n",
       "      <td>ㅎㅚㅇㄷㅏㄴ</td>\n",
       "      <td>ㅎㅞㅇㄷㅏㄴ</td>\n",
       "      <td>[20, 32, 62, 5, 21, 45]</td>\n",
       "      <td>[20, 36, 62, 5, 21, 45]</td>\n",
       "      <td>횡단</td>\n",
       "      <td>휑단</td>\n",
       "    </tr>\n",
       "    <tr>\n",
       "      <th>10116</th>\n",
       "      <td>횡설수설</td>\n",
       "      <td>횡설수설</td>\n",
       "      <td>ㅎㅚㅇㅅㅓㄹㅅㅜㅅㅓㄹ</td>\n",
       "      <td>ㅎㅚㅇㅅㅓㄹㅅㅜㅅㅓㄹ</td>\n",
       "      <td>[20, 32, 62, 11, 25, 49, 11, 34, 11, 25, 49]</td>\n",
       "      <td>[20, 32, 62, 11, 25, 49, 11, 34, 11, 25, 49]</td>\n",
       "      <td>횡설수설</td>\n",
       "      <td>횡설수설</td>\n",
       "    </tr>\n",
       "    <tr>\n",
       "      <th>10117</th>\n",
       "      <td>횡설수설</td>\n",
       "      <td>휑설수설</td>\n",
       "      <td>ㅎㅚㅇㅅㅓㄹㅅㅜㅅㅓㄹ</td>\n",
       "      <td>ㅎㅞㅇㅅㅓㄹㅅㅜㅅㅓㄹ</td>\n",
       "      <td>[20, 32, 62, 11, 25, 49, 11, 34, 11, 25, 49]</td>\n",
       "      <td>[20, 36, 62, 11, 25, 49, 11, 34, 11, 25, 49]</td>\n",
       "      <td>횡설수설</td>\n",
       "      <td>휑설수설</td>\n",
       "    </tr>\n",
       "    <tr>\n",
       "      <th>10118</th>\n",
       "      <td>후퇴</td>\n",
       "      <td>후ː퇴</td>\n",
       "      <td>ㅎㅜㅌㅚ</td>\n",
       "      <td>ㅎㅜːㅌㅚ</td>\n",
       "      <td>[20, 34, 18, 32]</td>\n",
       "      <td>[20, 34, 1, 18, 32]</td>\n",
       "      <td>후퇴</td>\n",
       "      <td>후&lt;UNK&gt;퇴</td>\n",
       "    </tr>\n",
       "    <tr>\n",
       "      <th>10119</th>\n",
       "      <td>후퇴</td>\n",
       "      <td>후ː퉤</td>\n",
       "      <td>ㅎㅜㅌㅚ</td>\n",
       "      <td>ㅎㅜːㅌㅞ</td>\n",
       "      <td>[20, 34, 18, 32]</td>\n",
       "      <td>[20, 34, 1, 18, 36]</td>\n",
       "      <td>후퇴</td>\n",
       "      <td>후&lt;UNK&gt;퉤</td>\n",
       "    </tr>\n",
       "  </tbody>\n",
       "</table>\n",
       "<p>10120 rows × 8 columns</p>\n",
       "</div>"
      ],
      "text/plain": [
       "      spelling pronunciation split_spelling split_pronunciation  \\\n",
       "0           가게           가ː게           ㄱㅏㄱㅔ               ㄱㅏːㄱㅔ   \n",
       "1           가격            가격          ㄱㅏㄱㅕㄱ               ㄱㅏㄱㅕㄱ   \n",
       "2           가구            가구           ㄱㅏㄱㅜ                ㄱㅏㄱㅜ   \n",
       "3          가까이           가까이         ㄱㅏㄲㅏㅇㅣ              ㄱㅏㄲㅏㅇㅣ   \n",
       "4          가깝다           가깝따        ㄱㅏㄲㅏㅂㄷㅏ             ㄱㅏㄲㅏㅂㄸㅏ   \n",
       "...        ...           ...            ...                 ...   \n",
       "10115       횡단            휑단         ㅎㅚㅇㄷㅏㄴ              ㅎㅞㅇㄷㅏㄴ   \n",
       "10116     횡설수설          횡설수설    ㅎㅚㅇㅅㅓㄹㅅㅜㅅㅓㄹ         ㅎㅚㅇㅅㅓㄹㅅㅜㅅㅓㄹ   \n",
       "10117     횡설수설          휑설수설    ㅎㅚㅇㅅㅓㄹㅅㅜㅅㅓㄹ         ㅎㅞㅇㅅㅓㄹㅅㅜㅅㅓㄹ   \n",
       "10118       후퇴           후ː퇴           ㅎㅜㅌㅚ               ㅎㅜːㅌㅚ   \n",
       "10119       후퇴           후ː퉤           ㅎㅜㅌㅚ               ㅎㅜːㅌㅞ   \n",
       "\n",
       "                                       vec_spelling  \\\n",
       "0                                    [2, 21, 2, 26]   \n",
       "1                                [2, 21, 2, 27, 42]   \n",
       "2                                    [2, 21, 2, 34]   \n",
       "3                            [2, 21, 3, 21, 13, 41]   \n",
       "4                         [2, 21, 3, 21, 58, 5, 21]   \n",
       "...                                             ...   \n",
       "10115                       [20, 32, 62, 5, 21, 45]   \n",
       "10116  [20, 32, 62, 11, 25, 49, 11, 34, 11, 25, 49]   \n",
       "10117  [20, 32, 62, 11, 25, 49, 11, 34, 11, 25, 49]   \n",
       "10118                              [20, 34, 18, 32]   \n",
       "10119                              [20, 34, 18, 32]   \n",
       "\n",
       "                                  vec_pronunciation unvec_spelling  \\\n",
       "0                                 [2, 21, 1, 2, 26]             가게   \n",
       "1                                [2, 21, 2, 27, 42]             가격   \n",
       "2                                    [2, 21, 2, 34]             가구   \n",
       "3                            [2, 21, 3, 21, 13, 41]            가까이   \n",
       "4                         [2, 21, 3, 21, 58, 6, 21]            가깝다   \n",
       "...                                             ...            ...   \n",
       "10115                       [20, 36, 62, 5, 21, 45]             횡단   \n",
       "10116  [20, 32, 62, 11, 25, 49, 11, 34, 11, 25, 49]           횡설수설   \n",
       "10117  [20, 36, 62, 11, 25, 49, 11, 34, 11, 25, 49]           횡설수설   \n",
       "10118                           [20, 34, 1, 18, 32]             후퇴   \n",
       "10119                           [20, 34, 1, 18, 36]             후퇴   \n",
       "\n",
       "      unvec_pronunciation  \n",
       "0                 가<UNK>게  \n",
       "1                      가격  \n",
       "2                      가구  \n",
       "3                     가까이  \n",
       "4                     가깝따  \n",
       "...                   ...  \n",
       "10115                  휑단  \n",
       "10116                횡설수설  \n",
       "10117                휑설수설  \n",
       "10118             후<UNK>퇴  \n",
       "10119             후<UNK>퉤  \n",
       "\n",
       "[10120 rows x 8 columns]"
      ]
     },
     "execution_count": 71,
     "metadata": {},
     "output_type": "execute_result"
    }
   ],
   "source": [
    "data"
   ]
  },
  {
   "cell_type": "code",
   "execution_count": 72,
   "metadata": {},
   "outputs": [],
   "source": [
    "# <UNK> appears to be the only issue"
   ]
  },
  {
   "cell_type": "code",
   "execution_count": 73,
   "metadata": {},
   "outputs": [
    {
     "data": {
      "text/plain": [
       "2842"
      ]
     },
     "execution_count": 73,
     "metadata": {},
     "output_type": "execute_result"
    }
   ],
   "source": [
    "len(data[data.pronunciation != data.unvec_pronunciation])"
   ]
  },
  {
   "cell_type": "code",
   "execution_count": 74,
   "metadata": {},
   "outputs": [
    {
     "data": {
      "text/plain": [
       "2842"
      ]
     },
     "execution_count": 74,
     "metadata": {},
     "output_type": "execute_result"
    }
   ],
   "source": [
    "len(data[data.unvec_pronunciation.str.contains(\"<UNK>\")])"
   ]
  },
  {
   "cell_type": "code",
   "execution_count": 75,
   "metadata": {
    "scrolled": true
   },
   "outputs": [
    {
     "data": {
      "text/html": [
       "<div>\n",
       "<style scoped>\n",
       "    .dataframe tbody tr th:only-of-type {\n",
       "        vertical-align: middle;\n",
       "    }\n",
       "\n",
       "    .dataframe tbody tr th {\n",
       "        vertical-align: top;\n",
       "    }\n",
       "\n",
       "    .dataframe thead th {\n",
       "        text-align: right;\n",
       "    }\n",
       "</style>\n",
       "<table border=\"1\" class=\"dataframe\">\n",
       "  <thead>\n",
       "    <tr style=\"text-align: right;\">\n",
       "      <th></th>\n",
       "      <th>spelling</th>\n",
       "      <th>pronunciation</th>\n",
       "      <th>split_spelling</th>\n",
       "      <th>split_pronunciation</th>\n",
       "      <th>vec_spelling</th>\n",
       "      <th>vec_pronunciation</th>\n",
       "      <th>unvec_spelling</th>\n",
       "      <th>unvec_pronunciation</th>\n",
       "    </tr>\n",
       "  </thead>\n",
       "  <tbody>\n",
       "    <tr>\n",
       "      <th>0</th>\n",
       "      <td>가게</td>\n",
       "      <td>가ː게</td>\n",
       "      <td>ㄱㅏㄱㅔ</td>\n",
       "      <td>ㄱㅏːㄱㅔ</td>\n",
       "      <td>[2, 21, 2, 26]</td>\n",
       "      <td>[2, 21, 1, 2, 26]</td>\n",
       "      <td>가게</td>\n",
       "      <td>가&lt;UNK&gt;게</td>\n",
       "    </tr>\n",
       "    <tr>\n",
       "      <th>28</th>\n",
       "      <td>간식</td>\n",
       "      <td>간ː식</td>\n",
       "      <td>ㄱㅏㄴㅅㅣㄱ</td>\n",
       "      <td>ㄱㅏㄴːㅅㅣㄱ</td>\n",
       "      <td>[2, 21, 45, 11, 41, 42]</td>\n",
       "      <td>[2, 21, 45, 1, 11, 41, 42]</td>\n",
       "      <td>간식</td>\n",
       "      <td>간&lt;UNK&gt;식</td>\n",
       "    </tr>\n",
       "    <tr>\n",
       "      <th>36</th>\n",
       "      <td>감</td>\n",
       "      <td>감ː</td>\n",
       "      <td>ㄱㅏㅁ</td>\n",
       "      <td>ㄱㅏㅁː</td>\n",
       "      <td>[2, 21, 57]</td>\n",
       "      <td>[2, 21, 57, 1]</td>\n",
       "      <td>감</td>\n",
       "      <td>감&lt;UNK&gt;</td>\n",
       "    </tr>\n",
       "    <tr>\n",
       "      <th>37</th>\n",
       "      <td>감기</td>\n",
       "      <td>감ː기</td>\n",
       "      <td>ㄱㅏㅁㄱㅣ</td>\n",
       "      <td>ㄱㅏㅁːㄱㅣ</td>\n",
       "      <td>[2, 21, 57, 2, 41]</td>\n",
       "      <td>[2, 21, 57, 1, 2, 41]</td>\n",
       "      <td>감기</td>\n",
       "      <td>감&lt;UNK&gt;기</td>\n",
       "    </tr>\n",
       "    <tr>\n",
       "      <th>38</th>\n",
       "      <td>감기약</td>\n",
       "      <td>감ː기약</td>\n",
       "      <td>ㄱㅏㅁㄱㅣㅇㅑㄱ</td>\n",
       "      <td>ㄱㅏㅁːㄱㅣㅇㅑㄱ</td>\n",
       "      <td>[2, 21, 57, 2, 41, 13, 23, 42]</td>\n",
       "      <td>[2, 21, 57, 1, 2, 41, 13, 23, 42]</td>\n",
       "      <td>감기약</td>\n",
       "      <td>감&lt;UNK&gt;기약</td>\n",
       "    </tr>\n",
       "  </tbody>\n",
       "</table>\n",
       "</div>"
      ],
      "text/plain": [
       "   spelling pronunciation split_spelling split_pronunciation  \\\n",
       "0        가게           가ː게           ㄱㅏㄱㅔ               ㄱㅏːㄱㅔ   \n",
       "28       간식           간ː식         ㄱㅏㄴㅅㅣㄱ             ㄱㅏㄴːㅅㅣㄱ   \n",
       "36        감            감ː            ㄱㅏㅁ                ㄱㅏㅁː   \n",
       "37       감기           감ː기          ㄱㅏㅁㄱㅣ              ㄱㅏㅁːㄱㅣ   \n",
       "38      감기약          감ː기약       ㄱㅏㅁㄱㅣㅇㅑㄱ           ㄱㅏㅁːㄱㅣㅇㅑㄱ   \n",
       "\n",
       "                      vec_spelling                  vec_pronunciation  \\\n",
       "0                   [2, 21, 2, 26]                  [2, 21, 1, 2, 26]   \n",
       "28         [2, 21, 45, 11, 41, 42]         [2, 21, 45, 1, 11, 41, 42]   \n",
       "36                     [2, 21, 57]                     [2, 21, 57, 1]   \n",
       "37              [2, 21, 57, 2, 41]              [2, 21, 57, 1, 2, 41]   \n",
       "38  [2, 21, 57, 2, 41, 13, 23, 42]  [2, 21, 57, 1, 2, 41, 13, 23, 42]   \n",
       "\n",
       "   unvec_spelling unvec_pronunciation  \n",
       "0              가게             가<UNK>게  \n",
       "28             간식             간<UNK>식  \n",
       "36              감              감<UNK>  \n",
       "37             감기             감<UNK>기  \n",
       "38            감기약            감<UNK>기약  "
      ]
     },
     "execution_count": 75,
     "metadata": {},
     "output_type": "execute_result"
    }
   ],
   "source": [
    "data[data.unvec_pronunciation.str.contains(\"<UNK>\")].head()"
   ]
  },
  {
   "cell_type": "code",
   "execution_count": 76,
   "metadata": {},
   "outputs": [],
   "source": [
    "# this punctuation isn't a colon but actually two triangles facing each other creating the shape of an hourglass.\n",
    "# (see below for a visual; the code point is U+2d0)\n",
    "# the IPA (international phonetic alphabet) uses this symbol to express length (how long a sound is pronounced)"
   ]
  },
  {
   "cell_type": "markdown",
   "metadata": {},
   "source": [
    "https://en.wikipedia.org/wiki/Length_(phonetics)"
   ]
  },
  {
   "cell_type": "code",
   "execution_count": 77,
   "metadata": {},
   "outputs": [
    {
     "data": {
      "text/plain": [
       "'0x2d0'"
      ]
     },
     "execution_count": 77,
     "metadata": {},
     "output_type": "execute_result"
    }
   ],
   "source": [
    "hex(ord(\"ː\"))"
   ]
  },
  {
   "cell_type": "code",
   "execution_count": 78,
   "metadata": {},
   "outputs": [
    {
     "data": {
      "text/html": [
       "\n",
       "<h1>ː</h1>\n"
      ],
      "text/plain": [
       "<IPython.core.display.HTML object>"
      ]
     },
     "metadata": {},
     "output_type": "display_data"
    }
   ],
   "source": [
    "%%html \n",
    "\n",
    "<h1>ː</h1>"
   ]
  },
  {
   "cell_type": "code",
   "execution_count": 79,
   "metadata": {},
   "outputs": [],
   "source": [
    "# convert this to a common colon so Vectorizationer() can handle it properly"
   ]
  },
  {
   "cell_type": "code",
   "execution_count": 80,
   "metadata": {},
   "outputs": [],
   "source": [
    "data.pronunciation = data.pronunciation.str.replace(\"ː\", \":\")\n",
    "data.split_pronunciation = data.split_pronunciation.str.replace(\"ː\", \":\")"
   ]
  },
  {
   "cell_type": "code",
   "execution_count": 81,
   "metadata": {},
   "outputs": [],
   "source": [
    "# vectorize the pronunciation column again"
   ]
  },
  {
   "cell_type": "code",
   "execution_count": 82,
   "metadata": {},
   "outputs": [],
   "source": [
    "data[\"vec_pronunciation\"] = data.pronunciation.apply(vec.vectorize)"
   ]
  },
  {
   "cell_type": "code",
   "execution_count": 83,
   "metadata": {},
   "outputs": [],
   "source": [
    "# unvectorize pronunciation and compare it to the pronunciation column"
   ]
  },
  {
   "cell_type": "code",
   "execution_count": 84,
   "metadata": {},
   "outputs": [],
   "source": [
    "data[\"unvec_pronunciation\"] = data.vec_pronunciation.apply(unvectorize_norm)"
   ]
  },
  {
   "cell_type": "code",
   "execution_count": 85,
   "metadata": {},
   "outputs": [
    {
     "data": {
      "text/plain": [
       "0"
      ]
     },
     "execution_count": 85,
     "metadata": {},
     "output_type": "execute_result"
    }
   ],
   "source": [
    "len(data[data.pronunciation != data.unvec_pronunciation])"
   ]
  },
  {
   "cell_type": "code",
   "execution_count": 86,
   "metadata": {},
   "outputs": [
    {
     "data": {
      "text/html": [
       "<div>\n",
       "<style scoped>\n",
       "    .dataframe tbody tr th:only-of-type {\n",
       "        vertical-align: middle;\n",
       "    }\n",
       "\n",
       "    .dataframe tbody tr th {\n",
       "        vertical-align: top;\n",
       "    }\n",
       "\n",
       "    .dataframe thead th {\n",
       "        text-align: right;\n",
       "    }\n",
       "</style>\n",
       "<table border=\"1\" class=\"dataframe\">\n",
       "  <thead>\n",
       "    <tr style=\"text-align: right;\">\n",
       "      <th></th>\n",
       "      <th>spelling</th>\n",
       "      <th>pronunciation</th>\n",
       "      <th>split_spelling</th>\n",
       "      <th>split_pronunciation</th>\n",
       "      <th>vec_spelling</th>\n",
       "      <th>vec_pronunciation</th>\n",
       "      <th>unvec_spelling</th>\n",
       "      <th>unvec_pronunciation</th>\n",
       "    </tr>\n",
       "  </thead>\n",
       "  <tbody>\n",
       "    <tr>\n",
       "      <th>0</th>\n",
       "      <td>가게</td>\n",
       "      <td>가:게</td>\n",
       "      <td>ㄱㅏㄱㅔ</td>\n",
       "      <td>ㄱㅏ:ㄱㅔ</td>\n",
       "      <td>[2, 21, 2, 26]</td>\n",
       "      <td>[2, 21, 113, 2, 26]</td>\n",
       "      <td>가게</td>\n",
       "      <td>가:게</td>\n",
       "    </tr>\n",
       "    <tr>\n",
       "      <th>1</th>\n",
       "      <td>가격</td>\n",
       "      <td>가격</td>\n",
       "      <td>ㄱㅏㄱㅕㄱ</td>\n",
       "      <td>ㄱㅏㄱㅕㄱ</td>\n",
       "      <td>[2, 21, 2, 27, 42]</td>\n",
       "      <td>[2, 21, 2, 27, 42]</td>\n",
       "      <td>가격</td>\n",
       "      <td>가격</td>\n",
       "    </tr>\n",
       "    <tr>\n",
       "      <th>2</th>\n",
       "      <td>가구</td>\n",
       "      <td>가구</td>\n",
       "      <td>ㄱㅏㄱㅜ</td>\n",
       "      <td>ㄱㅏㄱㅜ</td>\n",
       "      <td>[2, 21, 2, 34]</td>\n",
       "      <td>[2, 21, 2, 34]</td>\n",
       "      <td>가구</td>\n",
       "      <td>가구</td>\n",
       "    </tr>\n",
       "    <tr>\n",
       "      <th>3</th>\n",
       "      <td>가까이</td>\n",
       "      <td>가까이</td>\n",
       "      <td>ㄱㅏㄲㅏㅇㅣ</td>\n",
       "      <td>ㄱㅏㄲㅏㅇㅣ</td>\n",
       "      <td>[2, 21, 3, 21, 13, 41]</td>\n",
       "      <td>[2, 21, 3, 21, 13, 41]</td>\n",
       "      <td>가까이</td>\n",
       "      <td>가까이</td>\n",
       "    </tr>\n",
       "    <tr>\n",
       "      <th>4</th>\n",
       "      <td>가깝다</td>\n",
       "      <td>가깝따</td>\n",
       "      <td>ㄱㅏㄲㅏㅂㄷㅏ</td>\n",
       "      <td>ㄱㅏㄲㅏㅂㄸㅏ</td>\n",
       "      <td>[2, 21, 3, 21, 58, 5, 21]</td>\n",
       "      <td>[2, 21, 3, 21, 58, 6, 21]</td>\n",
       "      <td>가깝다</td>\n",
       "      <td>가깝따</td>\n",
       "    </tr>\n",
       "  </tbody>\n",
       "</table>\n",
       "</div>"
      ],
      "text/plain": [
       "  spelling pronunciation split_spelling split_pronunciation  \\\n",
       "0       가게           가:게           ㄱㅏㄱㅔ               ㄱㅏ:ㄱㅔ   \n",
       "1       가격            가격          ㄱㅏㄱㅕㄱ               ㄱㅏㄱㅕㄱ   \n",
       "2       가구            가구           ㄱㅏㄱㅜ                ㄱㅏㄱㅜ   \n",
       "3      가까이           가까이         ㄱㅏㄲㅏㅇㅣ              ㄱㅏㄲㅏㅇㅣ   \n",
       "4      가깝다           가깝따        ㄱㅏㄲㅏㅂㄷㅏ             ㄱㅏㄲㅏㅂㄸㅏ   \n",
       "\n",
       "                vec_spelling          vec_pronunciation unvec_spelling  \\\n",
       "0             [2, 21, 2, 26]        [2, 21, 113, 2, 26]             가게   \n",
       "1         [2, 21, 2, 27, 42]         [2, 21, 2, 27, 42]             가격   \n",
       "2             [2, 21, 2, 34]             [2, 21, 2, 34]             가구   \n",
       "3     [2, 21, 3, 21, 13, 41]     [2, 21, 3, 21, 13, 41]            가까이   \n",
       "4  [2, 21, 3, 21, 58, 5, 21]  [2, 21, 3, 21, 58, 6, 21]            가깝다   \n",
       "\n",
       "  unvec_pronunciation  \n",
       "0                 가:게  \n",
       "1                  가격  \n",
       "2                  가구  \n",
       "3                 가까이  \n",
       "4                 가깝따  "
      ]
     },
     "execution_count": 86,
     "metadata": {},
     "output_type": "execute_result"
    }
   ],
   "source": [
    "data.head()"
   ]
  },
  {
   "cell_type": "code",
   "execution_count": 87,
   "metadata": {},
   "outputs": [],
   "source": [
    "# this methods appears to be successful for converting back and forth between Korean and the vectors"
   ]
  },
  {
   "cell_type": "code",
   "execution_count": 88,
   "metadata": {},
   "outputs": [],
   "source": [
    "# NOTE: 113 is the colon in the reversed symbol_map dictionary"
   ]
  },
  {
   "cell_type": "code",
   "execution_count": 89,
   "metadata": {},
   "outputs": [
    {
     "data": {
      "text/plain": [
       "':'"
      ]
     },
     "execution_count": 89,
     "metadata": {},
     "output_type": "execute_result"
    }
   ],
   "source": [
    "decoder[113]"
   ]
  },
  {
   "cell_type": "code",
   "execution_count": 90,
   "metadata": {},
   "outputs": [],
   "source": [
    "# to make sure the dimensions of each row are the same, pad the end of each vector with zeros until it is as long as\n",
    "# the longest vector. this was calculated earlier but here again for convenience"
   ]
  },
  {
   "cell_type": "code",
   "execution_count": 91,
   "metadata": {},
   "outputs": [
    {
     "data": {
      "text/plain": [
       "16"
      ]
     },
     "execution_count": 91,
     "metadata": {},
     "output_type": "execute_result"
    }
   ],
   "source": [
    "data.split_spelling.str.len().max()"
   ]
  },
  {
   "cell_type": "code",
   "execution_count": 92,
   "metadata": {},
   "outputs": [
    {
     "data": {
      "text/plain": [
       "17"
      ]
     },
     "execution_count": 92,
     "metadata": {},
     "output_type": "execute_result"
    }
   ],
   "source": [
    "data.split_pronunciation.str.len().max()"
   ]
  },
  {
   "cell_type": "code",
   "execution_count": 93,
   "metadata": {},
   "outputs": [],
   "source": [
    "# so pad each vector in vec_spelling with zeros until it reaches 16 digits, and the same for vec_pronunciation except\n",
    "# until 17"
   ]
  },
  {
   "cell_type": "code",
   "execution_count": 94,
   "metadata": {},
   "outputs": [],
   "source": [
    "def pad_with_zeros(vector, num_zeros):\n",
    "    zeros_to_pad = num_zeros - len(vector)\n",
    "    # default value for \"constant\" mode is zero.\n",
    "    # pad the array with 0 zeros on the left and \"zeros_to_pad\" zeros on the right\n",
    "    return np.pad(vector, (0, zeros_to_pad), \"constant\")"
   ]
  },
  {
   "cell_type": "code",
   "execution_count": 95,
   "metadata": {},
   "outputs": [],
   "source": [
    "# test"
   ]
  },
  {
   "cell_type": "code",
   "execution_count": 96,
   "metadata": {},
   "outputs": [
    {
     "data": {
      "text/plain": [
       "array([ 2, 21,  2, 26,  0,  0,  0,  0,  0,  0,  0,  0,  0,  0,  0,  0],\n",
       "      dtype=uint8)"
      ]
     },
     "execution_count": 96,
     "metadata": {},
     "output_type": "execute_result"
    }
   ],
   "source": [
    "pad_with_zeros(data.iloc[0].vec_spelling, 16)"
   ]
  },
  {
   "cell_type": "code",
   "execution_count": 97,
   "metadata": {},
   "outputs": [
    {
     "data": {
      "text/plain": [
       "16"
      ]
     },
     "execution_count": 97,
     "metadata": {},
     "output_type": "execute_result"
    }
   ],
   "source": [
    "len(pad_with_zeros(data.iloc[0].vec_spelling, 16))"
   ]
  },
  {
   "cell_type": "code",
   "execution_count": 98,
   "metadata": {},
   "outputs": [],
   "source": [
    "# apply\n",
    "# NOTE: passing args to apply required a comma after the integer"
   ]
  },
  {
   "cell_type": "code",
   "execution_count": 99,
   "metadata": {},
   "outputs": [],
   "source": [
    "data[\"vec_spelling_pad\"] = data.vec_spelling.apply(pad_with_zeros, args=(16,))"
   ]
  },
  {
   "cell_type": "code",
   "execution_count": 100,
   "metadata": {},
   "outputs": [],
   "source": [
    "data[\"vec_pronunciation_pad\"] = data.vec_pronunciation.apply(pad_with_zeros, args=(17,))"
   ]
  },
  {
   "cell_type": "code",
   "execution_count": 101,
   "metadata": {},
   "outputs": [
    {
     "data": {
      "text/html": [
       "<div>\n",
       "<style scoped>\n",
       "    .dataframe tbody tr th:only-of-type {\n",
       "        vertical-align: middle;\n",
       "    }\n",
       "\n",
       "    .dataframe tbody tr th {\n",
       "        vertical-align: top;\n",
       "    }\n",
       "\n",
       "    .dataframe thead th {\n",
       "        text-align: right;\n",
       "    }\n",
       "</style>\n",
       "<table border=\"1\" class=\"dataframe\">\n",
       "  <thead>\n",
       "    <tr style=\"text-align: right;\">\n",
       "      <th></th>\n",
       "      <th>spelling</th>\n",
       "      <th>pronunciation</th>\n",
       "      <th>split_spelling</th>\n",
       "      <th>split_pronunciation</th>\n",
       "      <th>vec_spelling</th>\n",
       "      <th>vec_pronunciation</th>\n",
       "      <th>unvec_spelling</th>\n",
       "      <th>unvec_pronunciation</th>\n",
       "      <th>vec_spelling_pad</th>\n",
       "      <th>vec_pronunciation_pad</th>\n",
       "    </tr>\n",
       "  </thead>\n",
       "  <tbody>\n",
       "    <tr>\n",
       "      <th>0</th>\n",
       "      <td>가게</td>\n",
       "      <td>가:게</td>\n",
       "      <td>ㄱㅏㄱㅔ</td>\n",
       "      <td>ㄱㅏ:ㄱㅔ</td>\n",
       "      <td>[2, 21, 2, 26]</td>\n",
       "      <td>[2, 21, 113, 2, 26]</td>\n",
       "      <td>가게</td>\n",
       "      <td>가:게</td>\n",
       "      <td>[2, 21, 2, 26, 0, 0, 0, 0, 0, 0, 0, 0, 0, 0, 0...</td>\n",
       "      <td>[2, 21, 113, 2, 26, 0, 0, 0, 0, 0, 0, 0, 0, 0,...</td>\n",
       "    </tr>\n",
       "    <tr>\n",
       "      <th>1</th>\n",
       "      <td>가격</td>\n",
       "      <td>가격</td>\n",
       "      <td>ㄱㅏㄱㅕㄱ</td>\n",
       "      <td>ㄱㅏㄱㅕㄱ</td>\n",
       "      <td>[2, 21, 2, 27, 42]</td>\n",
       "      <td>[2, 21, 2, 27, 42]</td>\n",
       "      <td>가격</td>\n",
       "      <td>가격</td>\n",
       "      <td>[2, 21, 2, 27, 42, 0, 0, 0, 0, 0, 0, 0, 0, 0, ...</td>\n",
       "      <td>[2, 21, 2, 27, 42, 0, 0, 0, 0, 0, 0, 0, 0, 0, ...</td>\n",
       "    </tr>\n",
       "    <tr>\n",
       "      <th>2</th>\n",
       "      <td>가구</td>\n",
       "      <td>가구</td>\n",
       "      <td>ㄱㅏㄱㅜ</td>\n",
       "      <td>ㄱㅏㄱㅜ</td>\n",
       "      <td>[2, 21, 2, 34]</td>\n",
       "      <td>[2, 21, 2, 34]</td>\n",
       "      <td>가구</td>\n",
       "      <td>가구</td>\n",
       "      <td>[2, 21, 2, 34, 0, 0, 0, 0, 0, 0, 0, 0, 0, 0, 0...</td>\n",
       "      <td>[2, 21, 2, 34, 0, 0, 0, 0, 0, 0, 0, 0, 0, 0, 0...</td>\n",
       "    </tr>\n",
       "    <tr>\n",
       "      <th>3</th>\n",
       "      <td>가까이</td>\n",
       "      <td>가까이</td>\n",
       "      <td>ㄱㅏㄲㅏㅇㅣ</td>\n",
       "      <td>ㄱㅏㄲㅏㅇㅣ</td>\n",
       "      <td>[2, 21, 3, 21, 13, 41]</td>\n",
       "      <td>[2, 21, 3, 21, 13, 41]</td>\n",
       "      <td>가까이</td>\n",
       "      <td>가까이</td>\n",
       "      <td>[2, 21, 3, 21, 13, 41, 0, 0, 0, 0, 0, 0, 0, 0,...</td>\n",
       "      <td>[2, 21, 3, 21, 13, 41, 0, 0, 0, 0, 0, 0, 0, 0,...</td>\n",
       "    </tr>\n",
       "    <tr>\n",
       "      <th>4</th>\n",
       "      <td>가깝다</td>\n",
       "      <td>가깝따</td>\n",
       "      <td>ㄱㅏㄲㅏㅂㄷㅏ</td>\n",
       "      <td>ㄱㅏㄲㅏㅂㄸㅏ</td>\n",
       "      <td>[2, 21, 3, 21, 58, 5, 21]</td>\n",
       "      <td>[2, 21, 3, 21, 58, 6, 21]</td>\n",
       "      <td>가깝다</td>\n",
       "      <td>가깝따</td>\n",
       "      <td>[2, 21, 3, 21, 58, 5, 21, 0, 0, 0, 0, 0, 0, 0,...</td>\n",
       "      <td>[2, 21, 3, 21, 58, 6, 21, 0, 0, 0, 0, 0, 0, 0,...</td>\n",
       "    </tr>\n",
       "  </tbody>\n",
       "</table>\n",
       "</div>"
      ],
      "text/plain": [
       "  spelling pronunciation split_spelling split_pronunciation  \\\n",
       "0       가게           가:게           ㄱㅏㄱㅔ               ㄱㅏ:ㄱㅔ   \n",
       "1       가격            가격          ㄱㅏㄱㅕㄱ               ㄱㅏㄱㅕㄱ   \n",
       "2       가구            가구           ㄱㅏㄱㅜ                ㄱㅏㄱㅜ   \n",
       "3      가까이           가까이         ㄱㅏㄲㅏㅇㅣ              ㄱㅏㄲㅏㅇㅣ   \n",
       "4      가깝다           가깝따        ㄱㅏㄲㅏㅂㄷㅏ             ㄱㅏㄲㅏㅂㄸㅏ   \n",
       "\n",
       "                vec_spelling          vec_pronunciation unvec_spelling  \\\n",
       "0             [2, 21, 2, 26]        [2, 21, 113, 2, 26]             가게   \n",
       "1         [2, 21, 2, 27, 42]         [2, 21, 2, 27, 42]             가격   \n",
       "2             [2, 21, 2, 34]             [2, 21, 2, 34]             가구   \n",
       "3     [2, 21, 3, 21, 13, 41]     [2, 21, 3, 21, 13, 41]            가까이   \n",
       "4  [2, 21, 3, 21, 58, 5, 21]  [2, 21, 3, 21, 58, 6, 21]            가깝다   \n",
       "\n",
       "  unvec_pronunciation                                   vec_spelling_pad  \\\n",
       "0                 가:게  [2, 21, 2, 26, 0, 0, 0, 0, 0, 0, 0, 0, 0, 0, 0...   \n",
       "1                  가격  [2, 21, 2, 27, 42, 0, 0, 0, 0, 0, 0, 0, 0, 0, ...   \n",
       "2                  가구  [2, 21, 2, 34, 0, 0, 0, 0, 0, 0, 0, 0, 0, 0, 0...   \n",
       "3                 가까이  [2, 21, 3, 21, 13, 41, 0, 0, 0, 0, 0, 0, 0, 0,...   \n",
       "4                 가깝따  [2, 21, 3, 21, 58, 5, 21, 0, 0, 0, 0, 0, 0, 0,...   \n",
       "\n",
       "                               vec_pronunciation_pad  \n",
       "0  [2, 21, 113, 2, 26, 0, 0, 0, 0, 0, 0, 0, 0, 0,...  \n",
       "1  [2, 21, 2, 27, 42, 0, 0, 0, 0, 0, 0, 0, 0, 0, ...  \n",
       "2  [2, 21, 2, 34, 0, 0, 0, 0, 0, 0, 0, 0, 0, 0, 0...  \n",
       "3  [2, 21, 3, 21, 13, 41, 0, 0, 0, 0, 0, 0, 0, 0,...  \n",
       "4  [2, 21, 3, 21, 58, 6, 21, 0, 0, 0, 0, 0, 0, 0,...  "
      ]
     },
     "execution_count": 101,
     "metadata": {},
     "output_type": "execute_result"
    }
   ],
   "source": [
    "data.head()"
   ]
  },
  {
   "cell_type": "code",
   "execution_count": 102,
   "metadata": {},
   "outputs": [],
   "source": [
    "# convert these padded vectors to DataFrames"
   ]
  },
  {
   "cell_type": "code",
   "execution_count": 103,
   "metadata": {},
   "outputs": [
    {
     "data": {
      "text/html": [
       "<div>\n",
       "<style scoped>\n",
       "    .dataframe tbody tr th:only-of-type {\n",
       "        vertical-align: middle;\n",
       "    }\n",
       "\n",
       "    .dataframe tbody tr th {\n",
       "        vertical-align: top;\n",
       "    }\n",
       "\n",
       "    .dataframe thead th {\n",
       "        text-align: right;\n",
       "    }\n",
       "</style>\n",
       "<table border=\"1\" class=\"dataframe\">\n",
       "  <thead>\n",
       "    <tr style=\"text-align: right;\">\n",
       "      <th></th>\n",
       "      <th>0</th>\n",
       "      <th>1</th>\n",
       "      <th>2</th>\n",
       "      <th>3</th>\n",
       "      <th>4</th>\n",
       "      <th>5</th>\n",
       "      <th>6</th>\n",
       "      <th>7</th>\n",
       "      <th>8</th>\n",
       "      <th>9</th>\n",
       "      <th>10</th>\n",
       "      <th>11</th>\n",
       "      <th>12</th>\n",
       "      <th>13</th>\n",
       "      <th>14</th>\n",
       "      <th>15</th>\n",
       "    </tr>\n",
       "  </thead>\n",
       "  <tbody>\n",
       "    <tr>\n",
       "      <th>0</th>\n",
       "      <td>2</td>\n",
       "      <td>21</td>\n",
       "      <td>2</td>\n",
       "      <td>26</td>\n",
       "      <td>0</td>\n",
       "      <td>0</td>\n",
       "      <td>0</td>\n",
       "      <td>0</td>\n",
       "      <td>0</td>\n",
       "      <td>0</td>\n",
       "      <td>0</td>\n",
       "      <td>0</td>\n",
       "      <td>0</td>\n",
       "      <td>0</td>\n",
       "      <td>0</td>\n",
       "      <td>0</td>\n",
       "    </tr>\n",
       "    <tr>\n",
       "      <th>1</th>\n",
       "      <td>2</td>\n",
       "      <td>21</td>\n",
       "      <td>2</td>\n",
       "      <td>27</td>\n",
       "      <td>42</td>\n",
       "      <td>0</td>\n",
       "      <td>0</td>\n",
       "      <td>0</td>\n",
       "      <td>0</td>\n",
       "      <td>0</td>\n",
       "      <td>0</td>\n",
       "      <td>0</td>\n",
       "      <td>0</td>\n",
       "      <td>0</td>\n",
       "      <td>0</td>\n",
       "      <td>0</td>\n",
       "    </tr>\n",
       "    <tr>\n",
       "      <th>2</th>\n",
       "      <td>2</td>\n",
       "      <td>21</td>\n",
       "      <td>2</td>\n",
       "      <td>34</td>\n",
       "      <td>0</td>\n",
       "      <td>0</td>\n",
       "      <td>0</td>\n",
       "      <td>0</td>\n",
       "      <td>0</td>\n",
       "      <td>0</td>\n",
       "      <td>0</td>\n",
       "      <td>0</td>\n",
       "      <td>0</td>\n",
       "      <td>0</td>\n",
       "      <td>0</td>\n",
       "      <td>0</td>\n",
       "    </tr>\n",
       "    <tr>\n",
       "      <th>3</th>\n",
       "      <td>2</td>\n",
       "      <td>21</td>\n",
       "      <td>3</td>\n",
       "      <td>21</td>\n",
       "      <td>13</td>\n",
       "      <td>41</td>\n",
       "      <td>0</td>\n",
       "      <td>0</td>\n",
       "      <td>0</td>\n",
       "      <td>0</td>\n",
       "      <td>0</td>\n",
       "      <td>0</td>\n",
       "      <td>0</td>\n",
       "      <td>0</td>\n",
       "      <td>0</td>\n",
       "      <td>0</td>\n",
       "    </tr>\n",
       "    <tr>\n",
       "      <th>4</th>\n",
       "      <td>2</td>\n",
       "      <td>21</td>\n",
       "      <td>3</td>\n",
       "      <td>21</td>\n",
       "      <td>58</td>\n",
       "      <td>5</td>\n",
       "      <td>21</td>\n",
       "      <td>0</td>\n",
       "      <td>0</td>\n",
       "      <td>0</td>\n",
       "      <td>0</td>\n",
       "      <td>0</td>\n",
       "      <td>0</td>\n",
       "      <td>0</td>\n",
       "      <td>0</td>\n",
       "      <td>0</td>\n",
       "    </tr>\n",
       "  </tbody>\n",
       "</table>\n",
       "</div>"
      ],
      "text/plain": [
       "   0   1  2   3   4   5   6  7  8  9  10  11  12  13  14  15\n",
       "0  2  21  2  26   0   0   0  0  0  0   0   0   0   0   0   0\n",
       "1  2  21  2  27  42   0   0  0  0  0   0   0   0   0   0   0\n",
       "2  2  21  2  34   0   0   0  0  0  0   0   0   0   0   0   0\n",
       "3  2  21  3  21  13  41   0  0  0  0   0   0   0   0   0   0\n",
       "4  2  21  3  21  58   5  21  0  0  0   0   0   0   0   0   0"
      ]
     },
     "execution_count": 103,
     "metadata": {},
     "output_type": "execute_result"
    }
   ],
   "source": [
    "vec_spelling_df = pd.DataFrame(data.vec_spelling_pad.to_list())\n",
    "vec_spelling_df.head()"
   ]
  },
  {
   "cell_type": "code",
   "execution_count": 104,
   "metadata": {},
   "outputs": [
    {
     "data": {
      "text/html": [
       "<div>\n",
       "<style scoped>\n",
       "    .dataframe tbody tr th:only-of-type {\n",
       "        vertical-align: middle;\n",
       "    }\n",
       "\n",
       "    .dataframe tbody tr th {\n",
       "        vertical-align: top;\n",
       "    }\n",
       "\n",
       "    .dataframe thead th {\n",
       "        text-align: right;\n",
       "    }\n",
       "</style>\n",
       "<table border=\"1\" class=\"dataframe\">\n",
       "  <thead>\n",
       "    <tr style=\"text-align: right;\">\n",
       "      <th></th>\n",
       "      <th>0</th>\n",
       "      <th>1</th>\n",
       "      <th>2</th>\n",
       "      <th>3</th>\n",
       "      <th>4</th>\n",
       "      <th>5</th>\n",
       "      <th>6</th>\n",
       "      <th>7</th>\n",
       "      <th>8</th>\n",
       "      <th>9</th>\n",
       "      <th>10</th>\n",
       "      <th>11</th>\n",
       "      <th>12</th>\n",
       "      <th>13</th>\n",
       "      <th>14</th>\n",
       "      <th>15</th>\n",
       "      <th>16</th>\n",
       "    </tr>\n",
       "  </thead>\n",
       "  <tbody>\n",
       "    <tr>\n",
       "      <th>0</th>\n",
       "      <td>2</td>\n",
       "      <td>21</td>\n",
       "      <td>113</td>\n",
       "      <td>2</td>\n",
       "      <td>26</td>\n",
       "      <td>0</td>\n",
       "      <td>0</td>\n",
       "      <td>0</td>\n",
       "      <td>0</td>\n",
       "      <td>0</td>\n",
       "      <td>0</td>\n",
       "      <td>0</td>\n",
       "      <td>0</td>\n",
       "      <td>0</td>\n",
       "      <td>0</td>\n",
       "      <td>0</td>\n",
       "      <td>0</td>\n",
       "    </tr>\n",
       "    <tr>\n",
       "      <th>1</th>\n",
       "      <td>2</td>\n",
       "      <td>21</td>\n",
       "      <td>2</td>\n",
       "      <td>27</td>\n",
       "      <td>42</td>\n",
       "      <td>0</td>\n",
       "      <td>0</td>\n",
       "      <td>0</td>\n",
       "      <td>0</td>\n",
       "      <td>0</td>\n",
       "      <td>0</td>\n",
       "      <td>0</td>\n",
       "      <td>0</td>\n",
       "      <td>0</td>\n",
       "      <td>0</td>\n",
       "      <td>0</td>\n",
       "      <td>0</td>\n",
       "    </tr>\n",
       "    <tr>\n",
       "      <th>2</th>\n",
       "      <td>2</td>\n",
       "      <td>21</td>\n",
       "      <td>2</td>\n",
       "      <td>34</td>\n",
       "      <td>0</td>\n",
       "      <td>0</td>\n",
       "      <td>0</td>\n",
       "      <td>0</td>\n",
       "      <td>0</td>\n",
       "      <td>0</td>\n",
       "      <td>0</td>\n",
       "      <td>0</td>\n",
       "      <td>0</td>\n",
       "      <td>0</td>\n",
       "      <td>0</td>\n",
       "      <td>0</td>\n",
       "      <td>0</td>\n",
       "    </tr>\n",
       "    <tr>\n",
       "      <th>3</th>\n",
       "      <td>2</td>\n",
       "      <td>21</td>\n",
       "      <td>3</td>\n",
       "      <td>21</td>\n",
       "      <td>13</td>\n",
       "      <td>41</td>\n",
       "      <td>0</td>\n",
       "      <td>0</td>\n",
       "      <td>0</td>\n",
       "      <td>0</td>\n",
       "      <td>0</td>\n",
       "      <td>0</td>\n",
       "      <td>0</td>\n",
       "      <td>0</td>\n",
       "      <td>0</td>\n",
       "      <td>0</td>\n",
       "      <td>0</td>\n",
       "    </tr>\n",
       "    <tr>\n",
       "      <th>4</th>\n",
       "      <td>2</td>\n",
       "      <td>21</td>\n",
       "      <td>3</td>\n",
       "      <td>21</td>\n",
       "      <td>58</td>\n",
       "      <td>6</td>\n",
       "      <td>21</td>\n",
       "      <td>0</td>\n",
       "      <td>0</td>\n",
       "      <td>0</td>\n",
       "      <td>0</td>\n",
       "      <td>0</td>\n",
       "      <td>0</td>\n",
       "      <td>0</td>\n",
       "      <td>0</td>\n",
       "      <td>0</td>\n",
       "      <td>0</td>\n",
       "    </tr>\n",
       "  </tbody>\n",
       "</table>\n",
       "</div>"
      ],
      "text/plain": [
       "   0   1    2   3   4   5   6  7  8  9  10  11  12  13  14  15  16\n",
       "0  2  21  113   2  26   0   0  0  0  0   0   0   0   0   0   0   0\n",
       "1  2  21    2  27  42   0   0  0  0  0   0   0   0   0   0   0   0\n",
       "2  2  21    2  34   0   0   0  0  0  0   0   0   0   0   0   0   0\n",
       "3  2  21    3  21  13  41   0  0  0  0   0   0   0   0   0   0   0\n",
       "4  2  21    3  21  58   6  21  0  0  0   0   0   0   0   0   0   0"
      ]
     },
     "execution_count": 104,
     "metadata": {},
     "output_type": "execute_result"
    }
   ],
   "source": [
    "vec_pronunciation_df = pd.DataFrame(data.vec_pronunciation_pad.to_list())\n",
    "vec_pronunciation_df.head()"
   ]
  },
  {
   "cell_type": "code",
   "execution_count": 105,
   "metadata": {},
   "outputs": [],
   "source": [
    "# do some quick confirmation of process. 8170 was the subscript of the longest pronunciation (checked above), so\n",
    "# confirm that that's true here"
   ]
  },
  {
   "cell_type": "code",
   "execution_count": 106,
   "metadata": {},
   "outputs": [
    {
     "data": {
      "text/html": [
       "<div>\n",
       "<style scoped>\n",
       "    .dataframe tbody tr th:only-of-type {\n",
       "        vertical-align: middle;\n",
       "    }\n",
       "\n",
       "    .dataframe tbody tr th {\n",
       "        vertical-align: top;\n",
       "    }\n",
       "\n",
       "    .dataframe thead th {\n",
       "        text-align: right;\n",
       "    }\n",
       "</style>\n",
       "<table border=\"1\" class=\"dataframe\">\n",
       "  <thead>\n",
       "    <tr style=\"text-align: right;\">\n",
       "      <th></th>\n",
       "      <th>spelling</th>\n",
       "      <th>pronunciation</th>\n",
       "      <th>split_spelling</th>\n",
       "      <th>split_pronunciation</th>\n",
       "      <th>vec_spelling</th>\n",
       "      <th>vec_pronunciation</th>\n",
       "      <th>unvec_spelling</th>\n",
       "      <th>unvec_pronunciation</th>\n",
       "      <th>vec_spelling_pad</th>\n",
       "      <th>vec_pronunciation_pad</th>\n",
       "    </tr>\n",
       "  </thead>\n",
       "  <tbody>\n",
       "    <tr>\n",
       "      <th>8170</th>\n",
       "      <td>정정당당하다</td>\n",
       "      <td>정:정당당하다</td>\n",
       "      <td>ㅈㅓㅇㅈㅓㅇㄷㅏㅇㄷㅏㅇㅎㅏㄷㅏ</td>\n",
       "      <td>ㅈㅓㅇ:ㅈㅓㅇㄷㅏㅇㄷㅏㅇㅎㅏㄷㅏ</td>\n",
       "      <td>[14, 25, 62, 14, 25, 62, 5, 21, 62, 5, 21, 62,...</td>\n",
       "      <td>[14, 25, 62, 113, 14, 25, 62, 5, 21, 62, 5, 21...</td>\n",
       "      <td>정정당당하다</td>\n",
       "      <td>정:정당당하다</td>\n",
       "      <td>[14, 25, 62, 14, 25, 62, 5, 21, 62, 5, 21, 62,...</td>\n",
       "      <td>[14, 25, 62, 113, 14, 25, 62, 5, 21, 62, 5, 21...</td>\n",
       "    </tr>\n",
       "  </tbody>\n",
       "</table>\n",
       "</div>"
      ],
      "text/plain": [
       "     spelling pronunciation    split_spelling split_pronunciation  \\\n",
       "8170   정정당당하다       정:정당당하다  ㅈㅓㅇㅈㅓㅇㄷㅏㅇㄷㅏㅇㅎㅏㄷㅏ   ㅈㅓㅇ:ㅈㅓㅇㄷㅏㅇㄷㅏㅇㅎㅏㄷㅏ   \n",
       "\n",
       "                                           vec_spelling  \\\n",
       "8170  [14, 25, 62, 14, 25, 62, 5, 21, 62, 5, 21, 62,...   \n",
       "\n",
       "                                      vec_pronunciation unvec_spelling  \\\n",
       "8170  [14, 25, 62, 113, 14, 25, 62, 5, 21, 62, 5, 21...         정정당당하다   \n",
       "\n",
       "     unvec_pronunciation                                   vec_spelling_pad  \\\n",
       "8170             정:정당당하다  [14, 25, 62, 14, 25, 62, 5, 21, 62, 5, 21, 62,...   \n",
       "\n",
       "                                  vec_pronunciation_pad  \n",
       "8170  [14, 25, 62, 113, 14, 25, 62, 5, 21, 62, 5, 21...  "
      ]
     },
     "execution_count": 106,
     "metadata": {},
     "output_type": "execute_result"
    }
   ],
   "source": [
    "data[data.split_pronunciation.str.len() == 17]"
   ]
  },
  {
   "cell_type": "code",
   "execution_count": 107,
   "metadata": {},
   "outputs": [
    {
     "data": {
      "text/plain": [
       "0      14\n",
       "1      25\n",
       "2      62\n",
       "3     113\n",
       "4      14\n",
       "5      25\n",
       "6      62\n",
       "7       5\n",
       "8      21\n",
       "9      62\n",
       "10      5\n",
       "11     21\n",
       "12     62\n",
       "13     20\n",
       "14     21\n",
       "15      5\n",
       "16     21\n",
       "Name: 8170, dtype: int64"
      ]
     },
     "execution_count": 107,
     "metadata": {},
     "output_type": "execute_result"
    }
   ],
   "source": [
    "vec_pronunciation_df.iloc[8170]"
   ]
  },
  {
   "cell_type": "code",
   "execution_count": 108,
   "metadata": {},
   "outputs": [
    {
     "data": {
      "text/plain": [
       "'정:정당당하다'"
      ]
     },
     "execution_count": 108,
     "metadata": {},
     "output_type": "execute_result"
    }
   ],
   "source": [
    "unvectorize_norm(vec_pronunciation_df.iloc[8170].to_list())"
   ]
  },
  {
   "cell_type": "code",
   "execution_count": 109,
   "metadata": {},
   "outputs": [],
   "source": [
    "# write to file"
   ]
  },
  {
   "cell_type": "code",
   "execution_count": 110,
   "metadata": {},
   "outputs": [],
   "source": [
    "vec_spelling_df.to_csv(\"vec_spelling.csv\", index=False, sep=\"\\t\")"
   ]
  },
  {
   "cell_type": "code",
   "execution_count": 111,
   "metadata": {},
   "outputs": [],
   "source": [
    "vec_pronunciation_df.to_csv(\"vec_pronunciation.csv\", index=False, sep=\"\\t\")"
   ]
  },
  {
   "cell_type": "code",
   "execution_count": 112,
   "metadata": {},
   "outputs": [],
   "source": [
    "# confirm content written correctly"
   ]
  },
  {
   "cell_type": "code",
   "execution_count": 113,
   "metadata": {},
   "outputs": [
    {
     "data": {
      "text/html": [
       "<div>\n",
       "<style scoped>\n",
       "    .dataframe tbody tr th:only-of-type {\n",
       "        vertical-align: middle;\n",
       "    }\n",
       "\n",
       "    .dataframe tbody tr th {\n",
       "        vertical-align: top;\n",
       "    }\n",
       "\n",
       "    .dataframe thead th {\n",
       "        text-align: right;\n",
       "    }\n",
       "</style>\n",
       "<table border=\"1\" class=\"dataframe\">\n",
       "  <thead>\n",
       "    <tr style=\"text-align: right;\">\n",
       "      <th></th>\n",
       "      <th>0</th>\n",
       "      <th>1</th>\n",
       "      <th>2</th>\n",
       "      <th>3</th>\n",
       "      <th>4</th>\n",
       "      <th>5</th>\n",
       "      <th>6</th>\n",
       "      <th>7</th>\n",
       "      <th>8</th>\n",
       "      <th>9</th>\n",
       "      <th>10</th>\n",
       "      <th>11</th>\n",
       "      <th>12</th>\n",
       "      <th>13</th>\n",
       "      <th>14</th>\n",
       "      <th>15</th>\n",
       "    </tr>\n",
       "  </thead>\n",
       "  <tbody>\n",
       "    <tr>\n",
       "      <th>0</th>\n",
       "      <td>2</td>\n",
       "      <td>21</td>\n",
       "      <td>2</td>\n",
       "      <td>26</td>\n",
       "      <td>0</td>\n",
       "      <td>0</td>\n",
       "      <td>0</td>\n",
       "      <td>0</td>\n",
       "      <td>0</td>\n",
       "      <td>0</td>\n",
       "      <td>0</td>\n",
       "      <td>0</td>\n",
       "      <td>0</td>\n",
       "      <td>0</td>\n",
       "      <td>0</td>\n",
       "      <td>0</td>\n",
       "    </tr>\n",
       "    <tr>\n",
       "      <th>1</th>\n",
       "      <td>2</td>\n",
       "      <td>21</td>\n",
       "      <td>2</td>\n",
       "      <td>27</td>\n",
       "      <td>42</td>\n",
       "      <td>0</td>\n",
       "      <td>0</td>\n",
       "      <td>0</td>\n",
       "      <td>0</td>\n",
       "      <td>0</td>\n",
       "      <td>0</td>\n",
       "      <td>0</td>\n",
       "      <td>0</td>\n",
       "      <td>0</td>\n",
       "      <td>0</td>\n",
       "      <td>0</td>\n",
       "    </tr>\n",
       "    <tr>\n",
       "      <th>2</th>\n",
       "      <td>2</td>\n",
       "      <td>21</td>\n",
       "      <td>2</td>\n",
       "      <td>34</td>\n",
       "      <td>0</td>\n",
       "      <td>0</td>\n",
       "      <td>0</td>\n",
       "      <td>0</td>\n",
       "      <td>0</td>\n",
       "      <td>0</td>\n",
       "      <td>0</td>\n",
       "      <td>0</td>\n",
       "      <td>0</td>\n",
       "      <td>0</td>\n",
       "      <td>0</td>\n",
       "      <td>0</td>\n",
       "    </tr>\n",
       "    <tr>\n",
       "      <th>3</th>\n",
       "      <td>2</td>\n",
       "      <td>21</td>\n",
       "      <td>3</td>\n",
       "      <td>21</td>\n",
       "      <td>13</td>\n",
       "      <td>41</td>\n",
       "      <td>0</td>\n",
       "      <td>0</td>\n",
       "      <td>0</td>\n",
       "      <td>0</td>\n",
       "      <td>0</td>\n",
       "      <td>0</td>\n",
       "      <td>0</td>\n",
       "      <td>0</td>\n",
       "      <td>0</td>\n",
       "      <td>0</td>\n",
       "    </tr>\n",
       "    <tr>\n",
       "      <th>4</th>\n",
       "      <td>2</td>\n",
       "      <td>21</td>\n",
       "      <td>3</td>\n",
       "      <td>21</td>\n",
       "      <td>58</td>\n",
       "      <td>5</td>\n",
       "      <td>21</td>\n",
       "      <td>0</td>\n",
       "      <td>0</td>\n",
       "      <td>0</td>\n",
       "      <td>0</td>\n",
       "      <td>0</td>\n",
       "      <td>0</td>\n",
       "      <td>0</td>\n",
       "      <td>0</td>\n",
       "      <td>0</td>\n",
       "    </tr>\n",
       "  </tbody>\n",
       "</table>\n",
       "</div>"
      ],
      "text/plain": [
       "   0   1  2   3   4   5   6  7  8  9  10  11  12  13  14  15\n",
       "0  2  21  2  26   0   0   0  0  0  0   0   0   0   0   0   0\n",
       "1  2  21  2  27  42   0   0  0  0  0   0   0   0   0   0   0\n",
       "2  2  21  2  34   0   0   0  0  0  0   0   0   0   0   0   0\n",
       "3  2  21  3  21  13  41   0  0  0  0   0   0   0   0   0   0\n",
       "4  2  21  3  21  58   5  21  0  0  0   0   0   0   0   0   0"
      ]
     },
     "execution_count": 113,
     "metadata": {},
     "output_type": "execute_result"
    }
   ],
   "source": [
    "confirm = pd.read_csv(\"vec_spelling.csv\", sep=\"\\t\")\n",
    "confirm.head()"
   ]
  },
  {
   "cell_type": "code",
   "execution_count": 114,
   "metadata": {},
   "outputs": [
    {
     "data": {
      "text/plain": [
       "10120"
      ]
     },
     "execution_count": 114,
     "metadata": {},
     "output_type": "execute_result"
    }
   ],
   "source": [
    "len(confirm)"
   ]
  },
  {
   "cell_type": "code",
   "execution_count": 115,
   "metadata": {},
   "outputs": [
    {
     "data": {
      "text/html": [
       "<div>\n",
       "<style scoped>\n",
       "    .dataframe tbody tr th:only-of-type {\n",
       "        vertical-align: middle;\n",
       "    }\n",
       "\n",
       "    .dataframe tbody tr th {\n",
       "        vertical-align: top;\n",
       "    }\n",
       "\n",
       "    .dataframe thead th {\n",
       "        text-align: right;\n",
       "    }\n",
       "</style>\n",
       "<table border=\"1\" class=\"dataframe\">\n",
       "  <thead>\n",
       "    <tr style=\"text-align: right;\">\n",
       "      <th></th>\n",
       "      <th>0</th>\n",
       "      <th>1</th>\n",
       "      <th>2</th>\n",
       "      <th>3</th>\n",
       "      <th>4</th>\n",
       "      <th>5</th>\n",
       "      <th>6</th>\n",
       "      <th>7</th>\n",
       "      <th>8</th>\n",
       "      <th>9</th>\n",
       "      <th>10</th>\n",
       "      <th>11</th>\n",
       "      <th>12</th>\n",
       "      <th>13</th>\n",
       "      <th>14</th>\n",
       "      <th>15</th>\n",
       "      <th>16</th>\n",
       "    </tr>\n",
       "  </thead>\n",
       "  <tbody>\n",
       "    <tr>\n",
       "      <th>0</th>\n",
       "      <td>2</td>\n",
       "      <td>21</td>\n",
       "      <td>113</td>\n",
       "      <td>2</td>\n",
       "      <td>26</td>\n",
       "      <td>0</td>\n",
       "      <td>0</td>\n",
       "      <td>0</td>\n",
       "      <td>0</td>\n",
       "      <td>0</td>\n",
       "      <td>0</td>\n",
       "      <td>0</td>\n",
       "      <td>0</td>\n",
       "      <td>0</td>\n",
       "      <td>0</td>\n",
       "      <td>0</td>\n",
       "      <td>0</td>\n",
       "    </tr>\n",
       "    <tr>\n",
       "      <th>1</th>\n",
       "      <td>2</td>\n",
       "      <td>21</td>\n",
       "      <td>2</td>\n",
       "      <td>27</td>\n",
       "      <td>42</td>\n",
       "      <td>0</td>\n",
       "      <td>0</td>\n",
       "      <td>0</td>\n",
       "      <td>0</td>\n",
       "      <td>0</td>\n",
       "      <td>0</td>\n",
       "      <td>0</td>\n",
       "      <td>0</td>\n",
       "      <td>0</td>\n",
       "      <td>0</td>\n",
       "      <td>0</td>\n",
       "      <td>0</td>\n",
       "    </tr>\n",
       "    <tr>\n",
       "      <th>2</th>\n",
       "      <td>2</td>\n",
       "      <td>21</td>\n",
       "      <td>2</td>\n",
       "      <td>34</td>\n",
       "      <td>0</td>\n",
       "      <td>0</td>\n",
       "      <td>0</td>\n",
       "      <td>0</td>\n",
       "      <td>0</td>\n",
       "      <td>0</td>\n",
       "      <td>0</td>\n",
       "      <td>0</td>\n",
       "      <td>0</td>\n",
       "      <td>0</td>\n",
       "      <td>0</td>\n",
       "      <td>0</td>\n",
       "      <td>0</td>\n",
       "    </tr>\n",
       "    <tr>\n",
       "      <th>3</th>\n",
       "      <td>2</td>\n",
       "      <td>21</td>\n",
       "      <td>3</td>\n",
       "      <td>21</td>\n",
       "      <td>13</td>\n",
       "      <td>41</td>\n",
       "      <td>0</td>\n",
       "      <td>0</td>\n",
       "      <td>0</td>\n",
       "      <td>0</td>\n",
       "      <td>0</td>\n",
       "      <td>0</td>\n",
       "      <td>0</td>\n",
       "      <td>0</td>\n",
       "      <td>0</td>\n",
       "      <td>0</td>\n",
       "      <td>0</td>\n",
       "    </tr>\n",
       "    <tr>\n",
       "      <th>4</th>\n",
       "      <td>2</td>\n",
       "      <td>21</td>\n",
       "      <td>3</td>\n",
       "      <td>21</td>\n",
       "      <td>58</td>\n",
       "      <td>6</td>\n",
       "      <td>21</td>\n",
       "      <td>0</td>\n",
       "      <td>0</td>\n",
       "      <td>0</td>\n",
       "      <td>0</td>\n",
       "      <td>0</td>\n",
       "      <td>0</td>\n",
       "      <td>0</td>\n",
       "      <td>0</td>\n",
       "      <td>0</td>\n",
       "      <td>0</td>\n",
       "    </tr>\n",
       "  </tbody>\n",
       "</table>\n",
       "</div>"
      ],
      "text/plain": [
       "   0   1    2   3   4   5   6  7  8  9  10  11  12  13  14  15  16\n",
       "0  2  21  113   2  26   0   0  0  0  0   0   0   0   0   0   0   0\n",
       "1  2  21    2  27  42   0   0  0  0  0   0   0   0   0   0   0   0\n",
       "2  2  21    2  34   0   0   0  0  0  0   0   0   0   0   0   0   0\n",
       "3  2  21    3  21  13  41   0  0  0  0   0   0   0   0   0   0   0\n",
       "4  2  21    3  21  58   6  21  0  0  0   0   0   0   0   0   0   0"
      ]
     },
     "execution_count": 115,
     "metadata": {},
     "output_type": "execute_result"
    }
   ],
   "source": [
    "confirm = pd.read_csv(\"vec_pronunciation.csv\", sep=\"\\t\")\n",
    "confirm.head()"
   ]
  },
  {
   "cell_type": "code",
   "execution_count": 116,
   "metadata": {},
   "outputs": [
    {
     "data": {
      "text/plain": [
       "10120"
      ]
     },
     "execution_count": 116,
     "metadata": {},
     "output_type": "execute_result"
    }
   ],
   "source": [
    "len(confirm)"
   ]
  },
  {
   "cell_type": "code",
   "execution_count": null,
   "metadata": {},
   "outputs": [],
   "source": []
  }
 ],
 "metadata": {
  "kernelspec": {
   "display_name": "Python 3",
   "language": "python",
   "name": "python3"
  },
  "language_info": {
   "codemirror_mode": {
    "name": "ipython",
    "version": 3
   },
   "file_extension": ".py",
   "mimetype": "text/x-python",
   "name": "python",
   "nbconvert_exporter": "python",
   "pygments_lexer": "ipython3",
   "version": "3.7.6"
  }
 },
 "nbformat": 4,
 "nbformat_minor": 4
}
