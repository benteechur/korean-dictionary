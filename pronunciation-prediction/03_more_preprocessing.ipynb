{
 "cells": [
  {
   "cell_type": "code",
   "execution_count": 1,
   "metadata": {},
   "outputs": [],
   "source": [
    "import re\n",
    "import numpy as np\n",
    "import pandas as pd\n",
    "from jamotools import Vectorizationer, rules\n",
    "from unicodedata import normalize"
   ]
  },
  {
   "cell_type": "code",
   "execution_count": 2,
   "metadata": {},
   "outputs": [],
   "source": [
    "# specify additional null value \"NONE\""
   ]
  },
  {
   "cell_type": "code",
   "execution_count": 3,
   "metadata": {},
   "outputs": [
    {
     "data": {
      "text/html": [
       "<div>\n",
       "<style scoped>\n",
       "    .dataframe tbody tr th:only-of-type {\n",
       "        vertical-align: middle;\n",
       "    }\n",
       "\n",
       "    .dataframe tbody tr th {\n",
       "        vertical-align: top;\n",
       "    }\n",
       "\n",
       "    .dataframe thead th {\n",
       "        text-align: right;\n",
       "    }\n",
       "</style>\n",
       "<table border=\"1\" class=\"dataframe\">\n",
       "  <thead>\n",
       "    <tr style=\"text-align: right;\">\n",
       "      <th></th>\n",
       "      <th>entry_id</th>\n",
       "      <th>word_id</th>\n",
       "      <th>spelling</th>\n",
       "      <th>pronunciation</th>\n",
       "    </tr>\n",
       "  </thead>\n",
       "  <tbody>\n",
       "    <tr>\n",
       "      <th>0</th>\n",
       "      <td>13943</td>\n",
       "      <td>역사학</td>\n",
       "      <td>역사학</td>\n",
       "      <td>역싸학</td>\n",
       "    </tr>\n",
       "    <tr>\n",
       "      <th>1</th>\n",
       "      <td>13943</td>\n",
       "      <td>역사학</td>\n",
       "      <td>역사학이</td>\n",
       "      <td>역싸하기</td>\n",
       "    </tr>\n",
       "    <tr>\n",
       "      <th>2</th>\n",
       "      <td>13943</td>\n",
       "      <td>역사학</td>\n",
       "      <td>역사학도</td>\n",
       "      <td>역싸학또</td>\n",
       "    </tr>\n",
       "    <tr>\n",
       "      <th>3</th>\n",
       "      <td>13943</td>\n",
       "      <td>역사학</td>\n",
       "      <td>역사학만</td>\n",
       "      <td>역싸항만</td>\n",
       "    </tr>\n",
       "    <tr>\n",
       "      <th>4</th>\n",
       "      <td>13955</td>\n",
       "      <td>시내버스</td>\n",
       "      <td>시내버스</td>\n",
       "      <td>NaN</td>\n",
       "    </tr>\n",
       "  </tbody>\n",
       "</table>\n",
       "</div>"
      ],
      "text/plain": [
       "   entry_id word_id spelling pronunciation\n",
       "0     13943     역사학      역사학           역싸학\n",
       "1     13943     역사학     역사학이          역싸하기\n",
       "2     13943     역사학     역사학도          역싸학또\n",
       "3     13943     역사학     역사학만          역싸항만\n",
       "4     13955    시내버스     시내버스           NaN"
      ]
     },
     "execution_count": 3,
     "metadata": {},
     "output_type": "execute_result"
    }
   ],
   "source": [
    "data = pd.read_csv(\"../web-scraping/pronunciation_all.csv\", sep=\"\\t\", na_values=\"NONE\")\n",
    "data.head()"
   ]
  },
  {
   "cell_type": "code",
   "execution_count": 4,
   "metadata": {},
   "outputs": [
    {
     "name": "stdout",
     "output_type": "stream",
     "text": [
      "<class 'pandas.core.frame.DataFrame'>\n",
      "RangeIndex: 87771 entries, 0 to 87770\n",
      "Data columns (total 4 columns):\n",
      " #   Column         Non-Null Count  Dtype \n",
      "---  ------         --------------  ----- \n",
      " 0   entry_id       87771 non-null  int64 \n",
      " 1   word_id        87771 non-null  object\n",
      " 2   spelling       87771 non-null  object\n",
      " 3   pronunciation  81080 non-null  object\n",
      "dtypes: int64(1), object(3)\n",
      "memory usage: 2.7+ MB\n"
     ]
    }
   ],
   "source": [
    "data.info()"
   ]
  },
  {
   "cell_type": "code",
   "execution_count": 5,
   "metadata": {},
   "outputs": [
    {
     "data": {
      "text/html": [
       "<div>\n",
       "<style scoped>\n",
       "    .dataframe tbody tr th:only-of-type {\n",
       "        vertical-align: middle;\n",
       "    }\n",
       "\n",
       "    .dataframe tbody tr th {\n",
       "        vertical-align: top;\n",
       "    }\n",
       "\n",
       "    .dataframe thead th {\n",
       "        text-align: right;\n",
       "    }\n",
       "</style>\n",
       "<table border=\"1\" class=\"dataframe\">\n",
       "  <thead>\n",
       "    <tr style=\"text-align: right;\">\n",
       "      <th></th>\n",
       "      <th>entry_id</th>\n",
       "      <th>word_id</th>\n",
       "      <th>spelling</th>\n",
       "      <th>pronunciation</th>\n",
       "    </tr>\n",
       "  </thead>\n",
       "  <tbody>\n",
       "    <tr>\n",
       "      <th>4</th>\n",
       "      <td>13955</td>\n",
       "      <td>시내버스</td>\n",
       "      <td>시내버스</td>\n",
       "      <td>NaN</td>\n",
       "    </tr>\n",
       "    <tr>\n",
       "      <th>15</th>\n",
       "      <td>13962</td>\n",
       "      <td>시디</td>\n",
       "      <td>시디</td>\n",
       "      <td>NaN</td>\n",
       "    </tr>\n",
       "    <tr>\n",
       "      <th>16</th>\n",
       "      <td>13963</td>\n",
       "      <td>시디롬</td>\n",
       "      <td>시디롬</td>\n",
       "      <td>NaN</td>\n",
       "    </tr>\n",
       "    <tr>\n",
       "      <th>17</th>\n",
       "      <td>13964</td>\n",
       "      <td>시멘트</td>\n",
       "      <td>시멘트</td>\n",
       "      <td>NaN</td>\n",
       "    </tr>\n",
       "    <tr>\n",
       "      <th>19</th>\n",
       "      <td>13966</td>\n",
       "      <td>시스템</td>\n",
       "      <td>시스템</td>\n",
       "      <td>NaN</td>\n",
       "    </tr>\n",
       "    <tr>\n",
       "      <th>22</th>\n",
       "      <td>13969</td>\n",
       "      <td>시외버스</td>\n",
       "      <td>시외버스</td>\n",
       "      <td>NaN</td>\n",
       "    </tr>\n",
       "    <tr>\n",
       "      <th>37</th>\n",
       "      <td>13981</td>\n",
       "      <td>시즌</td>\n",
       "      <td>시즌</td>\n",
       "      <td>NaN</td>\n",
       "    </tr>\n",
       "    <tr>\n",
       "      <th>331</th>\n",
       "      <td>14178</td>\n",
       "      <td>과실 치사</td>\n",
       "      <td>과실 치사</td>\n",
       "      <td>NaN</td>\n",
       "    </tr>\n",
       "    <tr>\n",
       "      <th>462</th>\n",
       "      <td>14284</td>\n",
       "      <td>앨범</td>\n",
       "      <td>앨범</td>\n",
       "      <td>NaN</td>\n",
       "    </tr>\n",
       "    <tr>\n",
       "      <th>529</th>\n",
       "      <td>14320</td>\n",
       "      <td>간접 경험</td>\n",
       "      <td>간접 경험</td>\n",
       "      <td>NaN</td>\n",
       "    </tr>\n",
       "    <tr>\n",
       "      <th>576</th>\n",
       "      <td>14347</td>\n",
       "      <td>대입2</td>\n",
       "      <td>대입</td>\n",
       "      <td>NaN</td>\n",
       "    </tr>\n",
       "    <tr>\n",
       "      <th>596</th>\n",
       "      <td>14370</td>\n",
       "      <td>댐</td>\n",
       "      <td>댐</td>\n",
       "      <td>NaN</td>\n",
       "    </tr>\n",
       "    <tr>\n",
       "      <th>610</th>\n",
       "      <td>14381</td>\n",
       "      <td>데이트</td>\n",
       "      <td>데이트</td>\n",
       "      <td>NaN</td>\n",
       "    </tr>\n",
       "    <tr>\n",
       "      <th>718</th>\n",
       "      <td>14466</td>\n",
       "      <td>벤치</td>\n",
       "      <td>벤치</td>\n",
       "      <td>NaN</td>\n",
       "    </tr>\n",
       "    <tr>\n",
       "      <th>733</th>\n",
       "      <td>14477</td>\n",
       "      <td>라운드</td>\n",
       "      <td>라운드</td>\n",
       "      <td>NaN</td>\n",
       "    </tr>\n",
       "  </tbody>\n",
       "</table>\n",
       "</div>"
      ],
      "text/plain": [
       "     entry_id word_id spelling pronunciation\n",
       "4       13955    시내버스     시내버스           NaN\n",
       "15      13962      시디       시디           NaN\n",
       "16      13963     시디롬      시디롬           NaN\n",
       "17      13964     시멘트      시멘트           NaN\n",
       "19      13966     시스템      시스템           NaN\n",
       "22      13969    시외버스     시외버스           NaN\n",
       "37      13981      시즌       시즌           NaN\n",
       "331     14178   과실 치사    과실 치사           NaN\n",
       "462     14284      앨범       앨범           NaN\n",
       "529     14320   간접 경험    간접 경험           NaN\n",
       "576     14347     대입2       대입           NaN\n",
       "596     14370       댐        댐           NaN\n",
       "610     14381     데이트      데이트           NaN\n",
       "718     14466      벤치       벤치           NaN\n",
       "733     14477     라운드      라운드           NaN"
      ]
     },
     "execution_count": 5,
     "metadata": {},
     "output_type": "execute_result"
    }
   ],
   "source": [
    "data[data.pronunciation.isnull()].head(15)"
   ]
  },
  {
   "cell_type": "code",
   "execution_count": 6,
   "metadata": {},
   "outputs": [],
   "source": [
    "# drop rows with null values in pronunciation before masking to check for English and Chinese loan words"
   ]
  },
  {
   "cell_type": "code",
   "execution_count": 7,
   "metadata": {},
   "outputs": [
    {
     "data": {
      "text/plain": [
       "81080"
      ]
     },
     "execution_count": 7,
     "metadata": {},
     "output_type": "execute_result"
    }
   ],
   "source": [
    "data_drop_null = data[data.pronunciation.notna()]\n",
    "len(data_drop_null)"
   ]
  },
  {
   "cell_type": "code",
   "execution_count": 8,
   "metadata": {},
   "outputs": [],
   "source": [
    "# check for Chinese characters"
   ]
  },
  {
   "cell_type": "code",
   "execution_count": 9,
   "metadata": {},
   "outputs": [
    {
     "data": {
      "text/html": [
       "<div>\n",
       "<style scoped>\n",
       "    .dataframe tbody tr th:only-of-type {\n",
       "        vertical-align: middle;\n",
       "    }\n",
       "\n",
       "    .dataframe tbody tr th {\n",
       "        vertical-align: top;\n",
       "    }\n",
       "\n",
       "    .dataframe thead th {\n",
       "        text-align: right;\n",
       "    }\n",
       "</style>\n",
       "<table border=\"1\" class=\"dataframe\">\n",
       "  <thead>\n",
       "    <tr style=\"text-align: right;\">\n",
       "      <th></th>\n",
       "      <th>entry_id</th>\n",
       "      <th>word_id</th>\n",
       "      <th>spelling</th>\n",
       "      <th>pronunciation</th>\n",
       "    </tr>\n",
       "  </thead>\n",
       "  <tbody>\n",
       "  </tbody>\n",
       "</table>\n",
       "</div>"
      ],
      "text/plain": [
       "Empty DataFrame\n",
       "Columns: [entry_id, word_id, spelling, pronunciation]\n",
       "Index: []"
      ]
     },
     "execution_count": 9,
     "metadata": {},
     "output_type": "execute_result"
    }
   ],
   "source": [
    "data_drop_null[data_drop_null.pronunciation.str.contains(u'[\\u4e00-\\u9fff]', regex=True)]"
   ]
  },
  {
   "cell_type": "code",
   "execution_count": 10,
   "metadata": {},
   "outputs": [
    {
     "data": {
      "text/html": [
       "<div>\n",
       "<style scoped>\n",
       "    .dataframe tbody tr th:only-of-type {\n",
       "        vertical-align: middle;\n",
       "    }\n",
       "\n",
       "    .dataframe tbody tr th {\n",
       "        vertical-align: top;\n",
       "    }\n",
       "\n",
       "    .dataframe thead th {\n",
       "        text-align: right;\n",
       "    }\n",
       "</style>\n",
       "<table border=\"1\" class=\"dataframe\">\n",
       "  <thead>\n",
       "    <tr style=\"text-align: right;\">\n",
       "      <th></th>\n",
       "      <th>entry_id</th>\n",
       "      <th>word_id</th>\n",
       "      <th>spelling</th>\n",
       "      <th>pronunciation</th>\n",
       "    </tr>\n",
       "  </thead>\n",
       "  <tbody>\n",
       "  </tbody>\n",
       "</table>\n",
       "</div>"
      ],
      "text/plain": [
       "Empty DataFrame\n",
       "Columns: [entry_id, word_id, spelling, pronunciation]\n",
       "Index: []"
      ]
     },
     "execution_count": 10,
     "metadata": {},
     "output_type": "execute_result"
    }
   ],
   "source": [
    "data_drop_null[data_drop_null.spelling.str.contains(u'[\\u4e00-\\u9fff]', regex=True)]"
   ]
  },
  {
   "cell_type": "code",
   "execution_count": 11,
   "metadata": {},
   "outputs": [],
   "source": [
    "# check for English lowercase letters "
   ]
  },
  {
   "cell_type": "code",
   "execution_count": 12,
   "metadata": {},
   "outputs": [
    {
     "data": {
      "text/html": [
       "<div>\n",
       "<style scoped>\n",
       "    .dataframe tbody tr th:only-of-type {\n",
       "        vertical-align: middle;\n",
       "    }\n",
       "\n",
       "    .dataframe tbody tr th {\n",
       "        vertical-align: top;\n",
       "    }\n",
       "\n",
       "    .dataframe thead th {\n",
       "        text-align: right;\n",
       "    }\n",
       "</style>\n",
       "<table border=\"1\" class=\"dataframe\">\n",
       "  <thead>\n",
       "    <tr style=\"text-align: right;\">\n",
       "      <th></th>\n",
       "      <th>entry_id</th>\n",
       "      <th>word_id</th>\n",
       "      <th>spelling</th>\n",
       "      <th>pronunciation</th>\n",
       "    </tr>\n",
       "  </thead>\n",
       "  <tbody>\n",
       "  </tbody>\n",
       "</table>\n",
       "</div>"
      ],
      "text/plain": [
       "Empty DataFrame\n",
       "Columns: [entry_id, word_id, spelling, pronunciation]\n",
       "Index: []"
      ]
     },
     "execution_count": 12,
     "metadata": {},
     "output_type": "execute_result"
    }
   ],
   "source": [
    "data_drop_null[data_drop_null.pronunciation.str.contains(u'[\\u0061-\\u007A]', regex=True)]"
   ]
  },
  {
   "cell_type": "code",
   "execution_count": 13,
   "metadata": {},
   "outputs": [
    {
     "data": {
      "text/html": [
       "<div>\n",
       "<style scoped>\n",
       "    .dataframe tbody tr th:only-of-type {\n",
       "        vertical-align: middle;\n",
       "    }\n",
       "\n",
       "    .dataframe tbody tr th {\n",
       "        vertical-align: top;\n",
       "    }\n",
       "\n",
       "    .dataframe thead th {\n",
       "        text-align: right;\n",
       "    }\n",
       "</style>\n",
       "<table border=\"1\" class=\"dataframe\">\n",
       "  <thead>\n",
       "    <tr style=\"text-align: right;\">\n",
       "      <th></th>\n",
       "      <th>entry_id</th>\n",
       "      <th>word_id</th>\n",
       "      <th>spelling</th>\n",
       "      <th>pronunciation</th>\n",
       "    </tr>\n",
       "  </thead>\n",
       "  <tbody>\n",
       "  </tbody>\n",
       "</table>\n",
       "</div>"
      ],
      "text/plain": [
       "Empty DataFrame\n",
       "Columns: [entry_id, word_id, spelling, pronunciation]\n",
       "Index: []"
      ]
     },
     "execution_count": 13,
     "metadata": {},
     "output_type": "execute_result"
    }
   ],
   "source": [
    "data_drop_null[data_drop_null.spelling.str.contains(u'[\\u0061-\\u007A]', regex=True)]"
   ]
  },
  {
   "cell_type": "code",
   "execution_count": 14,
   "metadata": {},
   "outputs": [],
   "source": [
    "# check for English uppercase letters"
   ]
  },
  {
   "cell_type": "code",
   "execution_count": 15,
   "metadata": {},
   "outputs": [
    {
     "data": {
      "text/html": [
       "<div>\n",
       "<style scoped>\n",
       "    .dataframe tbody tr th:only-of-type {\n",
       "        vertical-align: middle;\n",
       "    }\n",
       "\n",
       "    .dataframe tbody tr th {\n",
       "        vertical-align: top;\n",
       "    }\n",
       "\n",
       "    .dataframe thead th {\n",
       "        text-align: right;\n",
       "    }\n",
       "</style>\n",
       "<table border=\"1\" class=\"dataframe\">\n",
       "  <thead>\n",
       "    <tr style=\"text-align: right;\">\n",
       "      <th></th>\n",
       "      <th>entry_id</th>\n",
       "      <th>word_id</th>\n",
       "      <th>spelling</th>\n",
       "      <th>pronunciation</th>\n",
       "    </tr>\n",
       "  </thead>\n",
       "  <tbody>\n",
       "  </tbody>\n",
       "</table>\n",
       "</div>"
      ],
      "text/plain": [
       "Empty DataFrame\n",
       "Columns: [entry_id, word_id, spelling, pronunciation]\n",
       "Index: []"
      ]
     },
     "execution_count": 15,
     "metadata": {},
     "output_type": "execute_result"
    }
   ],
   "source": [
    "data_drop_null[data_drop_null.pronunciation.str.contains(u'[\\u0041-\\u005A]', regex=True)]"
   ]
  },
  {
   "cell_type": "code",
   "execution_count": 16,
   "metadata": {},
   "outputs": [
    {
     "data": {
      "text/html": [
       "<div>\n",
       "<style scoped>\n",
       "    .dataframe tbody tr th:only-of-type {\n",
       "        vertical-align: middle;\n",
       "    }\n",
       "\n",
       "    .dataframe tbody tr th {\n",
       "        vertical-align: top;\n",
       "    }\n",
       "\n",
       "    .dataframe thead th {\n",
       "        text-align: right;\n",
       "    }\n",
       "</style>\n",
       "<table border=\"1\" class=\"dataframe\">\n",
       "  <thead>\n",
       "    <tr style=\"text-align: right;\">\n",
       "      <th></th>\n",
       "      <th>entry_id</th>\n",
       "      <th>word_id</th>\n",
       "      <th>spelling</th>\n",
       "      <th>pronunciation</th>\n",
       "    </tr>\n",
       "  </thead>\n",
       "  <tbody>\n",
       "  </tbody>\n",
       "</table>\n",
       "</div>"
      ],
      "text/plain": [
       "Empty DataFrame\n",
       "Columns: [entry_id, word_id, spelling, pronunciation]\n",
       "Index: []"
      ]
     },
     "execution_count": 16,
     "metadata": {},
     "output_type": "execute_result"
    }
   ],
   "source": [
    "data_drop_null[data_drop_null.spelling.str.contains(u'[\\u0041-\\u005A]', regex=True)]"
   ]
  },
  {
   "cell_type": "code",
   "execution_count": 17,
   "metadata": {},
   "outputs": [],
   "source": [
    "# check for duplicates"
   ]
  },
  {
   "cell_type": "code",
   "execution_count": 18,
   "metadata": {},
   "outputs": [
    {
     "data": {
      "text/plain": [
       "81075"
      ]
     },
     "execution_count": 18,
     "metadata": {},
     "output_type": "execute_result"
    }
   ],
   "source": [
    "len(data_drop_null.drop_duplicates())"
   ]
  },
  {
   "cell_type": "code",
   "execution_count": 19,
   "metadata": {},
   "outputs": [
    {
     "data": {
      "text/html": [
       "<div>\n",
       "<style scoped>\n",
       "    .dataframe tbody tr th:only-of-type {\n",
       "        vertical-align: middle;\n",
       "    }\n",
       "\n",
       "    .dataframe tbody tr th {\n",
       "        vertical-align: top;\n",
       "    }\n",
       "\n",
       "    .dataframe thead th {\n",
       "        text-align: right;\n",
       "    }\n",
       "</style>\n",
       "<table border=\"1\" class=\"dataframe\">\n",
       "  <thead>\n",
       "    <tr style=\"text-align: right;\">\n",
       "      <th></th>\n",
       "      <th>entry_id</th>\n",
       "      <th>word_id</th>\n",
       "      <th>spelling</th>\n",
       "      <th>pronunciation</th>\n",
       "    </tr>\n",
       "  </thead>\n",
       "  <tbody>\n",
       "    <tr>\n",
       "      <th>2425</th>\n",
       "      <td>15639</td>\n",
       "      <td>수입되다</td>\n",
       "      <td>수입되는</td>\n",
       "      <td>수입뙤는/수입뛔는</td>\n",
       "    </tr>\n",
       "    <tr>\n",
       "      <th>11201</th>\n",
       "      <td>27284</td>\n",
       "      <td>고착시키다</td>\n",
       "      <td>고착시키는</td>\n",
       "      <td>고착씨키는</td>\n",
       "    </tr>\n",
       "    <tr>\n",
       "      <th>11472</th>\n",
       "      <td>27702</td>\n",
       "      <td>곧이듣다</td>\n",
       "      <td>곧이듣는</td>\n",
       "      <td>고지든는</td>\n",
       "    </tr>\n",
       "    <tr>\n",
       "      <th>16785</th>\n",
       "      <td>36706</td>\n",
       "      <td>구지레하다</td>\n",
       "      <td>구지레한</td>\n",
       "      <td>구지레한</td>\n",
       "    </tr>\n",
       "    <tr>\n",
       "      <th>80742</th>\n",
       "      <td>88358</td>\n",
       "      <td>노닥대다</td>\n",
       "      <td>노닥대는</td>\n",
       "      <td>노닥때는</td>\n",
       "    </tr>\n",
       "  </tbody>\n",
       "</table>\n",
       "</div>"
      ],
      "text/plain": [
       "       entry_id word_id spelling pronunciation\n",
       "2425      15639    수입되다     수입되는     수입뙤는/수입뛔는\n",
       "11201     27284   고착시키다    고착시키는         고착씨키는\n",
       "11472     27702    곧이듣다     곧이듣는          고지든는\n",
       "16785     36706   구지레하다     구지레한          구지레한\n",
       "80742     88358    노닥대다     노닥대는          노닥때는"
      ]
     },
     "execution_count": 19,
     "metadata": {},
     "output_type": "execute_result"
    }
   ],
   "source": [
    "data_drop_null[data_drop_null.duplicated()]"
   ]
  },
  {
   "cell_type": "code",
   "execution_count": 20,
   "metadata": {},
   "outputs": [
    {
     "data": {
      "text/html": [
       "<div>\n",
       "<style scoped>\n",
       "    .dataframe tbody tr th:only-of-type {\n",
       "        vertical-align: middle;\n",
       "    }\n",
       "\n",
       "    .dataframe tbody tr th {\n",
       "        vertical-align: top;\n",
       "    }\n",
       "\n",
       "    .dataframe thead th {\n",
       "        text-align: right;\n",
       "    }\n",
       "</style>\n",
       "<table border=\"1\" class=\"dataframe\">\n",
       "  <thead>\n",
       "    <tr style=\"text-align: right;\">\n",
       "      <th></th>\n",
       "      <th>entry_id</th>\n",
       "      <th>word_id</th>\n",
       "      <th>spelling</th>\n",
       "      <th>pronunciation</th>\n",
       "    </tr>\n",
       "  </thead>\n",
       "  <tbody>\n",
       "    <tr>\n",
       "      <th>2421</th>\n",
       "      <td>15639</td>\n",
       "      <td>수입되다</td>\n",
       "      <td>수입되다</td>\n",
       "      <td>수입뙤다/수입뛔다</td>\n",
       "    </tr>\n",
       "    <tr>\n",
       "      <th>2422</th>\n",
       "      <td>15639</td>\n",
       "      <td>수입되다</td>\n",
       "      <td>수입되는</td>\n",
       "      <td>수입뙤는/수입뛔는</td>\n",
       "    </tr>\n",
       "    <tr>\n",
       "      <th>2423</th>\n",
       "      <td>15639</td>\n",
       "      <td>수입되다</td>\n",
       "      <td>수입되어</td>\n",
       "      <td>수입뙤어/수입뛔여</td>\n",
       "    </tr>\n",
       "    <tr>\n",
       "      <th>2424</th>\n",
       "      <td>15639</td>\n",
       "      <td>수입되다</td>\n",
       "      <td>수입돼</td>\n",
       "      <td>수입뙈</td>\n",
       "    </tr>\n",
       "    <tr>\n",
       "      <th>2425</th>\n",
       "      <td>15639</td>\n",
       "      <td>수입되다</td>\n",
       "      <td>수입되는</td>\n",
       "      <td>수입뙤는/수입뛔는</td>\n",
       "    </tr>\n",
       "    <tr>\n",
       "      <th>2426</th>\n",
       "      <td>15639</td>\n",
       "      <td>수입되다</td>\n",
       "      <td>수입됩니다</td>\n",
       "      <td>수입뙴니다/수입뛤니다</td>\n",
       "    </tr>\n",
       "  </tbody>\n",
       "</table>\n",
       "</div>"
      ],
      "text/plain": [
       "      entry_id word_id spelling pronunciation\n",
       "2421     15639    수입되다     수입되다     수입뙤다/수입뛔다\n",
       "2422     15639    수입되다     수입되는     수입뙤는/수입뛔는\n",
       "2423     15639    수입되다     수입되어     수입뙤어/수입뛔여\n",
       "2424     15639    수입되다      수입돼           수입뙈\n",
       "2425     15639    수입되다     수입되는     수입뙤는/수입뛔는\n",
       "2426     15639    수입되다    수입됩니다   수입뙴니다/수입뛤니다"
      ]
     },
     "execution_count": 20,
     "metadata": {},
     "output_type": "execute_result"
    }
   ],
   "source": [
    "data_drop_null[data_drop_null.entry_id == 15639]"
   ]
  },
  {
   "cell_type": "code",
   "execution_count": 21,
   "metadata": {},
   "outputs": [
    {
     "data": {
      "text/plain": [
       "81075"
      ]
     },
     "execution_count": 21,
     "metadata": {},
     "output_type": "execute_result"
    }
   ],
   "source": [
    "data_drop_dups = data_drop_null.drop_duplicates()\n",
    "len(data_drop_dups)"
   ]
  },
  {
   "cell_type": "code",
   "execution_count": 22,
   "metadata": {},
   "outputs": [],
   "source": [
    "# handle pronunciations containing forward slashes (\"/\")"
   ]
  },
  {
   "cell_type": "code",
   "execution_count": 23,
   "metadata": {},
   "outputs": [
    {
     "data": {
      "text/plain": [
       "7582"
      ]
     },
     "execution_count": 23,
     "metadata": {},
     "output_type": "execute_result"
    }
   ],
   "source": [
    "forward_slash = data_drop_dups[data_drop_dups.pronunciation.str.contains(\"/\")]\n",
    "len(forward_slash)"
   ]
  },
  {
   "cell_type": "code",
   "execution_count": 24,
   "metadata": {},
   "outputs": [],
   "source": [
    "# define function for splitting these rows"
   ]
  },
  {
   "cell_type": "code",
   "execution_count": 25,
   "metadata": {},
   "outputs": [],
   "source": [
    "def split_row(row, row_accumulator, target_column, separator):\n",
    "    split_row = row[target_column].split(separator)\n",
    "    if len(split_row) != 2:\n",
    "        print(row)\n",
    "    for s in split_row:\n",
    "        new_row = row.to_dict()\n",
    "        new_row[target_column] = s\n",
    "        row_accumulator.append(new_row)"
   ]
  },
  {
   "cell_type": "code",
   "execution_count": 26,
   "metadata": {},
   "outputs": [
    {
     "name": "stdout",
     "output_type": "stream",
     "text": [
      "entry_id                       26170\n",
      "word_id                         가족회의\n",
      "spelling                        가족회의\n",
      "pronunciation    가조쾨의/가조쾨이/가족퀘의/가족퀘이\n",
      "Name: 10240, dtype: object\n",
      "entry_id                     27927\n",
      "word_id                        가계약\n",
      "spelling                      가계약이\n",
      "pronunciation    가ː계야기/가ː게야기/가ː게야기\n",
      "Name: 11778, dtype: object\n",
      "entry_id                     27927\n",
      "word_id                        가계약\n",
      "spelling                      가계약도\n",
      "pronunciation    가ː계약또/가ː게약또/가ː게약또\n",
      "Name: 11779, dtype: object\n",
      "entry_id                     27927\n",
      "word_id                        가계약\n",
      "spelling                      가계약만\n",
      "pronunciation    가ː계양만/가ː게양만/가ː게양만\n",
      "Name: 11780, dtype: object\n"
     ]
    },
    {
     "data": {
      "text/plain": [
       "15169"
      ]
     },
     "execution_count": 26,
     "metadata": {},
     "output_type": "execute_result"
    }
   ],
   "source": [
    "new_rows = []\n",
    "forward_slash.apply(split_row, axis=1, args=(new_rows, \"pronunciation\", \"/\"))\n",
    "temp_df = pd.DataFrame(new_rows)\n",
    "len(temp_df)"
   ]
  },
  {
   "cell_type": "code",
   "execution_count": 27,
   "metadata": {},
   "outputs": [
    {
     "data": {
      "text/html": [
       "<div>\n",
       "<style scoped>\n",
       "    .dataframe tbody tr th:only-of-type {\n",
       "        vertical-align: middle;\n",
       "    }\n",
       "\n",
       "    .dataframe tbody tr th {\n",
       "        vertical-align: top;\n",
       "    }\n",
       "\n",
       "    .dataframe thead th {\n",
       "        text-align: right;\n",
       "    }\n",
       "</style>\n",
       "<table border=\"1\" class=\"dataframe\">\n",
       "  <thead>\n",
       "    <tr style=\"text-align: right;\">\n",
       "      <th></th>\n",
       "      <th>entry_id</th>\n",
       "      <th>word_id</th>\n",
       "      <th>spelling</th>\n",
       "      <th>pronunciation</th>\n",
       "    </tr>\n",
       "  </thead>\n",
       "  <tbody>\n",
       "    <tr>\n",
       "      <th>0</th>\n",
       "      <td>13992</td>\n",
       "      <td>식히다</td>\n",
       "      <td>식히어</td>\n",
       "      <td>시키어</td>\n",
       "    </tr>\n",
       "    <tr>\n",
       "      <th>1</th>\n",
       "      <td>13992</td>\n",
       "      <td>식히다</td>\n",
       "      <td>식히어</td>\n",
       "      <td>시키여</td>\n",
       "    </tr>\n",
       "    <tr>\n",
       "      <th>2</th>\n",
       "      <td>14009</td>\n",
       "      <td>연기되다</td>\n",
       "      <td>연기되다</td>\n",
       "      <td>연기되다</td>\n",
       "    </tr>\n",
       "    <tr>\n",
       "      <th>3</th>\n",
       "      <td>14009</td>\n",
       "      <td>연기되다</td>\n",
       "      <td>연기되다</td>\n",
       "      <td>연기뒈다</td>\n",
       "    </tr>\n",
       "    <tr>\n",
       "      <th>4</th>\n",
       "      <td>14041</td>\n",
       "      <td>간음죄</td>\n",
       "      <td>간음죄</td>\n",
       "      <td>가ː늠쬐</td>\n",
       "    </tr>\n",
       "  </tbody>\n",
       "</table>\n",
       "</div>"
      ],
      "text/plain": [
       "   entry_id word_id spelling pronunciation\n",
       "0     13992     식히다      식히어           시키어\n",
       "1     13992     식히다      식히어           시키여\n",
       "2     14009    연기되다     연기되다          연기되다\n",
       "3     14009    연기되다     연기되다          연기뒈다\n",
       "4     14041     간음죄      간음죄          가ː늠쬐"
      ]
     },
     "execution_count": 27,
     "metadata": {},
     "output_type": "execute_result"
    }
   ],
   "source": [
    "temp_df.head()"
   ]
  },
  {
   "cell_type": "code",
   "execution_count": 28,
   "metadata": {},
   "outputs": [
    {
     "name": "stdout",
     "output_type": "stream",
     "text": [
      "73493\n"
     ]
    },
    {
     "data": {
      "text/plain": [
       "73493"
      ]
     },
     "execution_count": 28,
     "metadata": {},
     "output_type": "execute_result"
    }
   ],
   "source": [
    "no_slash = data_drop_dups[~data_drop_dups.pronunciation.str.contains(\"/\")]\n",
    "print(len(data_drop_dups) - len(forward_slash))\n",
    "len(no_slash)"
   ]
  },
  {
   "cell_type": "code",
   "execution_count": 29,
   "metadata": {},
   "outputs": [],
   "source": [
    "# recombine DataFrames and handle any duplicates that resulted from splitting on forward slashes"
   ]
  },
  {
   "cell_type": "code",
   "execution_count": 30,
   "metadata": {},
   "outputs": [
    {
     "name": "stdout",
     "output_type": "stream",
     "text": [
      "88662\n"
     ]
    },
    {
     "data": {
      "text/plain": [
       "88662"
      ]
     },
     "execution_count": 30,
     "metadata": {},
     "output_type": "execute_result"
    }
   ],
   "source": [
    "combined = pd.concat([no_slash, temp_df])\n",
    "print(len(no_slash) + len(temp_df))\n",
    "len(combined)"
   ]
  },
  {
   "cell_type": "code",
   "execution_count": 31,
   "metadata": {},
   "outputs": [
    {
     "data": {
      "text/html": [
       "<div>\n",
       "<style scoped>\n",
       "    .dataframe tbody tr th:only-of-type {\n",
       "        vertical-align: middle;\n",
       "    }\n",
       "\n",
       "    .dataframe tbody tr th {\n",
       "        vertical-align: top;\n",
       "    }\n",
       "\n",
       "    .dataframe thead th {\n",
       "        text-align: right;\n",
       "    }\n",
       "</style>\n",
       "<table border=\"1\" class=\"dataframe\">\n",
       "  <thead>\n",
       "    <tr style=\"text-align: right;\">\n",
       "      <th></th>\n",
       "      <th>entry_id</th>\n",
       "      <th>word_id</th>\n",
       "      <th>spelling</th>\n",
       "      <th>pronunciation</th>\n",
       "    </tr>\n",
       "  </thead>\n",
       "  <tbody>\n",
       "    <tr>\n",
       "      <th>0</th>\n",
       "      <td>13943</td>\n",
       "      <td>역사학</td>\n",
       "      <td>역사학</td>\n",
       "      <td>역싸학</td>\n",
       "    </tr>\n",
       "    <tr>\n",
       "      <th>1</th>\n",
       "      <td>13943</td>\n",
       "      <td>역사학</td>\n",
       "      <td>역사학이</td>\n",
       "      <td>역싸하기</td>\n",
       "    </tr>\n",
       "    <tr>\n",
       "      <th>2</th>\n",
       "      <td>13943</td>\n",
       "      <td>역사학</td>\n",
       "      <td>역사학도</td>\n",
       "      <td>역싸학또</td>\n",
       "    </tr>\n",
       "    <tr>\n",
       "      <th>3</th>\n",
       "      <td>13943</td>\n",
       "      <td>역사학</td>\n",
       "      <td>역사학만</td>\n",
       "      <td>역싸항만</td>\n",
       "    </tr>\n",
       "    <tr>\n",
       "      <th>5</th>\n",
       "      <td>13957</td>\n",
       "      <td>시대적2</td>\n",
       "      <td>시대적</td>\n",
       "      <td>시대적</td>\n",
       "    </tr>\n",
       "  </tbody>\n",
       "</table>\n",
       "</div>"
      ],
      "text/plain": [
       "   entry_id word_id spelling pronunciation\n",
       "0     13943     역사학      역사학           역싸학\n",
       "1     13943     역사학     역사학이          역싸하기\n",
       "2     13943     역사학     역사학도          역싸학또\n",
       "3     13943     역사학     역사학만          역싸항만\n",
       "5     13957    시대적2      시대적           시대적"
      ]
     },
     "execution_count": 31,
     "metadata": {},
     "output_type": "execute_result"
    }
   ],
   "source": [
    "combined.head()"
   ]
  },
  {
   "cell_type": "code",
   "execution_count": 32,
   "metadata": {},
   "outputs": [
    {
     "name": "stdout",
     "output_type": "stream",
     "text": [
      "7\n"
     ]
    },
    {
     "data": {
      "text/html": [
       "<div>\n",
       "<style scoped>\n",
       "    .dataframe tbody tr th:only-of-type {\n",
       "        vertical-align: middle;\n",
       "    }\n",
       "\n",
       "    .dataframe tbody tr th {\n",
       "        vertical-align: top;\n",
       "    }\n",
       "\n",
       "    .dataframe thead th {\n",
       "        text-align: right;\n",
       "    }\n",
       "</style>\n",
       "<table border=\"1\" class=\"dataframe\">\n",
       "  <thead>\n",
       "    <tr style=\"text-align: right;\">\n",
       "      <th></th>\n",
       "      <th>entry_id</th>\n",
       "      <th>word_id</th>\n",
       "      <th>spelling</th>\n",
       "      <th>pronunciation</th>\n",
       "    </tr>\n",
       "  </thead>\n",
       "  <tbody>\n",
       "    <tr>\n",
       "      <th>1585</th>\n",
       "      <td>23444</td>\n",
       "      <td>개막되다</td>\n",
       "      <td>개막되다</td>\n",
       "      <td>개막뙤다</td>\n",
       "    </tr>\n",
       "    <tr>\n",
       "      <th>1589</th>\n",
       "      <td>23472</td>\n",
       "      <td>개방화되다</td>\n",
       "      <td>개방화되다</td>\n",
       "      <td>개방화되다</td>\n",
       "    </tr>\n",
       "    <tr>\n",
       "      <th>2428</th>\n",
       "      <td>27927</td>\n",
       "      <td>가계약</td>\n",
       "      <td>가계약이</td>\n",
       "      <td>가ː게야기</td>\n",
       "    </tr>\n",
       "    <tr>\n",
       "      <th>2431</th>\n",
       "      <td>27927</td>\n",
       "      <td>가계약</td>\n",
       "      <td>가계약도</td>\n",
       "      <td>가ː게약또</td>\n",
       "    </tr>\n",
       "    <tr>\n",
       "      <th>2434</th>\n",
       "      <td>27927</td>\n",
       "      <td>가계약</td>\n",
       "      <td>가계약만</td>\n",
       "      <td>가ː게양만</td>\n",
       "    </tr>\n",
       "    <tr>\n",
       "      <th>4192</th>\n",
       "      <td>40799</td>\n",
       "      <td>날갯짓</td>\n",
       "      <td>날갯짓</td>\n",
       "      <td>날개찓</td>\n",
       "    </tr>\n",
       "    <tr>\n",
       "      <th>4396</th>\n",
       "      <td>41865</td>\n",
       "      <td>노골화되다</td>\n",
       "      <td>노골화됩니다</td>\n",
       "      <td>노골화됨니다</td>\n",
       "    </tr>\n",
       "  </tbody>\n",
       "</table>\n",
       "</div>"
      ],
      "text/plain": [
       "      entry_id word_id spelling pronunciation\n",
       "1585     23444    개막되다     개막되다          개막뙤다\n",
       "1589     23472   개방화되다    개방화되다         개방화되다\n",
       "2428     27927     가계약     가계약이         가ː게야기\n",
       "2431     27927     가계약     가계약도         가ː게약또\n",
       "2434     27927     가계약     가계약만         가ː게양만\n",
       "4192     40799     날갯짓      날갯짓           날개찓\n",
       "4396     41865   노골화되다   노골화됩니다        노골화됨니다"
      ]
     },
     "execution_count": 32,
     "metadata": {},
     "output_type": "execute_result"
    }
   ],
   "source": [
    "print(len(combined[combined.duplicated()]))\n",
    "combined[combined.duplicated()]"
   ]
  },
  {
   "cell_type": "code",
   "execution_count": 33,
   "metadata": {},
   "outputs": [
    {
     "data": {
      "text/html": [
       "<div>\n",
       "<style scoped>\n",
       "    .dataframe tbody tr th:only-of-type {\n",
       "        vertical-align: middle;\n",
       "    }\n",
       "\n",
       "    .dataframe tbody tr th {\n",
       "        vertical-align: top;\n",
       "    }\n",
       "\n",
       "    .dataframe thead th {\n",
       "        text-align: right;\n",
       "    }\n",
       "</style>\n",
       "<table border=\"1\" class=\"dataframe\">\n",
       "  <thead>\n",
       "    <tr style=\"text-align: right;\">\n",
       "      <th></th>\n",
       "      <th>entry_id</th>\n",
       "      <th>word_id</th>\n",
       "      <th>spelling</th>\n",
       "      <th>pronunciation</th>\n",
       "    </tr>\n",
       "  </thead>\n",
       "  <tbody>\n",
       "    <tr>\n",
       "      <th>1584</th>\n",
       "      <td>23444</td>\n",
       "      <td>개막되다</td>\n",
       "      <td>개막되다</td>\n",
       "      <td>개막뙤다</td>\n",
       "    </tr>\n",
       "    <tr>\n",
       "      <th>1585</th>\n",
       "      <td>23444</td>\n",
       "      <td>개막되다</td>\n",
       "      <td>개막되다</td>\n",
       "      <td>개막뙤다</td>\n",
       "    </tr>\n",
       "  </tbody>\n",
       "</table>\n",
       "</div>"
      ],
      "text/plain": [
       "      entry_id word_id spelling pronunciation\n",
       "1584     23444    개막되다     개막되다          개막뙤다\n",
       "1585     23444    개막되다     개막되다          개막뙤다"
      ]
     },
     "execution_count": 33,
     "metadata": {},
     "output_type": "execute_result"
    }
   ],
   "source": [
    "combined[combined.entry_id == 23444]"
   ]
  },
  {
   "cell_type": "code",
   "execution_count": 34,
   "metadata": {},
   "outputs": [
    {
     "data": {
      "text/plain": [
       "88655"
      ]
     },
     "execution_count": 34,
     "metadata": {},
     "output_type": "execute_result"
    }
   ],
   "source": [
    "combined_drop_dups = combined.drop_duplicates()\n",
    "len(combined_drop_dups)"
   ]
  },
  {
   "cell_type": "code",
   "execution_count": 35,
   "metadata": {},
   "outputs": [],
   "source": [
    "# replace all instances of the phonetic \"length\" symbol \"ː\" with an ordinary colon \":\""
   ]
  },
  {
   "cell_type": "code",
   "execution_count": 36,
   "metadata": {},
   "outputs": [
    {
     "data": {
      "text/plain": [
       "23424"
      ]
     },
     "execution_count": 36,
     "metadata": {},
     "output_type": "execute_result"
    }
   ],
   "source": [
    "len(combined_drop_dups[combined_drop_dups.pronunciation.str.contains(\"ː\")])"
   ]
  },
  {
   "cell_type": "code",
   "execution_count": 37,
   "metadata": {},
   "outputs": [],
   "source": [
    "# use .loc like this to avoid setting value on a copy"
   ]
  },
  {
   "cell_type": "code",
   "execution_count": 38,
   "metadata": {},
   "outputs": [
    {
     "name": "stderr",
     "output_type": "stream",
     "text": [
      "C:\\Users\\qps\\anaconda3\\lib\\site-packages\\pandas\\core\\indexing.py:965: SettingWithCopyWarning: \n",
      "A value is trying to be set on a copy of a slice from a DataFrame.\n",
      "Try using .loc[row_indexer,col_indexer] = value instead\n",
      "\n",
      "See the caveats in the documentation: https://pandas.pydata.org/pandas-docs/stable/user_guide/indexing.html#returning-a-view-versus-a-copy\n",
      "  self.obj[item] = s\n"
     ]
    }
   ],
   "source": [
    "combined_drop_dups.loc[:, [\"pronunciation\"]] = combined_drop_dups.pronunciation.str.replace(\"ː\", \":\")"
   ]
  },
  {
   "cell_type": "code",
   "execution_count": 39,
   "metadata": {},
   "outputs": [
    {
     "data": {
      "text/plain": [
       "0"
      ]
     },
     "execution_count": 39,
     "metadata": {},
     "output_type": "execute_result"
    }
   ],
   "source": [
    "len(combined_drop_dups[combined_drop_dups.pronunciation.str.contains(\"ː\")])"
   ]
  },
  {
   "cell_type": "code",
   "execution_count": 40,
   "metadata": {},
   "outputs": [],
   "source": [
    "# create the Vectorizationer() instance"
   ]
  },
  {
   "cell_type": "code",
   "execution_count": 41,
   "metadata": {},
   "outputs": [],
   "source": [
    "vec = Vectorizationer(rule=rules.RULE_1, max_length=None)"
   ]
  },
  {
   "cell_type": "code",
   "execution_count": 42,
   "metadata": {},
   "outputs": [],
   "source": [
    "# test it out"
   ]
  },
  {
   "cell_type": "code",
   "execution_count": 43,
   "metadata": {},
   "outputs": [
    {
     "data": {
      "text/plain": [
       "array([ 2, 21,  2, 26], dtype=uint8)"
      ]
     },
     "execution_count": 43,
     "metadata": {},
     "output_type": "execute_result"
    }
   ],
   "source": [
    "vec.vectorize(\"가게\")"
   ]
  },
  {
   "cell_type": "code",
   "execution_count": 44,
   "metadata": {},
   "outputs": [],
   "source": [
    "# vectorize the spelling and pronunciation columns"
   ]
  },
  {
   "cell_type": "code",
   "execution_count": 45,
   "metadata": {},
   "outputs": [
    {
     "name": "stderr",
     "output_type": "stream",
     "text": [
      "C:\\Users\\qps\\anaconda3\\lib\\site-packages\\ipykernel_launcher.py:1: SettingWithCopyWarning: \n",
      "A value is trying to be set on a copy of a slice from a DataFrame.\n",
      "Try using .loc[row_indexer,col_indexer] = value instead\n",
      "\n",
      "See the caveats in the documentation: https://pandas.pydata.org/pandas-docs/stable/user_guide/indexing.html#returning-a-view-versus-a-copy\n",
      "  \"\"\"Entry point for launching an IPython kernel.\n"
     ]
    }
   ],
   "source": [
    "combined_drop_dups[\"vec_spelling\"] = combined_drop_dups.spelling.apply(vec.vectorize)"
   ]
  },
  {
   "cell_type": "code",
   "execution_count": 46,
   "metadata": {},
   "outputs": [
    {
     "name": "stderr",
     "output_type": "stream",
     "text": [
      "C:\\Users\\qps\\anaconda3\\lib\\site-packages\\ipykernel_launcher.py:1: SettingWithCopyWarning: \n",
      "A value is trying to be set on a copy of a slice from a DataFrame.\n",
      "Try using .loc[row_indexer,col_indexer] = value instead\n",
      "\n",
      "See the caveats in the documentation: https://pandas.pydata.org/pandas-docs/stable/user_guide/indexing.html#returning-a-view-versus-a-copy\n",
      "  \"\"\"Entry point for launching an IPython kernel.\n"
     ]
    }
   ],
   "source": [
    "combined_drop_dups[\"vec_pronunciation\"] = combined_drop_dups.pronunciation.apply(vec.vectorize)"
   ]
  },
  {
   "cell_type": "code",
   "execution_count": 47,
   "metadata": {},
   "outputs": [
    {
     "data": {
      "text/html": [
       "<div>\n",
       "<style scoped>\n",
       "    .dataframe tbody tr th:only-of-type {\n",
       "        vertical-align: middle;\n",
       "    }\n",
       "\n",
       "    .dataframe tbody tr th {\n",
       "        vertical-align: top;\n",
       "    }\n",
       "\n",
       "    .dataframe thead th {\n",
       "        text-align: right;\n",
       "    }\n",
       "</style>\n",
       "<table border=\"1\" class=\"dataframe\">\n",
       "  <thead>\n",
       "    <tr style=\"text-align: right;\">\n",
       "      <th></th>\n",
       "      <th>entry_id</th>\n",
       "      <th>word_id</th>\n",
       "      <th>spelling</th>\n",
       "      <th>pronunciation</th>\n",
       "      <th>vec_spelling</th>\n",
       "      <th>vec_pronunciation</th>\n",
       "    </tr>\n",
       "  </thead>\n",
       "  <tbody>\n",
       "    <tr>\n",
       "      <th>0</th>\n",
       "      <td>13943</td>\n",
       "      <td>역사학</td>\n",
       "      <td>역사학</td>\n",
       "      <td>역싸학</td>\n",
       "      <td>[13, 27, 42, 11, 21, 20, 21, 42]</td>\n",
       "      <td>[13, 27, 42, 12, 21, 20, 21, 42]</td>\n",
       "    </tr>\n",
       "    <tr>\n",
       "      <th>1</th>\n",
       "      <td>13943</td>\n",
       "      <td>역사학</td>\n",
       "      <td>역사학이</td>\n",
       "      <td>역싸하기</td>\n",
       "      <td>[13, 27, 42, 11, 21, 20, 21, 42, 13, 41]</td>\n",
       "      <td>[13, 27, 42, 12, 21, 20, 21, 2, 41]</td>\n",
       "    </tr>\n",
       "    <tr>\n",
       "      <th>2</th>\n",
       "      <td>13943</td>\n",
       "      <td>역사학</td>\n",
       "      <td>역사학도</td>\n",
       "      <td>역싸학또</td>\n",
       "      <td>[13, 27, 42, 11, 21, 20, 21, 42, 5, 29]</td>\n",
       "      <td>[13, 27, 42, 12, 21, 20, 21, 42, 6, 29]</td>\n",
       "    </tr>\n",
       "    <tr>\n",
       "      <th>3</th>\n",
       "      <td>13943</td>\n",
       "      <td>역사학</td>\n",
       "      <td>역사학만</td>\n",
       "      <td>역싸항만</td>\n",
       "      <td>[13, 27, 42, 11, 21, 20, 21, 42, 8, 21, 45]</td>\n",
       "      <td>[13, 27, 42, 12, 21, 20, 21, 62, 8, 21, 45]</td>\n",
       "    </tr>\n",
       "    <tr>\n",
       "      <th>5</th>\n",
       "      <td>13957</td>\n",
       "      <td>시대적2</td>\n",
       "      <td>시대적</td>\n",
       "      <td>시대적</td>\n",
       "      <td>[11, 41, 5, 22, 14, 25, 42]</td>\n",
       "      <td>[11, 41, 5, 22, 14, 25, 42]</td>\n",
       "    </tr>\n",
       "  </tbody>\n",
       "</table>\n",
       "</div>"
      ],
      "text/plain": [
       "   entry_id word_id spelling pronunciation  \\\n",
       "0     13943     역사학      역사학           역싸학   \n",
       "1     13943     역사학     역사학이          역싸하기   \n",
       "2     13943     역사학     역사학도          역싸학또   \n",
       "3     13943     역사학     역사학만          역싸항만   \n",
       "5     13957    시대적2      시대적           시대적   \n",
       "\n",
       "                                  vec_spelling  \\\n",
       "0             [13, 27, 42, 11, 21, 20, 21, 42]   \n",
       "1     [13, 27, 42, 11, 21, 20, 21, 42, 13, 41]   \n",
       "2      [13, 27, 42, 11, 21, 20, 21, 42, 5, 29]   \n",
       "3  [13, 27, 42, 11, 21, 20, 21, 42, 8, 21, 45]   \n",
       "5                  [11, 41, 5, 22, 14, 25, 42]   \n",
       "\n",
       "                             vec_pronunciation  \n",
       "0             [13, 27, 42, 12, 21, 20, 21, 42]  \n",
       "1          [13, 27, 42, 12, 21, 20, 21, 2, 41]  \n",
       "2      [13, 27, 42, 12, 21, 20, 21, 42, 6, 29]  \n",
       "3  [13, 27, 42, 12, 21, 20, 21, 62, 8, 21, 45]  \n",
       "5                  [11, 41, 5, 22, 14, 25, 42]  "
      ]
     },
     "execution_count": 47,
     "metadata": {},
     "output_type": "execute_result"
    }
   ],
   "source": [
    "combined_drop_dups.head()"
   ]
  },
  {
   "cell_type": "code",
   "execution_count": 48,
   "metadata": {},
   "outputs": [],
   "source": [
    "# find the longest string of letters in either the spelling or pronunciation columns"
   ]
  },
  {
   "cell_type": "code",
   "execution_count": 49,
   "metadata": {},
   "outputs": [
    {
     "data": {
      "text/plain": [
       "23"
      ]
     },
     "execution_count": 49,
     "metadata": {},
     "output_type": "execute_result"
    }
   ],
   "source": [
    "combined_drop_dups.vec_spelling.apply(len).max()"
   ]
  },
  {
   "cell_type": "code",
   "execution_count": 50,
   "metadata": {},
   "outputs": [
    {
     "data": {
      "text/html": [
       "<div>\n",
       "<style scoped>\n",
       "    .dataframe tbody tr th:only-of-type {\n",
       "        vertical-align: middle;\n",
       "    }\n",
       "\n",
       "    .dataframe tbody tr th {\n",
       "        vertical-align: top;\n",
       "    }\n",
       "\n",
       "    .dataframe thead th {\n",
       "        text-align: right;\n",
       "    }\n",
       "</style>\n",
       "<table border=\"1\" class=\"dataframe\">\n",
       "  <thead>\n",
       "    <tr style=\"text-align: right;\">\n",
       "      <th></th>\n",
       "      <th>entry_id</th>\n",
       "      <th>word_id</th>\n",
       "      <th>spelling</th>\n",
       "      <th>pronunciation</th>\n",
       "      <th>vec_spelling</th>\n",
       "      <th>vec_pronunciation</th>\n",
       "    </tr>\n",
       "  </thead>\n",
       "  <tbody>\n",
       "    <tr>\n",
       "      <th>65120</th>\n",
       "      <td>77574</td>\n",
       "      <td>천부당만부당하다</td>\n",
       "      <td>천부당만부당합니다</td>\n",
       "      <td>천부당만부당함니다</td>\n",
       "      <td>[16, 25, 45, 9, 34, 5, 21, 62, 8, 21, 45, 9, 3...</td>\n",
       "      <td>[16, 25, 45, 9, 34, 5, 21, 62, 8, 21, 45, 9, 3...</td>\n",
       "    </tr>\n",
       "    <tr>\n",
       "      <th>82752</th>\n",
       "      <td>89795</td>\n",
       "      <td>구불텅구불텅하다</td>\n",
       "      <td>구불텅구불텅합니다</td>\n",
       "      <td>구불텅구불텅함니다</td>\n",
       "      <td>[2, 34, 9, 34, 49, 18, 25, 62, 2, 34, 9, 34, 4...</td>\n",
       "      <td>[2, 34, 9, 34, 49, 18, 25, 62, 2, 34, 9, 34, 4...</td>\n",
       "    </tr>\n",
       "    <tr>\n",
       "      <th>86163</th>\n",
       "      <td>91995</td>\n",
       "      <td>헤벌쭉헤벌쭉하다2</td>\n",
       "      <td>헤벌쭉헤벌쭉합니다</td>\n",
       "      <td>헤벌쭈케벌쭈캄니다</td>\n",
       "      <td>[20, 26, 9, 25, 49, 15, 34, 42, 20, 26, 9, 25,...</td>\n",
       "      <td>[20, 26, 9, 25, 49, 15, 34, 17, 26, 9, 25, 49,...</td>\n",
       "    </tr>\n",
       "  </tbody>\n",
       "</table>\n",
       "</div>"
      ],
      "text/plain": [
       "       entry_id    word_id   spelling pronunciation  \\\n",
       "65120     77574   천부당만부당하다  천부당만부당합니다     천부당만부당함니다   \n",
       "82752     89795   구불텅구불텅하다  구불텅구불텅합니다     구불텅구불텅함니다   \n",
       "86163     91995  헤벌쭉헤벌쭉하다2  헤벌쭉헤벌쭉합니다     헤벌쭈케벌쭈캄니다   \n",
       "\n",
       "                                            vec_spelling  \\\n",
       "65120  [16, 25, 45, 9, 34, 5, 21, 62, 8, 21, 45, 9, 3...   \n",
       "82752  [2, 34, 9, 34, 49, 18, 25, 62, 2, 34, 9, 34, 4...   \n",
       "86163  [20, 26, 9, 25, 49, 15, 34, 42, 20, 26, 9, 25,...   \n",
       "\n",
       "                                       vec_pronunciation  \n",
       "65120  [16, 25, 45, 9, 34, 5, 21, 62, 8, 21, 45, 9, 3...  \n",
       "82752  [2, 34, 9, 34, 49, 18, 25, 62, 2, 34, 9, 34, 4...  \n",
       "86163  [20, 26, 9, 25, 49, 15, 34, 17, 26, 9, 25, 49,...  "
      ]
     },
     "execution_count": 50,
     "metadata": {},
     "output_type": "execute_result"
    }
   ],
   "source": [
    "combined_drop_dups[combined_drop_dups.vec_spelling.apply(len) == 23]"
   ]
  },
  {
   "cell_type": "code",
   "execution_count": 51,
   "metadata": {},
   "outputs": [],
   "source": [
    "# NOTE use of .loc here"
   ]
  },
  {
   "cell_type": "code",
   "execution_count": 52,
   "metadata": {},
   "outputs": [
    {
     "data": {
      "text/plain": [
       "array([16, 25, 45,  9, 34,  5, 21, 62,  8, 21, 45,  9, 34,  5, 21, 62, 20,\n",
       "       21, 58,  4, 41,  5, 21], dtype=uint8)"
      ]
     },
     "execution_count": 52,
     "metadata": {},
     "output_type": "execute_result"
    }
   ],
   "source": [
    "combined_drop_dups.loc[65120].vec_spelling"
   ]
  },
  {
   "cell_type": "code",
   "execution_count": 53,
   "metadata": {},
   "outputs": [
    {
     "data": {
      "text/plain": [
       "23"
      ]
     },
     "execution_count": 53,
     "metadata": {},
     "output_type": "execute_result"
    }
   ],
   "source": [
    "combined_drop_dups.vec_pronunciation.apply(len).max()"
   ]
  },
  {
   "cell_type": "code",
   "execution_count": 54,
   "metadata": {},
   "outputs": [
    {
     "data": {
      "text/html": [
       "<div>\n",
       "<style scoped>\n",
       "    .dataframe tbody tr th:only-of-type {\n",
       "        vertical-align: middle;\n",
       "    }\n",
       "\n",
       "    .dataframe tbody tr th {\n",
       "        vertical-align: top;\n",
       "    }\n",
       "\n",
       "    .dataframe thead th {\n",
       "        text-align: right;\n",
       "    }\n",
       "</style>\n",
       "<table border=\"1\" class=\"dataframe\">\n",
       "  <thead>\n",
       "    <tr style=\"text-align: right;\">\n",
       "      <th></th>\n",
       "      <th>entry_id</th>\n",
       "      <th>word_id</th>\n",
       "      <th>spelling</th>\n",
       "      <th>pronunciation</th>\n",
       "      <th>vec_spelling</th>\n",
       "      <th>vec_pronunciation</th>\n",
       "    </tr>\n",
       "  </thead>\n",
       "  <tbody>\n",
       "    <tr>\n",
       "      <th>65120</th>\n",
       "      <td>77574</td>\n",
       "      <td>천부당만부당하다</td>\n",
       "      <td>천부당만부당합니다</td>\n",
       "      <td>천부당만부당함니다</td>\n",
       "      <td>[16, 25, 45, 9, 34, 5, 21, 62, 8, 21, 45, 9, 3...</td>\n",
       "      <td>[16, 25, 45, 9, 34, 5, 21, 62, 8, 21, 45, 9, 3...</td>\n",
       "    </tr>\n",
       "    <tr>\n",
       "      <th>82752</th>\n",
       "      <td>89795</td>\n",
       "      <td>구불텅구불텅하다</td>\n",
       "      <td>구불텅구불텅합니다</td>\n",
       "      <td>구불텅구불텅함니다</td>\n",
       "      <td>[2, 34, 9, 34, 49, 18, 25, 62, 2, 34, 9, 34, 4...</td>\n",
       "      <td>[2, 34, 9, 34, 49, 18, 25, 62, 2, 34, 9, 34, 4...</td>\n",
       "    </tr>\n",
       "  </tbody>\n",
       "</table>\n",
       "</div>"
      ],
      "text/plain": [
       "       entry_id   word_id   spelling pronunciation  \\\n",
       "65120     77574  천부당만부당하다  천부당만부당합니다     천부당만부당함니다   \n",
       "82752     89795  구불텅구불텅하다  구불텅구불텅합니다     구불텅구불텅함니다   \n",
       "\n",
       "                                            vec_spelling  \\\n",
       "65120  [16, 25, 45, 9, 34, 5, 21, 62, 8, 21, 45, 9, 3...   \n",
       "82752  [2, 34, 9, 34, 49, 18, 25, 62, 2, 34, 9, 34, 4...   \n",
       "\n",
       "                                       vec_pronunciation  \n",
       "65120  [16, 25, 45, 9, 34, 5, 21, 62, 8, 21, 45, 9, 3...  \n",
       "82752  [2, 34, 9, 34, 49, 18, 25, 62, 2, 34, 9, 34, 4...  "
      ]
     },
     "execution_count": 54,
     "metadata": {},
     "output_type": "execute_result"
    }
   ],
   "source": [
    "combined_drop_dups[combined_drop_dups.vec_pronunciation.apply(len) == 23]"
   ]
  },
  {
   "cell_type": "code",
   "execution_count": 55,
   "metadata": {},
   "outputs": [
    {
     "data": {
      "text/plain": [
       "array([16, 25, 45,  9, 34,  5, 21, 62,  8, 21, 45,  9, 34,  5, 21, 62, 20,\n",
       "       21, 57,  4, 41,  5, 21], dtype=uint8)"
      ]
     },
     "execution_count": 55,
     "metadata": {},
     "output_type": "execute_result"
    }
   ],
   "source": [
    "combined_drop_dups.loc[65120].vec_pronunciation"
   ]
  },
  {
   "cell_type": "code",
   "execution_count": 56,
   "metadata": {},
   "outputs": [],
   "source": [
    "# create a decoder and write a function to unvectorize the spelling and pronunciation to double-check output before padding"
   ]
  },
  {
   "cell_type": "code",
   "execution_count": 57,
   "metadata": {},
   "outputs": [],
   "source": [
    "decoder = {v: k for k, v in vec.symbol_map.items()}\n",
    "\n",
    "def unvectorize_norm(vector):\n",
    "    temp_list = [decoder[num] for num in vector]\n",
    "    temp_string = \"\".join(temp_list)\n",
    "    return normalize(\"NFC\", temp_string)"
   ]
  },
  {
   "cell_type": "code",
   "execution_count": 58,
   "metadata": {},
   "outputs": [
    {
     "name": "stderr",
     "output_type": "stream",
     "text": [
      "C:\\Users\\qps\\anaconda3\\lib\\site-packages\\ipykernel_launcher.py:1: SettingWithCopyWarning: \n",
      "A value is trying to be set on a copy of a slice from a DataFrame.\n",
      "Try using .loc[row_indexer,col_indexer] = value instead\n",
      "\n",
      "See the caveats in the documentation: https://pandas.pydata.org/pandas-docs/stable/user_guide/indexing.html#returning-a-view-versus-a-copy\n",
      "  \"\"\"Entry point for launching an IPython kernel.\n"
     ]
    }
   ],
   "source": [
    "combined_drop_dups[\"unvec_spelling\"] = combined_drop_dups.vec_spelling.apply(unvectorize_norm)"
   ]
  },
  {
   "cell_type": "code",
   "execution_count": 59,
   "metadata": {},
   "outputs": [
    {
     "name": "stderr",
     "output_type": "stream",
     "text": [
      "C:\\Users\\qps\\anaconda3\\lib\\site-packages\\ipykernel_launcher.py:1: SettingWithCopyWarning: \n",
      "A value is trying to be set on a copy of a slice from a DataFrame.\n",
      "Try using .loc[row_indexer,col_indexer] = value instead\n",
      "\n",
      "See the caveats in the documentation: https://pandas.pydata.org/pandas-docs/stable/user_guide/indexing.html#returning-a-view-versus-a-copy\n",
      "  \"\"\"Entry point for launching an IPython kernel.\n"
     ]
    }
   ],
   "source": [
    "combined_drop_dups[\"unvec_pronunciation\"] = combined_drop_dups.vec_pronunciation.apply(unvectorize_norm)"
   ]
  },
  {
   "cell_type": "code",
   "execution_count": 60,
   "metadata": {},
   "outputs": [
    {
     "data": {
      "text/plain": [
       "21"
      ]
     },
     "execution_count": 60,
     "metadata": {},
     "output_type": "execute_result"
    }
   ],
   "source": [
    "len(combined_drop_dups[combined_drop_dups.pronunciation != combined_drop_dups.unvec_pronunciation])"
   ]
  },
  {
   "cell_type": "code",
   "execution_count": 61,
   "metadata": {},
   "outputs": [
    {
     "data": {
      "text/html": [
       "<div>\n",
       "<style scoped>\n",
       "    .dataframe tbody tr th:only-of-type {\n",
       "        vertical-align: middle;\n",
       "    }\n",
       "\n",
       "    .dataframe tbody tr th {\n",
       "        vertical-align: top;\n",
       "    }\n",
       "\n",
       "    .dataframe thead th {\n",
       "        text-align: right;\n",
       "    }\n",
       "</style>\n",
       "<table border=\"1\" class=\"dataframe\">\n",
       "  <thead>\n",
       "    <tr style=\"text-align: right;\">\n",
       "      <th></th>\n",
       "      <th>entry_id</th>\n",
       "      <th>word_id</th>\n",
       "      <th>spelling</th>\n",
       "      <th>pronunciation</th>\n",
       "      <th>vec_spelling</th>\n",
       "      <th>vec_pronunciation</th>\n",
       "      <th>unvec_spelling</th>\n",
       "      <th>unvec_pronunciation</th>\n",
       "    </tr>\n",
       "  </thead>\n",
       "  <tbody>\n",
       "    <tr>\n",
       "      <th>51620</th>\n",
       "      <td>68847</td>\n",
       "      <td>ㅏ</td>\n",
       "      <td>ㅏ</td>\n",
       "      <td>ㅏ</td>\n",
       "      <td>[1]</td>\n",
       "      <td>[1]</td>\n",
       "      <td>&lt;UNK&gt;</td>\n",
       "      <td>&lt;UNK&gt;</td>\n",
       "    </tr>\n",
       "    <tr>\n",
       "      <th>51621</th>\n",
       "      <td>68848</td>\n",
       "      <td>ㅐ</td>\n",
       "      <td>ㅐ</td>\n",
       "      <td>ㅐ</td>\n",
       "      <td>[1]</td>\n",
       "      <td>[1]</td>\n",
       "      <td>&lt;UNK&gt;</td>\n",
       "      <td>&lt;UNK&gt;</td>\n",
       "    </tr>\n",
       "    <tr>\n",
       "      <th>51622</th>\n",
       "      <td>68849</td>\n",
       "      <td>ㅑ</td>\n",
       "      <td>ㅑ</td>\n",
       "      <td>ㅑ</td>\n",
       "      <td>[1]</td>\n",
       "      <td>[1]</td>\n",
       "      <td>&lt;UNK&gt;</td>\n",
       "      <td>&lt;UNK&gt;</td>\n",
       "    </tr>\n",
       "    <tr>\n",
       "      <th>51625</th>\n",
       "      <td>68852</td>\n",
       "      <td>ㅒ</td>\n",
       "      <td>ㅒ</td>\n",
       "      <td>ㅒ</td>\n",
       "      <td>[1]</td>\n",
       "      <td>[1]</td>\n",
       "      <td>&lt;UNK&gt;</td>\n",
       "      <td>&lt;UNK&gt;</td>\n",
       "    </tr>\n",
       "    <tr>\n",
       "      <th>51627</th>\n",
       "      <td>68854</td>\n",
       "      <td>ㅓ</td>\n",
       "      <td>ㅓ</td>\n",
       "      <td>ㅓ</td>\n",
       "      <td>[1]</td>\n",
       "      <td>[1]</td>\n",
       "      <td>&lt;UNK&gt;</td>\n",
       "      <td>&lt;UNK&gt;</td>\n",
       "    </tr>\n",
       "    <tr>\n",
       "      <th>51628</th>\n",
       "      <td>68855</td>\n",
       "      <td>ㅔ</td>\n",
       "      <td>ㅔ</td>\n",
       "      <td>ㅔ</td>\n",
       "      <td>[1]</td>\n",
       "      <td>[1]</td>\n",
       "      <td>&lt;UNK&gt;</td>\n",
       "      <td>&lt;UNK&gt;</td>\n",
       "    </tr>\n",
       "    <tr>\n",
       "      <th>51630</th>\n",
       "      <td>68857</td>\n",
       "      <td>ㅖ</td>\n",
       "      <td>ㅖ</td>\n",
       "      <td>ㅖ</td>\n",
       "      <td>[1]</td>\n",
       "      <td>[1]</td>\n",
       "      <td>&lt;UNK&gt;</td>\n",
       "      <td>&lt;UNK&gt;</td>\n",
       "    </tr>\n",
       "    <tr>\n",
       "      <th>51631</th>\n",
       "      <td>68858</td>\n",
       "      <td>ㅘ</td>\n",
       "      <td>ㅘ</td>\n",
       "      <td>ㅘ</td>\n",
       "      <td>[1]</td>\n",
       "      <td>[1]</td>\n",
       "      <td>&lt;UNK&gt;</td>\n",
       "      <td>&lt;UNK&gt;</td>\n",
       "    </tr>\n",
       "    <tr>\n",
       "      <th>51633</th>\n",
       "      <td>68860</td>\n",
       "      <td>ㅙ</td>\n",
       "      <td>ㅙ</td>\n",
       "      <td>ㅙ</td>\n",
       "      <td>[1]</td>\n",
       "      <td>[1]</td>\n",
       "      <td>&lt;UNK&gt;</td>\n",
       "      <td>&lt;UNK&gt;</td>\n",
       "    </tr>\n",
       "    <tr>\n",
       "      <th>51634</th>\n",
       "      <td>68861</td>\n",
       "      <td>ㅚ</td>\n",
       "      <td>ㅚ</td>\n",
       "      <td>ㅚ</td>\n",
       "      <td>[1]</td>\n",
       "      <td>[1]</td>\n",
       "      <td>&lt;UNK&gt;</td>\n",
       "      <td>&lt;UNK&gt;</td>\n",
       "    </tr>\n",
       "    <tr>\n",
       "      <th>51638</th>\n",
       "      <td>68863</td>\n",
       "      <td>ㅞ</td>\n",
       "      <td>ㅞ</td>\n",
       "      <td>ㅞ</td>\n",
       "      <td>[1]</td>\n",
       "      <td>[1]</td>\n",
       "      <td>&lt;UNK&gt;</td>\n",
       "      <td>&lt;UNK&gt;</td>\n",
       "    </tr>\n",
       "    <tr>\n",
       "      <th>51640</th>\n",
       "      <td>68865</td>\n",
       "      <td>ㅟ</td>\n",
       "      <td>ㅟ</td>\n",
       "      <td>ㅟ</td>\n",
       "      <td>[1]</td>\n",
       "      <td>[1]</td>\n",
       "      <td>&lt;UNK&gt;</td>\n",
       "      <td>&lt;UNK&gt;</td>\n",
       "    </tr>\n",
       "    <tr>\n",
       "      <th>51641</th>\n",
       "      <td>68866</td>\n",
       "      <td>ㅝ</td>\n",
       "      <td>ㅝ</td>\n",
       "      <td>ㅝ</td>\n",
       "      <td>[1]</td>\n",
       "      <td>[1]</td>\n",
       "      <td>&lt;UNK&gt;</td>\n",
       "      <td>&lt;UNK&gt;</td>\n",
       "    </tr>\n",
       "    <tr>\n",
       "      <th>51646</th>\n",
       "      <td>68868</td>\n",
       "      <td>ㅢ</td>\n",
       "      <td>ㅢ</td>\n",
       "      <td>ㅢ</td>\n",
       "      <td>[1]</td>\n",
       "      <td>[1]</td>\n",
       "      <td>&lt;UNK&gt;</td>\n",
       "      <td>&lt;UNK&gt;</td>\n",
       "    </tr>\n",
       "    <tr>\n",
       "      <th>51647</th>\n",
       "      <td>68869</td>\n",
       "      <td>ㅕ</td>\n",
       "      <td>ㅕ</td>\n",
       "      <td>ㅕ</td>\n",
       "      <td>[1]</td>\n",
       "      <td>[1]</td>\n",
       "      <td>&lt;UNK&gt;</td>\n",
       "      <td>&lt;UNK&gt;</td>\n",
       "    </tr>\n",
       "    <tr>\n",
       "      <th>51650</th>\n",
       "      <td>68872</td>\n",
       "      <td>ㅗ</td>\n",
       "      <td>ㅗ</td>\n",
       "      <td>ㅗ</td>\n",
       "      <td>[1]</td>\n",
       "      <td>[1]</td>\n",
       "      <td>&lt;UNK&gt;</td>\n",
       "      <td>&lt;UNK&gt;</td>\n",
       "    </tr>\n",
       "    <tr>\n",
       "      <th>51651</th>\n",
       "      <td>68873</td>\n",
       "      <td>ㅛ</td>\n",
       "      <td>ㅛ</td>\n",
       "      <td>ㅛ</td>\n",
       "      <td>[1]</td>\n",
       "      <td>[1]</td>\n",
       "      <td>&lt;UNK&gt;</td>\n",
       "      <td>&lt;UNK&gt;</td>\n",
       "    </tr>\n",
       "    <tr>\n",
       "      <th>51652</th>\n",
       "      <td>68874</td>\n",
       "      <td>ㅜ</td>\n",
       "      <td>ㅜ</td>\n",
       "      <td>ㅜ</td>\n",
       "      <td>[1]</td>\n",
       "      <td>[1]</td>\n",
       "      <td>&lt;UNK&gt;</td>\n",
       "      <td>&lt;UNK&gt;</td>\n",
       "    </tr>\n",
       "    <tr>\n",
       "      <th>51653</th>\n",
       "      <td>68875</td>\n",
       "      <td>ㅠ</td>\n",
       "      <td>ㅠ</td>\n",
       "      <td>ㅠ</td>\n",
       "      <td>[1]</td>\n",
       "      <td>[1]</td>\n",
       "      <td>&lt;UNK&gt;</td>\n",
       "      <td>&lt;UNK&gt;</td>\n",
       "    </tr>\n",
       "    <tr>\n",
       "      <th>51654</th>\n",
       "      <td>68876</td>\n",
       "      <td>ㅡ</td>\n",
       "      <td>ㅡ</td>\n",
       "      <td>ㅡ</td>\n",
       "      <td>[1]</td>\n",
       "      <td>[1]</td>\n",
       "      <td>&lt;UNK&gt;</td>\n",
       "      <td>&lt;UNK&gt;</td>\n",
       "    </tr>\n",
       "    <tr>\n",
       "      <th>51655</th>\n",
       "      <td>68877</td>\n",
       "      <td>ㅣ</td>\n",
       "      <td>ㅣ</td>\n",
       "      <td>ㅣ</td>\n",
       "      <td>[1]</td>\n",
       "      <td>[1]</td>\n",
       "      <td>&lt;UNK&gt;</td>\n",
       "      <td>&lt;UNK&gt;</td>\n",
       "    </tr>\n",
       "  </tbody>\n",
       "</table>\n",
       "</div>"
      ],
      "text/plain": [
       "       entry_id word_id spelling pronunciation vec_spelling vec_pronunciation  \\\n",
       "51620     68847       ㅏ        ㅏ             ㅏ          [1]               [1]   \n",
       "51621     68848       ㅐ        ㅐ             ㅐ          [1]               [1]   \n",
       "51622     68849       ㅑ        ㅑ             ㅑ          [1]               [1]   \n",
       "51625     68852       ㅒ        ㅒ             ㅒ          [1]               [1]   \n",
       "51627     68854       ㅓ        ㅓ             ㅓ          [1]               [1]   \n",
       "51628     68855       ㅔ        ㅔ             ㅔ          [1]               [1]   \n",
       "51630     68857       ㅖ        ㅖ             ㅖ          [1]               [1]   \n",
       "51631     68858       ㅘ        ㅘ             ㅘ          [1]               [1]   \n",
       "51633     68860       ㅙ        ㅙ             ㅙ          [1]               [1]   \n",
       "51634     68861       ㅚ        ㅚ             ㅚ          [1]               [1]   \n",
       "51638     68863       ㅞ        ㅞ             ㅞ          [1]               [1]   \n",
       "51640     68865       ㅟ        ㅟ             ㅟ          [1]               [1]   \n",
       "51641     68866       ㅝ        ㅝ             ㅝ          [1]               [1]   \n",
       "51646     68868       ㅢ        ㅢ             ㅢ          [1]               [1]   \n",
       "51647     68869       ㅕ        ㅕ             ㅕ          [1]               [1]   \n",
       "51650     68872       ㅗ        ㅗ             ㅗ          [1]               [1]   \n",
       "51651     68873       ㅛ        ㅛ             ㅛ          [1]               [1]   \n",
       "51652     68874       ㅜ        ㅜ             ㅜ          [1]               [1]   \n",
       "51653     68875       ㅠ        ㅠ             ㅠ          [1]               [1]   \n",
       "51654     68876       ㅡ        ㅡ             ㅡ          [1]               [1]   \n",
       "51655     68877       ㅣ        ㅣ             ㅣ          [1]               [1]   \n",
       "\n",
       "      unvec_spelling unvec_pronunciation  \n",
       "51620          <UNK>               <UNK>  \n",
       "51621          <UNK>               <UNK>  \n",
       "51622          <UNK>               <UNK>  \n",
       "51625          <UNK>               <UNK>  \n",
       "51627          <UNK>               <UNK>  \n",
       "51628          <UNK>               <UNK>  \n",
       "51630          <UNK>               <UNK>  \n",
       "51631          <UNK>               <UNK>  \n",
       "51633          <UNK>               <UNK>  \n",
       "51634          <UNK>               <UNK>  \n",
       "51638          <UNK>               <UNK>  \n",
       "51640          <UNK>               <UNK>  \n",
       "51641          <UNK>               <UNK>  \n",
       "51646          <UNK>               <UNK>  \n",
       "51647          <UNK>               <UNK>  \n",
       "51650          <UNK>               <UNK>  \n",
       "51651          <UNK>               <UNK>  \n",
       "51652          <UNK>               <UNK>  \n",
       "51653          <UNK>               <UNK>  \n",
       "51654          <UNK>               <UNK>  \n",
       "51655          <UNK>               <UNK>  "
      ]
     },
     "execution_count": 61,
     "metadata": {},
     "output_type": "execute_result"
    }
   ],
   "source": [
    "combined_drop_dups[combined_drop_dups.pronunciation != combined_drop_dups.unvec_pronunciation]"
   ]
  },
  {
   "cell_type": "code",
   "execution_count": 62,
   "metadata": {},
   "outputs": [],
   "source": [
    "# these 21 entries for the vowel and compound vowel entries seem to be the only issue for pronunciation"
   ]
  },
  {
   "cell_type": "code",
   "execution_count": 63,
   "metadata": {},
   "outputs": [
    {
     "data": {
      "text/plain": [
       "21"
      ]
     },
     "execution_count": 63,
     "metadata": {},
     "output_type": "execute_result"
    }
   ],
   "source": [
    "len(combined_drop_dups[combined_drop_dups.vec_pronunciation.apply(len) == 1])"
   ]
  },
  {
   "cell_type": "code",
   "execution_count": 64,
   "metadata": {},
   "outputs": [],
   "source": [
    "# remove the vowel only entries"
   ]
  },
  {
   "cell_type": "code",
   "execution_count": 65,
   "metadata": {},
   "outputs": [
    {
     "name": "stdout",
     "output_type": "stream",
     "text": [
      "88634\n"
     ]
    },
    {
     "data": {
      "text/plain": [
       "88634"
      ]
     },
     "execution_count": 65,
     "metadata": {},
     "output_type": "execute_result"
    }
   ],
   "source": [
    "combined_clean = combined_drop_dups[~(combined_drop_dups.pronunciation != combined_drop_dups.unvec_pronunciation)]\n",
    "print(len(combined_drop_dups) - len(combined_drop_dups[combined_drop_dups.vec_pronunciation.apply(len) == 1]))\n",
    "len(combined_clean)"
   ]
  },
  {
   "cell_type": "code",
   "execution_count": 66,
   "metadata": {},
   "outputs": [],
   "source": [
    "# check spelling now"
   ]
  },
  {
   "cell_type": "code",
   "execution_count": 67,
   "metadata": {},
   "outputs": [
    {
     "data": {
      "text/plain": [
       "64"
      ]
     },
     "execution_count": 67,
     "metadata": {},
     "output_type": "execute_result"
    }
   ],
   "source": [
    "len(combined_clean[combined_clean.spelling != combined_clean.unvec_spelling])"
   ]
  },
  {
   "cell_type": "code",
   "execution_count": 68,
   "metadata": {},
   "outputs": [
    {
     "data": {
      "text/plain": [
       "64"
      ]
     },
     "execution_count": 68,
     "metadata": {},
     "output_type": "execute_result"
    }
   ],
   "source": [
    "len(combined_clean[combined_clean.unvec_spelling.str.contains(\"<UNK>\")])"
   ]
  },
  {
   "cell_type": "code",
   "execution_count": 69,
   "metadata": {},
   "outputs": [],
   "source": [
    "# Korean has 14 consonants, plus 5 double consonants, and ㄴ, ㄹ, ㅁ, and ㅇ seemed to have been treated as special cases.\n",
    "# So four entries each, except for the special cases which only have one entry"
   ]
  },
  {
   "cell_type": "code",
   "execution_count": 70,
   "metadata": {},
   "outputs": [
    {
     "data": {
      "text/plain": [
       "64"
      ]
     },
     "execution_count": 70,
     "metadata": {},
     "output_type": "execute_result"
    }
   ],
   "source": [
    "(14 + 5 - 4)* 4 + 4"
   ]
  },
  {
   "cell_type": "code",
   "execution_count": 71,
   "metadata": {},
   "outputs": [],
   "source": [
    "# just drop these entries like the vowels"
   ]
  },
  {
   "cell_type": "code",
   "execution_count": 72,
   "metadata": {},
   "outputs": [
    {
     "data": {
      "text/html": [
       "<div>\n",
       "<style scoped>\n",
       "    .dataframe tbody tr th:only-of-type {\n",
       "        vertical-align: middle;\n",
       "    }\n",
       "\n",
       "    .dataframe tbody tr th {\n",
       "        vertical-align: top;\n",
       "    }\n",
       "\n",
       "    .dataframe thead th {\n",
       "        text-align: right;\n",
       "    }\n",
       "</style>\n",
       "<table border=\"1\" class=\"dataframe\">\n",
       "  <thead>\n",
       "    <tr style=\"text-align: right;\">\n",
       "      <th></th>\n",
       "      <th>entry_id</th>\n",
       "      <th>word_id</th>\n",
       "      <th>spelling</th>\n",
       "      <th>pronunciation</th>\n",
       "      <th>vec_spelling</th>\n",
       "      <th>vec_pronunciation</th>\n",
       "      <th>unvec_spelling</th>\n",
       "      <th>unvec_pronunciation</th>\n",
       "    </tr>\n",
       "  </thead>\n",
       "  <tbody>\n",
       "    <tr>\n",
       "      <th>51956</th>\n",
       "      <td>69069</td>\n",
       "      <td>ㄱ</td>\n",
       "      <td>ㄱ</td>\n",
       "      <td>기역</td>\n",
       "      <td>[1]</td>\n",
       "      <td>[2, 41, 13, 27, 42]</td>\n",
       "      <td>&lt;UNK&gt;</td>\n",
       "      <td>기역</td>\n",
       "    </tr>\n",
       "    <tr>\n",
       "      <th>51957</th>\n",
       "      <td>69069</td>\n",
       "      <td>ㄱ</td>\n",
       "      <td>ㄱ이</td>\n",
       "      <td>기여기</td>\n",
       "      <td>[1, 13, 41]</td>\n",
       "      <td>[2, 41, 13, 27, 2, 41]</td>\n",
       "      <td>&lt;UNK&gt;이</td>\n",
       "      <td>기여기</td>\n",
       "    </tr>\n",
       "    <tr>\n",
       "      <th>51958</th>\n",
       "      <td>69069</td>\n",
       "      <td>ㄱ</td>\n",
       "      <td>ㄱ도</td>\n",
       "      <td>기역또</td>\n",
       "      <td>[1, 5, 29]</td>\n",
       "      <td>[2, 41, 13, 27, 42, 6, 29]</td>\n",
       "      <td>&lt;UNK&gt;도</td>\n",
       "      <td>기역또</td>\n",
       "    </tr>\n",
       "    <tr>\n",
       "      <th>51959</th>\n",
       "      <td>69069</td>\n",
       "      <td>ㄱ</td>\n",
       "      <td>ㄱ만</td>\n",
       "      <td>기영만</td>\n",
       "      <td>[1, 8, 21, 45]</td>\n",
       "      <td>[2, 41, 13, 27, 62, 8, 21, 45]</td>\n",
       "      <td>&lt;UNK&gt;만</td>\n",
       "      <td>기영만</td>\n",
       "    </tr>\n",
       "    <tr>\n",
       "      <th>51964</th>\n",
       "      <td>69071</td>\n",
       "      <td>ㄲ</td>\n",
       "      <td>ㄲ</td>\n",
       "      <td>쌍기역</td>\n",
       "      <td>[1]</td>\n",
       "      <td>[12, 21, 62, 2, 41, 13, 27, 42]</td>\n",
       "      <td>&lt;UNK&gt;</td>\n",
       "      <td>쌍기역</td>\n",
       "    </tr>\n",
       "    <tr>\n",
       "      <th>51965</th>\n",
       "      <td>69071</td>\n",
       "      <td>ㄲ</td>\n",
       "      <td>ㄲ이</td>\n",
       "      <td>쌍기여기</td>\n",
       "      <td>[1, 13, 41]</td>\n",
       "      <td>[12, 21, 62, 2, 41, 13, 27, 2, 41]</td>\n",
       "      <td>&lt;UNK&gt;이</td>\n",
       "      <td>쌍기여기</td>\n",
       "    </tr>\n",
       "    <tr>\n",
       "      <th>51966</th>\n",
       "      <td>69071</td>\n",
       "      <td>ㄲ</td>\n",
       "      <td>ㄲ도</td>\n",
       "      <td>쌍기역또</td>\n",
       "      <td>[1, 5, 29]</td>\n",
       "      <td>[12, 21, 62, 2, 41, 13, 27, 42, 6, 29]</td>\n",
       "      <td>&lt;UNK&gt;도</td>\n",
       "      <td>쌍기역또</td>\n",
       "    </tr>\n",
       "    <tr>\n",
       "      <th>51967</th>\n",
       "      <td>69071</td>\n",
       "      <td>ㄲ</td>\n",
       "      <td>ㄲ만</td>\n",
       "      <td>쌍기역만</td>\n",
       "      <td>[1, 8, 21, 45]</td>\n",
       "      <td>[12, 21, 62, 2, 41, 13, 27, 42, 8, 21, 45]</td>\n",
       "      <td>&lt;UNK&gt;만</td>\n",
       "      <td>쌍기역만</td>\n",
       "    </tr>\n",
       "    <tr>\n",
       "      <th>51972</th>\n",
       "      <td>69073</td>\n",
       "      <td>ㄴ1</td>\n",
       "      <td>ㄴ</td>\n",
       "      <td>니은</td>\n",
       "      <td>[1]</td>\n",
       "      <td>[4, 41, 13, 39, 45]</td>\n",
       "      <td>&lt;UNK&gt;</td>\n",
       "      <td>니은</td>\n",
       "    </tr>\n",
       "    <tr>\n",
       "      <th>51973</th>\n",
       "      <td>69075</td>\n",
       "      <td>ㄷ</td>\n",
       "      <td>ㄷ</td>\n",
       "      <td>디귿</td>\n",
       "      <td>[1]</td>\n",
       "      <td>[5, 41, 2, 39, 48]</td>\n",
       "      <td>&lt;UNK&gt;</td>\n",
       "      <td>디귿</td>\n",
       "    </tr>\n",
       "    <tr>\n",
       "      <th>51974</th>\n",
       "      <td>69075</td>\n",
       "      <td>ㄷ</td>\n",
       "      <td>ㄷ이</td>\n",
       "      <td>디그시</td>\n",
       "      <td>[1, 13, 41]</td>\n",
       "      <td>[5, 41, 2, 39, 11, 41]</td>\n",
       "      <td>&lt;UNK&gt;이</td>\n",
       "      <td>디그시</td>\n",
       "    </tr>\n",
       "    <tr>\n",
       "      <th>51975</th>\n",
       "      <td>69075</td>\n",
       "      <td>ㄷ</td>\n",
       "      <td>ㄷ도</td>\n",
       "      <td>디귿또</td>\n",
       "      <td>[1, 5, 29]</td>\n",
       "      <td>[5, 41, 2, 39, 48, 6, 29]</td>\n",
       "      <td>&lt;UNK&gt;도</td>\n",
       "      <td>디귿또</td>\n",
       "    </tr>\n",
       "    <tr>\n",
       "      <th>51976</th>\n",
       "      <td>69075</td>\n",
       "      <td>ㄷ</td>\n",
       "      <td>ㄷ만</td>\n",
       "      <td>디근만</td>\n",
       "      <td>[1, 8, 21, 45]</td>\n",
       "      <td>[5, 41, 2, 39, 45, 8, 21, 45]</td>\n",
       "      <td>&lt;UNK&gt;만</td>\n",
       "      <td>디근만</td>\n",
       "    </tr>\n",
       "    <tr>\n",
       "      <th>51981</th>\n",
       "      <td>69077</td>\n",
       "      <td>ㄸ</td>\n",
       "      <td>ㄸ</td>\n",
       "      <td>쌍디귿</td>\n",
       "      <td>[1]</td>\n",
       "      <td>[12, 21, 62, 5, 41, 2, 39, 48]</td>\n",
       "      <td>&lt;UNK&gt;</td>\n",
       "      <td>쌍디귿</td>\n",
       "    </tr>\n",
       "    <tr>\n",
       "      <th>51982</th>\n",
       "      <td>69077</td>\n",
       "      <td>ㄸ</td>\n",
       "      <td>ㄸ이</td>\n",
       "      <td>쌍디그시</td>\n",
       "      <td>[1, 13, 41]</td>\n",
       "      <td>[12, 21, 62, 5, 41, 2, 39, 11, 41]</td>\n",
       "      <td>&lt;UNK&gt;이</td>\n",
       "      <td>쌍디그시</td>\n",
       "    </tr>\n",
       "    <tr>\n",
       "      <th>51983</th>\n",
       "      <td>69077</td>\n",
       "      <td>ㄸ</td>\n",
       "      <td>ㄸ도</td>\n",
       "      <td>쌍디귿또</td>\n",
       "      <td>[1, 5, 29]</td>\n",
       "      <td>[12, 21, 62, 5, 41, 2, 39, 48, 6, 29]</td>\n",
       "      <td>&lt;UNK&gt;도</td>\n",
       "      <td>쌍디귿또</td>\n",
       "    </tr>\n",
       "    <tr>\n",
       "      <th>51984</th>\n",
       "      <td>69077</td>\n",
       "      <td>ㄸ</td>\n",
       "      <td>ㄸ만</td>\n",
       "      <td>쌍디근만</td>\n",
       "      <td>[1, 8, 21, 45]</td>\n",
       "      <td>[12, 21, 62, 5, 41, 2, 39, 45, 8, 21, 45]</td>\n",
       "      <td>&lt;UNK&gt;만</td>\n",
       "      <td>쌍디근만</td>\n",
       "    </tr>\n",
       "    <tr>\n",
       "      <th>51989</th>\n",
       "      <td>69079</td>\n",
       "      <td>ㄹ1</td>\n",
       "      <td>ㄹ</td>\n",
       "      <td>리을</td>\n",
       "      <td>[1]</td>\n",
       "      <td>[7, 41, 13, 39, 49]</td>\n",
       "      <td>&lt;UNK&gt;</td>\n",
       "      <td>리을</td>\n",
       "    </tr>\n",
       "    <tr>\n",
       "      <th>51991</th>\n",
       "      <td>69081</td>\n",
       "      <td>ㅁ</td>\n",
       "      <td>ㅁ</td>\n",
       "      <td>미음</td>\n",
       "      <td>[1]</td>\n",
       "      <td>[8, 41, 13, 39, 57]</td>\n",
       "      <td>&lt;UNK&gt;</td>\n",
       "      <td>미음</td>\n",
       "    </tr>\n",
       "    <tr>\n",
       "      <th>51993</th>\n",
       "      <td>69083</td>\n",
       "      <td>ㅂ</td>\n",
       "      <td>ㅂ</td>\n",
       "      <td>비읍</td>\n",
       "      <td>[1]</td>\n",
       "      <td>[9, 41, 13, 39, 58]</td>\n",
       "      <td>&lt;UNK&gt;</td>\n",
       "      <td>비읍</td>\n",
       "    </tr>\n",
       "    <tr>\n",
       "      <th>51994</th>\n",
       "      <td>69083</td>\n",
       "      <td>ㅂ</td>\n",
       "      <td>ㅂ이</td>\n",
       "      <td>비으비</td>\n",
       "      <td>[1, 13, 41]</td>\n",
       "      <td>[9, 41, 13, 39, 9, 41]</td>\n",
       "      <td>&lt;UNK&gt;이</td>\n",
       "      <td>비으비</td>\n",
       "    </tr>\n",
       "    <tr>\n",
       "      <th>51995</th>\n",
       "      <td>69083</td>\n",
       "      <td>ㅂ</td>\n",
       "      <td>ㅂ도</td>\n",
       "      <td>비읍또</td>\n",
       "      <td>[1, 5, 29]</td>\n",
       "      <td>[9, 41, 13, 39, 58, 6, 29]</td>\n",
       "      <td>&lt;UNK&gt;도</td>\n",
       "      <td>비읍또</td>\n",
       "    </tr>\n",
       "    <tr>\n",
       "      <th>51996</th>\n",
       "      <td>69083</td>\n",
       "      <td>ㅂ</td>\n",
       "      <td>ㅂ만</td>\n",
       "      <td>비음만</td>\n",
       "      <td>[1, 8, 21, 45]</td>\n",
       "      <td>[9, 41, 13, 39, 57, 8, 21, 45]</td>\n",
       "      <td>&lt;UNK&gt;만</td>\n",
       "      <td>비음만</td>\n",
       "    </tr>\n",
       "    <tr>\n",
       "      <th>52001</th>\n",
       "      <td>69086</td>\n",
       "      <td>ㅃ</td>\n",
       "      <td>ㅃ</td>\n",
       "      <td>쌍비읍</td>\n",
       "      <td>[1]</td>\n",
       "      <td>[12, 21, 62, 9, 41, 13, 39, 58]</td>\n",
       "      <td>&lt;UNK&gt;</td>\n",
       "      <td>쌍비읍</td>\n",
       "    </tr>\n",
       "    <tr>\n",
       "      <th>52002</th>\n",
       "      <td>69086</td>\n",
       "      <td>ㅃ</td>\n",
       "      <td>ㅃ이</td>\n",
       "      <td>쌍비으비</td>\n",
       "      <td>[1, 13, 41]</td>\n",
       "      <td>[12, 21, 62, 9, 41, 13, 39, 9, 41]</td>\n",
       "      <td>&lt;UNK&gt;이</td>\n",
       "      <td>쌍비으비</td>\n",
       "    </tr>\n",
       "    <tr>\n",
       "      <th>52003</th>\n",
       "      <td>69086</td>\n",
       "      <td>ㅃ</td>\n",
       "      <td>ㅃ도</td>\n",
       "      <td>쌍비읍또</td>\n",
       "      <td>[1, 5, 29]</td>\n",
       "      <td>[12, 21, 62, 9, 41, 13, 39, 58, 6, 29]</td>\n",
       "      <td>&lt;UNK&gt;도</td>\n",
       "      <td>쌍비읍또</td>\n",
       "    </tr>\n",
       "    <tr>\n",
       "      <th>52004</th>\n",
       "      <td>69086</td>\n",
       "      <td>ㅃ</td>\n",
       "      <td>ㅃ만</td>\n",
       "      <td>쌍비음만</td>\n",
       "      <td>[1, 8, 21, 45]</td>\n",
       "      <td>[12, 21, 62, 9, 41, 13, 39, 57, 8, 21, 45]</td>\n",
       "      <td>&lt;UNK&gt;만</td>\n",
       "      <td>쌍비음만</td>\n",
       "    </tr>\n",
       "    <tr>\n",
       "      <th>52009</th>\n",
       "      <td>69088</td>\n",
       "      <td>ㅅ</td>\n",
       "      <td>ㅅ</td>\n",
       "      <td>시옫</td>\n",
       "      <td>[1]</td>\n",
       "      <td>[11, 41, 13, 29, 48]</td>\n",
       "      <td>&lt;UNK&gt;</td>\n",
       "      <td>시옫</td>\n",
       "    </tr>\n",
       "    <tr>\n",
       "      <th>52010</th>\n",
       "      <td>69088</td>\n",
       "      <td>ㅅ</td>\n",
       "      <td>ㅅ이</td>\n",
       "      <td>시오시</td>\n",
       "      <td>[1, 13, 41]</td>\n",
       "      <td>[11, 41, 13, 29, 11, 41]</td>\n",
       "      <td>&lt;UNK&gt;이</td>\n",
       "      <td>시오시</td>\n",
       "    </tr>\n",
       "    <tr>\n",
       "      <th>52011</th>\n",
       "      <td>69088</td>\n",
       "      <td>ㅅ</td>\n",
       "      <td>ㅅ도</td>\n",
       "      <td>시옫또</td>\n",
       "      <td>[1, 5, 29]</td>\n",
       "      <td>[11, 41, 13, 29, 48, 6, 29]</td>\n",
       "      <td>&lt;UNK&gt;도</td>\n",
       "      <td>시옫또</td>\n",
       "    </tr>\n",
       "    <tr>\n",
       "      <th>52012</th>\n",
       "      <td>69088</td>\n",
       "      <td>ㅅ</td>\n",
       "      <td>ㅅ만</td>\n",
       "      <td>시온만</td>\n",
       "      <td>[1, 8, 21, 45]</td>\n",
       "      <td>[11, 41, 13, 29, 45, 8, 21, 45]</td>\n",
       "      <td>&lt;UNK&gt;만</td>\n",
       "      <td>시온만</td>\n",
       "    </tr>\n",
       "    <tr>\n",
       "      <th>52017</th>\n",
       "      <td>69090</td>\n",
       "      <td>ㅆ</td>\n",
       "      <td>ㅆ</td>\n",
       "      <td>쌍시옫</td>\n",
       "      <td>[1]</td>\n",
       "      <td>[12, 21, 62, 11, 41, 13, 29, 48]</td>\n",
       "      <td>&lt;UNK&gt;</td>\n",
       "      <td>쌍시옫</td>\n",
       "    </tr>\n",
       "    <tr>\n",
       "      <th>52018</th>\n",
       "      <td>69090</td>\n",
       "      <td>ㅆ</td>\n",
       "      <td>ㅆ이</td>\n",
       "      <td>쌍시오시</td>\n",
       "      <td>[1, 13, 41]</td>\n",
       "      <td>[12, 21, 62, 11, 41, 13, 29, 11, 41]</td>\n",
       "      <td>&lt;UNK&gt;이</td>\n",
       "      <td>쌍시오시</td>\n",
       "    </tr>\n",
       "    <tr>\n",
       "      <th>52019</th>\n",
       "      <td>69090</td>\n",
       "      <td>ㅆ</td>\n",
       "      <td>ㅆ도</td>\n",
       "      <td>쌍시옫또</td>\n",
       "      <td>[1, 5, 29]</td>\n",
       "      <td>[12, 21, 62, 11, 41, 13, 29, 48, 6, 29]</td>\n",
       "      <td>&lt;UNK&gt;도</td>\n",
       "      <td>쌍시옫또</td>\n",
       "    </tr>\n",
       "    <tr>\n",
       "      <th>52020</th>\n",
       "      <td>69090</td>\n",
       "      <td>ㅆ</td>\n",
       "      <td>ㅆ만</td>\n",
       "      <td>쌍시온만</td>\n",
       "      <td>[1, 8, 21, 45]</td>\n",
       "      <td>[12, 21, 62, 11, 41, 13, 29, 45, 8, 21, 45]</td>\n",
       "      <td>&lt;UNK&gt;만</td>\n",
       "      <td>쌍시온만</td>\n",
       "    </tr>\n",
       "    <tr>\n",
       "      <th>52025</th>\n",
       "      <td>69092</td>\n",
       "      <td>ㅇ</td>\n",
       "      <td>ㅇ</td>\n",
       "      <td>이응</td>\n",
       "      <td>[1]</td>\n",
       "      <td>[13, 41, 13, 39, 62]</td>\n",
       "      <td>&lt;UNK&gt;</td>\n",
       "      <td>이응</td>\n",
       "    </tr>\n",
       "    <tr>\n",
       "      <th>52027</th>\n",
       "      <td>69094</td>\n",
       "      <td>ㅈ</td>\n",
       "      <td>ㅈ</td>\n",
       "      <td>지읃</td>\n",
       "      <td>[1]</td>\n",
       "      <td>[14, 41, 13, 39, 48]</td>\n",
       "      <td>&lt;UNK&gt;</td>\n",
       "      <td>지읃</td>\n",
       "    </tr>\n",
       "    <tr>\n",
       "      <th>52028</th>\n",
       "      <td>69094</td>\n",
       "      <td>ㅈ</td>\n",
       "      <td>ㅈ이</td>\n",
       "      <td>지으시</td>\n",
       "      <td>[1, 13, 41]</td>\n",
       "      <td>[14, 41, 13, 39, 11, 41]</td>\n",
       "      <td>&lt;UNK&gt;이</td>\n",
       "      <td>지으시</td>\n",
       "    </tr>\n",
       "    <tr>\n",
       "      <th>52029</th>\n",
       "      <td>69094</td>\n",
       "      <td>ㅈ</td>\n",
       "      <td>ㅈ도</td>\n",
       "      <td>지읃또</td>\n",
       "      <td>[1, 5, 29]</td>\n",
       "      <td>[14, 41, 13, 39, 48, 6, 29]</td>\n",
       "      <td>&lt;UNK&gt;도</td>\n",
       "      <td>지읃또</td>\n",
       "    </tr>\n",
       "    <tr>\n",
       "      <th>52030</th>\n",
       "      <td>69094</td>\n",
       "      <td>ㅈ</td>\n",
       "      <td>ㅈ만</td>\n",
       "      <td>지은만</td>\n",
       "      <td>[1, 8, 21, 45]</td>\n",
       "      <td>[14, 41, 13, 39, 45, 8, 21, 45]</td>\n",
       "      <td>&lt;UNK&gt;만</td>\n",
       "      <td>지은만</td>\n",
       "    </tr>\n",
       "  </tbody>\n",
       "</table>\n",
       "</div>"
      ],
      "text/plain": [
       "       entry_id word_id spelling pronunciation    vec_spelling  \\\n",
       "51956     69069       ㄱ        ㄱ            기역             [1]   \n",
       "51957     69069       ㄱ       ㄱ이           기여기     [1, 13, 41]   \n",
       "51958     69069       ㄱ       ㄱ도           기역또      [1, 5, 29]   \n",
       "51959     69069       ㄱ       ㄱ만           기영만  [1, 8, 21, 45]   \n",
       "51964     69071       ㄲ        ㄲ           쌍기역             [1]   \n",
       "51965     69071       ㄲ       ㄲ이          쌍기여기     [1, 13, 41]   \n",
       "51966     69071       ㄲ       ㄲ도          쌍기역또      [1, 5, 29]   \n",
       "51967     69071       ㄲ       ㄲ만          쌍기역만  [1, 8, 21, 45]   \n",
       "51972     69073      ㄴ1        ㄴ            니은             [1]   \n",
       "51973     69075       ㄷ        ㄷ            디귿             [1]   \n",
       "51974     69075       ㄷ       ㄷ이           디그시     [1, 13, 41]   \n",
       "51975     69075       ㄷ       ㄷ도           디귿또      [1, 5, 29]   \n",
       "51976     69075       ㄷ       ㄷ만           디근만  [1, 8, 21, 45]   \n",
       "51981     69077       ㄸ        ㄸ           쌍디귿             [1]   \n",
       "51982     69077       ㄸ       ㄸ이          쌍디그시     [1, 13, 41]   \n",
       "51983     69077       ㄸ       ㄸ도          쌍디귿또      [1, 5, 29]   \n",
       "51984     69077       ㄸ       ㄸ만          쌍디근만  [1, 8, 21, 45]   \n",
       "51989     69079      ㄹ1        ㄹ            리을             [1]   \n",
       "51991     69081       ㅁ        ㅁ            미음             [1]   \n",
       "51993     69083       ㅂ        ㅂ            비읍             [1]   \n",
       "51994     69083       ㅂ       ㅂ이           비으비     [1, 13, 41]   \n",
       "51995     69083       ㅂ       ㅂ도           비읍또      [1, 5, 29]   \n",
       "51996     69083       ㅂ       ㅂ만           비음만  [1, 8, 21, 45]   \n",
       "52001     69086       ㅃ        ㅃ           쌍비읍             [1]   \n",
       "52002     69086       ㅃ       ㅃ이          쌍비으비     [1, 13, 41]   \n",
       "52003     69086       ㅃ       ㅃ도          쌍비읍또      [1, 5, 29]   \n",
       "52004     69086       ㅃ       ㅃ만          쌍비음만  [1, 8, 21, 45]   \n",
       "52009     69088       ㅅ        ㅅ            시옫             [1]   \n",
       "52010     69088       ㅅ       ㅅ이           시오시     [1, 13, 41]   \n",
       "52011     69088       ㅅ       ㅅ도           시옫또      [1, 5, 29]   \n",
       "52012     69088       ㅅ       ㅅ만           시온만  [1, 8, 21, 45]   \n",
       "52017     69090       ㅆ        ㅆ           쌍시옫             [1]   \n",
       "52018     69090       ㅆ       ㅆ이          쌍시오시     [1, 13, 41]   \n",
       "52019     69090       ㅆ       ㅆ도          쌍시옫또      [1, 5, 29]   \n",
       "52020     69090       ㅆ       ㅆ만          쌍시온만  [1, 8, 21, 45]   \n",
       "52025     69092       ㅇ        ㅇ            이응             [1]   \n",
       "52027     69094       ㅈ        ㅈ            지읃             [1]   \n",
       "52028     69094       ㅈ       ㅈ이           지으시     [1, 13, 41]   \n",
       "52029     69094       ㅈ       ㅈ도           지읃또      [1, 5, 29]   \n",
       "52030     69094       ㅈ       ㅈ만           지은만  [1, 8, 21, 45]   \n",
       "\n",
       "                                 vec_pronunciation unvec_spelling  \\\n",
       "51956                          [2, 41, 13, 27, 42]          <UNK>   \n",
       "51957                       [2, 41, 13, 27, 2, 41]         <UNK>이   \n",
       "51958                   [2, 41, 13, 27, 42, 6, 29]         <UNK>도   \n",
       "51959               [2, 41, 13, 27, 62, 8, 21, 45]         <UNK>만   \n",
       "51964              [12, 21, 62, 2, 41, 13, 27, 42]          <UNK>   \n",
       "51965           [12, 21, 62, 2, 41, 13, 27, 2, 41]         <UNK>이   \n",
       "51966       [12, 21, 62, 2, 41, 13, 27, 42, 6, 29]         <UNK>도   \n",
       "51967   [12, 21, 62, 2, 41, 13, 27, 42, 8, 21, 45]         <UNK>만   \n",
       "51972                          [4, 41, 13, 39, 45]          <UNK>   \n",
       "51973                           [5, 41, 2, 39, 48]          <UNK>   \n",
       "51974                       [5, 41, 2, 39, 11, 41]         <UNK>이   \n",
       "51975                    [5, 41, 2, 39, 48, 6, 29]         <UNK>도   \n",
       "51976                [5, 41, 2, 39, 45, 8, 21, 45]         <UNK>만   \n",
       "51981               [12, 21, 62, 5, 41, 2, 39, 48]          <UNK>   \n",
       "51982           [12, 21, 62, 5, 41, 2, 39, 11, 41]         <UNK>이   \n",
       "51983        [12, 21, 62, 5, 41, 2, 39, 48, 6, 29]         <UNK>도   \n",
       "51984    [12, 21, 62, 5, 41, 2, 39, 45, 8, 21, 45]         <UNK>만   \n",
       "51989                          [7, 41, 13, 39, 49]          <UNK>   \n",
       "51991                          [8, 41, 13, 39, 57]          <UNK>   \n",
       "51993                          [9, 41, 13, 39, 58]          <UNK>   \n",
       "51994                       [9, 41, 13, 39, 9, 41]         <UNK>이   \n",
       "51995                   [9, 41, 13, 39, 58, 6, 29]         <UNK>도   \n",
       "51996               [9, 41, 13, 39, 57, 8, 21, 45]         <UNK>만   \n",
       "52001              [12, 21, 62, 9, 41, 13, 39, 58]          <UNK>   \n",
       "52002           [12, 21, 62, 9, 41, 13, 39, 9, 41]         <UNK>이   \n",
       "52003       [12, 21, 62, 9, 41, 13, 39, 58, 6, 29]         <UNK>도   \n",
       "52004   [12, 21, 62, 9, 41, 13, 39, 57, 8, 21, 45]         <UNK>만   \n",
       "52009                         [11, 41, 13, 29, 48]          <UNK>   \n",
       "52010                     [11, 41, 13, 29, 11, 41]         <UNK>이   \n",
       "52011                  [11, 41, 13, 29, 48, 6, 29]         <UNK>도   \n",
       "52012              [11, 41, 13, 29, 45, 8, 21, 45]         <UNK>만   \n",
       "52017             [12, 21, 62, 11, 41, 13, 29, 48]          <UNK>   \n",
       "52018         [12, 21, 62, 11, 41, 13, 29, 11, 41]         <UNK>이   \n",
       "52019      [12, 21, 62, 11, 41, 13, 29, 48, 6, 29]         <UNK>도   \n",
       "52020  [12, 21, 62, 11, 41, 13, 29, 45, 8, 21, 45]         <UNK>만   \n",
       "52025                         [13, 41, 13, 39, 62]          <UNK>   \n",
       "52027                         [14, 41, 13, 39, 48]          <UNK>   \n",
       "52028                     [14, 41, 13, 39, 11, 41]         <UNK>이   \n",
       "52029                  [14, 41, 13, 39, 48, 6, 29]         <UNK>도   \n",
       "52030              [14, 41, 13, 39, 45, 8, 21, 45]         <UNK>만   \n",
       "\n",
       "      unvec_pronunciation  \n",
       "51956                  기역  \n",
       "51957                 기여기  \n",
       "51958                 기역또  \n",
       "51959                 기영만  \n",
       "51964                 쌍기역  \n",
       "51965                쌍기여기  \n",
       "51966                쌍기역또  \n",
       "51967                쌍기역만  \n",
       "51972                  니은  \n",
       "51973                  디귿  \n",
       "51974                 디그시  \n",
       "51975                 디귿또  \n",
       "51976                 디근만  \n",
       "51981                 쌍디귿  \n",
       "51982                쌍디그시  \n",
       "51983                쌍디귿또  \n",
       "51984                쌍디근만  \n",
       "51989                  리을  \n",
       "51991                  미음  \n",
       "51993                  비읍  \n",
       "51994                 비으비  \n",
       "51995                 비읍또  \n",
       "51996                 비음만  \n",
       "52001                 쌍비읍  \n",
       "52002                쌍비으비  \n",
       "52003                쌍비읍또  \n",
       "52004                쌍비음만  \n",
       "52009                  시옫  \n",
       "52010                 시오시  \n",
       "52011                 시옫또  \n",
       "52012                 시온만  \n",
       "52017                 쌍시옫  \n",
       "52018                쌍시오시  \n",
       "52019                쌍시옫또  \n",
       "52020                쌍시온만  \n",
       "52025                  이응  \n",
       "52027                  지읃  \n",
       "52028                 지으시  \n",
       "52029                 지읃또  \n",
       "52030                 지은만  "
      ]
     },
     "execution_count": 72,
     "metadata": {},
     "output_type": "execute_result"
    }
   ],
   "source": [
    "combined_clean[combined_clean.unvec_spelling.str.contains(\"<UNK>\")].head(40)"
   ]
  },
  {
   "cell_type": "code",
   "execution_count": 73,
   "metadata": {},
   "outputs": [
    {
     "name": "stdout",
     "output_type": "stream",
     "text": [
      "88570\n"
     ]
    },
    {
     "data": {
      "text/plain": [
       "88570"
      ]
     },
     "execution_count": 73,
     "metadata": {},
     "output_type": "execute_result"
    }
   ],
   "source": [
    "combined_clean_final = combined_clean[~(combined_clean.spelling != combined_clean.unvec_spelling)]\n",
    "print(len(combined_clean) - len(combined_clean[combined_clean.unvec_spelling.str.contains(\"<UNK>\")]))\n",
    "len(combined_clean_final)"
   ]
  },
  {
   "cell_type": "code",
   "execution_count": 74,
   "metadata": {},
   "outputs": [],
   "source": [
    "# pad all vectors with zeroes to ensure uniform length"
   ]
  },
  {
   "cell_type": "code",
   "execution_count": 75,
   "metadata": {},
   "outputs": [],
   "source": [
    "def pad_with_zeros(vector, num_zeros):\n",
    "    zeros_to_pad = num_zeros - len(vector)\n",
    "    # default value for \"constant\" mode is zero.\n",
    "    # pad the array with 0 zeros on the left and \"zeros_to_pad\" zeros on the right\n",
    "    return np.pad(vector, (0, zeros_to_pad), \"constant\")"
   ]
  },
  {
   "cell_type": "code",
   "execution_count": 76,
   "metadata": {},
   "outputs": [
    {
     "name": "stderr",
     "output_type": "stream",
     "text": [
      "C:\\Users\\qps\\anaconda3\\lib\\site-packages\\ipykernel_launcher.py:1: SettingWithCopyWarning: \n",
      "A value is trying to be set on a copy of a slice from a DataFrame.\n",
      "Try using .loc[row_indexer,col_indexer] = value instead\n",
      "\n",
      "See the caveats in the documentation: https://pandas.pydata.org/pandas-docs/stable/user_guide/indexing.html#returning-a-view-versus-a-copy\n",
      "  \"\"\"Entry point for launching an IPython kernel.\n"
     ]
    }
   ],
   "source": [
    "combined_clean_final[\"vec_spelling_pad\"] = combined_clean_final.vec_spelling.apply(pad_with_zeros, args=(23,))"
   ]
  },
  {
   "cell_type": "code",
   "execution_count": 77,
   "metadata": {},
   "outputs": [
    {
     "name": "stderr",
     "output_type": "stream",
     "text": [
      "C:\\Users\\qps\\anaconda3\\lib\\site-packages\\ipykernel_launcher.py:1: SettingWithCopyWarning: \n",
      "A value is trying to be set on a copy of a slice from a DataFrame.\n",
      "Try using .loc[row_indexer,col_indexer] = value instead\n",
      "\n",
      "See the caveats in the documentation: https://pandas.pydata.org/pandas-docs/stable/user_guide/indexing.html#returning-a-view-versus-a-copy\n",
      "  \"\"\"Entry point for launching an IPython kernel.\n"
     ]
    }
   ],
   "source": [
    "combined_clean_final[\"vec_pronunciation_pad\"] = combined_clean_final.vec_pronunciation.apply(pad_with_zeros, args=(23,))"
   ]
  },
  {
   "cell_type": "code",
   "execution_count": 78,
   "metadata": {},
   "outputs": [
    {
     "data": {
      "text/html": [
       "<div>\n",
       "<style scoped>\n",
       "    .dataframe tbody tr th:only-of-type {\n",
       "        vertical-align: middle;\n",
       "    }\n",
       "\n",
       "    .dataframe tbody tr th {\n",
       "        vertical-align: top;\n",
       "    }\n",
       "\n",
       "    .dataframe thead th {\n",
       "        text-align: right;\n",
       "    }\n",
       "</style>\n",
       "<table border=\"1\" class=\"dataframe\">\n",
       "  <thead>\n",
       "    <tr style=\"text-align: right;\">\n",
       "      <th></th>\n",
       "      <th>entry_id</th>\n",
       "      <th>word_id</th>\n",
       "      <th>spelling</th>\n",
       "      <th>pronunciation</th>\n",
       "      <th>vec_spelling</th>\n",
       "      <th>vec_pronunciation</th>\n",
       "      <th>unvec_spelling</th>\n",
       "      <th>unvec_pronunciation</th>\n",
       "      <th>vec_spelling_pad</th>\n",
       "      <th>vec_pronunciation_pad</th>\n",
       "    </tr>\n",
       "  </thead>\n",
       "  <tbody>\n",
       "    <tr>\n",
       "      <th>0</th>\n",
       "      <td>13943</td>\n",
       "      <td>역사학</td>\n",
       "      <td>역사학</td>\n",
       "      <td>역싸학</td>\n",
       "      <td>[13, 27, 42, 11, 21, 20, 21, 42]</td>\n",
       "      <td>[13, 27, 42, 12, 21, 20, 21, 42]</td>\n",
       "      <td>역사학</td>\n",
       "      <td>역싸학</td>\n",
       "      <td>[13, 27, 42, 11, 21, 20, 21, 42, 0, 0, 0, 0, 0...</td>\n",
       "      <td>[13, 27, 42, 12, 21, 20, 21, 42, 0, 0, 0, 0, 0...</td>\n",
       "    </tr>\n",
       "    <tr>\n",
       "      <th>1</th>\n",
       "      <td>13943</td>\n",
       "      <td>역사학</td>\n",
       "      <td>역사학이</td>\n",
       "      <td>역싸하기</td>\n",
       "      <td>[13, 27, 42, 11, 21, 20, 21, 42, 13, 41]</td>\n",
       "      <td>[13, 27, 42, 12, 21, 20, 21, 2, 41]</td>\n",
       "      <td>역사학이</td>\n",
       "      <td>역싸하기</td>\n",
       "      <td>[13, 27, 42, 11, 21, 20, 21, 42, 13, 41, 0, 0,...</td>\n",
       "      <td>[13, 27, 42, 12, 21, 20, 21, 2, 41, 0, 0, 0, 0...</td>\n",
       "    </tr>\n",
       "    <tr>\n",
       "      <th>2</th>\n",
       "      <td>13943</td>\n",
       "      <td>역사학</td>\n",
       "      <td>역사학도</td>\n",
       "      <td>역싸학또</td>\n",
       "      <td>[13, 27, 42, 11, 21, 20, 21, 42, 5, 29]</td>\n",
       "      <td>[13, 27, 42, 12, 21, 20, 21, 42, 6, 29]</td>\n",
       "      <td>역사학도</td>\n",
       "      <td>역싸학또</td>\n",
       "      <td>[13, 27, 42, 11, 21, 20, 21, 42, 5, 29, 0, 0, ...</td>\n",
       "      <td>[13, 27, 42, 12, 21, 20, 21, 42, 6, 29, 0, 0, ...</td>\n",
       "    </tr>\n",
       "    <tr>\n",
       "      <th>3</th>\n",
       "      <td>13943</td>\n",
       "      <td>역사학</td>\n",
       "      <td>역사학만</td>\n",
       "      <td>역싸항만</td>\n",
       "      <td>[13, 27, 42, 11, 21, 20, 21, 42, 8, 21, 45]</td>\n",
       "      <td>[13, 27, 42, 12, 21, 20, 21, 62, 8, 21, 45]</td>\n",
       "      <td>역사학만</td>\n",
       "      <td>역싸항만</td>\n",
       "      <td>[13, 27, 42, 11, 21, 20, 21, 42, 8, 21, 45, 0,...</td>\n",
       "      <td>[13, 27, 42, 12, 21, 20, 21, 62, 8, 21, 45, 0,...</td>\n",
       "    </tr>\n",
       "    <tr>\n",
       "      <th>5</th>\n",
       "      <td>13957</td>\n",
       "      <td>시대적2</td>\n",
       "      <td>시대적</td>\n",
       "      <td>시대적</td>\n",
       "      <td>[11, 41, 5, 22, 14, 25, 42]</td>\n",
       "      <td>[11, 41, 5, 22, 14, 25, 42]</td>\n",
       "      <td>시대적</td>\n",
       "      <td>시대적</td>\n",
       "      <td>[11, 41, 5, 22, 14, 25, 42, 0, 0, 0, 0, 0, 0, ...</td>\n",
       "      <td>[11, 41, 5, 22, 14, 25, 42, 0, 0, 0, 0, 0, 0, ...</td>\n",
       "    </tr>\n",
       "  </tbody>\n",
       "</table>\n",
       "</div>"
      ],
      "text/plain": [
       "   entry_id word_id spelling pronunciation  \\\n",
       "0     13943     역사학      역사학           역싸학   \n",
       "1     13943     역사학     역사학이          역싸하기   \n",
       "2     13943     역사학     역사학도          역싸학또   \n",
       "3     13943     역사학     역사학만          역싸항만   \n",
       "5     13957    시대적2      시대적           시대적   \n",
       "\n",
       "                                  vec_spelling  \\\n",
       "0             [13, 27, 42, 11, 21, 20, 21, 42]   \n",
       "1     [13, 27, 42, 11, 21, 20, 21, 42, 13, 41]   \n",
       "2      [13, 27, 42, 11, 21, 20, 21, 42, 5, 29]   \n",
       "3  [13, 27, 42, 11, 21, 20, 21, 42, 8, 21, 45]   \n",
       "5                  [11, 41, 5, 22, 14, 25, 42]   \n",
       "\n",
       "                             vec_pronunciation unvec_spelling  \\\n",
       "0             [13, 27, 42, 12, 21, 20, 21, 42]            역사학   \n",
       "1          [13, 27, 42, 12, 21, 20, 21, 2, 41]           역사학이   \n",
       "2      [13, 27, 42, 12, 21, 20, 21, 42, 6, 29]           역사학도   \n",
       "3  [13, 27, 42, 12, 21, 20, 21, 62, 8, 21, 45]           역사학만   \n",
       "5                  [11, 41, 5, 22, 14, 25, 42]            시대적   \n",
       "\n",
       "  unvec_pronunciation                                   vec_spelling_pad  \\\n",
       "0                 역싸학  [13, 27, 42, 11, 21, 20, 21, 42, 0, 0, 0, 0, 0...   \n",
       "1                역싸하기  [13, 27, 42, 11, 21, 20, 21, 42, 13, 41, 0, 0,...   \n",
       "2                역싸학또  [13, 27, 42, 11, 21, 20, 21, 42, 5, 29, 0, 0, ...   \n",
       "3                역싸항만  [13, 27, 42, 11, 21, 20, 21, 42, 8, 21, 45, 0,...   \n",
       "5                 시대적  [11, 41, 5, 22, 14, 25, 42, 0, 0, 0, 0, 0, 0, ...   \n",
       "\n",
       "                               vec_pronunciation_pad  \n",
       "0  [13, 27, 42, 12, 21, 20, 21, 42, 0, 0, 0, 0, 0...  \n",
       "1  [13, 27, 42, 12, 21, 20, 21, 2, 41, 0, 0, 0, 0...  \n",
       "2  [13, 27, 42, 12, 21, 20, 21, 42, 6, 29, 0, 0, ...  \n",
       "3  [13, 27, 42, 12, 21, 20, 21, 62, 8, 21, 45, 0,...  \n",
       "5  [11, 41, 5, 22, 14, 25, 42, 0, 0, 0, 0, 0, 0, ...  "
      ]
     },
     "execution_count": 78,
     "metadata": {},
     "output_type": "execute_result"
    }
   ],
   "source": [
    "combined_clean_final.head()"
   ]
  },
  {
   "cell_type": "code",
   "execution_count": 79,
   "metadata": {},
   "outputs": [],
   "source": [
    "# convert the padded vectors to DataFrames"
   ]
  },
  {
   "cell_type": "code",
   "execution_count": 80,
   "metadata": {},
   "outputs": [
    {
     "name": "stdout",
     "output_type": "stream",
     "text": [
      "88570\n"
     ]
    },
    {
     "data": {
      "text/html": [
       "<div>\n",
       "<style scoped>\n",
       "    .dataframe tbody tr th:only-of-type {\n",
       "        vertical-align: middle;\n",
       "    }\n",
       "\n",
       "    .dataframe tbody tr th {\n",
       "        vertical-align: top;\n",
       "    }\n",
       "\n",
       "    .dataframe thead th {\n",
       "        text-align: right;\n",
       "    }\n",
       "</style>\n",
       "<table border=\"1\" class=\"dataframe\">\n",
       "  <thead>\n",
       "    <tr style=\"text-align: right;\">\n",
       "      <th></th>\n",
       "      <th>0</th>\n",
       "      <th>1</th>\n",
       "      <th>2</th>\n",
       "      <th>3</th>\n",
       "      <th>4</th>\n",
       "      <th>5</th>\n",
       "      <th>6</th>\n",
       "      <th>7</th>\n",
       "      <th>8</th>\n",
       "      <th>9</th>\n",
       "      <th>...</th>\n",
       "      <th>13</th>\n",
       "      <th>14</th>\n",
       "      <th>15</th>\n",
       "      <th>16</th>\n",
       "      <th>17</th>\n",
       "      <th>18</th>\n",
       "      <th>19</th>\n",
       "      <th>20</th>\n",
       "      <th>21</th>\n",
       "      <th>22</th>\n",
       "    </tr>\n",
       "  </thead>\n",
       "  <tbody>\n",
       "    <tr>\n",
       "      <th>0</th>\n",
       "      <td>13</td>\n",
       "      <td>27</td>\n",
       "      <td>42</td>\n",
       "      <td>11</td>\n",
       "      <td>21</td>\n",
       "      <td>20</td>\n",
       "      <td>21</td>\n",
       "      <td>42</td>\n",
       "      <td>0</td>\n",
       "      <td>0</td>\n",
       "      <td>...</td>\n",
       "      <td>0</td>\n",
       "      <td>0</td>\n",
       "      <td>0</td>\n",
       "      <td>0</td>\n",
       "      <td>0</td>\n",
       "      <td>0</td>\n",
       "      <td>0</td>\n",
       "      <td>0</td>\n",
       "      <td>0</td>\n",
       "      <td>0</td>\n",
       "    </tr>\n",
       "    <tr>\n",
       "      <th>1</th>\n",
       "      <td>13</td>\n",
       "      <td>27</td>\n",
       "      <td>42</td>\n",
       "      <td>11</td>\n",
       "      <td>21</td>\n",
       "      <td>20</td>\n",
       "      <td>21</td>\n",
       "      <td>42</td>\n",
       "      <td>13</td>\n",
       "      <td>41</td>\n",
       "      <td>...</td>\n",
       "      <td>0</td>\n",
       "      <td>0</td>\n",
       "      <td>0</td>\n",
       "      <td>0</td>\n",
       "      <td>0</td>\n",
       "      <td>0</td>\n",
       "      <td>0</td>\n",
       "      <td>0</td>\n",
       "      <td>0</td>\n",
       "      <td>0</td>\n",
       "    </tr>\n",
       "    <tr>\n",
       "      <th>2</th>\n",
       "      <td>13</td>\n",
       "      <td>27</td>\n",
       "      <td>42</td>\n",
       "      <td>11</td>\n",
       "      <td>21</td>\n",
       "      <td>20</td>\n",
       "      <td>21</td>\n",
       "      <td>42</td>\n",
       "      <td>5</td>\n",
       "      <td>29</td>\n",
       "      <td>...</td>\n",
       "      <td>0</td>\n",
       "      <td>0</td>\n",
       "      <td>0</td>\n",
       "      <td>0</td>\n",
       "      <td>0</td>\n",
       "      <td>0</td>\n",
       "      <td>0</td>\n",
       "      <td>0</td>\n",
       "      <td>0</td>\n",
       "      <td>0</td>\n",
       "    </tr>\n",
       "    <tr>\n",
       "      <th>3</th>\n",
       "      <td>13</td>\n",
       "      <td>27</td>\n",
       "      <td>42</td>\n",
       "      <td>11</td>\n",
       "      <td>21</td>\n",
       "      <td>20</td>\n",
       "      <td>21</td>\n",
       "      <td>42</td>\n",
       "      <td>8</td>\n",
       "      <td>21</td>\n",
       "      <td>...</td>\n",
       "      <td>0</td>\n",
       "      <td>0</td>\n",
       "      <td>0</td>\n",
       "      <td>0</td>\n",
       "      <td>0</td>\n",
       "      <td>0</td>\n",
       "      <td>0</td>\n",
       "      <td>0</td>\n",
       "      <td>0</td>\n",
       "      <td>0</td>\n",
       "    </tr>\n",
       "    <tr>\n",
       "      <th>4</th>\n",
       "      <td>11</td>\n",
       "      <td>41</td>\n",
       "      <td>5</td>\n",
       "      <td>22</td>\n",
       "      <td>14</td>\n",
       "      <td>25</td>\n",
       "      <td>42</td>\n",
       "      <td>0</td>\n",
       "      <td>0</td>\n",
       "      <td>0</td>\n",
       "      <td>...</td>\n",
       "      <td>0</td>\n",
       "      <td>0</td>\n",
       "      <td>0</td>\n",
       "      <td>0</td>\n",
       "      <td>0</td>\n",
       "      <td>0</td>\n",
       "      <td>0</td>\n",
       "      <td>0</td>\n",
       "      <td>0</td>\n",
       "      <td>0</td>\n",
       "    </tr>\n",
       "  </tbody>\n",
       "</table>\n",
       "<p>5 rows × 23 columns</p>\n",
       "</div>"
      ],
      "text/plain": [
       "   0   1   2   3   4   5   6   7   8   9   ...  13  14  15  16  17  18  19  \\\n",
       "0  13  27  42  11  21  20  21  42   0   0  ...   0   0   0   0   0   0   0   \n",
       "1  13  27  42  11  21  20  21  42  13  41  ...   0   0   0   0   0   0   0   \n",
       "2  13  27  42  11  21  20  21  42   5  29  ...   0   0   0   0   0   0   0   \n",
       "3  13  27  42  11  21  20  21  42   8  21  ...   0   0   0   0   0   0   0   \n",
       "4  11  41   5  22  14  25  42   0   0   0  ...   0   0   0   0   0   0   0   \n",
       "\n",
       "   20  21  22  \n",
       "0   0   0   0  \n",
       "1   0   0   0  \n",
       "2   0   0   0  \n",
       "3   0   0   0  \n",
       "4   0   0   0  \n",
       "\n",
       "[5 rows x 23 columns]"
      ]
     },
     "execution_count": 80,
     "metadata": {},
     "output_type": "execute_result"
    }
   ],
   "source": [
    "vec_spelling_all = pd.DataFrame(combined_clean_final.vec_spelling_pad.to_list())\n",
    "print(len(vec_spelling_all))\n",
    "vec_spelling_all.head()"
   ]
  },
  {
   "cell_type": "code",
   "execution_count": 81,
   "metadata": {},
   "outputs": [
    {
     "name": "stdout",
     "output_type": "stream",
     "text": [
      "88570\n"
     ]
    },
    {
     "data": {
      "text/html": [
       "<div>\n",
       "<style scoped>\n",
       "    .dataframe tbody tr th:only-of-type {\n",
       "        vertical-align: middle;\n",
       "    }\n",
       "\n",
       "    .dataframe tbody tr th {\n",
       "        vertical-align: top;\n",
       "    }\n",
       "\n",
       "    .dataframe thead th {\n",
       "        text-align: right;\n",
       "    }\n",
       "</style>\n",
       "<table border=\"1\" class=\"dataframe\">\n",
       "  <thead>\n",
       "    <tr style=\"text-align: right;\">\n",
       "      <th></th>\n",
       "      <th>0</th>\n",
       "      <th>1</th>\n",
       "      <th>2</th>\n",
       "      <th>3</th>\n",
       "      <th>4</th>\n",
       "      <th>5</th>\n",
       "      <th>6</th>\n",
       "      <th>7</th>\n",
       "      <th>8</th>\n",
       "      <th>9</th>\n",
       "      <th>...</th>\n",
       "      <th>13</th>\n",
       "      <th>14</th>\n",
       "      <th>15</th>\n",
       "      <th>16</th>\n",
       "      <th>17</th>\n",
       "      <th>18</th>\n",
       "      <th>19</th>\n",
       "      <th>20</th>\n",
       "      <th>21</th>\n",
       "      <th>22</th>\n",
       "    </tr>\n",
       "  </thead>\n",
       "  <tbody>\n",
       "    <tr>\n",
       "      <th>0</th>\n",
       "      <td>13</td>\n",
       "      <td>27</td>\n",
       "      <td>42</td>\n",
       "      <td>12</td>\n",
       "      <td>21</td>\n",
       "      <td>20</td>\n",
       "      <td>21</td>\n",
       "      <td>42</td>\n",
       "      <td>0</td>\n",
       "      <td>0</td>\n",
       "      <td>...</td>\n",
       "      <td>0</td>\n",
       "      <td>0</td>\n",
       "      <td>0</td>\n",
       "      <td>0</td>\n",
       "      <td>0</td>\n",
       "      <td>0</td>\n",
       "      <td>0</td>\n",
       "      <td>0</td>\n",
       "      <td>0</td>\n",
       "      <td>0</td>\n",
       "    </tr>\n",
       "    <tr>\n",
       "      <th>1</th>\n",
       "      <td>13</td>\n",
       "      <td>27</td>\n",
       "      <td>42</td>\n",
       "      <td>12</td>\n",
       "      <td>21</td>\n",
       "      <td>20</td>\n",
       "      <td>21</td>\n",
       "      <td>2</td>\n",
       "      <td>41</td>\n",
       "      <td>0</td>\n",
       "      <td>...</td>\n",
       "      <td>0</td>\n",
       "      <td>0</td>\n",
       "      <td>0</td>\n",
       "      <td>0</td>\n",
       "      <td>0</td>\n",
       "      <td>0</td>\n",
       "      <td>0</td>\n",
       "      <td>0</td>\n",
       "      <td>0</td>\n",
       "      <td>0</td>\n",
       "    </tr>\n",
       "    <tr>\n",
       "      <th>2</th>\n",
       "      <td>13</td>\n",
       "      <td>27</td>\n",
       "      <td>42</td>\n",
       "      <td>12</td>\n",
       "      <td>21</td>\n",
       "      <td>20</td>\n",
       "      <td>21</td>\n",
       "      <td>42</td>\n",
       "      <td>6</td>\n",
       "      <td>29</td>\n",
       "      <td>...</td>\n",
       "      <td>0</td>\n",
       "      <td>0</td>\n",
       "      <td>0</td>\n",
       "      <td>0</td>\n",
       "      <td>0</td>\n",
       "      <td>0</td>\n",
       "      <td>0</td>\n",
       "      <td>0</td>\n",
       "      <td>0</td>\n",
       "      <td>0</td>\n",
       "    </tr>\n",
       "    <tr>\n",
       "      <th>3</th>\n",
       "      <td>13</td>\n",
       "      <td>27</td>\n",
       "      <td>42</td>\n",
       "      <td>12</td>\n",
       "      <td>21</td>\n",
       "      <td>20</td>\n",
       "      <td>21</td>\n",
       "      <td>62</td>\n",
       "      <td>8</td>\n",
       "      <td>21</td>\n",
       "      <td>...</td>\n",
       "      <td>0</td>\n",
       "      <td>0</td>\n",
       "      <td>0</td>\n",
       "      <td>0</td>\n",
       "      <td>0</td>\n",
       "      <td>0</td>\n",
       "      <td>0</td>\n",
       "      <td>0</td>\n",
       "      <td>0</td>\n",
       "      <td>0</td>\n",
       "    </tr>\n",
       "    <tr>\n",
       "      <th>4</th>\n",
       "      <td>11</td>\n",
       "      <td>41</td>\n",
       "      <td>5</td>\n",
       "      <td>22</td>\n",
       "      <td>14</td>\n",
       "      <td>25</td>\n",
       "      <td>42</td>\n",
       "      <td>0</td>\n",
       "      <td>0</td>\n",
       "      <td>0</td>\n",
       "      <td>...</td>\n",
       "      <td>0</td>\n",
       "      <td>0</td>\n",
       "      <td>0</td>\n",
       "      <td>0</td>\n",
       "      <td>0</td>\n",
       "      <td>0</td>\n",
       "      <td>0</td>\n",
       "      <td>0</td>\n",
       "      <td>0</td>\n",
       "      <td>0</td>\n",
       "    </tr>\n",
       "  </tbody>\n",
       "</table>\n",
       "<p>5 rows × 23 columns</p>\n",
       "</div>"
      ],
      "text/plain": [
       "   0   1   2   3   4   5   6   7   8   9   ...  13  14  15  16  17  18  19  \\\n",
       "0  13  27  42  12  21  20  21  42   0   0  ...   0   0   0   0   0   0   0   \n",
       "1  13  27  42  12  21  20  21   2  41   0  ...   0   0   0   0   0   0   0   \n",
       "2  13  27  42  12  21  20  21  42   6  29  ...   0   0   0   0   0   0   0   \n",
       "3  13  27  42  12  21  20  21  62   8  21  ...   0   0   0   0   0   0   0   \n",
       "4  11  41   5  22  14  25  42   0   0   0  ...   0   0   0   0   0   0   0   \n",
       "\n",
       "   20  21  22  \n",
       "0   0   0   0  \n",
       "1   0   0   0  \n",
       "2   0   0   0  \n",
       "3   0   0   0  \n",
       "4   0   0   0  \n",
       "\n",
       "[5 rows x 23 columns]"
      ]
     },
     "execution_count": 81,
     "metadata": {},
     "output_type": "execute_result"
    }
   ],
   "source": [
    "vec_pronunciation_all = pd.DataFrame(combined_clean_final.vec_pronunciation_pad.to_list())\n",
    "print(len(vec_pronunciation_all))\n",
    "vec_pronunciation_all.head()"
   ]
  },
  {
   "cell_type": "code",
   "execution_count": 82,
   "metadata": {},
   "outputs": [],
   "source": [
    "# write to file"
   ]
  },
  {
   "cell_type": "code",
   "execution_count": 83,
   "metadata": {},
   "outputs": [],
   "source": [
    "vec_spelling_all.to_csv(\"vec_spelling_all.csv\", index=False, sep=\"\\t\")"
   ]
  },
  {
   "cell_type": "code",
   "execution_count": 84,
   "metadata": {},
   "outputs": [],
   "source": [
    "vec_pronunciation_all.to_csv(\"vec_pronunciation_all.csv\", index=False, sep=\"\\t\")"
   ]
  },
  {
   "cell_type": "code",
   "execution_count": 85,
   "metadata": {},
   "outputs": [],
   "source": [
    "# write to file data on entries used for training for use with validation"
   ]
  },
  {
   "cell_type": "code",
   "execution_count": 86,
   "metadata": {},
   "outputs": [],
   "source": [
    "combined_clean_final[[\"entry_id\", \"word_id\", \"spelling\", \"pronunciation\"]].to_csv(\"reference_all.csv\", \n",
    "                                                                                  index=False, sep=\"\\t\")"
   ]
  }
 ],
 "metadata": {
  "kernelspec": {
   "display_name": "Python 3",
   "language": "python",
   "name": "python3"
  },
  "language_info": {
   "codemirror_mode": {
    "name": "ipython",
    "version": 3
   },
   "file_extension": ".py",
   "mimetype": "text/x-python",
   "name": "python",
   "nbconvert_exporter": "python",
   "pygments_lexer": "ipython3",
   "version": "3.7.6"
  }
 },
 "nbformat": 4,
 "nbformat_minor": 4
}
