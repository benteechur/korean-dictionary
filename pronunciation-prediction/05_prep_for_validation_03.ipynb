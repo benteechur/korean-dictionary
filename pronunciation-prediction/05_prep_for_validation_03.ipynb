{
 "cells": [
  {
   "cell_type": "code",
   "execution_count": 1,
   "metadata": {},
   "outputs": [],
   "source": [
    "from selenium import webdriver\n",
    "from selenium.webdriver.chrome.options import Options\n",
    "from selenium.webdriver.common.keys import Keys\n",
    "import os\n",
    "import time\n",
    "import pickle\n",
    "from random import randint"
   ]
  },
  {
   "cell_type": "code",
   "execution_count": 2,
   "metadata": {},
   "outputs": [],
   "source": [
    "chrome_options = Options()\n",
    "\n",
    "chrome_options.add_argument(\"--headless\")"
   ]
  },
  {
   "cell_type": "code",
   "execution_count": 3,
   "metadata": {},
   "outputs": [],
   "source": [
    "chrome_driver = os.getcwd() + \"\\\\chromedriver.exe\""
   ]
  },
  {
   "cell_type": "code",
   "execution_count": 4,
   "metadata": {},
   "outputs": [],
   "source": [
    "driver = webdriver.Chrome(options=chrome_options, executable_path=chrome_driver)"
   ]
  },
  {
   "cell_type": "code",
   "execution_count": 5,
   "metadata": {},
   "outputs": [],
   "source": [
    "input_data = {}\n",
    "output_data = {\"consonant_cluster_simplification\": [],\n",
    "              }"
   ]
  },
  {
   "cell_type": "code",
   "execution_count": 6,
   "metadata": {},
   "outputs": [],
   "source": [
    "input_data[\"consonant_cluster_simplification\"] = [\n",
    "    \"넋\",\n",
    "    \"몫\",\n",
    "    \"삯\",\n",
    "    \"닭\",\n",
    "    \"흙\",\n",
    "    \"칡\",\n",
    "    \"까닭\",\n",
    "    \"기슭\",\n",
    "    \"삶\",\n",
    "    \"앎\",\n",
    "    \"없다고\",\n",
    "    \"앉다고\",\n",
    "    \"얹다고\",\n",
    "    \"끼얹다고\",\n",
    "    \"않다고\",\n",
    "    \"끊다고\",\n",
    "    \"많다고\"\n",
    "]\n",
    "\n",
    "# (Yu Cho, 2015, p. 29)"
   ]
  },
  {
   "cell_type": "code",
   "execution_count": 7,
   "metadata": {},
   "outputs": [
    {
     "name": "stdout",
     "output_type": "stream",
     "text": [
      "\n",
      "problem with consonant_cluster_simplification: 앉다고:\n",
      "앉다고\n",
      "안다고\n",
      "안다고/안따고\n",
      "andago/ant̕ago\n",
      "안다고\n",
      "안다고/안따고\n",
      "\n",
      "\n",
      "\n",
      "problem with consonant_cluster_simplification: 얹다고:\n",
      "얹다고\n",
      "언다고\n",
      "언다고\n",
      "ʌndago\n",
      "언다고\n",
      "언다고\n",
      "\n",
      "\n",
      "\n",
      "problem with consonant_cluster_simplification: 끼얹다고:\n",
      "끼얹다고\n",
      "끼얹자고\n",
      "끼언짜고\n",
      "k̕iʌnts̕ago\n",
      "끼얹자고\n",
      "끼언짜고\n",
      "\n",
      "\n",
      "\n",
      "problem with consonant_cluster_simplification: 끊다고:\n",
      "끊다고\n",
      "끈다고\n",
      "끈다고\n",
      "k̕ɯndago\n",
      "끈다고\n",
      "끈다고\n",
      "\n",
      "\n"
     ]
    }
   ],
   "source": [
    "for key in input_data:\n",
    "    for word in input_data[key]:\n",
    "\n",
    "        driver.get(\"http://pronunciation.cs.pusan.ac.kr/pronunc.htm\")\n",
    "\n",
    "        form = driver.find_element_by_name(\"text1\")\n",
    "\n",
    "        submit_button = driver.find_element_by_id(\"submit1\")\n",
    "\n",
    "        form.clear()\n",
    "        form.send_keys(word)\n",
    "\n",
    "        submit_button.click()\n",
    "\n",
    "        result = driver.find_elements_by_class_name(\"td2\")\n",
    "        \n",
    "        if result is None:\n",
    "            print()\n",
    "            print(f\"problem with {key}: {word}:\")\n",
    "            print(\"result is None\")\n",
    "            print()\n",
    "            continue\n",
    "\n",
    "        if result[0].text != result[1].text:\n",
    "            print()\n",
    "            print(f\"problem with {key}: {word}:\")\n",
    "            for item in result:\n",
    "                print(item.text)\n",
    "            print()\n",
    "        else:\n",
    "            output_data[key] += [[result[1].text, result[2].text, result[3].text]]\n",
    "\n",
    "        time.sleep(randint(10, 20))"
   ]
  },
  {
   "cell_type": "code",
   "execution_count": 8,
   "metadata": {},
   "outputs": [],
   "source": [
    "# manually handling problem cases"
   ]
  },
  {
   "cell_type": "code",
   "execution_count": 9,
   "metadata": {},
   "outputs": [],
   "source": [
    "output_data[\"consonant_cluster_simplification\"] += [[\"앉다고\", \"안따고\", \"ant̕ago\"]]"
   ]
  },
  {
   "cell_type": "code",
   "execution_count": 10,
   "metadata": {},
   "outputs": [],
   "source": [
    "output_data[\"consonant_cluster_simplification\"] += [[\"얹다고\", \"언따고\", \"ʌnt̕ago\"]]"
   ]
  },
  {
   "cell_type": "code",
   "execution_count": 11,
   "metadata": {},
   "outputs": [],
   "source": [
    "output_data[\"consonant_cluster_simplification\"] += [[\"끼얹다고\", \"끼언따고\", \"k̕iʌnt̕ago\"]]"
   ]
  },
  {
   "cell_type": "code",
   "execution_count": 12,
   "metadata": {},
   "outputs": [],
   "source": [
    "output_data[\"consonant_cluster_simplification\"] += [[\"끊다고\", \"끈타고\", \"k̕ɯntʰago\"]]"
   ]
  },
  {
   "cell_type": "code",
   "execution_count": 13,
   "metadata": {},
   "outputs": [
    {
     "data": {
      "text/plain": [
       "{'consonant_cluster_simplification': [['넋', '넉', 'nʌk̚'],\n",
       "  ['몫', '목', 'mok̚'],\n",
       "  ['삯', '삭', 'sʰak̚'],\n",
       "  ['닭', '닥', 'tak̚'],\n",
       "  ['흙', '흑', 'hɯk̚'],\n",
       "  ['칡', '칙', 'tsʰik̚'],\n",
       "  ['까닭', '까닥', 'k̕adak̚'],\n",
       "  ['기슭', '기슥', 'kisʰɯk̚'],\n",
       "  ['삶', '삼', 'sʰam'],\n",
       "  ['앎', '암', 'am'],\n",
       "  ['없다고', '업따고', 'ʌp̚t̕ago'],\n",
       "  ['않다고', '안타고', 'antʰago'],\n",
       "  ['많다고', '만타고', 'mantʰago'],\n",
       "  ['앉다고', '안따고', 'ant̕ago'],\n",
       "  ['얹다고', '언따고', 'ʌnt̕ago'],\n",
       "  ['끼얹다고', '끼언따고', 'k̕iʌnt̕ago'],\n",
       "  ['끊다고', '끈타고', 'k̕ɯntʰago']]}"
      ]
     },
     "execution_count": 13,
     "metadata": {},
     "output_type": "execute_result"
    }
   ],
   "source": [
    "output_data"
   ]
  },
  {
   "cell_type": "code",
   "execution_count": 14,
   "metadata": {},
   "outputs": [],
   "source": [
    "f = open(\"validation_data_handbook_of_korean_linguistics.p\", \"wb\")\n",
    "\n",
    "pickle.dump(output_data, f)\n",
    "\n",
    "f.close()"
   ]
  },
  {
   "cell_type": "markdown",
   "metadata": {},
   "source": [
    "# References\n",
    "\n",
    "Yu Cho, Young-Mee. (2015). Syllable-Based Phonological Processes. In L. Brown & J. Yeon (Eds.), The Handbook of Korean Linguistics (Blackwell Handbooks in Linguistics) (1st ed., pp. 22-40). Wiley-Blackwell."
   ]
  },
  {
   "cell_type": "code",
   "execution_count": null,
   "metadata": {},
   "outputs": [],
   "source": []
  }
 ],
 "metadata": {
  "kernelspec": {
   "display_name": "Python 3",
   "language": "python",
   "name": "python3"
  },
  "language_info": {
   "codemirror_mode": {
    "name": "ipython",
    "version": 3
   },
   "file_extension": ".py",
   "mimetype": "text/x-python",
   "name": "python",
   "nbconvert_exporter": "python",
   "pygments_lexer": "ipython3",
   "version": "3.7.6"
  }
 },
 "nbformat": 4,
 "nbformat_minor": 4
}
