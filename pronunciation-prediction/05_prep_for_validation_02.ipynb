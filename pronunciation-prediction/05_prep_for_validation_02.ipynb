{
 "cells": [
  {
   "cell_type": "code",
   "execution_count": 1,
   "metadata": {},
   "outputs": [],
   "source": [
    "import pickle"
   ]
  },
  {
   "cell_type": "code",
   "execution_count": 2,
   "metadata": {},
   "outputs": [],
   "source": [
    "# hardcoded data here to preserve original IPA transcriptions and to\n",
    "# handle phenomena produced across word boundaries (Busan National University tool splits\n",
    "# input on word boundaries)."
   ]
  },
  {
   "cell_type": "code",
   "execution_count": 3,
   "metadata": {},
   "outputs": [],
   "source": [
    "aygen_texts = {}"
   ]
  },
  {
   "cell_type": "code",
   "execution_count": 4,
   "metadata": {},
   "outputs": [],
   "source": [
    "aygen_texts[\"nasalization\"] = [\n",
    "#     [\"밥\", \"밥\", \"pap\"],\n",
    "#     [\"밥사\", \"밥사\", \"pap sa\"],\n",
    "#     [\"밥도둑이\", \"밥도두기\", \"pap totuki\"],\n",
    "    [\"밥많이\", \"밤마니\", \"pam mani\"],\n",
    "    [\"밥먹으면\", \"밤머기면\", \"pam mək-imyən\"],\n",
    "    [\"밥너무\", \"밤너무\", \"pam nəmu\"],\n",
    "    [\"밥넣고\", \"밤너코\", \"pam nəkʰo\"],\n",
    "    [\"입어\", \"이버\", \"ipə\"],\n",
    "    [\"입는다\", \"임는다\", \"imnɨnta\"],\n",
    "    [\"굽어\", \"구버\", \"kupə\"],\n",
    "    [\"굽는다\", \"굼는다\", \"kumnɨnta\"],\n",
    "    [\"접어\", \"저버\", \"čəpə\"],\n",
    "    [\"접는다\", \"점는다\", \"čəmnɨnta\"],\n",
    "    [\"닫아\", \"다다다\", \"tatə\"],\n",
    "    [\"닫는다\", \"단는다\", \"tannɨnta\"],\n",
    "    [\"붙어\", \"부터\", \"putʰə\"],\n",
    "    [\"붙는다\", \"분는다\", \"punnɨnta\"],\n",
    "    [\"쫓아\", \"쪼차\", \"čočʰa\"],\n",
    "    [\"쫓는다\", \"쫀는다\", \"čonnɨnta\"],\n",
    "    [\"먹어\", \"머거\", \"məkə\"],\n",
    "    [\"먹는다\", \"멍는다\", \"məŋnɨnta\"],\n",
    "    [\"섞어\", \"서꺼\", \"səkʼə\"],\n",
    "    [\"섞는다\", \"성는다\", \"səŋnɨnta\"],\n",
    "    [\"닦아\", \"다까\", \"takʼa\"],\n",
    "    [\"닦는다\", \"당는다\", \"taŋnɨnta\"],\n",
    "    [\"죽어\", \"주거\", \"čukə\"],\n",
    "    [\"죽는다\", \"중는다\", \"čuŋnɨnta\"],\n",
    "    [\"익어\", \"이거\", \"ikə\"],\n",
    "    [\"익는다\", \"잉는다\", \"iŋnɨnta\"],\n",
    "]"
   ]
  },
  {
   "cell_type": "code",
   "execution_count": 5,
   "metadata": {},
   "outputs": [],
   "source": [
    "f = open(\"validation_data_aygen_texts.p\", \"wb\")\n",
    "\n",
    "pickle.dump(aygen_texts, f)\n",
    "\n",
    "f.close()"
   ]
  },
  {
   "cell_type": "code",
   "execution_count": null,
   "metadata": {},
   "outputs": [],
   "source": []
  }
 ],
 "metadata": {
  "kernelspec": {
   "display_name": "Python 3",
   "language": "python",
   "name": "python3"
  },
  "language_info": {
   "codemirror_mode": {
    "name": "ipython",
    "version": 3
   },
   "file_extension": ".py",
   "mimetype": "text/x-python",
   "name": "python",
   "nbconvert_exporter": "python",
   "pygments_lexer": "ipython3",
   "version": "3.7.6"
  }
 },
 "nbformat": 4,
 "nbformat_minor": 4
}
