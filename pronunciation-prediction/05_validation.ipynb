{
 "cells": [
  {
   "cell_type": "code",
   "execution_count": 1,
   "metadata": {},
   "outputs": [],
   "source": [
    "import numpy as np\n",
    "from keras.models import load_model\n",
    "from jamotools import Vectorizationer, rules\n",
    "from unicodedata import normalize"
   ]
  },
  {
   "cell_type": "code",
   "execution_count": 2,
   "metadata": {},
   "outputs": [],
   "source": [
    "# validate the model on various phonological phenomena"
   ]
  },
  {
   "cell_type": "code",
   "execution_count": 3,
   "metadata": {},
   "outputs": [],
   "source": [
    "# first load the model\n",
    "# NOTE: load_model() loads a fully compiled model identical to the one saved using .save()"
   ]
  },
  {
   "cell_type": "code",
   "execution_count": 4,
   "metadata": {},
   "outputs": [],
   "source": [
    "model = load_model(\"pronunciation_prediction.h5\")"
   ]
  },
  {
   "cell_type": "code",
   "execution_count": 5,
   "metadata": {},
   "outputs": [],
   "source": [
    "# instantiate the vectorizer for decoding predictions"
   ]
  },
  {
   "cell_type": "code",
   "execution_count": 6,
   "metadata": {},
   "outputs": [],
   "source": [
    "vec = Vectorizationer(rule=rules.RULE_1, max_length=None)"
   ]
  },
  {
   "cell_type": "code",
   "execution_count": 7,
   "metadata": {},
   "outputs": [],
   "source": [
    "# define a function for unvectorizing predictions"
   ]
  },
  {
   "cell_type": "code",
   "execution_count": 8,
   "metadata": {},
   "outputs": [],
   "source": [
    "decoder = {v: k for k, v in vec.symbol_map.items()}\n",
    "\n",
    "def unvectorize_norm_pad(vector):\n",
    "    temp_list = [decoder[num] for num in vector if num != 0]\n",
    "    temp_string = \"\".join(temp_list)\n",
    "    return normalize(\"NFC\", temp_string)"
   ]
  },
  {
   "cell_type": "code",
   "execution_count": 9,
   "metadata": {},
   "outputs": [],
   "source": [
    "# define a function for comparing items"
   ]
  },
  {
   "cell_type": "code",
   "execution_count": 10,
   "metadata": {},
   "outputs": [],
   "source": [
    "longest_string = 23\n",
    "\n",
    "def validate_model(phenomena):\n",
    "    \n",
    "    print(\"{:15} {:15} {:15}\".format(\"Spelling\", \"Pronunciation\", \"Predicted Pronunciation\"))\n",
    "    \n",
    "    correct = 0\n",
    "    total = len(phenomena)\n",
    "    \n",
    "    for instance in phenomena:\n",
    "        spelling = instance[0]\n",
    "        pronunciation = instance[1]\n",
    "        \n",
    "        spell_vec = vec.vectorize(spelling)\n",
    "        \n",
    "        zeros_to_pad = longest_string - len(spell_vec)\n",
    "        \n",
    "        spell_padded = np.pad(spell_vec, (0, zeros_to_pad), \"constant\")\n",
    "\n",
    "        spell_padded = spell_padded.reshape(1, spell_padded.shape[0])\n",
    "        \n",
    "        prediction = model.predict(spell_padded)[0].argmax(axis=1)\n",
    "        \n",
    "        predicted_pronunciation = unvectorize_norm_pad(prediction)\n",
    "        \n",
    "        if pronunciation == predicted_pronunciation:\n",
    "            correct += 1\n",
    "        \n",
    "        justify = 16 + len(predicted_pronunciation) - len(pronunciation)*2\n",
    "        print(\"{:10} {:>5} {}\".format(spelling, pronunciation, predicted_pronunciation.rjust(justify)))\n",
    "        \n",
    "    print()\n",
    "    print(\"Accuracy: {:.2f}%\".format(100 * correct/total))"
   ]
  },
  {
   "cell_type": "markdown",
   "metadata": {},
   "source": [
    "\"When a syllable-final consonant is followed without pause by a vowel in the following syllable, that consonant is carried over to the following syllable to function as its initial consonant in pronunciation. The following syllable may be a part of a suffix or another word. This linking of syllable-final consonant to following syllable in pronunciation is...resyllabification.\" Cho et al. (2009). Integrated Korean"
   ]
  },
  {
   "cell_type": "code",
   "execution_count": 11,
   "metadata": {},
   "outputs": [],
   "source": [
    "resyllabification = [\n",
    "    [\"책을\", \"채글\"],\n",
    "    [\"질문이\", \"질무니\"],\n",
    "    [\"있어요\", \"이써요\"],\n",
    "    [\"앉으세요\", \"안즈세요\"],\n",
    "    [\"책이\", \"채기\"],\n",
    "    [\"없어요\", \"업서요\"],\n",
    "    [\"백화점에\", \"백화저메\"],\n",
    "    [\"갔어요\", \"가써요\"],\n",
    "    [\"알았어요\", \"아라써요\"],\n",
    "    [\"읽어\", \"일거\"],\n",
    "    [\"맞았어요\", \"마자써요\"],\n",
    "    [\"천만에요\", \"천만네요\"],\n",
    "    [\"옷을\", \"오슬\"],\n",
    "    [\"받았어요\", \"바다써요\"]\n",
    "]"
   ]
  },
  {
   "cell_type": "code",
   "execution_count": 12,
   "metadata": {},
   "outputs": [
    {
     "name": "stdout",
     "output_type": "stream",
     "text": [
      "Spelling        Pronunciation   Predicted Pronunciation\n",
      "책을            채글             채글\n",
      "질문이          질무니           질무니\n",
      "있어요          이써요           읻ᅥ요\n",
      "앉으세요        안즈세요         안즈세요\n",
      "책이            채기             채기\n",
      "없어요          업서요           업:ᅥᄋ요\n",
      "백화점에        백화저메         배콰점ᅦ\n",
      "갔어요          가써요           가더요\n",
      "알았어요        아라써요         아라어요\n",
      "읽어            일거             일거\n",
      "맞았어요        마자써요         마자꺼ᄋ\n",
      "천만에요        천만네요         천다ᄂᄋ요\n",
      "옷을            오슬             온ᅳᆯ\n",
      "받았어요        바다써요         바다어요\n",
      "\n",
      "Accuracy: 35.71%\n"
     ]
    }
   ],
   "source": [
    "validate_model(resyllabification)"
   ]
  },
  {
   "cell_type": "markdown",
   "metadata": {},
   "source": [
    "-------------------------------------------------------------------------------------------------------------------------------\n",
    "\n",
    "\"At the end of a word or before a consonant, all Korean consonants are pronounced with closure of the speech organs involved, that is, without releasing air. As a result, sound changes occur in consonants in word-final or pre-consonantal position. For example, 꽃은 'as for flowers' is pronounced without any change in ㅊ because the word 꽃 'flower' is immediately followed by the vowel-initial particle 은 'as for'. However, 꽃 'flower' and 꽃도 'flower also' are pronounced 꼳 and 꼳또 respectively. The change of ㅊ to ㄷ here happens because the speech organs (the tongue and the hard palate) responsible for the articulation of the word-final and pre-consonantal ㅊ are not released.\" \n",
    "\n",
    "Lips: ㅂ, ㅍ --> ㅂ\n",
    "\n",
    "Gum ridge and hard palate: ㄷ, ㅌ, ㅅ, ㅆ, ㅈ, ㅊ --> ㄷ\n",
    "\n",
    "Soft palate: ㄱ, ㅋ, ㄲ --> ㄱ\n",
    "\n",
    "Cho et al. (2009). Integrated Korean"
   ]
  },
  {
   "cell_type": "code",
   "execution_count": 13,
   "metadata": {},
   "outputs": [],
   "source": [
    "unrelease = [\n",
    "    [\"잎과\", \"입꽈\"],\n",
    "    [\"옷도\", \"옫또\"],\n",
    "    [\"갔지\", \"갇찌\"],\n",
    "    [\"낮과\", \"낟꽈\"],\n",
    "    [\"빛조차\", \"빋쪼차\"],\n",
    "    [\"부엌바닥\", \"부억빠닥\"],\n",
    "    [\"낚다가\", \"낙따가\"],\n",
    "    [\"꽃씨\", \"꼳씨\"]\n",
    "]"
   ]
  },
  {
   "cell_type": "code",
   "execution_count": 14,
   "metadata": {},
   "outputs": [
    {
     "name": "stdout",
     "output_type": "stream",
     "text": [
      "Spelling        Pronunciation   Predicted Pronunciation\n",
      "잎과            입꽈             입꽈\n",
      "옷도            옫또             옫또\n",
      "갔지            갇찌             갇찌\n",
      "낮과            낟꽈             낟꽈\n",
      "빛조차          빋쪼차           빋쪼자\n",
      "부엌바닥        부억빠닥         부억빠닥\n",
      "낚다가          낙따가           낙따가\n",
      "꽃씨            꼳씨             꼳씨\n",
      "\n",
      "Accuracy: 87.50%\n"
     ]
    }
   ],
   "source": [
    "validate_model(unrelease)"
   ]
  },
  {
   "cell_type": "code",
   "execution_count": null,
   "metadata": {},
   "outputs": [],
   "source": []
  }
 ],
 "metadata": {
  "kernelspec": {
   "display_name": "Python 3",
   "language": "python",
   "name": "python3"
  },
  "language_info": {
   "codemirror_mode": {
    "name": "ipython",
    "version": 3
   },
   "file_extension": ".py",
   "mimetype": "text/x-python",
   "name": "python",
   "nbconvert_exporter": "python",
   "pygments_lexer": "ipython3",
   "version": "3.7.6"
  }
 },
 "nbformat": 4,
 "nbformat_minor": 4
}
