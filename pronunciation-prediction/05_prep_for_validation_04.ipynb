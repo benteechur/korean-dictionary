{
 "cells": [
  {
   "cell_type": "code",
   "execution_count": 1,
   "metadata": {},
   "outputs": [],
   "source": [
    "from selenium import webdriver\n",
    "from selenium.webdriver.chrome.options import Options\n",
    "from selenium.webdriver.common.keys import Keys\n",
    "import os\n",
    "import time\n",
    "import pickle\n",
    "from random import randint"
   ]
  },
  {
   "cell_type": "code",
   "execution_count": 2,
   "metadata": {},
   "outputs": [],
   "source": [
    "chrome_options = Options()\n",
    "\n",
    "chrome_options.add_argument(\"--headless\")"
   ]
  },
  {
   "cell_type": "code",
   "execution_count": 3,
   "metadata": {},
   "outputs": [],
   "source": [
    "chrome_driver = os.getcwd() + \"\\\\chromedriver.exe\""
   ]
  },
  {
   "cell_type": "code",
   "execution_count": 4,
   "metadata": {},
   "outputs": [],
   "source": [
    "driver = webdriver.Chrome(options=chrome_options, executable_path=chrome_driver)"
   ]
  },
  {
   "cell_type": "code",
   "execution_count": 5,
   "metadata": {},
   "outputs": [],
   "source": [
    "input_data = {}\n",
    "output_data = {\"palatalization\": [],\n",
    "              }"
   ]
  },
  {
   "cell_type": "code",
   "execution_count": 6,
   "metadata": {},
   "outputs": [],
   "source": [
    "input_data[\"palatalization\"] = [\n",
    "#     \"어디가\",\n",
    "#     \"잔디가\",\n",
    "#     \"라디오\",\n",
    "#     \"디지털\",\n",
    "    \"첫인상이\",\n",
    "    \"밭이\",\n",
    "    \"밭이다\",\n",
    "    \"밭이랑\",\n",
    "    \"밭일궈\"\n",
    "]\n",
    "\n",
    "# (Yu Cho, 2016)"
   ]
  },
  {
   "cell_type": "code",
   "execution_count": 7,
   "metadata": {},
   "outputs": [
    {
     "name": "stdout",
     "output_type": "stream",
     "text": [
      "\n",
      "problem with palatalization: 밭일궈:\n",
      "밭일궈\n",
      "밭 일궈\n",
      "받 일궈\n",
      "pat̚ ilgwʌ\n",
      "밭\n",
      "받\n",
      " \n",
      "\n",
      "일궈\n",
      "일궈\n",
      " \n",
      "\n",
      "\n"
     ]
    }
   ],
   "source": [
    "for key in input_data:\n",
    "    for word in input_data[key]:\n",
    "\n",
    "        driver.get(\"http://pronunciation.cs.pusan.ac.kr/pronunc.htm\")\n",
    "\n",
    "        form = driver.find_element_by_name(\"text1\")\n",
    "\n",
    "        submit_button = driver.find_element_by_id(\"submit1\")\n",
    "\n",
    "        form.clear()\n",
    "        form.send_keys(word)\n",
    "\n",
    "        submit_button.click()\n",
    "\n",
    "        result = driver.find_elements_by_class_name(\"td2\")\n",
    "        \n",
    "        if result is None:\n",
    "            print()\n",
    "            print(f\"problem with {key}: {word}:\")\n",
    "            print(\"result is None\")\n",
    "            print()\n",
    "            continue\n",
    "\n",
    "        if result[0].text != result[1].text:\n",
    "            print()\n",
    "            print(f\"problem with {key}: {word}:\")\n",
    "            for item in result:\n",
    "                print(item.text)\n",
    "            print()\n",
    "        else:\n",
    "            output_data[key] += [[result[1].text, result[2].text, result[3].text]]\n",
    "\n",
    "        time.sleep(randint(10, 20))"
   ]
  },
  {
   "cell_type": "code",
   "execution_count": 8,
   "metadata": {},
   "outputs": [
    {
     "data": {
      "text/plain": [
       "{'palatalization': [['첫인상이', '처딘상이', 'tsʰʌdinsʰaŋi'],\n",
       "  ['밭이', '바치', 'patsʰi'],\n",
       "  ['밭이다', '바치다', 'patsʰida'],\n",
       "  ['밭이랑', '바치랑/반니랑', 'patsʰiraŋ/panɲiraŋ']]}"
      ]
     },
     "execution_count": 8,
     "metadata": {},
     "output_type": "execute_result"
    }
   ],
   "source": [
    "output_data"
   ]
  },
  {
   "cell_type": "code",
   "execution_count": 9,
   "metadata": {},
   "outputs": [],
   "source": [
    "# manually handling problem cases"
   ]
  },
  {
   "cell_type": "code",
   "execution_count": 10,
   "metadata": {},
   "outputs": [],
   "source": [
    "# output_data[\"palatalization\"].remove(['라디오', '라디오', 'radio'])"
   ]
  },
  {
   "cell_type": "code",
   "execution_count": 11,
   "metadata": {},
   "outputs": [],
   "source": [
    "output_data[\"palatalization\"].remove(['밭이랑', '바치랑/반니랑', 'patsʰiraŋ/panɲiraŋ'])"
   ]
  },
  {
   "cell_type": "code",
   "execution_count": 12,
   "metadata": {},
   "outputs": [],
   "source": [
    "# NOTE: 밭이랑 has two meanings: \"with a field\" and \"the furrow(s) of a field\""
   ]
  },
  {
   "cell_type": "code",
   "execution_count": 13,
   "metadata": {},
   "outputs": [],
   "source": [
    "output_data[\"palatalization\"] += [['밭이랑', '바치랑', 'patsʰiraŋ']]"
   ]
  },
  {
   "cell_type": "code",
   "execution_count": 14,
   "metadata": {},
   "outputs": [],
   "source": [
    "output_data[\"palatalization\"] += [['밭이랑', '받이랑', 'pat̚iraŋ']]"
   ]
  },
  {
   "cell_type": "code",
   "execution_count": 15,
   "metadata": {},
   "outputs": [],
   "source": [
    "output_data[\"palatalization\"] += [[\"밭일궈\", \"받일궈\", \"pat̚ilgwʌ\"]]"
   ]
  },
  {
   "cell_type": "code",
   "execution_count": 16,
   "metadata": {},
   "outputs": [],
   "source": [
    "f = open(\"validation_data_korean_phonetics_and_phonology.p\", \"wb\")\n",
    "\n",
    "pickle.dump(output_data, f)\n",
    "\n",
    "f.close()"
   ]
  },
  {
   "cell_type": "markdown",
   "metadata": {},
   "source": [
    "# References\n",
    "\n",
    "Yu Cho, Y. (2016, October 26). Korean Phonetics and Phonology. Oxford Research Encyclopedia of Linguistics. Retrieved 15 Apr. 2021, from https://oxfordre.com/linguistics/view/10.1093/acrefore/9780199384655.001.0001/acrefore-9780199384655-e-176."
   ]
  },
  {
   "cell_type": "code",
   "execution_count": null,
   "metadata": {},
   "outputs": [],
   "source": []
  }
 ],
 "metadata": {
  "kernelspec": {
   "display_name": "Python 3",
   "language": "python",
   "name": "python3"
  },
  "language_info": {
   "codemirror_mode": {
    "name": "ipython",
    "version": 3
   },
   "file_extension": ".py",
   "mimetype": "text/x-python",
   "name": "python",
   "nbconvert_exporter": "python",
   "pygments_lexer": "ipython3",
   "version": "3.7.6"
  }
 },
 "nbformat": 4,
 "nbformat_minor": 4
}
