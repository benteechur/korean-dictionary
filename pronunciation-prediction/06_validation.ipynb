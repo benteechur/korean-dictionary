{
 "cells": [
  {
   "cell_type": "code",
   "execution_count": 1,
   "metadata": {},
   "outputs": [],
   "source": [
    "import pickle\n",
    "import numpy as np\n",
    "import pandas as pd\n",
    "from keras.models import load_model\n",
    "from jamotools import Vectorizationer, rules\n",
    "from unicodedata import normalize\n",
    "from IPython.display import Image"
   ]
  },
  {
   "cell_type": "code",
   "execution_count": 2,
   "metadata": {},
   "outputs": [],
   "source": [
    "# validate the model on various phonological phenomena"
   ]
  },
  {
   "cell_type": "code",
   "execution_count": 3,
   "metadata": {},
   "outputs": [],
   "source": [
    "# first load the model\n",
    "# NOTE: load_model() loads a fully compiled model identical to the one saved using .save()"
   ]
  },
  {
   "cell_type": "code",
   "execution_count": 4,
   "metadata": {},
   "outputs": [],
   "source": [
    "model = load_model(\"pronunciation_prediction.h5\")"
   ]
  },
  {
   "cell_type": "code",
   "execution_count": 5,
   "metadata": {},
   "outputs": [],
   "source": [
    "# load the reference DataFrame to ensure that the model wasn't trained on the entries it's being given for evaluation"
   ]
  },
  {
   "cell_type": "code",
   "execution_count": 6,
   "metadata": {},
   "outputs": [
    {
     "data": {
      "text/html": [
       "<div>\n",
       "<style scoped>\n",
       "    .dataframe tbody tr th:only-of-type {\n",
       "        vertical-align: middle;\n",
       "    }\n",
       "\n",
       "    .dataframe tbody tr th {\n",
       "        vertical-align: top;\n",
       "    }\n",
       "\n",
       "    .dataframe thead th {\n",
       "        text-align: right;\n",
       "    }\n",
       "</style>\n",
       "<table border=\"1\" class=\"dataframe\">\n",
       "  <thead>\n",
       "    <tr style=\"text-align: right;\">\n",
       "      <th></th>\n",
       "      <th>entry_id</th>\n",
       "      <th>word_id</th>\n",
       "      <th>spelling</th>\n",
       "      <th>pronunciation</th>\n",
       "    </tr>\n",
       "  </thead>\n",
       "  <tbody>\n",
       "    <tr>\n",
       "      <th>0</th>\n",
       "      <td>13943</td>\n",
       "      <td>역사학</td>\n",
       "      <td>역사학</td>\n",
       "      <td>역싸학</td>\n",
       "    </tr>\n",
       "    <tr>\n",
       "      <th>1</th>\n",
       "      <td>13943</td>\n",
       "      <td>역사학</td>\n",
       "      <td>역사학이</td>\n",
       "      <td>역싸하기</td>\n",
       "    </tr>\n",
       "    <tr>\n",
       "      <th>2</th>\n",
       "      <td>13943</td>\n",
       "      <td>역사학</td>\n",
       "      <td>역사학도</td>\n",
       "      <td>역싸학또</td>\n",
       "    </tr>\n",
       "    <tr>\n",
       "      <th>3</th>\n",
       "      <td>13943</td>\n",
       "      <td>역사학</td>\n",
       "      <td>역사학만</td>\n",
       "      <td>역싸항만</td>\n",
       "    </tr>\n",
       "    <tr>\n",
       "      <th>4</th>\n",
       "      <td>13957</td>\n",
       "      <td>시대적2</td>\n",
       "      <td>시대적</td>\n",
       "      <td>시대적</td>\n",
       "    </tr>\n",
       "  </tbody>\n",
       "</table>\n",
       "</div>"
      ],
      "text/plain": [
       "   entry_id word_id spelling pronunciation\n",
       "0     13943     역사학      역사학           역싸학\n",
       "1     13943     역사학     역사학이          역싸하기\n",
       "2     13943     역사학     역사학도          역싸학또\n",
       "3     13943     역사학     역사학만          역싸항만\n",
       "4     13957    시대적2      시대적           시대적"
      ]
     },
     "execution_count": 6,
     "metadata": {},
     "output_type": "execute_result"
    }
   ],
   "source": [
    "ref = pd.read_csv(\"reference_all.csv\", sep=\"\\t\")\n",
    "ref.head()"
   ]
  },
  {
   "cell_type": "code",
   "execution_count": 7,
   "metadata": {},
   "outputs": [],
   "source": [
    "# only the spelling column is needed, and store as a set since sets (and dicts) are implemented as hash tables underneath;\n",
    "# additionally, using a set will remove duplicates from the spelling column created when alternative pronunciations were\n",
    "# added (e.g., spellings with multiple pronunciations delimited by forward slashes and split during preprocessing)"
   ]
  },
  {
   "cell_type": "code",
   "execution_count": 8,
   "metadata": {},
   "outputs": [
    {
     "data": {
      "text/html": [
       "<div>\n",
       "<style scoped>\n",
       "    .dataframe tbody tr th:only-of-type {\n",
       "        vertical-align: middle;\n",
       "    }\n",
       "\n",
       "    .dataframe tbody tr th {\n",
       "        vertical-align: top;\n",
       "    }\n",
       "\n",
       "    .dataframe thead th {\n",
       "        text-align: right;\n",
       "    }\n",
       "</style>\n",
       "<table border=\"1\" class=\"dataframe\">\n",
       "  <thead>\n",
       "    <tr style=\"text-align: right;\">\n",
       "      <th></th>\n",
       "      <th>entry_id</th>\n",
       "      <th>word_id</th>\n",
       "      <th>spelling</th>\n",
       "      <th>pronunciation</th>\n",
       "    </tr>\n",
       "  </thead>\n",
       "  <tbody>\n",
       "    <tr>\n",
       "      <th>5</th>\n",
       "      <td>13958</td>\n",
       "      <td>시대적1</td>\n",
       "      <td>시대적</td>\n",
       "      <td>시대적</td>\n",
       "    </tr>\n",
       "    <tr>\n",
       "      <th>65</th>\n",
       "      <td>13998</td>\n",
       "      <td>신기하다2</td>\n",
       "      <td>신기하다</td>\n",
       "      <td>신기하다</td>\n",
       "    </tr>\n",
       "    <tr>\n",
       "      <th>66</th>\n",
       "      <td>13998</td>\n",
       "      <td>신기하다2</td>\n",
       "      <td>신기한</td>\n",
       "      <td>신기한</td>\n",
       "    </tr>\n",
       "    <tr>\n",
       "      <th>67</th>\n",
       "      <td>13998</td>\n",
       "      <td>신기하다2</td>\n",
       "      <td>신기하여</td>\n",
       "      <td>신기하여</td>\n",
       "    </tr>\n",
       "    <tr>\n",
       "      <th>68</th>\n",
       "      <td>13998</td>\n",
       "      <td>신기하다2</td>\n",
       "      <td>신기해</td>\n",
       "      <td>신기해</td>\n",
       "    </tr>\n",
       "  </tbody>\n",
       "</table>\n",
       "</div>"
      ],
      "text/plain": [
       "    entry_id word_id spelling pronunciation\n",
       "5      13958    시대적1      시대적           시대적\n",
       "65     13998   신기하다2     신기하다          신기하다\n",
       "66     13998   신기하다2      신기한           신기한\n",
       "67     13998   신기하다2     신기하여          신기하여\n",
       "68     13998   신기하다2      신기해           신기해"
      ]
     },
     "execution_count": 8,
     "metadata": {},
     "output_type": "execute_result"
    }
   ],
   "source": [
    "ref[ref.duplicated(subset=\"spelling\")].head()"
   ]
  },
  {
   "cell_type": "code",
   "execution_count": 9,
   "metadata": {},
   "outputs": [
    {
     "data": {
      "text/html": [
       "<div>\n",
       "<style scoped>\n",
       "    .dataframe tbody tr th:only-of-type {\n",
       "        vertical-align: middle;\n",
       "    }\n",
       "\n",
       "    .dataframe tbody tr th {\n",
       "        vertical-align: top;\n",
       "    }\n",
       "\n",
       "    .dataframe thead th {\n",
       "        text-align: right;\n",
       "    }\n",
       "</style>\n",
       "<table border=\"1\" class=\"dataframe\">\n",
       "  <thead>\n",
       "    <tr style=\"text-align: right;\">\n",
       "      <th></th>\n",
       "      <th>entry_id</th>\n",
       "      <th>word_id</th>\n",
       "      <th>spelling</th>\n",
       "      <th>pronunciation</th>\n",
       "    </tr>\n",
       "  </thead>\n",
       "  <tbody>\n",
       "    <tr>\n",
       "      <th>4</th>\n",
       "      <td>13957</td>\n",
       "      <td>시대적2</td>\n",
       "      <td>시대적</td>\n",
       "      <td>시대적</td>\n",
       "    </tr>\n",
       "    <tr>\n",
       "      <th>5</th>\n",
       "      <td>13958</td>\n",
       "      <td>시대적1</td>\n",
       "      <td>시대적</td>\n",
       "      <td>시대적</td>\n",
       "    </tr>\n",
       "  </tbody>\n",
       "</table>\n",
       "</div>"
      ],
      "text/plain": [
       "   entry_id word_id spelling pronunciation\n",
       "4     13957    시대적2      시대적           시대적\n",
       "5     13958    시대적1      시대적           시대적"
      ]
     },
     "execution_count": 9,
     "metadata": {},
     "output_type": "execute_result"
    }
   ],
   "source": [
    "ref[ref.spelling == \"시대적\"]"
   ]
  },
  {
   "cell_type": "code",
   "execution_count": 10,
   "metadata": {},
   "outputs": [],
   "source": [
    "training_set = set(ref.spelling)"
   ]
  },
  {
   "cell_type": "code",
   "execution_count": 11,
   "metadata": {},
   "outputs": [],
   "source": [
    "# instantiate the vectorizer for decoding predictions"
   ]
  },
  {
   "cell_type": "code",
   "execution_count": 12,
   "metadata": {},
   "outputs": [],
   "source": [
    "vec = Vectorizationer(rule=rules.RULE_1, max_length=None)"
   ]
  },
  {
   "cell_type": "code",
   "execution_count": 13,
   "metadata": {},
   "outputs": [],
   "source": [
    "# define a function for unvectorizing predictions"
   ]
  },
  {
   "cell_type": "code",
   "execution_count": 14,
   "metadata": {},
   "outputs": [],
   "source": [
    "decoder = {v: k for k, v in vec.symbol_map.items()}\n",
    "\n",
    "def unvectorize_norm_pad(vector):\n",
    "    temp_list = [decoder[num] for num in vector if num != 0]\n",
    "    temp_string = \"\".join(temp_list)\n",
    "    return normalize(\"NFC\", temp_string)"
   ]
  },
  {
   "cell_type": "code",
   "execution_count": 15,
   "metadata": {},
   "outputs": [],
   "source": [
    "# define global variables for cumulative totals when calculating accuracy of model\n",
    "cum_perfect_correct = 0\n",
    "cum_syllables_correct = 0\n",
    "cum_segments_correct = 0\n",
    "cum_words_considered = 0\n",
    "cum_syllables_considered = 0\n",
    "cum_segments_considered = 0"
   ]
  },
  {
   "cell_type": "code",
   "execution_count": 16,
   "metadata": {},
   "outputs": [],
   "source": [
    "# define a function for comparing items"
   ]
  },
  {
   "cell_type": "code",
   "execution_count": 17,
   "metadata": {},
   "outputs": [],
   "source": [
    "longest_string = 23\n",
    "\n",
    "def validate_model(phenomena, training_set=training_set, skip_training_data=True):\n",
    "    \n",
    "    print(\"   {:18} {:15} {:15} {:20}\".format(\"IPA\", \"Spelling\", \"Pronunciation\", \"Predicted Pronunciation\"))\n",
    "    \n",
    "    # indicate that these variables used below are their global counterparts and not local variables\n",
    "    global cum_perfect_correct\n",
    "    global cum_syllables_correct\n",
    "    global cum_segments_correct\n",
    "    global cum_words_considered\n",
    "    global cum_syllables_considered\n",
    "    global cum_segments_considered\n",
    "    \n",
    "    perfect_correct = 0\n",
    "    syllables_correct = 0\n",
    "    segments_correct = 0\n",
    "    skipped_words = 0\n",
    "    total_words = len(phenomena)\n",
    "    syllables_considered = 0\n",
    "    segments_considered = 0\n",
    "    \n",
    "    for instance in phenomena:\n",
    "        spelling = instance[0]\n",
    "        pronunciation = instance[1]\n",
    "        ipa = instance[2]\n",
    "        \n",
    "        if skip_training_data and spelling in training_set:\n",
    "            print()\n",
    "            print(f\"{spelling} was in the training set. skipping.\")\n",
    "            print()\n",
    "            skipped_words += 1\n",
    "            continue\n",
    "        \n",
    "        spell_vec = vec.vectorize(spelling)\n",
    "        \n",
    "        zeros_to_pad = longest_string - len(spell_vec)\n",
    "        \n",
    "        spell_padded = np.pad(spell_vec, (0, zeros_to_pad), \"constant\")\n",
    "\n",
    "        spell_padded = spell_padded.reshape(1, spell_padded.shape[0])\n",
    "        \n",
    "        prediction = model.predict(spell_padded)[0].argmax(axis=1)\n",
    "        \n",
    "        predicted_pronunciation = unvectorize_norm_pad(prediction)\n",
    "        \n",
    "        image = \"☒\"\n",
    "        \n",
    "        num_syllables = len(pronunciation)\n",
    "        syllables_considered += num_syllables\n",
    "        \n",
    "        # \"NFD\" produces a canonical decomposition, i.e., decomposes each syllable into its constituent segments \n",
    "        decomposed_pronunciation = normalize(\"NFD\", pronunciation)\n",
    "        segments_considered += len(decomposed_pronunciation)\n",
    "        \n",
    "        \n",
    "        if pronunciation == predicted_pronunciation:\n",
    "            perfect_correct += 1\n",
    "            syllables_correct += num_syllables\n",
    "            segments_correct += len(decomposed_pronunciation)\n",
    "            image = \"☑\"\n",
    "        else:\n",
    "            # NOTE: zip will return an iterator of tuples whose number is equal to the number of syllables\n",
    "            #       in the shortest string\n",
    "            for syllable in zip(pronunciation, predicted_pronunciation):\n",
    "                if syllable[0] == syllable[1]:\n",
    "                    syllables_correct += 1\n",
    "                    \n",
    "            decomposed_predicted_pronunciation = normalize(\"NFD\", predicted_pronunciation)\n",
    "            \n",
    "            for segment in zip(decomposed_pronunciation, decomposed_predicted_pronunciation):\n",
    "                if segment[0] == segment[1]:\n",
    "                    segments_correct += 1\n",
    "                    \n",
    "        \n",
    "        justification = 16 + len(predicted_pronunciation) - len(pronunciation)*2\n",
    "        print(\"{} {:20} {:10} {:>5} {}\".format(image, ipa, spelling, pronunciation, \n",
    "                                               predicted_pronunciation.rjust(justification)))\n",
    "        \n",
    "        \n",
    "    cum_perfect_correct += perfect_correct\n",
    "    cum_syllables_correct += syllables_correct\n",
    "    cum_segments_correct += segments_correct\n",
    "    cum_words_considered += (total_words-skipped_words)\n",
    "    cum_syllables_considered += syllables_considered\n",
    "    cum_segments_considered += segments_considered        \n",
    "    \n",
    "    print()\n",
    "    print(\"This Data:\")\n",
    "    print(\"Perfect Accuracy:       {:10.2f}%\".format(100 * perfect_correct/(total_words-skipped_words)))\n",
    "    print(\"Syllable Accuracy:      {:10.2f}%\".format(100 * syllables_correct/syllables_considered))\n",
    "    print(\"Segment (Letter) Accuracy:   {:5.2f}%\".format(100* segments_correct/segments_considered))\n",
    "    \n",
    "    print()\n",
    "    print(\"Cumulative:\")\n",
    "    print(\"Perfect Accuracy:       {:10.2f}%\".format(100 * cum_perfect_correct/cum_words_considered))\n",
    "    print(\"Syllable Accuracy:      {:10.2f}%\".format(100 * cum_syllables_correct/cum_syllables_considered))\n",
    "    print(\"Segment (Letter) Accuracy:   {:5.2f}%\".format(100* cum_segments_correct/cum_segments_considered))"
   ]
  },
  {
   "cell_type": "code",
   "execution_count": 18,
   "metadata": {},
   "outputs": [],
   "source": [
    "# load the validation data"
   ]
  },
  {
   "cell_type": "code",
   "execution_count": 19,
   "metadata": {},
   "outputs": [],
   "source": [
    "f = open(\"validation_data_integrated_korean.p\", \"rb\")\n",
    "\n",
    "integrated_korean = pickle.load(f)\n",
    "\n",
    "f.close()"
   ]
  },
  {
   "cell_type": "code",
   "execution_count": 20,
   "metadata": {},
   "outputs": [],
   "source": [
    "f = open(\"validation_data_introducing_phonology.p\", \"rb\")\n",
    "\n",
    "introducing_phonology = pickle.load(f)\n",
    "\n",
    "f.close()"
   ]
  },
  {
   "cell_type": "code",
   "execution_count": 21,
   "metadata": {},
   "outputs": [],
   "source": [
    "f = open(\"validation_data_handbook_of_korean_linguistics.p\", \"rb\")\n",
    "\n",
    "korean_linguistics = pickle.load(f)\n",
    "\n",
    "f.close()"
   ]
  },
  {
   "cell_type": "code",
   "execution_count": 22,
   "metadata": {},
   "outputs": [],
   "source": [
    "f = open(\"validation_data_korean_phonetics_and_phonology.p\", \"rb\")\n",
    "\n",
    "korean_phonology = pickle.load(f)\n",
    "\n",
    "f.close()"
   ]
  },
  {
   "cell_type": "code",
   "execution_count": 23,
   "metadata": {},
   "outputs": [],
   "source": [
    "#"
   ]
  },
  {
   "cell_type": "code",
   "execution_count": 24,
   "metadata": {},
   "outputs": [],
   "source": [
    "# test the phenomena\n",
    "\n",
    "# NOTE:\n",
    "\n",
    "# Some Korean transcriptions of sounds may be approximate. The use of Korean orthography here is due to the following:\n",
    "\n",
    "# 1. The data available to train the model featured Korean approximations of IPA transcriptions. The \"Pronunciation\"\n",
    "#    column contains these approximations. Therefore, both the input and output of the model feature Korean orthography.\n",
    "\n",
    "# 2. As both the input and output of the model use Korean orthography, explanations of the phonological phenomena\n",
    "#    which reference Korean orthography are provided. This is done so that the viewer might follow the workings of the\n",
    "#    model directly. IPA transcriptions are provided as well to clarify the phonemes being discussed."
   ]
  },
  {
   "cell_type": "code",
   "execution_count": 25,
   "metadata": {},
   "outputs": [],
   "source": [
    "# resyllabification"
   ]
  },
  {
   "cell_type": "markdown",
   "metadata": {},
   "source": [
    "\"When a syllable-final consonant is followed without pause by a vowel in the following syllable, that consonant is carried over to the following syllable to function as its initial consonant in pronunciation. The following syllable may be a part of a suffix or another word. This linking of syllable-final consonant to following syllable in pronunciation is... resyllabification. For example, 한글로 \\[hangɯllo\\] does not show any linking, but 한글은 is pronounced 한그른 \\[hangɯrɯn\\]. In this case, the sound quality of ㄹ changes from \\[l\\] to \\[r\\] because ㄹ now appears between two vowels. Similarly, when a syllable block ends in a double consonant... the second consonant is carried over to the following vowel-initial syllable in pronuciation, as in 읽어요 (sounding like 일거요) \\[ilgʌyo\\].\" (Cho et al., 2009, p. 34)\n",
    "\n",
    "This can be viewed as an instance of onset maximization. \"The maximal onset principle (or ‘CV rule’) states that a . . . VCV . . . string is universally syllabified as . . . V.CV. . . . \" (Crystal, 2008, p.339)\n",
    "\n",
    "Additionally, as all vowel segments are \\[-lateral\\], perhaps this explains the intervocalic surfacing of \\[r\\] (\\[l\\] and \\[r\\] differ on this feature alone):\n",
    "\n",
    "\\[+lateral\\] → \\[-lateral\\]/\\[-lateral\\]___\\[-lateral\\]\n",
    "\n",
    "Note also the sound change in ㄱ from \\[k\\] to \\[g\\]. Voicing is not distinctive in Korean. Intersonorant voicing of segments is productive (Yu Cho, 2016). As voicing is not distinctive in Korean, this behavior is only visible in the IPA transcriptions and does not reflect the learning of the model. "
   ]
  },
  {
   "cell_type": "code",
   "execution_count": 26,
   "metadata": {},
   "outputs": [],
   "source": [
    "# NOTE: additional phenomena tested:\n",
    "#       aspiration and ㅎ[h] weakening:  \"pɛkʰwadʒʌme\", \"백화점에\", \"배콰저메\""
   ]
  },
  {
   "cell_type": "code",
   "execution_count": 27,
   "metadata": {},
   "outputs": [
    {
     "name": "stdout",
     "output_type": "stream",
     "text": [
      "   IPA                Spelling        Pronunciation   Predicted Pronunciation\n",
      "☒ hangɯrɯn             한글은          한그른           한글ᅳᅳᆫ\n",
      "☑ ilgʌyo               읽어요          일거요           일거요\n",
      "☑ tsʰɛgɯl              책을            채글             채글\n",
      "☒ aras̕ʌyo             알았어요        아라써요         아라어요\n",
      "☑ tsilmuɲi             질문이          질무니           질무니\n",
      "☒ is̕ʌyo               있어요          이써요           읻ᅥ요\n",
      "\n",
      "읽어 was in the training set. skipping.\n",
      "\n",
      "☑ tɯrɯsʰeyo            들으세요        드르세요         드르세요\n",
      "☒ madzas̕ʌyo           맞았어요        마자써요         마자꺼ᄋ\n",
      "☑ andzɯsʰeyo           앉으세요        안즈세요         안즈세요\n",
      "☒ tsʰʌnmaneyo          천만에요        천마네요         천다ᄂᄋ요\n",
      "\n",
      "책이 was in the training set. skipping.\n",
      "\n",
      "☒ ʌp̚s̕ʌyo             없어요          업써요           업:ᅥᄋ요\n",
      "☒ pɛkʰwadzʌme          백화점에        배콰저메         배콰점ᅦ\n",
      "☒ kas̕ʌyo              갔어요          가써요           가더요\n",
      "☒ osʰɯl                옷을            오슬             온ᅳᆯ\n",
      "☒ padas̕ʌyo            받았어요        바다써요         바다어요\n",
      "☑ k̕otsʰɯn             꽃은            꼬츤             꼬츤\n",
      "\n",
      "잎이 was in the training set. skipping.\n",
      "\n",
      "☑ katʰayo              같아요          가타요           가타요\n",
      "☒ kas̕ʌ                갔어            가써             가서\n",
      "☒ nadze                낮에            나제             나ᄌᄌ\n",
      "\n",
      "빛이 was in the training set. skipping.\n",
      "\n",
      "☒ puʌkʰe               부엌에          부어케           부어커\n",
      "☑ nak̕ayo              낚아요          나까요           나까요\n",
      "\n",
      "꽃이 was in the training set. skipping.\n",
      "\n",
      "\n",
      "This Data:\n",
      "Perfect Accuracy:            38.10%\n",
      "Syllable Accuracy:           67.69%\n",
      "Segment (Letter) Accuracy:   87.86%\n",
      "\n",
      "Cumulative:\n",
      "Perfect Accuracy:            38.10%\n",
      "Syllable Accuracy:           67.69%\n",
      "Segment (Letter) Accuracy:   87.86%\n"
     ]
    }
   ],
   "source": [
    "validate_model(integrated_korean[\"resyllabification\"])"
   ]
  },
  {
   "cell_type": "code",
   "execution_count": 28,
   "metadata": {},
   "outputs": [],
   "source": [
    "# syllable-final closure (unrelease, aka neutralization)"
   ]
  },
  {
   "cell_type": "markdown",
   "metadata": {},
   "source": [
    "\"At the end of a word or before a consonant, all Korean consonants are pronounced with closure of the speech organs involved, that is, without releasing air. As a result, sound changes occur in consonants in word-final or pre-consonantal position. For example, 꽃은 \\[k̕otsʰɯn\\] 'as for flowers' is pronounced without any change in ㅊ \\[tsʰ\\] because the word 꽃 \\[k̕ot̚\\] 'flower' is immediately followed by the vowel-initial particle 은 \\[ɯn\\] 'as for'. However, 꽃 \\[k̕ot̚\\] 'flower' and 꽃도 \\[k̕ot̚t̕o\\] 'flower also' are pronounced 꼳 \\[k̕ot̚\\] and 꼳또 \\[k̕ot̚t̕o\\] respectively. The change of ㅊ \\[tsʰ\\] to ㄷ \\[t\\] here happens because the speech organs (the tongue and the hard palate) responsible for the articulation of the word-final and pre-consonantal ㅊ \\[tsʰ\\] are not released.... \n",
    "\n",
    "Lips: ㅂ, ㅍ \\[p, pʰ\\] → ㅂ \\[p̚\\]\n",
    "\n",
    "Gum ridge and hard palate: ㄷ, ㅌ, ㅅ, ㅆ, ㅈ, ㅊ \\[t, tʰ, s, sʼ, ts, tsʰ\\] → ㄷ \\[t̚\\]\n",
    "\n",
    "Soft palate: ㄱ, ㅋ, ㄲ \\[k, kʰ, kʼ\\] → ㄱ \\[k̚\\]\n",
    "\n",
    "\n",
    "The only consonant sounds that occur at the end of a word or before another consonant are the seven simple consonants ㅂ \\[p\\], ㄷ \\[t\\], ㄱ \\[k\\], ㅁ \\[m\\], ㄴ \\[n\\], ㅇ \\[ŋ\\], and ㄹ \\[l\\].\" \n",
    "\n",
    "(Cho et al., 2009, p.35)\n",
    "\n",
    "\"In syllable-final position, all obstruents are unreleased and, as a result, there are no laryngeal features of any kind\"; additionally, as a part of post-obstruent tensification (POT) \"tense stops emerge in medial positions as part of laryngeal neutralization.\" (Yu Cho, 2016)\n",
    "\n",
    "NOTE: \"laryngeal\" = of the larynx, i.e., the \"voice box\""
   ]
  },
  {
   "cell_type": "code",
   "execution_count": 29,
   "metadata": {},
   "outputs": [],
   "source": [
    "# NOTE: additional phenomena tested:\n",
    "#       tensification: \"k̕ot̚t̕o\", \"꽃도\", \"꼳또\"\n",
    "#                      \"ip̚k̕wa\", \"잎과\", \"입꽈\"\n",
    "#                      \"ot̚t̕o\", \"옷도\", \"옫또\"\n",
    "#                      \"kat̚t̕a\", \"갔다\", \"갇따\"\n",
    "#                      \"kat̚ts̕i\", \"갔지\", \"갇찌\"\n",
    "#                      \"nat̚k̕wa\", \"낮과\", \"낟꽈\"\n",
    "#                      \"pit̚ts̕otsʰa\", \"빛조차\", \"빋쪼차\"\n",
    "#                      \"puʌk̚ p̕adak̚\", \"부엌바닥\", \"부억빠닥\"\n",
    "#                      \"nak̚t̕aga\", \"낚다가\", \"낙따가\"\n",
    "#                      \"k̕ot̚ɕ̕i\", \"꽃씨\", \"꼳씨\""
   ]
  },
  {
   "cell_type": "code",
   "execution_count": 30,
   "metadata": {},
   "outputs": [
    {
     "name": "stdout",
     "output_type": "stream",
     "text": [
      "   IPA                Spelling        Pronunciation   Predicted Pronunciation\n",
      "\n",
      "꽃 was in the training set. skipping.\n",
      "\n",
      "\n",
      "꽃도 was in the training set. skipping.\n",
      "\n",
      "\n",
      "잎 was in the training set. skipping.\n",
      "\n",
      "☑ ip̚k̕wa              잎과            입꽈             입꽈\n",
      "\n",
      "옷 was in the training set. skipping.\n",
      "\n",
      "\n",
      "옷도 was in the training set. skipping.\n",
      "\n",
      "☑ kat̚t̕a              갔다            갇따             갇따\n",
      "☑ kat̚ts̕i             갔지            갇찌             갇찌\n",
      "\n",
      "밤낮 was in the training set. skipping.\n",
      "\n",
      "☑ nat̚k̕wa             낮과            낟꽈             낟꽈\n",
      "\n",
      "빛 was in the training set. skipping.\n",
      "\n",
      "☒ pit̚ts̕otsʰa         빛조차          빋쪼차           빋쪼자\n",
      "\n",
      "부엌 was in the training set. skipping.\n",
      "\n",
      "☑ puʌk̚p̕adak̚         부엌바닥        부억빠닥         부억빠닥\n",
      "\n",
      "낚시 was in the training set. skipping.\n",
      "\n",
      "☑ nak̚t̕aga            낚다가          낙따가           낙따가\n",
      "\n",
      "꽃씨 was in the training set. skipping.\n",
      "\n",
      "\n",
      "This Data:\n",
      "Perfect Accuracy:            85.71%\n",
      "Syllable Accuracy:           94.44%\n",
      "Segment (Letter) Accuracy:   97.73%\n",
      "\n",
      "Cumulative:\n",
      "Perfect Accuracy:            50.00%\n",
      "Syllable Accuracy:           73.49%\n",
      "Segment (Letter) Accuracy:   90.22%\n"
     ]
    }
   ],
   "source": [
    "validate_model(integrated_korean[\"unrelease\"])"
   ]
  },
  {
   "cell_type": "code",
   "execution_count": 31,
   "metadata": {},
   "outputs": [],
   "source": [
    "# double consonant reduction aka consonant cluster simplification"
   ]
  },
  {
   "cell_type": "markdown",
   "metadata": {},
   "source": [
    "\"As indicated under rule 1 (Resyllabification), the second of the two consonants at the syllable-final position (e.g., 값 \\[kap̚\\], 없 \\[ʌp̚\\], 읽 \\[ik̚\\], 않 \\[an̚\\], 덟 \\[tʌl̚\\], 앉 \\[an̚\\]) is carried over to the following syllable in pronunciation if this syllable does not have an initial consonant, as in 값이 (sounding like 갑씨) \\[kap̚ɕ̕i\\]. However, one of the two consonants becomes silent at the end of a word or before a consonant, as in 값 (sounding like 갑) \\[kap̚\\] and 값도 (sounding like 갑또) \\[kap̚t̕o\\]. Unlike in English where up to three consonants may occur in sequence in a syllable (e.g., street, masks), even a cluster of two consonants is not allowed in a single Korean syllable.\n",
    "\n",
    "It is difficult to predict which of two syllable-final consonants will become silent. Normally, the silent consonant is the second one, but there are exceptions.\" (Cho et al., 2009, p. 38)\n",
    "\n",
    "There appear to be exceptions to this rule as well, but generally: \"The first consonant wins unless the second is a non-coronal.\" (Yu Cho, 2016)"
   ]
  },
  {
   "cell_type": "code",
   "execution_count": 32,
   "metadata": {},
   "outputs": [
    {
     "name": "stdout",
     "output_type": "stream",
     "text": [
      "   IPA                Spelling        Pronunciation   Predicted Pronunciation\n",
      "\n",
      "값 was in the training set. skipping.\n",
      "\n",
      "\n",
      "값도 was in the training set. skipping.\n",
      "\n",
      "\n",
      "없고 was in the training set. skipping.\n",
      "\n",
      "☑ ik̚s̕ɯmɲida          읽습니다        익씀니다         익씀니다\n",
      "\n",
      "없습니다 was in the training set. skipping.\n",
      "\n",
      "\n",
      "괜찮습니다 was in the training set. skipping.\n",
      "\n",
      "☒ ank̕es̕ʌyo           앉겠어요        안께써요         안께서요\n",
      "☑ yʌdʌl kɛ             여덟개          여덜개           여덜개\n",
      "\n",
      "This Data:\n",
      "Perfect Accuracy:            66.67%\n",
      "Syllable Accuracy:           90.91%\n",
      "Segment (Letter) Accuracy:   96.15%\n",
      "\n",
      "Cumulative:\n",
      "Perfect Accuracy:            51.61%\n",
      "Syllable Accuracy:           75.53%\n",
      "Segment (Letter) Accuracy:   90.95%\n"
     ]
    }
   ],
   "source": [
    "validate_model(integrated_korean[\"double_consonant_reduction\"])"
   ]
  },
  {
   "cell_type": "code",
   "execution_count": 33,
   "metadata": {},
   "outputs": [],
   "source": [
    "# validate with additional data"
   ]
  },
  {
   "cell_type": "code",
   "execution_count": 34,
   "metadata": {},
   "outputs": [
    {
     "name": "stdout",
     "output_type": "stream",
     "text": [
      "   IPA                Spelling        Pronunciation   Predicted Pronunciation\n",
      "\n",
      "넋 was in the training set. skipping.\n",
      "\n",
      "\n",
      "몫 was in the training set. skipping.\n",
      "\n",
      "\n",
      "삯 was in the training set. skipping.\n",
      "\n",
      "\n",
      "닭 was in the training set. skipping.\n",
      "\n",
      "\n",
      "흙 was in the training set. skipping.\n",
      "\n",
      "\n",
      "칡 was in the training set. skipping.\n",
      "\n",
      "\n",
      "까닭 was in the training set. skipping.\n",
      "\n",
      "\n",
      "기슭 was in the training set. skipping.\n",
      "\n",
      "\n",
      "삶 was in the training set. skipping.\n",
      "\n",
      "\n",
      "앎 was in the training set. skipping.\n",
      "\n",
      "☒ ʌp̚t̕ago             없다고          업따고           업:따고\n",
      "☒ antʰago              않다고          안타고           안:ᅡᄀᄀ\n",
      "☒ mantʰago             많다고          만타고           만:ᅡᄀᄀ\n",
      "☑ ant̕ago              앉다고          안따고           안따고\n",
      "☒ ʌnt̕ago              얹다고          언따고           얻따고\n",
      "☒ k̕iʌnt̕ago           끼얹다고        끼언따고         끼언짜고\n",
      "☒ k̕ɯntʰago            끊다고          끈타고           끈나고\n",
      "\n",
      "This Data:\n",
      "Perfect Accuracy:            14.29%\n",
      "Syllable Accuracy:           59.09%\n",
      "Segment (Letter) Accuracy:   78.43%\n",
      "\n",
      "Cumulative:\n",
      "Perfect Accuracy:            44.74%\n",
      "Syllable Accuracy:           72.41%\n",
      "Segment (Letter) Accuracy:   88.51%\n"
     ]
    }
   ],
   "source": [
    "validate_model(korean_linguistics[\"consonant_cluster_simplification\"])"
   ]
  },
  {
   "cell_type": "code",
   "execution_count": 35,
   "metadata": {},
   "outputs": [],
   "source": [
    "# as most data was already used in training, simply view the data meant to test the model to verify the rule\n",
    "# provided by Yu Cho"
   ]
  },
  {
   "cell_type": "code",
   "execution_count": 36,
   "metadata": {},
   "outputs": [
    {
     "data": {
      "text/plain": [
       "[['넋', '넉', 'nʌk̚'],\n",
       " ['몫', '목', 'mok̚'],\n",
       " ['삯', '삭', 'sʰak̚'],\n",
       " ['닭', '닥', 'tak̚'],\n",
       " ['흙', '흑', 'hɯk̚'],\n",
       " ['칡', '칙', 'tsʰik̚'],\n",
       " ['까닭', '까닥', 'k̕adak̚'],\n",
       " ['기슭', '기슥', 'kisʰɯk̚'],\n",
       " ['삶', '삼', 'sʰam'],\n",
       " ['앎', '암', 'am'],\n",
       " ['없다고', '업따고', 'ʌp̚t̕ago'],\n",
       " ['않다고', '안타고', 'antʰago'],\n",
       " ['많다고', '만타고', 'mantʰago'],\n",
       " ['앉다고', '안따고', 'ant̕ago'],\n",
       " ['얹다고', '언따고', 'ʌnt̕ago'],\n",
       " ['끼얹다고', '끼언따고', 'k̕iʌnt̕ago'],\n",
       " ['끊다고', '끈타고', 'k̕ɯntʰago']]"
      ]
     },
     "execution_count": 36,
     "metadata": {},
     "output_type": "execute_result"
    }
   ],
   "source": [
    "korean_linguistics[\"consonant_cluster_simplification\"]"
   ]
  },
  {
   "cell_type": "code",
   "execution_count": 37,
   "metadata": {},
   "outputs": [],
   "source": [
    "#"
   ]
  },
  {
   "cell_type": "code",
   "execution_count": 38,
   "metadata": {},
   "outputs": [],
   "source": [
    "# korean consonantal inventory and phonation contrasts"
   ]
  },
  {
   "cell_type": "markdown",
   "metadata": {},
   "source": [
    "\"There is a general consensus that there are three types of phonation in Korean stops and two types in fricatives on the surface.... The tense series(also termed... \"fortis\" consonants) is characterized by \"laryngeal tension,\" whose precise characterizations are quite complex (e.g., glottal opening, the muscular tension (e.g., stiffness) of the vocal folds, tension of the pharynx and the walls of the vocal (tract), high oral pressure, and heightened subglottal pressure).\" (Yu Cho, 2016)"
   ]
  },
  {
   "cell_type": "code",
   "execution_count": 39,
   "metadata": {},
   "outputs": [
    {
     "data": {
      "image/jpeg": "[encoded data removed]",
      "text/plain": [
       "<IPython.core.display.Image object>"
      ]
     },
     "execution_count": 39,
     "metadata": {},
     "output_type": "execute_result"
    }
   ],
   "source": [
    "Image(filename=\"../media/korean_consonantal_inventory.jpg\")\n",
    "\n",
    "# (Yu Cho, 2016)"
   ]
  },
  {
   "cell_type": "code",
   "execution_count": 40,
   "metadata": {},
   "outputs": [],
   "source": [
    "# minimal pairs for the three-way contrast in Korean stops"
   ]
  },
  {
   "cell_type": "code",
   "execution_count": 41,
   "metadata": {},
   "outputs": [
    {
     "data": {
      "image/jpeg": "[encoded data removed]",
      "text/plain": [
       "<IPython.core.display.Image object>"
      ]
     },
     "execution_count": 41,
     "metadata": {},
     "output_type": "execute_result"
    }
   ],
   "source": [
    "Image(filename=\"../media/phonation_contrasts_minimal_pairs.jpg\")\n",
    "\n",
    "# (Yu Cho, 2016)"
   ]
  },
  {
   "cell_type": "code",
   "execution_count": 42,
   "metadata": {},
   "outputs": [],
   "source": [
    "# these recordings were made in 2014 with a 50 year old female native speaker of the Seoul dialect"
   ]
  },
  {
   "cell_type": "markdown",
   "metadata": {},
   "source": [
    "### pul\n",
    "https://static.memrise.com/uploads/things/audio/36941632_1422583082244.mp3\n",
    "### pʰul\n",
    "https://static.memrise.com/uploads/things/audio/36941636_1422583096205.mp3\n",
    "### pʼul\n",
    "https://static.memrise.com/uploads/things/audio/36941655_1422583111670.mp3"
   ]
  },
  {
   "cell_type": "markdown",
   "metadata": {},
   "source": [
    "### tal\n",
    "https://static.memrise.com/uploads/things/audio/36941656_1422583126898.mp3\n",
    "\n",
    "### tʰal\n",
    "https://static.memrise.com/uploads/things/audio/36941661_1422583140738.mp3\n",
    "\n",
    "### tʼal\n",
    "https://static.memrise.com/uploads/things/audio/36941663_1422583154716.mp3"
   ]
  },
  {
   "cell_type": "markdown",
   "metadata": {},
   "source": [
    "### ca (tsa)\n",
    "https://static.memrise.com/uploads/things/audio/36941664_1422583193850.mp3\n",
    "\n",
    "### cʰa (tsʰa)\n",
    "https://static.memrise.com/uploads/things/audio/36941665_1422583207281.mp3\n",
    "\n",
    "### cʼa (ts̕a)\n",
    "https://static.memrise.com/uploads/things/audio/36941667_1422583249826.mp3"
   ]
  },
  {
   "cell_type": "code",
   "execution_count": 43,
   "metadata": {},
   "outputs": [],
   "source": [
    "# "
   ]
  },
  {
   "cell_type": "markdown",
   "metadata": {},
   "source": [
    "Word-medially, both tensification and aspiration of plain stops and fricatives occur:"
   ]
  },
  {
   "cell_type": "code",
   "execution_count": 44,
   "metadata": {},
   "outputs": [],
   "source": [
    "# tensification"
   ]
  },
  {
   "cell_type": "markdown",
   "metadata": {},
   "source": [
    "\"When a plain plosive consonant (ㅂ \\[p\\], ㄷ \\[t\\], ㅈ \\[ts\\], ㄱ \\[k\\]) or the fricative consonant ㅅ \\[s\\] is preceded by a plosive or fricative consonant, it is reinforced to become a corresponding tense cosonant, as in 몇번 (sounding like 멷뻔 \\[myʌt̚ p̕ʌn\\] in careful speech or 며뻔 \\[myʌ p̕ʌn\\] in casual speech), 학생 (sounding like 학쌩) \\[hak̚s̕ɛŋ\\] and 없다 (sounding like 업따) \\[ʌp̚t̕a\\].... Tensification also occurs in compound nouns.\" (Cho et al., 2009, p. 36-37)"
   ]
  },
  {
   "cell_type": "code",
   "execution_count": 45,
   "metadata": {},
   "outputs": [
    {
     "name": "stdout",
     "output_type": "stream",
     "text": [
      "   IPA                Spelling        Pronunciation   Predicted Pronunciation\n",
      "\n",
      "학생 was in the training set. skipping.\n",
      "\n",
      "☒ myʌt̚k̕wa            몇과            멷꽈             멷ᄁᄁ\n",
      "\n",
      "식당 was in the training set. skipping.\n",
      "\n",
      "\n",
      "학교 was in the training set. skipping.\n",
      "\n",
      "\n",
      "숙제 was in the training set. skipping.\n",
      "\n",
      "\n",
      "꽃집 was in the training set. skipping.\n",
      "\n",
      "\n",
      "책상 was in the training set. skipping.\n",
      "\n",
      "☒ pwep̚k̕et̚s̕ɯmɲida   뵙겠습니다      뵙껟씀니다       뵙끄ᄊ씀니다\n",
      "\n",
      "없습니다 was in the training set. skipping.\n",
      "\n",
      "☑ yʌrɯmbaŋhak̚         여름방학        여름방학         여름방학\n",
      "\n",
      "길가 was in the training set. skipping.\n",
      "\n",
      "\n",
      "강가 was in the training set. skipping.\n",
      "\n",
      "\n",
      "봄비 was in the training set. skipping.\n",
      "\n",
      "☑ myʌt̚ p̕ʌn           몇번            멷뻔             멷뻔\n",
      "☒ myʌt̚ ɕik̕an         몇시간          멷시깐           멷ᄊ씨간\n",
      "☒ nugu k̕ʌyeyo         누구거예요      누구꺼예요       누ᄀ구ᅥᅨᅨᅭ\n",
      "\n",
      "This Data:\n",
      "Perfect Accuracy:            33.33%\n",
      "Syllable Accuracy:           47.62%\n",
      "Segment (Letter) Accuracy:   75.47%\n",
      "\n",
      "Cumulative:\n",
      "Perfect Accuracy:            43.18%\n",
      "Syllable Accuracy:           68.61%\n",
      "Segment (Letter) Accuracy:   86.31%\n"
     ]
    }
   ],
   "source": [
    "validate_model(integrated_korean[\"tensification\"])"
   ]
  },
  {
   "cell_type": "code",
   "execution_count": 46,
   "metadata": {},
   "outputs": [],
   "source": [
    "# aspiration and ㅎ [h] weakening"
   ]
  },
  {
   "cell_type": "markdown",
   "metadata": {},
   "source": [
    "\"The fricative consonant ㅎ \\[h\\] is produced in the throat, soft palate, hard palate, or lips depending on the following vowel. When it is followed by a plain plosive cosonant (ㅂ \\[p\\], ㄷ \\[t\\], ㅈ \\[ts\\], ㄱ \\[k\\]), it merges with the consonant to produce the corresponding aspirate consonant (ㅍ \\[pʰ\\], ㅌ \\[tʰ\\], ㅊ \\[tsʰ\\], ㅋ \\[kʰ\\]), as in 좋다 (sounding like 조타) \\[tsotʰa\\] and 닫히다 (sounding like 다치다) \\[tatsʰida\\].... Between two voiced sounds (vowels, nasals, or ㄹ \\[l\\] consonants), ㅎ \\[h\\] tends to become silent in casual speech, as in 좋아요 (sounding like 조아요) \\[tsoayo\\] and 말한다 (sounding like 마란다) \\[maranda\\].\" (Cho et al., 2009, p. 37-38)"
   ]
  },
  {
   "cell_type": "code",
   "execution_count": 47,
   "metadata": {},
   "outputs": [
    {
     "name": "stdout",
     "output_type": "stream",
     "text": [
      "   IPA                Spelling        Pronunciation   Predicted Pronunciation\n",
      "\n",
      "좋다 was in the training set. skipping.\n",
      "\n",
      "\n",
      "닫히다 was in the training set. skipping.\n",
      "\n",
      "☒ tsokʰo               좋고            조코             조:ᅩ\n",
      "\n",
      "입학 was in the training set. skipping.\n",
      "\n",
      "\n",
      "많다 was in the training set. skipping.\n",
      "\n",
      "☑ tsʰɛkʰago            책하고          채카고           채카고\n",
      "☒ ɕidzakʰap̚ɕ̕ida      시작합시다      시자캅씨다       시자카ᅡ씨다\n",
      "☒ ʌt̕ʌkʰe              어떻게          어떠케           어ᄄ떠ᄐ\n",
      "☒ k̕otʰago             꽃하고          꼬타고           꼬차고\n",
      "☒ tɛdapʰasʰeyo         대답하세요      대다파세요       대ᄃ다ᅡ퇴쇼\n",
      "☒ tsoayo               좋아요          조아요           조ᄋᄋ요ᅭ\n",
      "☒ malhanda             말한다          말한다           말:한ᅡᅡ\n",
      "\n",
      "전화 was in the training set. skipping.\n",
      "\n",
      "☑ yʌrɯmbaŋhak̚         여름방학        여름방학         여름방학\n",
      "☒ sʰaraŋhanda          사랑한다        사랑한다         사랑한ᅡᅡ\n",
      "☒ anɲyʌŋhasʰeyo        안녕하세요      안녕하세요       안녕텨되ᄉᄋ\n",
      "☒ manayo               많아요          마나요           마:나요\n",
      "☒ tsoas̕ʌyo            좋았어요        조아써요         조아어요\n",
      "☒ tsalhɛs̕ʌyo          잘했어요        잘해써요         잘핻ᅥᄋ\n",
      "\n",
      "천천히 was in the training set. skipping.\n",
      "\n",
      "\n",
      "말해 was in the training set. skipping.\n",
      "\n",
      "\n",
      "감사합니다 was in the training set. skipping.\n",
      "\n",
      "☒ kwɛntsʰanayo         괜찮아요        괜차나요         관마ᄂᄂ뇨\n",
      "☒ tsotsʰi antʰa        좋지않다        조치안타         조:ᅵ이안ᅡ\n",
      "\n",
      "This Data:\n",
      "Perfect Accuracy:            12.50%\n",
      "Syllable Accuracy:           45.76%\n",
      "Segment (Letter) Accuracy:   70.23%\n",
      "\n",
      "Cumulative:\n",
      "Perfect Accuracy:            35.00%\n",
      "Syllable Accuracy:           61.73%\n",
      "Segment (Letter) Accuracy:   81.57%\n"
     ]
    }
   ],
   "source": [
    "validate_model(integrated_korean[\"aspiration_and_hieut_weakening\"])"
   ]
  },
  {
   "cell_type": "code",
   "execution_count": 48,
   "metadata": {},
   "outputs": [],
   "source": [
    "#"
   ]
  },
  {
   "cell_type": "code",
   "execution_count": 49,
   "metadata": {},
   "outputs": [],
   "source": [
    "# other types of sound change: assimilation and palatalization"
   ]
  },
  {
   "cell_type": "code",
   "execution_count": 50,
   "metadata": {},
   "outputs": [],
   "source": [
    "#"
   ]
  },
  {
   "cell_type": "code",
   "execution_count": 51,
   "metadata": {},
   "outputs": [],
   "source": [
    "# nasal assimilation (manner assimilation)"
   ]
  },
  {
   "cell_type": "markdown",
   "metadata": {},
   "source": [
    "\"All plosive and fricative consonants become the corresponding nasal consonants before a nasal consonant (ㅁ \\[m\\], ㄴ \\[n\\]). Notice that even ㅎ \\[h\\] is included in the change.\"\n",
    "\n",
    "ㅂ, ㅍ \\[p, pʰ\\] → ㅁ \\[m\\]\n",
    "\n",
    "ㄷ, ㅌ, ㅅ, ㅆ, ㅈ, ㅊ, ㅎ \\[t, tʰ, s, sʼ, ts, tsʰ, h\\] → ㄴ \\[n\\]\n",
    "\n",
    "ㄱ, ㅋ, ㄲ \\[k, kʰ, kʼ\\] → ㅇ \\[ŋ\\]\n",
    "\n",
    "(Cho et al., 2009, p. 36)"
   ]
  },
  {
   "cell_type": "code",
   "execution_count": 52,
   "metadata": {},
   "outputs": [],
   "source": [
    "# NOTE: additional phenomena tested:\n",
    "#       unrelease, tensification: \"morɯget̚s̕ɯmɲida\", \"모르겠습니다\", \"모르겓씀니다\"\n",
    "#                                 \"k̕ɯnnɛget̚s̕ɯmɲida\", \"끝내겠습니다\", \"끈내겓씀니다\""
   ]
  },
  {
   "cell_type": "code",
   "execution_count": 53,
   "metadata": {},
   "outputs": [
    {
     "name": "stdout",
     "output_type": "stream",
     "text": [
      "   IPA                Spelling        Pronunciation   Predicted Pronunciation\n",
      "\n",
      "입만 was in the training set. skipping.\n",
      "\n",
      "\n",
      "앞문 was in the training set. skipping.\n",
      "\n",
      "☒ ʌmnayo               없나요          엄나요           엄:ᅡ아\n",
      "☒ pannɯnda             받는다          반는다           반든다\n",
      "\n",
      "끝나다 was in the training set. skipping.\n",
      "\n",
      "☑ innɯnde              있는데          인는데           인는데\n",
      "☑ nannɯnda             낳는다          난는다           난는다\n",
      "☒ morɯget̚s̕ɯmɲida     모르겠습니다     모르겓씀니다     모르겓쓰니다\n",
      "☒ hanguŋmallo          한국말로        한궁말로         한:궁망로\n",
      "☑ hamɲik̕a             합니까          함니까           함니까\n",
      "☒ k̕ɯnnɛget̚s̕ɯmɲida   끝내겠습니다     끈내겓씀니다     끔내걷씀니다\n",
      "☑ myʌn ɲyʌn            몇년            면년             면년\n",
      "☑ il haŋɲyʌn           일학년          일항년           일항년\n",
      "\n",
      "This Data:\n",
      "Perfect Accuracy:            50.00%\n",
      "Syllable Accuracy:           75.00%\n",
      "Segment (Letter) Accuracy:   80.65%\n",
      "\n",
      "Cumulative:\n",
      "Perfect Accuracy:            37.14%\n",
      "Syllable Accuracy:           63.79%\n",
      "Segment (Letter) Accuracy:   81.41%\n"
     ]
    }
   ],
   "source": [
    "validate_model(integrated_korean[\"nasal_assimilation\"])"
   ]
  },
  {
   "cell_type": "code",
   "execution_count": 54,
   "metadata": {},
   "outputs": [],
   "source": [
    "# validate with more data"
   ]
  },
  {
   "cell_type": "code",
   "execution_count": 55,
   "metadata": {},
   "outputs": [
    {
     "name": "stdout",
     "output_type": "stream",
     "text": [
      "   IPA                Spelling        Pronunciation   Predicted Pronunciation\n",
      "☒ pam mani             밥많이          밤마니           밥마니\n",
      "☒ pam mək-imyən        밥먹으면        밤머기면         밤머그문\n",
      "☑ pam nəmu             밥너무          밤너무           밤너무\n",
      "☒ pam nəkʰo            밥넣고          밤너코           밤너꼬\n",
      "\n",
      "입어 was in the training set. skipping.\n",
      "\n",
      "☑ imnɨnta              입는다          임는다           임는다\n",
      "\n",
      "굽어 was in the training set. skipping.\n",
      "\n",
      "☒ kumnɨnta             굽는다          굼는다           굼:ᅳᆫᆫᅡᅡ\n",
      "\n",
      "접어 was in the training set. skipping.\n",
      "\n",
      "☑ čəmnɨnta             접는다          점는다           점는다\n",
      "\n",
      "닫아 was in the training set. skipping.\n",
      "\n",
      "☑ tannɨnta             닫는다          단는다           단는다\n",
      "\n",
      "붙어 was in the training set. skipping.\n",
      "\n",
      "☑ punnɨnta             붙는다          분는다           분는다\n",
      "\n",
      "쫓아 was in the training set. skipping.\n",
      "\n",
      "☑ čonnɨnta             쫓는다          쫀는다           쫀는다\n",
      "\n",
      "먹어 was in the training set. skipping.\n",
      "\n",
      "☑ məŋnɨnta             먹는다          멍는다           멍는다\n",
      "\n",
      "섞어 was in the training set. skipping.\n",
      "\n",
      "☒ səŋnɨnta             섞는다          성는다           석는다\n",
      "\n",
      "닦아 was in the training set. skipping.\n",
      "\n",
      "☒ taŋnɨnta             닦는다          당는다           닥는다\n",
      "\n",
      "죽어 was in the training set. skipping.\n",
      "\n",
      "☑ čuŋnɨnta             죽는다          중는다           중는다\n",
      "\n",
      "익어 was in the training set. skipping.\n",
      "\n",
      "☑ iŋnɨnta              익는다          잉는다           잉는다\n",
      "\n",
      "This Data:\n",
      "Perfect Accuracy:            60.00%\n",
      "Syllable Accuracy:           82.61%\n",
      "Segment (Letter) Accuracy:   93.28%\n",
      "\n",
      "Cumulative:\n",
      "Perfect Accuracy:            41.18%\n",
      "Syllable Accuracy:           66.91%\n",
      "Segment (Letter) Accuracy:   83.56%\n"
     ]
    }
   ],
   "source": [
    "validate_model(introducing_phonology[\"nasalization\"])"
   ]
  },
  {
   "cell_type": "code",
   "execution_count": 56,
   "metadata": {},
   "outputs": [],
   "source": [
    "# ㄴ [n] to ㄹ [l] assimilation (lateralization) (manner assimilation)"
   ]
  },
  {
   "cell_type": "markdown",
   "metadata": {},
   "source": [
    "\"When ㄹ \\[l\\] and ㄴ \\[n\\] come together, the ㄴ \\[n\\] sound is usually replaced by the ㄹ \\[l\\] sound, as in 칠 년: '칠련' \\[tsʰil  lyʌn\\]. When ㄹ \\[l\\] is followed by the vowel \\[i\\] ('이') or the semivowel 'y' (e.g., \"야\") in some compound words, another ㄹ \\[l\\] is inserted between them, as in 물약: '물략' \\[muʎʎyak̚\\].\" (Cho et al., 2009, p. 36)\n",
    "\n",
    "\"A sequence of two coronal sonorants (/n+l/ or /l+n/) is not allowed regardless of their syllabic positions, resulting in bidirectional lateralization.\" (Yu Cho, 2016)"
   ]
  },
  {
   "cell_type": "code",
   "execution_count": 57,
   "metadata": {},
   "outputs": [],
   "source": [
    "# NOTE: additional phenomena tested:\n",
    "#       unrelease: \"muʎʎyak̚\", \"물약\", \"물략\"\n",
    "#                  \"sʰʌuʎʎyʌk̚\", \"서울역\", \"서울력\""
   ]
  },
  {
   "cell_type": "code",
   "execution_count": 58,
   "metadata": {},
   "outputs": [
    {
     "name": "stdout",
     "output_type": "stream",
     "text": [
      "   IPA                Spelling        Pronunciation   Predicted Pronunciation\n",
      "\n",
      "물약 was in the training set. skipping.\n",
      "\n",
      "\n",
      "진리 was in the training set. skipping.\n",
      "\n",
      "\n",
      "신라 was in the training set. skipping.\n",
      "\n",
      "\n",
      "전라도 was in the training set. skipping.\n",
      "\n",
      "\n",
      "달님 was in the training set. skipping.\n",
      "\n",
      "\n",
      "서울역 was in the training set. skipping.\n",
      "\n",
      "☑ kirirɯm              길이름          기리름           기리름\n",
      "☑ tsʰil  lyʌn          칠년            칠련             칠련\n",
      "☑ pʰal lyʌn            팔년            팔련             팔련\n",
      "\n",
      "This Data:\n",
      "Perfect Accuracy:           100.00%\n",
      "Syllable Accuracy:          100.00%\n",
      "Segment (Letter) Accuracy:   100.00%\n",
      "\n",
      "Cumulative:\n",
      "Perfect Accuracy:            43.18%\n",
      "Syllable Accuracy:           67.72%\n",
      "Segment (Letter) Accuracy:   84.02%\n"
     ]
    }
   ],
   "source": [
    "validate_model(integrated_korean[\"rieul_assimilation\"])"
   ]
  },
  {
   "cell_type": "code",
   "execution_count": 59,
   "metadata": {},
   "outputs": [],
   "source": [
    "# while it is important to not use training data to validate a model, setting the flag \"skip_training_data\" to False\n",
    "# allows one to use all possible data when most of the data available has already been used to train the model. this\n",
    "# allows a flawed but wider view of the model's performance. this was important here as the text used (Integrated Korean)\n",
    "# appeared to differ in opinion with the tool developed by Busan National University: rather than an additional [l]\n",
    "# segment being inserted in [kirirɯm], the [l] segement was simply delateralized. This differs from the behavior\n",
    "# exhibited by the models with such items as [muʎʎyak̚] and [sʰʌuʎʎyʌk̚]"
   ]
  },
  {
   "cell_type": "code",
   "execution_count": 60,
   "metadata": {},
   "outputs": [
    {
     "name": "stdout",
     "output_type": "stream",
     "text": [
      "   IPA                Spelling        Pronunciation   Predicted Pronunciation\n",
      "☒ muʎʎyak̚             물약            물략             무ᄅ략\n",
      "☑ tsiʎʎi               진리            질리             질리\n",
      "☒ ɕilla                신라            실라             실라ᅡ\n",
      "☒ tsʌllado             전라도          절라도           절:ᅡ도\n",
      "☑ taʎʎim               달님            달림             달림\n",
      "☑ sʰʌuʎʎyʌk̚           서울역          서울력           서울력\n",
      "☑ kirirɯm              길이름          기리름           기리름\n",
      "☑ tsʰil  lyʌn          칠년            칠련             칠련\n",
      "☑ pʰal lyʌn            팔년            팔련             팔련\n",
      "\n",
      "This Data:\n",
      "Perfect Accuracy:            66.67%\n",
      "Syllable Accuracy:           80.95%\n",
      "Segment (Letter) Accuracy:   96.43%\n",
      "\n",
      "Cumulative:\n",
      "Perfect Accuracy:            45.36%\n",
      "Syllable Accuracy:           68.63%\n",
      "Segment (Letter) Accuracy:   84.97%\n"
     ]
    }
   ],
   "source": [
    "validate_model(integrated_korean[\"rieul_assimilation\"], skip_training_data=False)"
   ]
  },
  {
   "cell_type": "code",
   "execution_count": 61,
   "metadata": {},
   "outputs": [],
   "source": [
    "# place assimilation"
   ]
  },
  {
   "cell_type": "markdown",
   "metadata": {},
   "source": [
    "\"In casual speech, ㄷ \\[t\\] is optionally pronounced ㅂ \\[p\\] before ㅂ \\[p\\] or ㅃ \\[pʼ\\] and as ㄱ \\[k\\] before ㄱ \\[k\\] or ㄲ \\[kʼ\\], as in 꽃병 (sounding like 꼳뼝/꼽뼝) \\[k̕ot̚p̕yʌŋ/k̕opp̕yʌŋ\\] and 갔고 (sounding like 갇꼬/각꼬) \\[kat̚k̕o/kakk̕o\\]. Similarly, ㄴ \\[n\\] is optionally pronounced ㅁ \\[m\\] before ㅂ \\[p\\], ㅃ \\[pʼ\\], or ㅁ \\[m\\], and ㅇ \\[ŋ\\] before ㄱ \\[k\\] or ㄲ \\[kʼ\\], as in 한미 (sounding like 한미/함미) \\[hanmi/hammi\\], 빗물 (sounding like 빈물/빔물) \\[pinmul/pimmul\\], and 한강 (sounding like 한강/항강) \\[hangaŋ/haŋgaŋ\\].\" (Cho et al., 2009, p. 39)\n",
    "\n",
    "\"Coronals take on the place of the following non-coronal consonant.\" (Yu Cho, 2016)"
   ]
  },
  {
   "cell_type": "code",
   "execution_count": 62,
   "metadata": {},
   "outputs": [],
   "source": [
    "# NOTE: no evidence of place assimilation appears in either the output from the model or the Busan National University tool.\n",
    "#       perhaps this is due to the fact that neither of these seem to constitute casual speech"
   ]
  },
  {
   "cell_type": "code",
   "execution_count": 63,
   "metadata": {},
   "outputs": [
    {
     "name": "stdout",
     "output_type": "stream",
     "text": [
      "   IPA                Spelling        Pronunciation   Predicted Pronunciation\n",
      "\n",
      "꽃병 was in the training set. skipping.\n",
      "\n",
      "☑ kat̚k̕o              갔고            갇꼬             갇꼬\n",
      "\n",
      "한미 was in the training set. skipping.\n",
      "\n",
      "\n",
      "빗물 was in the training set. skipping.\n",
      "\n",
      "\n",
      "한강 was in the training set. skipping.\n",
      "\n",
      "\n",
      "옷감 was in the training set. skipping.\n",
      "\n",
      "\n",
      "신문 was in the training set. skipping.\n",
      "\n",
      "\n",
      "한국어 was in the training set. skipping.\n",
      "\n",
      "\n",
      "젖병 was in the training set. skipping.\n",
      "\n",
      "\n",
      "눈꺼풀 was in the training set. skipping.\n",
      "\n",
      "☑ tat̚k̕o              닫고            닫꼬             닫꼬\n",
      "\n",
      "꽃무늬 was in the training set. skipping.\n",
      "\n",
      "\n",
      "밭갈이 was in the training set. skipping.\n",
      "\n",
      "\n",
      "신발 was in the training set. skipping.\n",
      "\n",
      "☑ ot̚ p̕allɛ           옷빨래          옫빨래           옫빨래\n",
      "\n",
      "This Data:\n",
      "Perfect Accuracy:           100.00%\n",
      "Syllable Accuracy:          100.00%\n",
      "Segment (Letter) Accuracy:   100.00%\n",
      "\n",
      "Cumulative:\n",
      "Perfect Accuracy:            47.00%\n",
      "Syllable Accuracy:           69.33%\n",
      "Segment (Letter) Accuracy:   85.33%\n"
     ]
    }
   ],
   "source": [
    "validate_model(integrated_korean[\"place_assimilation\"])"
   ]
  },
  {
   "cell_type": "code",
   "execution_count": 64,
   "metadata": {},
   "outputs": [],
   "source": [
    "# use training data again, just to verify whether or not model seemed to acquire any place assimilation knowledge"
   ]
  },
  {
   "cell_type": "code",
   "execution_count": 65,
   "metadata": {},
   "outputs": [
    {
     "name": "stdout",
     "output_type": "stream",
     "text": [
      "   IPA                Spelling        Pronunciation   Predicted Pronunciation\n",
      "☑ k̕ot̚p̕yʌŋ           꽃병            꼳뼝             꼳뼝\n",
      "☑ kat̚k̕o              갔고            갇꼬             갇꼬\n",
      "☑ hanmi                한미            한미             한미\n",
      "☑ pinmul               빗물            빈물             빈물\n",
      "☒ hangaŋ               한강            한강             한:강\n",
      "☑ ot̚k̕am              옷감            옫깜             옫깜\n",
      "☑ ɕinmun               신문            신문             신문\n",
      "☒ hangugʌ              한국어          한구거           한:구거\n",
      "☑ tsʌt̚p̕yʌŋ           젖병            젇뼝             젇뼝\n",
      "☑ nunk̕ʌpʰul           눈꺼풀          눈꺼풀           눈꺼풀\n",
      "☑ tat̚k̕o              닫고            닫꼬             닫꼬\n",
      "☑ k̕onmuɲi             꽃무늬          꼰무니           꼰무니\n",
      "☑ pat̚k̕ari            밭갈이          받까리           받까리\n",
      "☑ ɕinbal               신발            신발             신발\n",
      "☑ ot̚ p̕allɛ           옷빨래          옫빨래           옫빨래\n",
      "\n",
      "This Data:\n",
      "Perfect Accuracy:            86.67%\n",
      "Syllable Accuracy:           91.43%\n",
      "Segment (Letter) Accuracy:   92.55%\n",
      "\n",
      "Cumulative:\n",
      "Perfect Accuracy:            52.17%\n",
      "Syllable Accuracy:           71.55%\n",
      "Segment (Letter) Accuracy:   86.14%\n"
     ]
    }
   ],
   "source": [
    "validate_model(integrated_korean[\"place_assimilation\"], skip_training_data=False)"
   ]
  },
  {
   "cell_type": "code",
   "execution_count": 66,
   "metadata": {},
   "outputs": [],
   "source": [
    "# palatalization"
   ]
  },
  {
   "cell_type": "markdown",
   "metadata": {},
   "source": [
    "\"When a (syllable) ending in ㄷ \\[t\\] or ㅌ \\[tʰ\\] is followed by a suffix beginning with the vowel \"i\" \\[i\\] or the semivowel \"y\" (whether ㅎ \\[h\\] intervenes or not), the ㄷ \\[t\\] and ㅌ \\[tʰ\\] are pronounced ㅈ \\[ts\\] and ㅊ \\[tsʰ\\], respectively, as in 닫혀요 (sounding like 다쳐요) \\[tatsʰyʌyo\\] and 붙이다 (sounding like 부치다) \\[putsʰida\\]. This change is technically called \"palatalization\" because the original gum-ridge consonants are articulated in the area of the hard palate.\" (Cho et al., 2009, p. 38-39)\n",
    "\n",
    "\"Palatalization is a phenomenon where dental stops /t, tʰ/ are realized as prepalatal affricates \\[ts, tsʰ\\] when followed by an /i/ or /y/ across a morpheme boundary, one of the prime cases of nonderived environment blocking (NDEB). Palatalization is blocked in underived forms.... Palatalization is (also) blocked across... compounds... and between larger units.\" (Yu Cho, 2016)"
   ]
  },
  {
   "cell_type": "code",
   "execution_count": 67,
   "metadata": {},
   "outputs": [
    {
     "name": "stdout",
     "output_type": "stream",
     "text": [
      "   IPA                Spelling        Pronunciation   Predicted Pronunciation\n",
      "☑ tatsʰyʌyo            닫혀요          다쳐요           다쳐요\n",
      "\n",
      "붙이다 was in the training set. skipping.\n",
      "\n",
      "☒ putsʰyʌyo            붙여요          부쳐요           분ᄂ요\n",
      "\n",
      "같이 was in the training set. skipping.\n",
      "\n",
      "\n",
      "밑이 was in the training set. skipping.\n",
      "\n",
      "\n",
      "This Data:\n",
      "Perfect Accuracy:            50.00%\n",
      "Syllable Accuracy:           66.67%\n",
      "Segment (Letter) Accuracy:   83.33%\n",
      "\n",
      "Cumulative:\n",
      "Perfect Accuracy:            52.14%\n",
      "Syllable Accuracy:           71.47%\n",
      "Segment (Letter) Accuracy:   86.10%\n"
     ]
    }
   ],
   "source": [
    "validate_model(integrated_korean[\"palatalization\"])"
   ]
  },
  {
   "cell_type": "code",
   "execution_count": 68,
   "metadata": {},
   "outputs": [],
   "source": [
    "# validate with more data\n",
    "\n",
    "# NOTE:\n",
    "\n",
    "# [tsʰʌdinsʰaŋi] is a compound and should not exhibit palatalization. It should also not exhibit resyllabification.\n",
    "\n",
    "# 밭이랑 has two meanings: \"with a field\" and \"the furrow(s) of a field\". The compound word [pat̚iraŋ] should not\n",
    "# exhibit palatalization while the other should.\n",
    "\n",
    "# [pat̚ilgwʌ] forms a larger phrasal unit meaning \"cultivate a field\" and should not exhibit palatalization."
   ]
  },
  {
   "cell_type": "code",
   "execution_count": 69,
   "metadata": {},
   "outputs": [
    {
     "name": "stdout",
     "output_type": "stream",
     "text": [
      "   IPA                Spelling        Pronunciation   Predicted Pronunciation\n",
      "☒ tsʰʌdinsʰaŋi         첫인상이        처딘상이         처신상이\n",
      "\n",
      "밭이 was in the training set. skipping.\n",
      "\n",
      "☑ patsʰida             밭이다          바치다           바치다\n",
      "☒ patsʰiraŋ            밭이랑          바치랑           반니ᅡᅡᆼ\n",
      "☒ pat̚iraŋ             밭이랑          받이랑           반니ᅡᅡᆼ\n",
      "☒ pat̚ilgwʌ            밭일궈          받일궈           반ᅵᆯ궈\n",
      "\n",
      "This Data:\n",
      "Perfect Accuracy:            20.00%\n",
      "Syllable Accuracy:           37.50%\n",
      "Segment (Letter) Accuracy:   64.10%\n",
      "\n",
      "Cumulative:\n",
      "Perfect Accuracy:            50.82%\n",
      "Syllable Accuracy:           70.00%\n",
      "Segment (Letter) Accuracy:   85.14%\n"
     ]
    }
   ],
   "source": [
    "validate_model(korean_phonology[\"palatalization\"])"
   ]
  },
  {
   "cell_type": "code",
   "execution_count": 70,
   "metadata": {},
   "outputs": [],
   "source": [
    "# "
   ]
  },
  {
   "cell_type": "markdown",
   "metadata": {},
   "source": [
    "# References\n",
    "\n",
    "Cho, Y., Lee, H. S., Schulz, C., Sohn, H., & Sohn, S. (2009). Integrated Korean: Beginning 1 (Klear Textbooks in Korean Language). University of Hawaii Press.\n",
    "\n",
    "Crystal, D. (2008). A Dictionary of Linguistics and Phonetics. Oxford: Blackwell Publishing.\n",
    "\n",
    "Yu Cho, Y.  (2016, October 26). Korean Phonetics and Phonology. Oxford Research Encyclopedia of Linguistics. Retrieved 15 Apr. 2021, from https://oxfordre.com/linguistics/view/10.1093/acrefore/9780199384655.001.0001/acrefore-9780199384655-e-176."
   ]
  },
  {
   "cell_type": "code",
   "execution_count": null,
   "metadata": {},
   "outputs": [],
   "source": []
  }
 ],
 "metadata": {
  "kernelspec": {
   "display_name": "Python 3",
   "language": "python",
   "name": "python3"
  },
  "language_info": {
   "codemirror_mode": {
    "name": "ipython",
    "version": 3
   },
   "file_extension": ".py",
   "mimetype": "text/x-python",
   "name": "python",
   "nbconvert_exporter": "python",
   "pygments_lexer": "ipython3",
   "version": "3.7.6"
  }
 },
 "nbformat": 4,
 "nbformat_minor": 4
}
