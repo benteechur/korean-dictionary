{
 "cells": [
  {
   "cell_type": "code",
   "execution_count": 1,
   "metadata": {},
   "outputs": [],
   "source": [
    "import pickle\n",
    "import numpy as np\n",
    "import pandas as pd\n",
    "from keras.models import load_model\n",
    "from jamotools import Vectorizationer, rules\n",
    "from unicodedata import normalize"
   ]
  },
  {
   "cell_type": "code",
   "execution_count": 2,
   "metadata": {},
   "outputs": [],
   "source": [
    "# validate the model on various phonological phenomena"
   ]
  },
  {
   "cell_type": "code",
   "execution_count": 3,
   "metadata": {},
   "outputs": [],
   "source": [
    "# first load the model\n",
    "# NOTE: load_model() loads a fully compiled model identical to the one saved using .save()"
   ]
  },
  {
   "cell_type": "code",
   "execution_count": 4,
   "metadata": {},
   "outputs": [],
   "source": [
    "model = load_model(\"pronunciation_prediction.h5\")"
   ]
  },
  {
   "cell_type": "code",
   "execution_count": 5,
   "metadata": {},
   "outputs": [],
   "source": [
    "# load the reference DataFrame to ensure that the model wasn't trained on the entries it's being given for evaluation"
   ]
  },
  {
   "cell_type": "code",
   "execution_count": 6,
   "metadata": {},
   "outputs": [
    {
     "data": {
      "text/html": [
       "<div>\n",
       "<style scoped>\n",
       "    .dataframe tbody tr th:only-of-type {\n",
       "        vertical-align: middle;\n",
       "    }\n",
       "\n",
       "    .dataframe tbody tr th {\n",
       "        vertical-align: top;\n",
       "    }\n",
       "\n",
       "    .dataframe thead th {\n",
       "        text-align: right;\n",
       "    }\n",
       "</style>\n",
       "<table border=\"1\" class=\"dataframe\">\n",
       "  <thead>\n",
       "    <tr style=\"text-align: right;\">\n",
       "      <th></th>\n",
       "      <th>entry_id</th>\n",
       "      <th>word_id</th>\n",
       "      <th>spelling</th>\n",
       "      <th>pronunciation</th>\n",
       "    </tr>\n",
       "  </thead>\n",
       "  <tbody>\n",
       "    <tr>\n",
       "      <th>0</th>\n",
       "      <td>13943</td>\n",
       "      <td>역사학</td>\n",
       "      <td>역사학</td>\n",
       "      <td>역싸학</td>\n",
       "    </tr>\n",
       "    <tr>\n",
       "      <th>1</th>\n",
       "      <td>13943</td>\n",
       "      <td>역사학</td>\n",
       "      <td>역사학이</td>\n",
       "      <td>역싸하기</td>\n",
       "    </tr>\n",
       "    <tr>\n",
       "      <th>2</th>\n",
       "      <td>13943</td>\n",
       "      <td>역사학</td>\n",
       "      <td>역사학도</td>\n",
       "      <td>역싸학또</td>\n",
       "    </tr>\n",
       "    <tr>\n",
       "      <th>3</th>\n",
       "      <td>13943</td>\n",
       "      <td>역사학</td>\n",
       "      <td>역사학만</td>\n",
       "      <td>역싸항만</td>\n",
       "    </tr>\n",
       "    <tr>\n",
       "      <th>4</th>\n",
       "      <td>13957</td>\n",
       "      <td>시대적2</td>\n",
       "      <td>시대적</td>\n",
       "      <td>시대적</td>\n",
       "    </tr>\n",
       "  </tbody>\n",
       "</table>\n",
       "</div>"
      ],
      "text/plain": [
       "   entry_id word_id spelling pronunciation\n",
       "0     13943     역사학      역사학           역싸학\n",
       "1     13943     역사학     역사학이          역싸하기\n",
       "2     13943     역사학     역사학도          역싸학또\n",
       "3     13943     역사학     역사학만          역싸항만\n",
       "4     13957    시대적2      시대적           시대적"
      ]
     },
     "execution_count": 6,
     "metadata": {},
     "output_type": "execute_result"
    }
   ],
   "source": [
    "ref = pd.read_csv(\"reference_all.csv\", sep=\"\\t\")\n",
    "ref.head()"
   ]
  },
  {
   "cell_type": "code",
   "execution_count": 7,
   "metadata": {},
   "outputs": [],
   "source": [
    "# only the spelling column is needed, and store as a set since sets (and dicts) are implemented as hash tables underneath;\n",
    "# additionally, using a set will remove duplicates from the spelling column created when alternative pronunciations were\n",
    "# added (e.g., spellings with multiple pronunciations delimited by forward slashes and split during preprocessing)"
   ]
  },
  {
   "cell_type": "code",
   "execution_count": 8,
   "metadata": {},
   "outputs": [
    {
     "data": {
      "text/html": [
       "<div>\n",
       "<style scoped>\n",
       "    .dataframe tbody tr th:only-of-type {\n",
       "        vertical-align: middle;\n",
       "    }\n",
       "\n",
       "    .dataframe tbody tr th {\n",
       "        vertical-align: top;\n",
       "    }\n",
       "\n",
       "    .dataframe thead th {\n",
       "        text-align: right;\n",
       "    }\n",
       "</style>\n",
       "<table border=\"1\" class=\"dataframe\">\n",
       "  <thead>\n",
       "    <tr style=\"text-align: right;\">\n",
       "      <th></th>\n",
       "      <th>entry_id</th>\n",
       "      <th>word_id</th>\n",
       "      <th>spelling</th>\n",
       "      <th>pronunciation</th>\n",
       "    </tr>\n",
       "  </thead>\n",
       "  <tbody>\n",
       "    <tr>\n",
       "      <th>5</th>\n",
       "      <td>13958</td>\n",
       "      <td>시대적1</td>\n",
       "      <td>시대적</td>\n",
       "      <td>시대적</td>\n",
       "    </tr>\n",
       "    <tr>\n",
       "      <th>65</th>\n",
       "      <td>13998</td>\n",
       "      <td>신기하다2</td>\n",
       "      <td>신기하다</td>\n",
       "      <td>신기하다</td>\n",
       "    </tr>\n",
       "    <tr>\n",
       "      <th>66</th>\n",
       "      <td>13998</td>\n",
       "      <td>신기하다2</td>\n",
       "      <td>신기한</td>\n",
       "      <td>신기한</td>\n",
       "    </tr>\n",
       "    <tr>\n",
       "      <th>67</th>\n",
       "      <td>13998</td>\n",
       "      <td>신기하다2</td>\n",
       "      <td>신기하여</td>\n",
       "      <td>신기하여</td>\n",
       "    </tr>\n",
       "    <tr>\n",
       "      <th>68</th>\n",
       "      <td>13998</td>\n",
       "      <td>신기하다2</td>\n",
       "      <td>신기해</td>\n",
       "      <td>신기해</td>\n",
       "    </tr>\n",
       "  </tbody>\n",
       "</table>\n",
       "</div>"
      ],
      "text/plain": [
       "    entry_id word_id spelling pronunciation\n",
       "5      13958    시대적1      시대적           시대적\n",
       "65     13998   신기하다2     신기하다          신기하다\n",
       "66     13998   신기하다2      신기한           신기한\n",
       "67     13998   신기하다2     신기하여          신기하여\n",
       "68     13998   신기하다2      신기해           신기해"
      ]
     },
     "execution_count": 8,
     "metadata": {},
     "output_type": "execute_result"
    }
   ],
   "source": [
    "ref[ref.duplicated(subset=\"spelling\")].head()"
   ]
  },
  {
   "cell_type": "code",
   "execution_count": 9,
   "metadata": {},
   "outputs": [
    {
     "data": {
      "text/html": [
       "<div>\n",
       "<style scoped>\n",
       "    .dataframe tbody tr th:only-of-type {\n",
       "        vertical-align: middle;\n",
       "    }\n",
       "\n",
       "    .dataframe tbody tr th {\n",
       "        vertical-align: top;\n",
       "    }\n",
       "\n",
       "    .dataframe thead th {\n",
       "        text-align: right;\n",
       "    }\n",
       "</style>\n",
       "<table border=\"1\" class=\"dataframe\">\n",
       "  <thead>\n",
       "    <tr style=\"text-align: right;\">\n",
       "      <th></th>\n",
       "      <th>entry_id</th>\n",
       "      <th>word_id</th>\n",
       "      <th>spelling</th>\n",
       "      <th>pronunciation</th>\n",
       "    </tr>\n",
       "  </thead>\n",
       "  <tbody>\n",
       "    <tr>\n",
       "      <th>4</th>\n",
       "      <td>13957</td>\n",
       "      <td>시대적2</td>\n",
       "      <td>시대적</td>\n",
       "      <td>시대적</td>\n",
       "    </tr>\n",
       "    <tr>\n",
       "      <th>5</th>\n",
       "      <td>13958</td>\n",
       "      <td>시대적1</td>\n",
       "      <td>시대적</td>\n",
       "      <td>시대적</td>\n",
       "    </tr>\n",
       "  </tbody>\n",
       "</table>\n",
       "</div>"
      ],
      "text/plain": [
       "   entry_id word_id spelling pronunciation\n",
       "4     13957    시대적2      시대적           시대적\n",
       "5     13958    시대적1      시대적           시대적"
      ]
     },
     "execution_count": 9,
     "metadata": {},
     "output_type": "execute_result"
    }
   ],
   "source": [
    "ref[ref.spelling == \"시대적\"]"
   ]
  },
  {
   "cell_type": "code",
   "execution_count": 10,
   "metadata": {},
   "outputs": [],
   "source": [
    "training_set = set(ref.spelling)"
   ]
  },
  {
   "cell_type": "code",
   "execution_count": 11,
   "metadata": {},
   "outputs": [],
   "source": [
    "# instantiate the vectorizer for decoding predictions"
   ]
  },
  {
   "cell_type": "code",
   "execution_count": 12,
   "metadata": {},
   "outputs": [],
   "source": [
    "vec = Vectorizationer(rule=rules.RULE_1, max_length=None)"
   ]
  },
  {
   "cell_type": "code",
   "execution_count": 13,
   "metadata": {},
   "outputs": [],
   "source": [
    "# define a function for unvectorizing predictions"
   ]
  },
  {
   "cell_type": "code",
   "execution_count": 14,
   "metadata": {},
   "outputs": [],
   "source": [
    "decoder = {v: k for k, v in vec.symbol_map.items()}\n",
    "\n",
    "def unvectorize_norm_pad(vector):\n",
    "    temp_list = [decoder[num] for num in vector if num != 0]\n",
    "    temp_string = \"\".join(temp_list)\n",
    "    return normalize(\"NFC\", temp_string)"
   ]
  },
  {
   "cell_type": "code",
   "execution_count": 15,
   "metadata": {},
   "outputs": [],
   "source": [
    "# define a function for comparing items"
   ]
  },
  {
   "cell_type": "code",
   "execution_count": 16,
   "metadata": {},
   "outputs": [],
   "source": [
    "longest_string = 23\n",
    "\n",
    "def validate_model(phenomena, training_set=training_set, skip_training_data=True):\n",
    "    \n",
    "    print(\"   {:18} {:15} {:15} {:20}\".format(\"IPA\", \"Spelling\", \"Pronunciation\", \"Predicted Pronunciation\"))\n",
    "    \n",
    "    perfect_correct = 0\n",
    "    syllables_correct = 0\n",
    "    skipped_words = 0\n",
    "    total_words = len(phenomena)\n",
    "    syllables_considered = 0\n",
    "    \n",
    "    for instance in phenomena:\n",
    "        spelling = instance[0]\n",
    "        pronunciation = instance[1]\n",
    "        ipa = instance[2]\n",
    "        \n",
    "        if skip_training_data and spelling in training_set:\n",
    "            print()\n",
    "            print(f\"{spelling} was in the training set. skipping.\")\n",
    "            print()\n",
    "            skipped_words += 1\n",
    "            continue\n",
    "        \n",
    "        spell_vec = vec.vectorize(spelling)\n",
    "        \n",
    "        zeros_to_pad = longest_string - len(spell_vec)\n",
    "        \n",
    "        spell_padded = np.pad(spell_vec, (0, zeros_to_pad), \"constant\")\n",
    "\n",
    "        spell_padded = spell_padded.reshape(1, spell_padded.shape[0])\n",
    "        \n",
    "        prediction = model.predict(spell_padded)[0].argmax(axis=1)\n",
    "        \n",
    "        predicted_pronunciation = unvectorize_norm_pad(prediction)\n",
    "        \n",
    "        image = \"☒\"\n",
    "        \n",
    "        num_syllables = len(pronunciation)\n",
    "        syllables_considered += num_syllables\n",
    "        \n",
    "        \n",
    "        if pronunciation == predicted_pronunciation:\n",
    "            perfect_correct += 1\n",
    "            syllables_correct += num_syllables\n",
    "            image = \"☑\"\n",
    "        else:\n",
    "            # NOTE: zip will return an iterator of tuples whose number is equal to the number of syllables\n",
    "            #       in the shortest string\n",
    "            for syllable in zip(pronunciation, predicted_pronunciation):\n",
    "                if syllable[0] == syllable[1]:\n",
    "                    syllables_correct += 1\n",
    "        \n",
    "        justification = 16 + len(predicted_pronunciation) - len(pronunciation)*2\n",
    "        print(\"{} {:20} {:10} {:>5} {}\".format(image, ipa, spelling, pronunciation, \n",
    "                                               predicted_pronunciation.rjust(justification)))\n",
    "        \n",
    "    print()\n",
    "    print(\"Perfect Accuracy:       {:10.2f}%\".format(100 * perfect_correct/(total_words-skipped_words)))\n",
    "    print(\"Syllable Accuracy:      {:10.2f}%\".format(100 * syllables_correct/syllables_considered))\n",
    "    print(\"Segment (Letter) Accuracy:   XX.XX%\")"
   ]
  },
  {
   "cell_type": "code",
   "execution_count": 17,
   "metadata": {},
   "outputs": [],
   "source": [
    "# load the validation data"
   ]
  },
  {
   "cell_type": "code",
   "execution_count": 18,
   "metadata": {},
   "outputs": [],
   "source": [
    "f = open(\"validation_data_integrated_korean.p\", \"rb\")\n",
    "\n",
    "integrated_korean = pickle.load(f)\n",
    "\n",
    "f.close()"
   ]
  },
  {
   "cell_type": "code",
   "execution_count": 19,
   "metadata": {},
   "outputs": [],
   "source": [
    "#"
   ]
  },
  {
   "cell_type": "code",
   "execution_count": 20,
   "metadata": {},
   "outputs": [],
   "source": [
    "# test the phenomena"
   ]
  },
  {
   "cell_type": "code",
   "execution_count": 21,
   "metadata": {},
   "outputs": [],
   "source": [
    "# resyllabification"
   ]
  },
  {
   "cell_type": "markdown",
   "metadata": {},
   "source": [
    "\"When a syllable-final consonant is followed without pause by a vowel in the following syllable, that consonant is carried over to the following syllable to function as its initial consonant in pronunciation. The following syllable may be a part of a suffix or another word. This linking of syllable-final consonant to following syllable in pronunciation is...resyllabification.\" Cho et al. (2009). Integrated Korean"
   ]
  },
  {
   "cell_type": "code",
   "execution_count": 22,
   "metadata": {},
   "outputs": [],
   "source": [
    "# NOTE: additional phenomena tested:\n",
    "#       aspiration and ㅎ weakening:  \"pɛkʰwadʒʌme\", \"백화점에\", \"배콰저메\""
   ]
  },
  {
   "cell_type": "code",
   "execution_count": 23,
   "metadata": {},
   "outputs": [
    {
     "name": "stdout",
     "output_type": "stream",
     "text": [
      "   IPA                Spelling        Pronunciation   Predicted Pronunciation\n",
      "☒ hangɯrɯn             한글은          한그른           한글ᅳᅳᆫ\n",
      "☑ ilgʌyo               읽어요          일거요           일거요\n",
      "☑ tsʰɛgɯl              책을            채글             채글\n",
      "☒ aras̕ʌyo             알았어요        아라써요         아라어요\n",
      "☑ tsilmuɲi             질문이          질무니           질무니\n",
      "☒ is̕ʌyo               있어요          이써요           읻ᅥ요\n",
      "\n",
      "읽어 was in the training set. skipping.\n",
      "\n",
      "☑ tɯrɯsʰeyo            들으세요        드르세요         드르세요\n",
      "☒ madzas̕ʌyo           맞았어요        마자써요         마자꺼ᄋ\n",
      "☑ andzɯsʰeyo           앉으세요        안즈세요         안즈세요\n",
      "☒ tsʰʌnmaneyo          천만에요        천마네요         천다ᄂᄋ요\n",
      "\n",
      "책이 was in the training set. skipping.\n",
      "\n",
      "☒ ʌp̚s̕ʌyo             없어요          업써요           업:ᅥᄋ요\n",
      "☒ pɛkʰwadzʌme          백화점에        배콰저메         배콰점ᅦ\n",
      "☒ kas̕ʌyo              갔어요          가써요           가더요\n",
      "☒ osʰɯl                옷을            오슬             온ᅳᆯ\n",
      "☒ padas̕ʌyo            받았어요        바다써요         바다어요\n",
      "☑ k̕otsʰɯn             꽃은            꼬츤             꼬츤\n",
      "\n",
      "잎이 was in the training set. skipping.\n",
      "\n",
      "☑ katʰayo              같아요          가타요           가타요\n",
      "☒ kas̕ʌ                갔어            가써             가서\n",
      "☒ nadze                낮에            나제             나ᄌᄌ\n",
      "\n",
      "빛이 was in the training set. skipping.\n",
      "\n",
      "☒ puʌkʰe               부엌에          부어케           부어커\n",
      "☑ nak̕ayo              낚아요          나까요           나까요\n",
      "\n",
      "꽃이 was in the training set. skipping.\n",
      "\n",
      "\n",
      "Perfect Accuracy:            38.10%\n",
      "Syllable Accuracy:           67.69%\n",
      "Segment (Letter) Accuracy:   XX.XX%\n"
     ]
    }
   ],
   "source": [
    "validate_model(integrated_korean[\"resyllabification\"])"
   ]
  },
  {
   "cell_type": "code",
   "execution_count": 24,
   "metadata": {},
   "outputs": [],
   "source": [
    "# syllable-final closure (unrelease)"
   ]
  },
  {
   "cell_type": "markdown",
   "metadata": {},
   "source": [
    "\"At the end of a word or before a consonant, all Korean consonants are pronounced with closure of the speech organs involved, that is, without releasing air. As a result, sound changes occur in consonants in word-final or pre-consonantal position. For example, 꽃은 'as for flowers' is pronounced without any change in ㅊ because the word 꽃 'flower' is immediately followed by the vowel-initial particle 은 'as for'. However, 꽃 'flower' and 꽃도 'flower also' are pronounced 꼳 and 꼳또 respectively. The change of ㅊ to ㄷ here happens because the speech organs (the tongue and the hard palate) responsible for the articulation of the word-final and pre-consonantal ㅊ are not released.\" \n",
    "\n",
    "Lips: ㅂ, ㅍ ==> ㅂ\n",
    "\n",
    "Gum ridge and hard palate: ㄷ, ㅌ, ㅅ, ㅆ, ㅈ, ㅊ ==> ㄷ\n",
    "\n",
    "Soft palate: ㄱ, ㅋ, ㄲ ==> ㄱ\n",
    "\n",
    "Cho et al. (2009). Integrated Korean"
   ]
  },
  {
   "cell_type": "code",
   "execution_count": 25,
   "metadata": {},
   "outputs": [],
   "source": [
    "# NOTE: additional phenomena tested:\n",
    "#       tensification: \"k̕ot̚t̕o\", \"꽃도\", \"꼳또\"\n",
    "#                      \"ip̚k̕wa\", \"잎과\", \"입꽈\"\n",
    "#                      \"ot̚t̕o\", \"옷도\", \"옫또\"\n",
    "#                      \"kat̚t̕a\", \"갔다\", \"갇따\"\n",
    "#                      \"kat̚ts̕i\", \"갔지\", \"갇찌\"\n",
    "#                      \"nat̚k̕wa\", \"낮과\", \"낟꽈\"\n",
    "#                      \"pit̚ts̕otsʰa\", \"빛조차\", \"빋쪼차\"\n",
    "#                      \"puʌk̚ p̕adak̚\", \"부엌바닥\", \"부억빠닥\"\n",
    "#                      \"nak̚t̕aga\", \"낚다가\", \"낙따가\"\n",
    "#                      \"k̕ot̚ɕ̕i\", \"꽃씨\", \"꼳씨\""
   ]
  },
  {
   "cell_type": "code",
   "execution_count": 26,
   "metadata": {},
   "outputs": [
    {
     "name": "stdout",
     "output_type": "stream",
     "text": [
      "   IPA                Spelling        Pronunciation   Predicted Pronunciation\n",
      "\n",
      "꽃 was in the training set. skipping.\n",
      "\n",
      "\n",
      "꽃도 was in the training set. skipping.\n",
      "\n",
      "\n",
      "잎 was in the training set. skipping.\n",
      "\n",
      "☑ ip̚k̕wa              잎과            입꽈             입꽈\n",
      "\n",
      "옷 was in the training set. skipping.\n",
      "\n",
      "\n",
      "옷도 was in the training set. skipping.\n",
      "\n",
      "☑ kat̚t̕a              갔다            갇따             갇따\n",
      "☑ kat̚ts̕i             갔지            갇찌             갇찌\n",
      "\n",
      "밤낮 was in the training set. skipping.\n",
      "\n",
      "☑ nat̚k̕wa             낮과            낟꽈             낟꽈\n",
      "\n",
      "빛 was in the training set. skipping.\n",
      "\n",
      "☒ pit̚ts̕otsʰa         빛조차          빋쪼차           빋쪼자\n",
      "\n",
      "부엌 was in the training set. skipping.\n",
      "\n",
      "☑ puʌk̚p̕adak̚         부엌바닥        부억빠닥         부억빠닥\n",
      "\n",
      "낚시 was in the training set. skipping.\n",
      "\n",
      "☑ nak̚t̕aga            낚다가          낙따가           낙따가\n",
      "\n",
      "꽃씨 was in the training set. skipping.\n",
      "\n",
      "\n",
      "Perfect Accuracy:            85.71%\n",
      "Syllable Accuracy:           94.44%\n",
      "Segment (Letter) Accuracy:   XX.XX%\n"
     ]
    }
   ],
   "source": [
    "validate_model(integrated_korean[\"unrelease\"])"
   ]
  },
  {
   "cell_type": "code",
   "execution_count": 27,
   "metadata": {},
   "outputs": [],
   "source": [
    "# nasal assimilation"
   ]
  },
  {
   "cell_type": "markdown",
   "metadata": {},
   "source": [
    "\"All plosive and fricative consonants become the corresponding nasal consonants before a nasal consonant (ㅁ, ㄴ). Notice that even ㅎ is included in the change.\"\n",
    "\n",
    "ㅂ, ㅍ ==> ㅁ\n",
    "\n",
    "ㄷ, ㅌ, ㅅ, ㅆ, ㅈ, ㅊ, ㅎ ==> ㄴ\n",
    "\n",
    "ㄱ, ㅋ, ㄲ ==> ㅇ\n",
    "\n",
    "Cho et al. (2009). Integrated Korean"
   ]
  },
  {
   "cell_type": "code",
   "execution_count": 28,
   "metadata": {},
   "outputs": [],
   "source": [
    "# NOTE: additional phenomena tested:\n",
    "#       unrelease, tensification: \"morɯget̚s̕ɯmɲida\", \"모르겠습니다\", \"모르겓씀니다\"\n",
    "#                                 \"k̕ɯnnɛget̚s̕ɯmɲida\", \"끝내겠습니다\", \"끈내겓씀니다\""
   ]
  },
  {
   "cell_type": "code",
   "execution_count": 29,
   "metadata": {},
   "outputs": [
    {
     "name": "stdout",
     "output_type": "stream",
     "text": [
      "   IPA                Spelling        Pronunciation   Predicted Pronunciation\n",
      "\n",
      "입만 was in the training set. skipping.\n",
      "\n",
      "\n",
      "앞문 was in the training set. skipping.\n",
      "\n",
      "☒ ʌmnayo               없나요          엄나요           엄:ᅡ아\n",
      "☒ pannɯnda             받는다          반는다           반든다\n",
      "\n",
      "끝나다 was in the training set. skipping.\n",
      "\n",
      "☑ innɯnde              있는데          인는데           인는데\n",
      "☑ nannɯnda             낳는다          난는다           난는다\n",
      "☒ morɯget̚s̕ɯmɲida     모르겠습니다     모르겓씀니다     모르겓쓰니다\n",
      "☒ hanguŋmallo          한국말로        한궁말로         한:궁망로\n",
      "☑ hamɲik̕a             합니까          함니까           함니까\n",
      "☒ k̕ɯnnɛget̚s̕ɯmɲida   끝내겠습니다     끈내겓씀니다     끔내걷씀니다\n",
      "☑ myʌn ɲyʌn            몇년            면년             면년\n",
      "☑ il haŋɲyʌn           일학년          일항년           일항년\n",
      "\n",
      "Perfect Accuracy:            50.00%\n",
      "Syllable Accuracy:           75.00%\n",
      "Segment (Letter) Accuracy:   XX.XX%\n"
     ]
    }
   ],
   "source": [
    "validate_model(integrated_korean[\"nasal_assimilation\"])"
   ]
  },
  {
   "cell_type": "code",
   "execution_count": 30,
   "metadata": {},
   "outputs": [],
   "source": [
    "# ㄴ to ㄹ assimilation"
   ]
  },
  {
   "cell_type": "markdown",
   "metadata": {},
   "source": [
    "\"When ㄹ and ㄴ come together, the ㄴ sound is usually replaced by the ㄹ sound, as in 칠 년: '칠련'. When ㄹ is followed by the vowel 'i' ('이') or the semivowel 'y' (e.g., \"야\") in some compound words, another ㄹ is inserted between them, as in 물약: '물략'.\" Cho et al. (2009). Integrated Korean\n",
    "\n"
   ]
  },
  {
   "cell_type": "code",
   "execution_count": 31,
   "metadata": {},
   "outputs": [],
   "source": [
    "# NOTE: additional phenomena tested:\n",
    "#       unrelease: \"muʎʎyak̚\", \"물약\", \"물략\"\n",
    "#                  \"sʰʌuʎʎyʌk̚\", \"서울역\", \"서울력\""
   ]
  },
  {
   "cell_type": "code",
   "execution_count": 32,
   "metadata": {},
   "outputs": [
    {
     "name": "stdout",
     "output_type": "stream",
     "text": [
      "   IPA                Spelling        Pronunciation   Predicted Pronunciation\n",
      "\n",
      "물약 was in the training set. skipping.\n",
      "\n",
      "\n",
      "진리 was in the training set. skipping.\n",
      "\n",
      "\n",
      "신라 was in the training set. skipping.\n",
      "\n",
      "\n",
      "전라도 was in the training set. skipping.\n",
      "\n",
      "\n",
      "달님 was in the training set. skipping.\n",
      "\n",
      "\n",
      "서울역 was in the training set. skipping.\n",
      "\n",
      "☑ kirirɯm              길이름          기리름           기리름\n",
      "☑ tsʰil  lyʌn          칠년            칠련             칠련\n",
      "☑ pʰal lyʌn            팔년            팔련             팔련\n",
      "\n",
      "Perfect Accuracy:           100.00%\n",
      "Syllable Accuracy:          100.00%\n",
      "Segment (Letter) Accuracy:   XX.XX%\n"
     ]
    }
   ],
   "source": [
    "validate_model(integrated_korean[\"rieul_assimilation\"])"
   ]
  },
  {
   "cell_type": "code",
   "execution_count": 33,
   "metadata": {},
   "outputs": [],
   "source": [
    "# while it is important to not use training data to validate a model, setting the flag \"skip_training_data\" to False\n",
    "# allows one to use all possible data when most of the data available has already been used to train the model. this\n",
    "# allows a flawed but wider view of the model's performance. this was important here as the text used (Integrated Korean)\n",
    "# appeared to differ in opinion with the tool developed by Busan National University"
   ]
  },
  {
   "cell_type": "code",
   "execution_count": 34,
   "metadata": {},
   "outputs": [
    {
     "name": "stdout",
     "output_type": "stream",
     "text": [
      "   IPA                Spelling        Pronunciation   Predicted Pronunciation\n",
      "☒ muʎʎyak̚             물약            물략             무ᄅ략\n",
      "☑ tsiʎʎi               진리            질리             질리\n",
      "☒ ɕilla                신라            실라             실라ᅡ\n",
      "☒ tsʌllado             전라도          절라도           절:ᅡ도\n",
      "☑ taʎʎim               달님            달림             달림\n",
      "☑ sʰʌuʎʎyʌk̚           서울역          서울력           서울력\n",
      "☑ kirirɯm              길이름          기리름           기리름\n",
      "☑ tsʰil  lyʌn          칠년            칠련             칠련\n",
      "☑ pʰal lyʌn            팔년            팔련             팔련\n",
      "\n",
      "Perfect Accuracy:            66.67%\n",
      "Syllable Accuracy:           80.95%\n",
      "Segment (Letter) Accuracy:   XX.XX%\n"
     ]
    }
   ],
   "source": [
    "validate_model(integrated_korean[\"rieul_assimilation\"], skip_training_data=False)"
   ]
  },
  {
   "cell_type": "code",
   "execution_count": 35,
   "metadata": {},
   "outputs": [],
   "source": [
    "# tensification"
   ]
  },
  {
   "cell_type": "markdown",
   "metadata": {},
   "source": [
    "\"When a plain plosive consonant (ㅂ, ㄷ, ㅈ, ㄱ) or the fricative consonant ㅅ is preceded by a plosive or fricative consonant, it is reinforced to become a corresponding tense cosonant, as in 몇번 \\[멷뻔\\] (careful speech) or \\[며뻔\\] (casual speech), 학생 \\[학쌩\\] and 없다 \\[업따\\].... Tensification also occurs in compound nouns.\" Cho et al. (2009). Integrated Korean"
   ]
  },
  {
   "cell_type": "code",
   "execution_count": 36,
   "metadata": {},
   "outputs": [
    {
     "name": "stdout",
     "output_type": "stream",
     "text": [
      "   IPA                Spelling        Pronunciation   Predicted Pronunciation\n",
      "\n",
      "학생 was in the training set. skipping.\n",
      "\n",
      "☒ myʌt̚k̕wa            몇과            멷꽈             멷ᄁᄁ\n",
      "\n",
      "식당 was in the training set. skipping.\n",
      "\n",
      "\n",
      "학교 was in the training set. skipping.\n",
      "\n",
      "\n",
      "숙제 was in the training set. skipping.\n",
      "\n",
      "\n",
      "꽃집 was in the training set. skipping.\n",
      "\n",
      "\n",
      "책상 was in the training set. skipping.\n",
      "\n",
      "☒ pwep̚k̕et̚s̕ɯmɲida   뵙겠습니다      뵙껟씀니다       뵙끄ᄊ씀니다\n",
      "\n",
      "없습니다 was in the training set. skipping.\n",
      "\n",
      "☑ yʌrɯmbaŋhak̚         여름방학        여름방학         여름방학\n",
      "\n",
      "길가 was in the training set. skipping.\n",
      "\n",
      "\n",
      "강가 was in the training set. skipping.\n",
      "\n",
      "\n",
      "봄비 was in the training set. skipping.\n",
      "\n",
      "☑ myʌt̚ p̕ʌn           몇번            멷뻔             멷뻔\n",
      "☒ myʌt̚ ɕik̕an         몇시간          멷시깐           멷ᄊ씨간\n",
      "☒ nugu k̕ʌyeyo         누구거예요      누구꺼예요       누ᄀ구ᅥᅨᅨᅭ\n",
      "\n",
      "Perfect Accuracy:            33.33%\n",
      "Syllable Accuracy:           47.62%\n",
      "Segment (Letter) Accuracy:   XX.XX%\n"
     ]
    }
   ],
   "source": [
    "validate_model(integrated_korean[\"tensification\"])"
   ]
  },
  {
   "cell_type": "code",
   "execution_count": null,
   "metadata": {},
   "outputs": [],
   "source": []
  }
 ],
 "metadata": {
  "kernelspec": {
   "display_name": "Python 3",
   "language": "python",
   "name": "python3"
  },
  "language_info": {
   "codemirror_mode": {
    "name": "ipython",
    "version": 3
   },
   "file_extension": ".py",
   "mimetype": "text/x-python",
   "name": "python",
   "nbconvert_exporter": "python",
   "pygments_lexer": "ipython3",
   "version": "3.7.6"
  }
 },
 "nbformat": 4,
 "nbformat_minor": 4
}
