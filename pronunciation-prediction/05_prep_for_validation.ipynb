{
 "cells": [
  {
   "cell_type": "code",
   "execution_count": 1,
   "metadata": {},
   "outputs": [],
   "source": [
    "# the website used for IPA transcription percent encoded data using an unfamiliar method.\n",
    "# a headless browser circumvented the need to decipher this method"
   ]
  },
  {
   "cell_type": "code",
   "execution_count": 2,
   "metadata": {},
   "outputs": [],
   "source": [
    "from selenium import webdriver\n",
    "from selenium.webdriver.chrome.options import Options\n",
    "from selenium.webdriver.common.keys import Keys\n",
    "import os\n",
    "import time"
   ]
  },
  {
   "cell_type": "code",
   "execution_count": 3,
   "metadata": {},
   "outputs": [],
   "source": [
    "chrome_options = Options()\n",
    "\n",
    "chrome_options.add_argument(\"--headless\")"
   ]
  },
  {
   "cell_type": "code",
   "execution_count": 4,
   "metadata": {},
   "outputs": [],
   "source": [
    "chrome_driver = os.getcwd() + \"\\\\chromedriver.exe\""
   ]
  },
  {
   "cell_type": "code",
   "execution_count": 5,
   "metadata": {},
   "outputs": [],
   "source": [
    "driver = webdriver.Chrome(options=chrome_options, executable_path=chrome_driver)"
   ]
  },
  {
   "cell_type": "code",
   "execution_count": 6,
   "metadata": {},
   "outputs": [],
   "source": [
    "input_data = {}\n",
    "output_data = {\"resyllabification\": []}"
   ]
  },
  {
   "cell_type": "code",
   "execution_count": 7,
   "metadata": {},
   "outputs": [],
   "source": [
    "input_data[\"resyllabification\"] = [\n",
    "    \"한글은\",\n",
    "    \"읽어요\",\n",
    "    \"책을\",\n",
    "    \"알았어요\",\n",
    "    \"질문이\",\n",
    "    \"있어요\",\n",
    "    \"읽어\",\n",
    "    \"들으세요\",\n",
    "    \"맞았어요\",\n",
    "    \"앉으세요\",\n",
    "    \"천만에요\",\n",
    "    \"책이\",\n",
    "    \"없어요\",\n",
    "    \"백화점에\",\n",
    "    \"갔어요\",\n",
    "    \"옷을\",\n",
    "    \"받았어요\",\n",
    "    \"꽃은\",\n",
    "    \"잎이\",\n",
    "    \"같아요\",\n",
    "    \"갔어\",\n",
    "    \"낮에\",\n",
    "    \"빛이\",\n",
    "    \"부엌에\",\n",
    "    \"낚아요\",\n",
    "    \"꽃이\"\n",
    "]"
   ]
  },
  {
   "cell_type": "code",
   "execution_count": 8,
   "metadata": {},
   "outputs": [],
   "source": [
    "for word in input_data[\"resyllabification\"]:\n",
    "    \n",
    "    driver.get(\"http://pronunciation.cs.pusan.ac.kr/pronunc.htm\")\n",
    "    \n",
    "    form = driver.find_element_by_name(\"text1\")\n",
    "    \n",
    "    submit_button = driver.find_element_by_id(\"submit1\")\n",
    "    \n",
    "    form.clear()\n",
    "    form.send_keys(word)\n",
    "    \n",
    "    submit_button.click()\n",
    "    \n",
    "    result = driver.find_elements_by_class_name(\"td2\")\n",
    "    \n",
    "    if result[0].text != result[1].text:\n",
    "        print(f\"problem with {word}\")\n",
    "    else:\n",
    "        output_data[\"resyllabification\"] += [[result[1].text, result[2].text, result[3].text]]\n",
    "        \n",
    "    time.sleep(5)"
   ]
  },
  {
   "cell_type": "code",
   "execution_count": 9,
   "metadata": {},
   "outputs": [
    {
     "data": {
      "text/plain": [
       "{'resyllabification': [['한글은', '한그른', 'hangɯrɯn'],\n",
       "  ['읽어요', '일거요', 'ilgʌyo'],\n",
       "  ['책을', '채글', 'tsʰɛgɯl'],\n",
       "  ['알았어요', '아라써요', 'aras̕ʌyo'],\n",
       "  ['질문이', '질무니', 'tsilmuɲi'],\n",
       "  ['있어요', '이써요', 'is̕ʌyo'],\n",
       "  ['읽어', '일거', 'ilgʌ'],\n",
       "  ['들으세요', '드르세요', 'tɯrɯsʰeyo'],\n",
       "  ['맞았어요', '마자써요', 'madzas̕ʌyo'],\n",
       "  ['앉으세요', '안즈세요', 'andzɯsʰeyo'],\n",
       "  ['천만에요', '천마네요', 'tsʰʌnmaneyo'],\n",
       "  ['책이', '채기', 'tsʰɛgi'],\n",
       "  ['없어요', '업써요', 'ʌp̚s̕ʌyo'],\n",
       "  ['백화점에', '배콰저메', 'pɛkʰwadzʌme'],\n",
       "  ['갔어요', '가써요', 'kas̕ʌyo'],\n",
       "  ['옷을', '오슬', 'osʰɯl'],\n",
       "  ['받았어요', '바다써요', 'padas̕ʌyo'],\n",
       "  ['꽃은', '꼬츤', 'k̕otsʰɯn'],\n",
       "  ['잎이', '이피', 'ipʰi'],\n",
       "  ['같아요', '가타요', 'katʰayo'],\n",
       "  ['갔어', '가써', 'kas̕ʌ'],\n",
       "  ['낮에', '나제', 'nadze'],\n",
       "  ['빛이', '비치', 'pitsʰi'],\n",
       "  ['부엌에', '부어케', 'puʌkʰe'],\n",
       "  ['낚아요', '나까요', 'nak̕ayo'],\n",
       "  ['꽃이', '꼬치', 'k̕otsʰi']]}"
      ]
     },
     "execution_count": 9,
     "metadata": {},
     "output_type": "execute_result"
    }
   ],
   "source": [
    "output_data"
   ]
  },
  {
   "cell_type": "code",
   "execution_count": null,
   "metadata": {},
   "outputs": [],
   "source": []
  }
 ],
 "metadata": {
  "kernelspec": {
   "display_name": "Python 3",
   "language": "python",
   "name": "python3"
  },
  "language_info": {
   "codemirror_mode": {
    "name": "ipython",
    "version": 3
   },
   "file_extension": ".py",
   "mimetype": "text/x-python",
   "name": "python",
   "nbconvert_exporter": "python",
   "pygments_lexer": "ipython3",
   "version": "3.7.6"
  }
 },
 "nbformat": 4,
 "nbformat_minor": 4
}
